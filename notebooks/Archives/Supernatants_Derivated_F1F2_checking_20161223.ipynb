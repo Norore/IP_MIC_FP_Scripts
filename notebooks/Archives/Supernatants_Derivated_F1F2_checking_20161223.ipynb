{
 "cells": [
  {
   "cell_type": "markdown",
   "metadata": {},
   "source": [
    "# Supernatants to update\n",
    "\n",
    "After take fractions from Supernatants Source tubes, we have to update the Source tubes informations. This file is a preparation for the FreezerPro update for the existing tubes."
   ]
  },
  {
   "cell_type": "code",
   "execution_count": 4,
   "metadata": {
    "collapsed": false
   },
   "outputs": [
    {
     "data": {
      "text/markdown": [
       "File *Supernatants_Samples_Derivatived_F1F2_20161223.csv* contains **12000** lines for **4** columns.\n"
      ],
      "text/plain": [
       "<IPython.core.display.Markdown object>"
      ]
     },
     "metadata": {},
     "output_type": "display_data"
    },
    {
     "data": {
      "text/markdown": [
       "List of columns:"
      ],
      "text/plain": [
       "<IPython.core.display.Markdown object>"
      ]
     },
     "metadata": {},
     "output_type": "display_data"
    },
    {
     "data": {
      "text/markdown": [
       "1. BARCODE;\n",
       "1. Volume;\n",
       "1. UpdateDate;\n",
       "1. Edition comment."
      ],
      "text/plain": [
       "<IPython.core.display.Markdown object>"
      ]
     },
     "metadata": {},
     "output_type": "display_data"
    }
   ],
   "source": [
    "import pandas as pd\n",
    "import re\n",
    "from IPython.display import display, Markdown, HTML\n",
    "\n",
    "# print table without index column\n",
    "def table_wo_index(df):\n",
    "    table = HTML(re.sub('(<tr.*>\\n) +<th>.*</th>\\n', '\\\\1', df._repr_html_()))\n",
    "    return(table)\n",
    "\n",
    "pd.set_option('display.max_rows', 96)\n",
    "pd.set_option('display.max_columns', 96)\n",
    "\n",
    "filepath = \"/Volumes/LabExMI/Users/Nolwenn/FreezerPro/DataToImport/\"\n",
    "filename = \"Supernatants_Samples_Derivatived_F1F2_20161223.csv\"\n",
    "df = pd.read_csv(filepath + filename)\n",
    "display(Markdown(\"File *%s* contains **%d** lines for **%d** columns.\\n\" % \\\n",
    "                    (filename, len(df), len(df.columns))))\n",
    "display(Markdown(\"List of columns:\"))\n",
    "display(Markdown(\";\\n\".join([\"1. \"+col for col in df.columns])+\".\"))"
   ]
  },
  {
   "cell_type": "markdown",
   "metadata": {},
   "source": [
    "Céline and Bruno processed 12 StimulusID in total:\n",
    "\n",
    "1. 9;\n",
    "1. 11;\n",
    "1. 17;\n",
    "1. 18;\n",
    "1. 23;\n",
    "1. 24;\n",
    "1. 27;\n",
    "1. 31;\n",
    "1. 32;\n",
    "1. 35;\n",
    "1. 37;\n",
    "1. 39.\n",
    "\n",
    "Stimuli 9 and 31 were sent to RBM for analysis. For more explanation, ask Bruno and Céline.\n",
    "\n",
    "We expect to have 12.000 unique BARCODE:"
   ]
  },
  {
   "cell_type": "code",
   "execution_count": 5,
   "metadata": {
    "collapsed": false
   },
   "outputs": [
    {
     "data": {
      "text/markdown": [
       "**12000** unique BARCODE."
      ],
      "text/plain": [
       "<IPython.core.display.Markdown object>"
      ]
     },
     "metadata": {},
     "output_type": "display_data"
    },
    {
     "data": {
      "text/markdown": [
       "**0** empty BARCODE."
      ],
      "text/plain": [
       "<IPython.core.display.Markdown object>"
      ]
     },
     "metadata": {},
     "output_type": "display_data"
    }
   ],
   "source": [
    "display(Markdown(\"**%d** unique BARCODE.\" % len(df[\"BARCODE\"].unique())))\n",
    "display(Markdown(\"**%d** empty BARCODE.\" % len(df.loc[df[\"BARCODE\"].isnull()])))"
   ]
  },
  {
   "cell_type": "markdown",
   "metadata": {},
   "source": [
    "We expect to have 10.000 tubes with empty 'Edition comment' and 2.000 (Stimuli 9+31 * 1.000 donors) with fill 'Edition comment':"
   ]
  },
  {
   "cell_type": "code",
   "execution_count": 6,
   "metadata": {
    "collapsed": false
   },
   "outputs": [
    {
     "data": {
      "text/markdown": [
       "**10000** tubes with empty 'Edition comment'."
      ],
      "text/plain": [
       "<IPython.core.display.Markdown object>"
      ]
     },
     "metadata": {},
     "output_type": "display_data"
    },
    {
     "data": {
      "text/markdown": [
       "**2000** tubes with fill 'Edition comment'."
      ],
      "text/plain": [
       "<IPython.core.display.Markdown object>"
      ]
     },
     "metadata": {},
     "output_type": "display_data"
    },
    {
     "data": {
      "text/markdown": [
       "**2000** tubes with unique fill 'Edition comment'."
      ],
      "text/plain": [
       "<IPython.core.display.Markdown object>"
      ]
     },
     "metadata": {},
     "output_type": "display_data"
    }
   ],
   "source": [
    "display(Markdown(\"**%d** tubes with empty 'Edition comment'.\" % len(df.loc[df[\"Edition comment\"].isnull()])))\n",
    "display(Markdown(\"**%d** tubes with fill 'Edition comment'.\" % len(df.loc[df[\"Edition comment\"].notnull()])))\n",
    "display(Markdown(\"**%d** tubes with unique fill 'Edition comment'.\" % \\\n",
    "                 len(df.loc[df[\"Edition comment\"].notnull(), \"Edition comment\"].unique())))"
   ]
  },
  {
   "cell_type": "markdown",
   "metadata": {},
   "source": [
    "Tubes volume should be of different values. If an origin tube was sent to RBM, the volume is supposed to be set at 0 on FreezerPro. We will have to decide if we keep tube data in FreezerPro or if we remove those."
   ]
  },
  {
   "cell_type": "code",
   "execution_count": 7,
   "metadata": {
    "collapsed": false
   },
   "outputs": [
    {
     "data": {
      "text/html": [
       "<div>\n",
       "<table border=\"1\" class=\"dataframe\">\n",
       "  <thead>\n",
       "    <tr style=\"text-align: right;\">\n",
       "      <th></th>\n",
       "      <th>Tubes</th>\n",
       "      <th>Volume</th>\n",
       "    </tr>\n",
       "  </thead>\n",
       "  <tbody>\n",
       "    <tr>\n",
       "      <th>0</th>\n",
       "      <td>2000</td>\n",
       "      <td>0.0</td>\n",
       "    </tr>\n",
       "    <tr>\n",
       "      <th>1</th>\n",
       "      <td>10000</td>\n",
       "      <td>200.0</td>\n",
       "    </tr>\n",
       "  </tbody>\n",
       "</table>\n",
       "</div>"
      ],
      "text/plain": [
       "   Tubes  Volume\n",
       "0   2000     0.0\n",
       "1  10000   200.0"
      ]
     },
     "metadata": {},
     "output_type": "display_data"
    }
   ],
   "source": [
    "tubespervolume = pd.DataFrame(df.groupby(\"Volume\")[\"BARCODE\"].count())\n",
    "tubespervolume.rename(columns={\"BARCODE\": \"Tubes\"}, inplace=True)\n",
    "tubespervolume.loc[:, \"Volume\"] = tubespervolume.index\n",
    "tubespervolume.reset_index(drop=True, inplace=True)\n",
    "display(tubespervolume)"
   ]
  },
  {
   "cell_type": "markdown",
   "metadata": {},
   "source": [
    "Each tube should have an update date, check if all tubes have an update date assigned:"
   ]
  },
  {
   "cell_type": "code",
   "execution_count": 8,
   "metadata": {
    "collapsed": false
   },
   "outputs": [
    {
     "data": {
      "text/html": [
       "<div>\n",
       "<table border=\"1\" class=\"dataframe\">\n",
       "  <thead>\n",
       "    <tr style=\"text-align: right;\">\n",
       "      <th></th>\n",
       "      <th>Tubes</th>\n",
       "      <th>UpdateDate</th>\n",
       "    </tr>\n",
       "  </thead>\n",
       "  <tbody>\n",
       "    <tr>\n",
       "      <th>0</th>\n",
       "      <td>288</td>\n",
       "      <td>05/09/2016</td>\n",
       "    </tr>\n",
       "    <tr>\n",
       "      <th>1</th>\n",
       "      <td>287</td>\n",
       "      <td>06/09/2016</td>\n",
       "    </tr>\n",
       "    <tr>\n",
       "      <th>2</th>\n",
       "      <td>575</td>\n",
       "      <td>07/09/2016</td>\n",
       "    </tr>\n",
       "    <tr>\n",
       "      <th>3</th>\n",
       "      <td>410</td>\n",
       "      <td>07/10/2016</td>\n",
       "    </tr>\n",
       "    <tr>\n",
       "      <th>4</th>\n",
       "      <td>576</td>\n",
       "      <td>08/09/2016</td>\n",
       "    </tr>\n",
       "    <tr>\n",
       "      <th>5</th>\n",
       "      <td>575</td>\n",
       "      <td>09/09/2016</td>\n",
       "    </tr>\n",
       "    <tr>\n",
       "      <th>6</th>\n",
       "      <td>382</td>\n",
       "      <td>19/08/2016</td>\n",
       "    </tr>\n",
       "    <tr>\n",
       "      <th>7</th>\n",
       "      <td>576</td>\n",
       "      <td>20/09/2016</td>\n",
       "    </tr>\n",
       "    <tr>\n",
       "      <th>8</th>\n",
       "      <td>863</td>\n",
       "      <td>21/09/2016</td>\n",
       "    </tr>\n",
       "    <tr>\n",
       "      <th>9</th>\n",
       "      <td>1151</td>\n",
       "      <td>22/09/2016</td>\n",
       "    </tr>\n",
       "    <tr>\n",
       "      <th>10</th>\n",
       "      <td>1152</td>\n",
       "      <td>23/08/2016</td>\n",
       "    </tr>\n",
       "    <tr>\n",
       "      <th>11</th>\n",
       "      <td>863</td>\n",
       "      <td>23/09/2016</td>\n",
       "    </tr>\n",
       "    <tr>\n",
       "      <th>12</th>\n",
       "      <td>466</td>\n",
       "      <td>24/08/2016</td>\n",
       "    </tr>\n",
       "    <tr>\n",
       "      <th>13</th>\n",
       "      <td>575</td>\n",
       "      <td>26/08/2016</td>\n",
       "    </tr>\n",
       "    <tr>\n",
       "      <th>14</th>\n",
       "      <td>1150</td>\n",
       "      <td>26/09/2016</td>\n",
       "    </tr>\n",
       "    <tr>\n",
       "      <th>15</th>\n",
       "      <td>576</td>\n",
       "      <td>28/09/2016</td>\n",
       "    </tr>\n",
       "    <tr>\n",
       "      <th>16</th>\n",
       "      <td>575</td>\n",
       "      <td>29/08/2016</td>\n",
       "    </tr>\n",
       "    <tr>\n",
       "      <th>17</th>\n",
       "      <td>288</td>\n",
       "      <td>29/09/2016</td>\n",
       "    </tr>\n",
       "    <tr>\n",
       "      <th>18</th>\n",
       "      <td>288</td>\n",
       "      <td>30/08/2016</td>\n",
       "    </tr>\n",
       "    <tr>\n",
       "      <th>19</th>\n",
       "      <td>384</td>\n",
       "      <td>31/08/2016</td>\n",
       "    </tr>\n",
       "  </tbody>\n",
       "</table>\n",
       "</div>"
      ],
      "text/plain": [
       "    Tubes  UpdateDate\n",
       "0     288  05/09/2016\n",
       "1     287  06/09/2016\n",
       "2     575  07/09/2016\n",
       "3     410  07/10/2016\n",
       "4     576  08/09/2016\n",
       "5     575  09/09/2016\n",
       "6     382  19/08/2016\n",
       "7     576  20/09/2016\n",
       "8     863  21/09/2016\n",
       "9    1151  22/09/2016\n",
       "10   1152  23/08/2016\n",
       "11    863  23/09/2016\n",
       "12    466  24/08/2016\n",
       "13    575  26/08/2016\n",
       "14   1150  26/09/2016\n",
       "15    576  28/09/2016\n",
       "16    575  29/08/2016\n",
       "17    288  29/09/2016\n",
       "18    288  30/08/2016\n",
       "19    384  31/08/2016"
      ]
     },
     "metadata": {},
     "output_type": "display_data"
    },
    {
     "data": {
      "text/markdown": [
       "**12000** tubes are assigned to an UpdateDate."
      ],
      "text/plain": [
       "<IPython.core.display.Markdown object>"
      ]
     },
     "metadata": {},
     "output_type": "display_data"
    },
    {
     "data": {
      "text/markdown": [
       "**0** tubes are not assigned to an UpdateDate."
      ],
      "text/plain": [
       "<IPython.core.display.Markdown object>"
      ]
     },
     "metadata": {},
     "output_type": "display_data"
    }
   ],
   "source": [
    "tubesperupdate = pd.DataFrame(df.groupby(\"UpdateDate\")[\"BARCODE\"].count())\n",
    "tubesperupdate.rename(columns={\"BARCODE\": \"Tubes\"}, inplace=True)\n",
    "tubesperupdate.loc[:, \"UpdateDate\"] = tubesperupdate.index\n",
    "tubesperupdate.reset_index(drop=True, inplace=True)\n",
    "display(tubesperupdate)\n",
    "display(Markdown(\"**%d** tubes are assigned to an UpdateDate.\" % tubesperupdate[\"Tubes\"].sum()))\n",
    "display(Markdown(\"**%d** tubes are not assigned to an UpdateDate.\" % len(df.loc[df[\"UpdateDate\"].isnull()])))"
   ]
  }
 ],
 "metadata": {
  "kernelspec": {
   "display_name": "Python 2",
   "language": "python",
   "name": "python2"
  },
  "language_info": {
   "codemirror_mode": {
    "name": "ipython",
    "version": 2
   },
   "file_extension": ".py",
   "mimetype": "text/x-python",
   "name": "python",
   "nbconvert_exporter": "python",
   "pygments_lexer": "ipython2",
   "version": "2.7.11"
  }
 },
 "nbformat": 4,
 "nbformat_minor": 0
}
