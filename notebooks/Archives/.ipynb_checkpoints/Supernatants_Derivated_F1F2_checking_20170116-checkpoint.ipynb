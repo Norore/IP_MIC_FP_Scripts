{
 "cells": [
  {
   "cell_type": "markdown",
   "metadata": {},
   "source": [
    "# Supernatants to update\n",
    "\n",
    "After take fractions from Supernatants Source tubes, we have to update the Source tubes informations. This file is a preparation for the FreezerPro update for the existing tubes."
   ]
  },
  {
   "cell_type": "code",
   "execution_count": 4,
   "metadata": {
    "collapsed": false
   },
   "outputs": [
    {
     "data": {
      "text/markdown": [
       "File *Supernatants_Samples_Derivatived_F1F2_20170116.csv* contains **24000** lines for **9** columns.\n"
      ],
      "text/plain": [
       "<IPython.core.display.Markdown object>"
      ]
     },
     "metadata": {},
     "output_type": "display_data"
    },
    {
     "data": {
      "text/markdown": [
       "List of columns:"
      ],
      "text/plain": [
       "<IPython.core.display.Markdown object>"
      ]
     },
     "metadata": {},
     "output_type": "display_data"
    },
    {
     "data": {
      "text/markdown": [
       "1. RFID;\n",
       "1. BARCODE;\n",
       "1. Volume;\n",
       "1. UpdateDate;\n",
       "1. Position;\n",
       "1. Edition comment;\n",
       "1. BoxBarcode;\n",
       "1. Freezer;\n",
       "1. DonorID."
      ],
      "text/plain": [
       "<IPython.core.display.Markdown object>"
      ]
     },
     "metadata": {},
     "output_type": "display_data"
    }
   ],
   "source": [
    "import pandas as pd\n",
    "import re\n",
    "from IPython.display import display, Markdown, HTML\n",
    "\n",
    "# print table without index column\n",
    "def table_wo_index(df):\n",
    "    table = HTML(re.sub('(<tr.*>\\n) +<th>.*</th>\\n', '\\\\1', df._repr_html_()))\n",
    "    return(table)\n",
    "\n",
    "pd.set_option('display.max_rows', 96)\n",
    "pd.set_option('display.max_columns', 96)\n",
    "\n",
    "filepath = \"/Volumes/LabExMI/Users/Nolwenn/FreezerPro/DataToImport/\"\n",
    "filename = \"Supernatants_Samples_Derivatived_F1F2_20170116.csv\"\n",
    "df = pd.read_csv(filepath + filename)\n",
    "display(Markdown(\"File *{}* contains **{}** lines for **{}** columns.\\n\".format(filename, len(df), len(df.columns))))\n",
    "display(Markdown(\"List of columns:\"))\n",
    "display(Markdown(\";\\n\".join([\"1. {}\".format(col) for col in df.columns])+\".\"))"
   ]
  },
  {
   "cell_type": "markdown",
   "metadata": {},
   "source": [
    "Céline and Bruno processed 12 StimulusID in total:\n",
    "\n",
    "1. 9;\n",
    "1. 11;\n",
    "1. 17;\n",
    "1. 18;\n",
    "1. 23;\n",
    "1. 24;\n",
    "1. 27;\n",
    "1. 31;\n",
    "1. 32;\n",
    "1. 35;\n",
    "1. 37;\n",
    "1. 39.\n",
    "\n",
    "Stimuli 9 and 31 were sent to RBM for analysis. For more explanation, ask Bruno and Céline.\n",
    "\n",
    "We expect to have 12.000 unique BARCODE:"
   ]
  },
  {
   "cell_type": "code",
   "execution_count": 20,
   "metadata": {
    "collapsed": false
   },
   "outputs": [
    {
     "data": {
      "text/markdown": [
       "**13999** unique BARCODE."
      ],
      "text/plain": [
       "<IPython.core.display.Markdown object>"
      ]
     },
     "metadata": {},
     "output_type": "display_data"
    },
    {
     "data": {
      "text/markdown": [
       "**0** empty BARCODE."
      ],
      "text/plain": [
       "<IPython.core.display.Markdown object>"
      ]
     },
     "metadata": {},
     "output_type": "display_data"
    }
   ],
   "source": [
    "display(Markdown(\"**{}** unique BARCODE.\".format(df[\"BARCODE\"].nunique())))\n",
    "display(Markdown(\"**{}** empty BARCODE.\".format(len(df.loc[df[\"BARCODE\"].isnull()]))))"
   ]
  },
  {
   "cell_type": "markdown",
   "metadata": {},
   "source": [
    "After reviewing my source code, apparently the BARCODE field is more tedious than expected:\n",
    "\n",
    "+ if a source tube stay in our freezers, it is assigned to the barcode of the source tube;\n",
    "+ if a source tube is move in a trash freezer, it is assigne to the barcodes of the tubes aliquoted.\n",
    "\n",
    "Based on this observation, that means that we are expecting 14.000 unique BARCODE: 10.000 BARCODE for staying tubes, 4.000 BARCODE for removing tubes.\n",
    "\n",
    "We expect to have 10.000 tubes with empty 'Edition comment' and 4.000 (Stimuli 9+31 \\* 2 fractions \\* 1.000 donors) with fill 'Edition comment':"
   ]
  },
  {
   "cell_type": "code",
   "execution_count": 6,
   "metadata": {
    "collapsed": false
   },
   "outputs": [
    {
     "data": {
      "text/markdown": [
       "**20000** tubes with empty 'Edition comment'."
      ],
      "text/plain": [
       "<IPython.core.display.Markdown object>"
      ]
     },
     "metadata": {},
     "output_type": "display_data"
    },
    {
     "data": {
      "text/markdown": [
       "**3999** tubes with unique fill 'Edition comment'."
      ],
      "text/plain": [
       "<IPython.core.display.Markdown object>"
      ]
     },
     "metadata": {},
     "output_type": "display_data"
    }
   ],
   "source": [
    "display(Markdown(\"**{}** tubes with empty 'Edition comment'.\".format(len(df.loc[df[\"Edition comment\"].isnull()]))))\n",
    "display(Markdown(\"**{}** tubes with unique fill 'Edition comment'.\".format(len(df.loc[df[\"Edition comment\"].notnull(), \"Edition comment\"].unique()))))"
   ]
  },
  {
   "cell_type": "markdown",
   "metadata": {},
   "source": [
    "Tubes volume should be of different values. If an origin tube was sent to RBM, the volume is supposed to be set at 0 on FreezerPro. We will have to decide if we keep tube data in FreezerPro or if we remove those."
   ]
  },
  {
   "cell_type": "code",
   "execution_count": 33,
   "metadata": {
    "collapsed": false
   },
   "outputs": [
    {
     "data": {
      "text/html": [
       "<div>\n",
       "<table border=\"1\" class=\"dataframe\">\n",
       "  <thead>\n",
       "    <tr style=\"text-align: right;\">\n",
       "      <th></th>\n",
       "      <th>Tubes</th>\n",
       "      <th>Volume</th>\n",
       "    </tr>\n",
       "  </thead>\n",
       "  <tbody>\n",
       "    <tr>\n",
       "      <th>0</th>\n",
       "      <td>3999</td>\n",
       "      <td>100.0</td>\n",
       "    </tr>\n",
       "    <tr>\n",
       "      <th>1</th>\n",
       "      <td>10000</td>\n",
       "      <td>200.0</td>\n",
       "    </tr>\n",
       "  </tbody>\n",
       "</table>\n",
       "</div>"
      ],
      "text/plain": [
       "   Tubes  Volume\n",
       "0   3999   100.0\n",
       "1  10000   200.0"
      ]
     },
     "metadata": {},
     "output_type": "display_data"
    },
    {
     "data": {
      "text/html": [
       "<div>\n",
       "<table border=\"1\" class=\"dataframe\">\n",
       "  <thead>\n",
       "    <tr style=\"text-align: right;\">\n",
       "      <th></th>\n",
       "      <th>RFID</th>\n",
       "      <th>BARCODE</th>\n",
       "      <th>Volume</th>\n",
       "      <th>UpdateDate</th>\n",
       "      <th>Position</th>\n",
       "      <th>Edition comment</th>\n",
       "      <th>BoxBarcode</th>\n",
       "      <th>Freezer</th>\n",
       "      <th>DonorID</th>\n",
       "    </tr>\n",
       "  </thead>\n",
       "  <tbody>\n",
       "    <tr>\n",
       "      <th>21453</th>\n",
       "      <td>24148</td>\n",
       "      <td>3260734633</td>\n",
       "      <td>100.0</td>\n",
       "      <td>24/08/2016</td>\n",
       "      <td>E / 1</td>\n",
       "      <td>Tube sent to RBM. The tube 3260734633 no longe...</td>\n",
       "      <td>MIC_Plasma_S9_V1_A1_F2_DX97-X00</td>\n",
       "      <td>MIC_Trash_RBM</td>\n",
       "      <td>5096.0</td>\n",
       "    </tr>\n",
       "    <tr>\n",
       "      <th>23437</th>\n",
       "      <td>119837</td>\n",
       "      <td>3260734633</td>\n",
       "      <td>100.0</td>\n",
       "      <td>24/08/2016</td>\n",
       "      <td>A / 9</td>\n",
       "      <td>Tube sent to RBM. The tube 3260734633 no longe...</td>\n",
       "      <td>MIC_Plasma_S31_V1_A1_F2_DX97-X00</td>\n",
       "      <td>MIC_Trash_RBM</td>\n",
       "      <td>897.0</td>\n",
       "    </tr>\n",
       "  </tbody>\n",
       "</table>\n",
       "</div>"
      ],
      "text/plain": [
       "         RFID     BARCODE  Volume  UpdateDate Position  \\\n",
       "21453   24148  3260734633   100.0  24/08/2016    E / 1   \n",
       "23437  119837  3260734633   100.0  24/08/2016    A / 9   \n",
       "\n",
       "                                         Edition comment  \\\n",
       "21453  Tube sent to RBM. The tube 3260734633 no longe...   \n",
       "23437  Tube sent to RBM. The tube 3260734633 no longe...   \n",
       "\n",
       "                             BoxBarcode        Freezer  DonorID  \n",
       "21453   MIC_Plasma_S9_V1_A1_F2_DX97-X00  MIC_Trash_RBM   5096.0  \n",
       "23437  MIC_Plasma_S31_V1_A1_F2_DX97-X00  MIC_Trash_RBM    897.0  "
      ]
     },
     "metadata": {},
     "output_type": "display_data"
    }
   ],
   "source": [
    "tubespervolume = pd.DataFrame(df.groupby(\"Volume\")[\"BARCODE\"].nunique())\n",
    "tubespervolume.rename(columns={\"BARCODE\": \"Tubes\"}, inplace=True)\n",
    "tubespervolume.loc[:, \"Volume\"] = tubespervolume.index\n",
    "tubespervolume.reset_index(drop=True, inplace=True)\n",
    "display(tubespervolume)\n",
    "checkbarcodes = df.loc[(df[\"BARCODE\"].duplicated()) & (df[\"Volume\"] == 100.0), \"BARCODE\"].get_values().tolist()\n",
    "display(df[df[\"BARCODE\"].isin(checkbarcodes)])"
   ]
  },
  {
   "cell_type": "markdown",
   "metadata": {},
   "source": [
    "Each tube should have an update date, check if all tubes have an update date assigned:"
   ]
  },
  {
   "cell_type": "code",
   "execution_count": 8,
   "metadata": {
    "collapsed": false
   },
   "outputs": [
    {
     "data": {
      "text/html": [
       "<div>\n",
       "<table border=\"1\" class=\"dataframe\">\n",
       "  <thead>\n",
       "    <tr style=\"text-align: right;\">\n",
       "      <th></th>\n",
       "      <th>Tubes</th>\n",
       "      <th>UpdateDate</th>\n",
       "    </tr>\n",
       "  </thead>\n",
       "  <tbody>\n",
       "    <tr>\n",
       "      <th>0</th>\n",
       "      <td>576</td>\n",
       "      <td>05/09/2016</td>\n",
       "    </tr>\n",
       "    <tr>\n",
       "      <th>1</th>\n",
       "      <td>574</td>\n",
       "      <td>06/09/2016</td>\n",
       "    </tr>\n",
       "    <tr>\n",
       "      <th>2</th>\n",
       "      <td>1150</td>\n",
       "      <td>07/09/2016</td>\n",
       "    </tr>\n",
       "    <tr>\n",
       "      <th>3</th>\n",
       "      <td>820</td>\n",
       "      <td>07/10/2016</td>\n",
       "    </tr>\n",
       "    <tr>\n",
       "      <th>4</th>\n",
       "      <td>1152</td>\n",
       "      <td>08/09/2016</td>\n",
       "    </tr>\n",
       "    <tr>\n",
       "      <th>5</th>\n",
       "      <td>1150</td>\n",
       "      <td>09/09/2016</td>\n",
       "    </tr>\n",
       "    <tr>\n",
       "      <th>6</th>\n",
       "      <td>576</td>\n",
       "      <td>18/08/2016</td>\n",
       "    </tr>\n",
       "    <tr>\n",
       "      <th>7</th>\n",
       "      <td>1150</td>\n",
       "      <td>19/08/2016</td>\n",
       "    </tr>\n",
       "    <tr>\n",
       "      <th>8</th>\n",
       "      <td>574</td>\n",
       "      <td>20/07/2016</td>\n",
       "    </tr>\n",
       "    <tr>\n",
       "      <th>9</th>\n",
       "      <td>1152</td>\n",
       "      <td>20/09/2016</td>\n",
       "    </tr>\n",
       "    <tr>\n",
       "      <th>10</th>\n",
       "      <td>1726</td>\n",
       "      <td>21/09/2016</td>\n",
       "    </tr>\n",
       "    <tr>\n",
       "      <th>11</th>\n",
       "      <td>2302</td>\n",
       "      <td>22/09/2016</td>\n",
       "    </tr>\n",
       "    <tr>\n",
       "      <th>12</th>\n",
       "      <td>1152</td>\n",
       "      <td>23/08/2016</td>\n",
       "    </tr>\n",
       "    <tr>\n",
       "      <th>13</th>\n",
       "      <td>1726</td>\n",
       "      <td>23/09/2016</td>\n",
       "    </tr>\n",
       "    <tr>\n",
       "      <th>14</th>\n",
       "      <td>548</td>\n",
       "      <td>24/08/2016</td>\n",
       "    </tr>\n",
       "    <tr>\n",
       "      <th>15</th>\n",
       "      <td>1150</td>\n",
       "      <td>26/08/2016</td>\n",
       "    </tr>\n",
       "    <tr>\n",
       "      <th>16</th>\n",
       "      <td>2300</td>\n",
       "      <td>26/09/2016</td>\n",
       "    </tr>\n",
       "    <tr>\n",
       "      <th>17</th>\n",
       "      <td>1152</td>\n",
       "      <td>28/09/2016</td>\n",
       "    </tr>\n",
       "    <tr>\n",
       "      <th>18</th>\n",
       "      <td>1150</td>\n",
       "      <td>29/08/2016</td>\n",
       "    </tr>\n",
       "    <tr>\n",
       "      <th>19</th>\n",
       "      <td>576</td>\n",
       "      <td>29/09/2016</td>\n",
       "    </tr>\n",
       "    <tr>\n",
       "      <th>20</th>\n",
       "      <td>576</td>\n",
       "      <td>30/08/2016</td>\n",
       "    </tr>\n",
       "    <tr>\n",
       "      <th>21</th>\n",
       "      <td>768</td>\n",
       "      <td>31/08/2016</td>\n",
       "    </tr>\n",
       "  </tbody>\n",
       "</table>\n",
       "</div>"
      ],
      "text/plain": [
       "    Tubes  UpdateDate\n",
       "0     576  05/09/2016\n",
       "1     574  06/09/2016\n",
       "2    1150  07/09/2016\n",
       "3     820  07/10/2016\n",
       "4    1152  08/09/2016\n",
       "5    1150  09/09/2016\n",
       "6     576  18/08/2016\n",
       "7    1150  19/08/2016\n",
       "8     574  20/07/2016\n",
       "9    1152  20/09/2016\n",
       "10   1726  21/09/2016\n",
       "11   2302  22/09/2016\n",
       "12   1152  23/08/2016\n",
       "13   1726  23/09/2016\n",
       "14    548  24/08/2016\n",
       "15   1150  26/08/2016\n",
       "16   2300  26/09/2016\n",
       "17   1152  28/09/2016\n",
       "18   1150  29/08/2016\n",
       "19    576  29/09/2016\n",
       "20    576  30/08/2016\n",
       "21    768  31/08/2016"
      ]
     },
     "metadata": {},
     "output_type": "display_data"
    },
    {
     "data": {
      "text/markdown": [
       "**24000** tubes are assigned to an UpdateDate."
      ],
      "text/plain": [
       "<IPython.core.display.Markdown object>"
      ]
     },
     "metadata": {},
     "output_type": "display_data"
    },
    {
     "data": {
      "text/markdown": [
       "**0** tubes are not assigned to an UpdateDate."
      ],
      "text/plain": [
       "<IPython.core.display.Markdown object>"
      ]
     },
     "metadata": {},
     "output_type": "display_data"
    }
   ],
   "source": [
    "tubesperupdate = pd.DataFrame(df.groupby(\"UpdateDate\")[\"BARCODE\"].count())\n",
    "tubesperupdate.rename(columns={\"BARCODE\": \"Tubes\"}, inplace=True)\n",
    "tubesperupdate.loc[:, \"UpdateDate\"] = tubesperupdate.index\n",
    "tubesperupdate.reset_index(drop=True, inplace=True)\n",
    "display(tubesperupdate)\n",
    "display(Markdown(\"**{}** tubes are assigned to an UpdateDate.\".format(tubesperupdate[\"Tubes\"].sum())))\n",
    "display(Markdown(\"**{}** tubes are not assigned to an UpdateDate.\".format(len(df.loc[df[\"UpdateDate\"].isnull()]))))"
   ]
  },
  {
   "cell_type": "markdown",
   "metadata": {},
   "source": [
    "We have 13.999 unique BARCODE. How many unique RFID do we have?"
   ]
  },
  {
   "cell_type": "code",
   "execution_count": 9,
   "metadata": {
    "collapsed": false
   },
   "outputs": [
    {
     "data": {
      "text/markdown": [
       "**12000** unique RFID."
      ],
      "text/plain": [
       "<IPython.core.display.Markdown object>"
      ]
     },
     "metadata": {},
     "output_type": "display_data"
    },
    {
     "data": {
      "text/markdown": [
       "**0** missing RFID."
      ],
      "text/plain": [
       "<IPython.core.display.Markdown object>"
      ]
     },
     "metadata": {},
     "output_type": "display_data"
    }
   ],
   "source": [
    "display(Markdown(\"**{}** unique RFID.\".format(df[\"RFID\"].nunique())))\n",
    "display(Markdown(\"**{}** missing RFID.\".format(len(df[df[\"RFID\"].isnull()]))))"
   ]
  },
  {
   "cell_type": "markdown",
   "metadata": {},
   "source": [
    "For **12.000** sources tubes, we were expected to have **12.000** unique RFID, but **2** RFID seem duplicated more than twice.\n",
    "\n",
    "To investigate more, we will explore data in function of the freezer:"
   ]
  },
  {
   "cell_type": "code",
   "execution_count": 10,
   "metadata": {
    "collapsed": false
   },
   "outputs": [
    {
     "data": {
      "text/markdown": [
       "**2** unique Freezers."
      ],
      "text/plain": [
       "<IPython.core.display.Markdown object>"
      ]
     },
     "metadata": {},
     "output_type": "display_data"
    },
    {
     "data": {
      "text/markdown": [
       "**264** unique BoxBarcode."
      ],
      "text/plain": [
       "<IPython.core.display.Markdown object>"
      ]
     },
     "metadata": {},
     "output_type": "display_data"
    }
   ],
   "source": [
    "display(Markdown(\"**%d** unique Freezers.\" % df[\"Freezer\"].nunique()))\n",
    "display(Markdown(\"**%d** unique BoxBarcode.\" % df[\"BoxBarcode\"].nunique()))"
   ]
  },
  {
   "cell_type": "markdown",
   "metadata": {},
   "source": [
    "We have **264** boxes in total, dispatched along **2** freezers. We could check, for each freezer, how many unique data we have in function of columns:\n",
    "\n",
    "+ BARCODE;\n",
    "+ RFID;\n",
    "+ Volume."
   ]
  },
  {
   "cell_type": "code",
   "execution_count": 19,
   "metadata": {
    "collapsed": false
   },
   "outputs": [
    {
     "data": {
      "text/markdown": [
       "**Number of unique BARCODE per Freezer:**"
      ],
      "text/plain": [
       "<IPython.core.display.Markdown object>"
      ]
     },
     "metadata": {},
     "output_type": "display_data"
    },
    {
     "data": {
      "text/html": [
       "<div>\n",
       "<table border=\"1\" class=\"dataframe\">\n",
       "  <thead>\n",
       "    <tr style=\"text-align: right;\">\n",
       "      <th></th>\n",
       "      <th>BARCODE</th>\n",
       "      <th>Freezer</th>\n",
       "    </tr>\n",
       "  </thead>\n",
       "  <tbody>\n",
       "    <tr>\n",
       "      <th>0</th>\n",
       "      <td>10000</td>\n",
       "      <td>MIC_Freezer1532</td>\n",
       "    </tr>\n",
       "    <tr>\n",
       "      <th>1</th>\n",
       "      <td>3999</td>\n",
       "      <td>MIC_Trash_RBM</td>\n",
       "    </tr>\n",
       "  </tbody>\n",
       "</table>\n",
       "</div>"
      ],
      "text/plain": [
       "   BARCODE          Freezer\n",
       "0    10000  MIC_Freezer1532\n",
       "1     3999    MIC_Trash_RBM"
      ]
     },
     "metadata": {},
     "output_type": "display_data"
    },
    {
     "data": {
      "text/markdown": [
       "**13999** unique BARCODE assigned to a Freezer."
      ],
      "text/plain": [
       "<IPython.core.display.Markdown object>"
      ]
     },
     "metadata": {},
     "output_type": "display_data"
    },
    {
     "data": {
      "text/markdown": [
       "**0** BARCODE not assigned to a Freezer."
      ],
      "text/plain": [
       "<IPython.core.display.Markdown object>"
      ]
     },
     "metadata": {},
     "output_type": "display_data"
    },
    {
     "data": {
      "text/markdown": [
       "**Number of unique RFID per Freezer:**"
      ],
      "text/plain": [
       "<IPython.core.display.Markdown object>"
      ]
     },
     "metadata": {},
     "output_type": "display_data"
    },
    {
     "data": {
      "text/html": [
       "<div>\n",
       "<table border=\"1\" class=\"dataframe\">\n",
       "  <thead>\n",
       "    <tr style=\"text-align: right;\">\n",
       "      <th></th>\n",
       "      <th>RFID</th>\n",
       "      <th>Freezer</th>\n",
       "    </tr>\n",
       "  </thead>\n",
       "  <tbody>\n",
       "    <tr>\n",
       "      <th>0</th>\n",
       "      <td>10000</td>\n",
       "      <td>MIC_Freezer1532</td>\n",
       "    </tr>\n",
       "    <tr>\n",
       "      <th>1</th>\n",
       "      <td>2000</td>\n",
       "      <td>MIC_Trash_RBM</td>\n",
       "    </tr>\n",
       "  </tbody>\n",
       "</table>\n",
       "</div>"
      ],
      "text/plain": [
       "    RFID          Freezer\n",
       "0  10000  MIC_Freezer1532\n",
       "1   2000    MIC_Trash_RBM"
      ]
     },
     "metadata": {},
     "output_type": "display_data"
    },
    {
     "data": {
      "text/markdown": [
       "**12000** RFID assigned to a Freezer."
      ],
      "text/plain": [
       "<IPython.core.display.Markdown object>"
      ]
     },
     "metadata": {},
     "output_type": "display_data"
    },
    {
     "data": {
      "text/markdown": [
       "**0** RFID not assigned to a Freezer."
      ],
      "text/plain": [
       "<IPython.core.display.Markdown object>"
      ]
     },
     "metadata": {},
     "output_type": "display_data"
    },
    {
     "data": {
      "text/markdown": [
       "**List of Volume per Freezer:**"
      ],
      "text/plain": [
       "<IPython.core.display.Markdown object>"
      ]
     },
     "metadata": {},
     "output_type": "display_data"
    },
    {
     "data": {
      "text/html": [
       "<div>\n",
       "<table border=\"1\" class=\"dataframe\">\n",
       "  <thead>\n",
       "    <tr style=\"text-align: right;\">\n",
       "      <th></th>\n",
       "      <th>Freezer</th>\n",
       "      <th>Volumes</th>\n",
       "    </tr>\n",
       "  </thead>\n",
       "  <tbody>\n",
       "    <tr>\n",
       "      <th>0</th>\n",
       "      <td>MIC_Freezer1532</td>\n",
       "      <td>200</td>\n",
       "    </tr>\n",
       "    <tr>\n",
       "      <th>1</th>\n",
       "      <td>MIC_Trash_RBM</td>\n",
       "      <td>100</td>\n",
       "    </tr>\n",
       "  </tbody>\n",
       "</table>\n",
       "</div>"
      ],
      "text/plain": [
       "           Freezer Volumes\n",
       "0  MIC_Freezer1532    200 \n",
       "1    MIC_Trash_RBM    100 "
      ]
     },
     "metadata": {},
     "output_type": "display_data"
    }
   ],
   "source": [
    "display(Markdown(\"**Number of unique BARCODE per Freezer:**\"))\n",
    "tubesperfreezer = pd.DataFrame(df.groupby(\"Freezer\")[\"BARCODE\"].nunique())\n",
    "tubesperfreezer.loc[:, \"Freezer\"] = tubesperfreezer.index\n",
    "tubesperfreezer.reset_index(drop=True, inplace=True)\n",
    "display(tubesperfreezer)\n",
    "display(Markdown(\"**{}** unique BARCODE assigned to a Freezer.\".format(tubesperfreezer[\"BARCODE\"].sum())))\n",
    "display(Markdown(\"**{}** BARCODE not assigned to a Freezer.\".format(len(df.loc[df[\"Freezer\"].isnull()]))))\n",
    "\n",
    "display(Markdown(\"**Number of unique RFID per Freezer:**\"))\n",
    "tubesperfreezer = pd.DataFrame(df.groupby(\"Freezer\")[\"RFID\"].nunique())\n",
    "tubesperfreezer.loc[:, \"Freezer\"] = tubesperfreezer.index\n",
    "tubesperfreezer.reset_index(drop=True, inplace=True)\n",
    "display(tubesperfreezer)\n",
    "display(Markdown(\"**{}** RFID assigned to a Freezer.\".format(tubesperfreezer[\"RFID\"].sum())))\n",
    "display(Markdown(\"**{}** RFID not assigned to a Freezer.\".format(len(df.loc[df[\"Freezer\"].isnull()]))))\n",
    "\n",
    "display(Markdown(\"**List of Volume per Freezer:**\"))\n",
    "volumesperfreezer = pd.DataFrame(df.groupby(\"Freezer\")[\"Volume\"].unique())\n",
    "volumesperfreezer.loc[:, \"Freezer\"] = volumesperfreezer.index\n",
    "volumesperfreezer.loc[:, \"Volumes\"] = [ \"%d \" % v for v in volumesperfreezer[\"Volume\"]]\n",
    "del(volumesperfreezer[\"Volume\"])\n",
    "volumesperfreezer.reset_index(drop=True, inplace=True)\n",
    "display(volumesperfreezer)"
   ]
  },
  {
   "cell_type": "markdown",
   "metadata": {},
   "source": [
    "The problem found with BARCODE and RFID seems to be only for the trash freezer. We could now check BARCODE and RFID column for Trash Freezer:"
   ]
  },
  {
   "cell_type": "code",
   "execution_count": 12,
   "metadata": {
    "collapsed": false
   },
   "outputs": [
    {
     "data": {
      "text/markdown": [
       "**44** unique boxes."
      ],
      "text/plain": [
       "<IPython.core.display.Markdown object>"
      ]
     },
     "metadata": {},
     "output_type": "display_data"
    },
    {
     "data": {
      "text/html": [
       "<div>\n",
       "<table border=\"1\" class=\"dataframe\">\n",
       "  <thead>\n",
       "    <tr style=\"text-align: right;\">\n",
       "      <th></th>\n",
       "      <th>BARCODE</th>\n",
       "      <th>BoxBarcode</th>\n",
       "    </tr>\n",
       "  </thead>\n",
       "  <tbody>\n",
       "    <tr>\n",
       "      <th>0</th>\n",
       "      <td>95</td>\n",
       "      <td>MIC_Plasma_S31_V1_A1_F1_D1-96</td>\n",
       "    </tr>\n",
       "    <tr>\n",
       "      <th>1</th>\n",
       "      <td>96</td>\n",
       "      <td>MIC_Plasma_S31_V1_A1_F1_D101-196</td>\n",
       "    </tr>\n",
       "    <tr>\n",
       "      <th>2</th>\n",
       "      <td>96</td>\n",
       "      <td>MIC_Plasma_S31_V1_A1_F1_D201-296</td>\n",
       "    </tr>\n",
       "    <tr>\n",
       "      <th>3</th>\n",
       "      <td>96</td>\n",
       "      <td>MIC_Plasma_S31_V1_A1_F1_D301-396</td>\n",
       "    </tr>\n",
       "    <tr>\n",
       "      <th>4</th>\n",
       "      <td>96</td>\n",
       "      <td>MIC_Plasma_S31_V1_A1_F1_D401-496</td>\n",
       "    </tr>\n",
       "    <tr>\n",
       "      <th>5</th>\n",
       "      <td>96</td>\n",
       "      <td>MIC_Plasma_S31_V1_A1_F1_D501-596</td>\n",
       "    </tr>\n",
       "    <tr>\n",
       "      <th>6</th>\n",
       "      <td>96</td>\n",
       "      <td>MIC_Plasma_S31_V1_A1_F1_D601-696</td>\n",
       "    </tr>\n",
       "    <tr>\n",
       "      <th>7</th>\n",
       "      <td>96</td>\n",
       "      <td>MIC_Plasma_S31_V1_A1_F1_D701-796</td>\n",
       "    </tr>\n",
       "    <tr>\n",
       "      <th>8</th>\n",
       "      <td>96</td>\n",
       "      <td>MIC_Plasma_S31_V1_A1_F1_D801-896</td>\n",
       "    </tr>\n",
       "    <tr>\n",
       "      <th>9</th>\n",
       "      <td>96</td>\n",
       "      <td>MIC_Plasma_S31_V1_A1_F1_D901-996</td>\n",
       "    </tr>\n",
       "    <tr>\n",
       "      <th>10</th>\n",
       "      <td>41</td>\n",
       "      <td>MIC_Plasma_S31_V1_A1_F1_DX97-X00</td>\n",
       "    </tr>\n",
       "    <tr>\n",
       "      <th>11</th>\n",
       "      <td>95</td>\n",
       "      <td>MIC_Plasma_S31_V1_A1_F2_D1-96</td>\n",
       "    </tr>\n",
       "    <tr>\n",
       "      <th>12</th>\n",
       "      <td>96</td>\n",
       "      <td>MIC_Plasma_S31_V1_A1_F2_D101-196</td>\n",
       "    </tr>\n",
       "    <tr>\n",
       "      <th>13</th>\n",
       "      <td>96</td>\n",
       "      <td>MIC_Plasma_S31_V1_A1_F2_D201-296</td>\n",
       "    </tr>\n",
       "    <tr>\n",
       "      <th>14</th>\n",
       "      <td>96</td>\n",
       "      <td>MIC_Plasma_S31_V1_A1_F2_D301-396</td>\n",
       "    </tr>\n",
       "    <tr>\n",
       "      <th>15</th>\n",
       "      <td>96</td>\n",
       "      <td>MIC_Plasma_S31_V1_A1_F2_D401-496</td>\n",
       "    </tr>\n",
       "    <tr>\n",
       "      <th>16</th>\n",
       "      <td>96</td>\n",
       "      <td>MIC_Plasma_S31_V1_A1_F2_D501-596</td>\n",
       "    </tr>\n",
       "    <tr>\n",
       "      <th>17</th>\n",
       "      <td>96</td>\n",
       "      <td>MIC_Plasma_S31_V1_A1_F2_D601-696</td>\n",
       "    </tr>\n",
       "    <tr>\n",
       "      <th>18</th>\n",
       "      <td>96</td>\n",
       "      <td>MIC_Plasma_S31_V1_A1_F2_D701-796</td>\n",
       "    </tr>\n",
       "    <tr>\n",
       "      <th>19</th>\n",
       "      <td>96</td>\n",
       "      <td>MIC_Plasma_S31_V1_A1_F2_D801-896</td>\n",
       "    </tr>\n",
       "    <tr>\n",
       "      <th>20</th>\n",
       "      <td>96</td>\n",
       "      <td>MIC_Plasma_S31_V1_A1_F2_D901-996</td>\n",
       "    </tr>\n",
       "    <tr>\n",
       "      <th>21</th>\n",
       "      <td>41</td>\n",
       "      <td>MIC_Plasma_S31_V1_A1_F2_DX97-X00</td>\n",
       "    </tr>\n",
       "    <tr>\n",
       "      <th>22</th>\n",
       "      <td>95</td>\n",
       "      <td>MIC_Plasma_S9_V1_A1_F1_D1-96</td>\n",
       "    </tr>\n",
       "    <tr>\n",
       "      <th>23</th>\n",
       "      <td>96</td>\n",
       "      <td>MIC_Plasma_S9_V1_A1_F1_D101-196</td>\n",
       "    </tr>\n",
       "    <tr>\n",
       "      <th>24</th>\n",
       "      <td>96</td>\n",
       "      <td>MIC_Plasma_S9_V1_A1_F1_D201-296</td>\n",
       "    </tr>\n",
       "    <tr>\n",
       "      <th>25</th>\n",
       "      <td>96</td>\n",
       "      <td>MIC_Plasma_S9_V1_A1_F1_D301-396</td>\n",
       "    </tr>\n",
       "    <tr>\n",
       "      <th>26</th>\n",
       "      <td>96</td>\n",
       "      <td>MIC_Plasma_S9_V1_A1_F1_D401-496</td>\n",
       "    </tr>\n",
       "    <tr>\n",
       "      <th>27</th>\n",
       "      <td>96</td>\n",
       "      <td>MIC_Plasma_S9_V1_A1_F1_D501-596</td>\n",
       "    </tr>\n",
       "    <tr>\n",
       "      <th>28</th>\n",
       "      <td>96</td>\n",
       "      <td>MIC_Plasma_S9_V1_A1_F1_D601-696</td>\n",
       "    </tr>\n",
       "    <tr>\n",
       "      <th>29</th>\n",
       "      <td>96</td>\n",
       "      <td>MIC_Plasma_S9_V1_A1_F1_D701-796</td>\n",
       "    </tr>\n",
       "    <tr>\n",
       "      <th>30</th>\n",
       "      <td>96</td>\n",
       "      <td>MIC_Plasma_S9_V1_A1_F1_D801-896</td>\n",
       "    </tr>\n",
       "    <tr>\n",
       "      <th>31</th>\n",
       "      <td>96</td>\n",
       "      <td>MIC_Plasma_S9_V1_A1_F1_D901-996</td>\n",
       "    </tr>\n",
       "    <tr>\n",
       "      <th>32</th>\n",
       "      <td>41</td>\n",
       "      <td>MIC_Plasma_S9_V1_A1_F1_DX97-X00</td>\n",
       "    </tr>\n",
       "    <tr>\n",
       "      <th>33</th>\n",
       "      <td>95</td>\n",
       "      <td>MIC_Plasma_S9_V1_A1_F2_D1-96</td>\n",
       "    </tr>\n",
       "    <tr>\n",
       "      <th>34</th>\n",
       "      <td>96</td>\n",
       "      <td>MIC_Plasma_S9_V1_A1_F2_D101-196</td>\n",
       "    </tr>\n",
       "    <tr>\n",
       "      <th>35</th>\n",
       "      <td>96</td>\n",
       "      <td>MIC_Plasma_S9_V1_A1_F2_D201-296</td>\n",
       "    </tr>\n",
       "    <tr>\n",
       "      <th>36</th>\n",
       "      <td>96</td>\n",
       "      <td>MIC_Plasma_S9_V1_A1_F2_D301-396</td>\n",
       "    </tr>\n",
       "    <tr>\n",
       "      <th>37</th>\n",
       "      <td>96</td>\n",
       "      <td>MIC_Plasma_S9_V1_A1_F2_D401-496</td>\n",
       "    </tr>\n",
       "    <tr>\n",
       "      <th>38</th>\n",
       "      <td>96</td>\n",
       "      <td>MIC_Plasma_S9_V1_A1_F2_D501-596</td>\n",
       "    </tr>\n",
       "    <tr>\n",
       "      <th>39</th>\n",
       "      <td>96</td>\n",
       "      <td>MIC_Plasma_S9_V1_A1_F2_D601-696</td>\n",
       "    </tr>\n",
       "    <tr>\n",
       "      <th>40</th>\n",
       "      <td>96</td>\n",
       "      <td>MIC_Plasma_S9_V1_A1_F2_D701-796</td>\n",
       "    </tr>\n",
       "    <tr>\n",
       "      <th>41</th>\n",
       "      <td>96</td>\n",
       "      <td>MIC_Plasma_S9_V1_A1_F2_D801-896</td>\n",
       "    </tr>\n",
       "    <tr>\n",
       "      <th>42</th>\n",
       "      <td>96</td>\n",
       "      <td>MIC_Plasma_S9_V1_A1_F2_D901-996</td>\n",
       "    </tr>\n",
       "    <tr>\n",
       "      <th>43</th>\n",
       "      <td>41</td>\n",
       "      <td>MIC_Plasma_S9_V1_A1_F2_DX97-X00</td>\n",
       "    </tr>\n",
       "  </tbody>\n",
       "</table>\n",
       "</div>"
      ],
      "text/plain": [
       "    BARCODE                        BoxBarcode\n",
       "0        95     MIC_Plasma_S31_V1_A1_F1_D1-96\n",
       "1        96  MIC_Plasma_S31_V1_A1_F1_D101-196\n",
       "2        96  MIC_Plasma_S31_V1_A1_F1_D201-296\n",
       "3        96  MIC_Plasma_S31_V1_A1_F1_D301-396\n",
       "4        96  MIC_Plasma_S31_V1_A1_F1_D401-496\n",
       "5        96  MIC_Plasma_S31_V1_A1_F1_D501-596\n",
       "6        96  MIC_Plasma_S31_V1_A1_F1_D601-696\n",
       "7        96  MIC_Plasma_S31_V1_A1_F1_D701-796\n",
       "8        96  MIC_Plasma_S31_V1_A1_F1_D801-896\n",
       "9        96  MIC_Plasma_S31_V1_A1_F1_D901-996\n",
       "10       41  MIC_Plasma_S31_V1_A1_F1_DX97-X00\n",
       "11       95     MIC_Plasma_S31_V1_A1_F2_D1-96\n",
       "12       96  MIC_Plasma_S31_V1_A1_F2_D101-196\n",
       "13       96  MIC_Plasma_S31_V1_A1_F2_D201-296\n",
       "14       96  MIC_Plasma_S31_V1_A1_F2_D301-396\n",
       "15       96  MIC_Plasma_S31_V1_A1_F2_D401-496\n",
       "16       96  MIC_Plasma_S31_V1_A1_F2_D501-596\n",
       "17       96  MIC_Plasma_S31_V1_A1_F2_D601-696\n",
       "18       96  MIC_Plasma_S31_V1_A1_F2_D701-796\n",
       "19       96  MIC_Plasma_S31_V1_A1_F2_D801-896\n",
       "20       96  MIC_Plasma_S31_V1_A1_F2_D901-996\n",
       "21       41  MIC_Plasma_S31_V1_A1_F2_DX97-X00\n",
       "22       95      MIC_Plasma_S9_V1_A1_F1_D1-96\n",
       "23       96   MIC_Plasma_S9_V1_A1_F1_D101-196\n",
       "24       96   MIC_Plasma_S9_V1_A1_F1_D201-296\n",
       "25       96   MIC_Plasma_S9_V1_A1_F1_D301-396\n",
       "26       96   MIC_Plasma_S9_V1_A1_F1_D401-496\n",
       "27       96   MIC_Plasma_S9_V1_A1_F1_D501-596\n",
       "28       96   MIC_Plasma_S9_V1_A1_F1_D601-696\n",
       "29       96   MIC_Plasma_S9_V1_A1_F1_D701-796\n",
       "30       96   MIC_Plasma_S9_V1_A1_F1_D801-896\n",
       "31       96   MIC_Plasma_S9_V1_A1_F1_D901-996\n",
       "32       41   MIC_Plasma_S9_V1_A1_F1_DX97-X00\n",
       "33       95      MIC_Plasma_S9_V1_A1_F2_D1-96\n",
       "34       96   MIC_Plasma_S9_V1_A1_F2_D101-196\n",
       "35       96   MIC_Plasma_S9_V1_A1_F2_D201-296\n",
       "36       96   MIC_Plasma_S9_V1_A1_F2_D301-396\n",
       "37       96   MIC_Plasma_S9_V1_A1_F2_D401-496\n",
       "38       96   MIC_Plasma_S9_V1_A1_F2_D501-596\n",
       "39       96   MIC_Plasma_S9_V1_A1_F2_D601-696\n",
       "40       96   MIC_Plasma_S9_V1_A1_F2_D701-796\n",
       "41       96   MIC_Plasma_S9_V1_A1_F2_D801-896\n",
       "42       96   MIC_Plasma_S9_V1_A1_F2_D901-996\n",
       "43       41   MIC_Plasma_S9_V1_A1_F2_DX97-X00"
      ]
     },
     "metadata": {},
     "output_type": "display_data"
    },
    {
     "data": {
      "text/markdown": [
       "**4000** unique BARCODE assigned to a box."
      ],
      "text/plain": [
       "<IPython.core.display.Markdown object>"
      ]
     },
     "metadata": {},
     "output_type": "display_data"
    },
    {
     "data": {
      "text/markdown": [
       "**0** BARCODE not assigned to a box."
      ],
      "text/plain": [
       "<IPython.core.display.Markdown object>"
      ]
     },
     "metadata": {},
     "output_type": "display_data"
    },
    {
     "data": {
      "text/html": [
       "<div>\n",
       "<table border=\"1\" class=\"dataframe\">\n",
       "  <thead>\n",
       "    <tr style=\"text-align: right;\">\n",
       "      <th></th>\n",
       "      <th>RFID</th>\n",
       "      <th>BoxBarcode</th>\n",
       "    </tr>\n",
       "  </thead>\n",
       "  <tbody>\n",
       "    <tr>\n",
       "      <th>0</th>\n",
       "      <td>95</td>\n",
       "      <td>MIC_Plasma_S31_V1_A1_F1_D1-96</td>\n",
       "    </tr>\n",
       "    <tr>\n",
       "      <th>1</th>\n",
       "      <td>96</td>\n",
       "      <td>MIC_Plasma_S31_V1_A1_F1_D101-196</td>\n",
       "    </tr>\n",
       "    <tr>\n",
       "      <th>2</th>\n",
       "      <td>96</td>\n",
       "      <td>MIC_Plasma_S31_V1_A1_F1_D201-296</td>\n",
       "    </tr>\n",
       "    <tr>\n",
       "      <th>3</th>\n",
       "      <td>96</td>\n",
       "      <td>MIC_Plasma_S31_V1_A1_F1_D301-396</td>\n",
       "    </tr>\n",
       "    <tr>\n",
       "      <th>4</th>\n",
       "      <td>96</td>\n",
       "      <td>MIC_Plasma_S31_V1_A1_F1_D401-496</td>\n",
       "    </tr>\n",
       "    <tr>\n",
       "      <th>5</th>\n",
       "      <td>96</td>\n",
       "      <td>MIC_Plasma_S31_V1_A1_F1_D501-596</td>\n",
       "    </tr>\n",
       "    <tr>\n",
       "      <th>6</th>\n",
       "      <td>96</td>\n",
       "      <td>MIC_Plasma_S31_V1_A1_F1_D601-696</td>\n",
       "    </tr>\n",
       "    <tr>\n",
       "      <th>7</th>\n",
       "      <td>96</td>\n",
       "      <td>MIC_Plasma_S31_V1_A1_F1_D701-796</td>\n",
       "    </tr>\n",
       "    <tr>\n",
       "      <th>8</th>\n",
       "      <td>96</td>\n",
       "      <td>MIC_Plasma_S31_V1_A1_F1_D801-896</td>\n",
       "    </tr>\n",
       "    <tr>\n",
       "      <th>9</th>\n",
       "      <td>96</td>\n",
       "      <td>MIC_Plasma_S31_V1_A1_F1_D901-996</td>\n",
       "    </tr>\n",
       "    <tr>\n",
       "      <th>10</th>\n",
       "      <td>41</td>\n",
       "      <td>MIC_Plasma_S31_V1_A1_F1_DX97-X00</td>\n",
       "    </tr>\n",
       "    <tr>\n",
       "      <th>11</th>\n",
       "      <td>95</td>\n",
       "      <td>MIC_Plasma_S31_V1_A1_F2_D1-96</td>\n",
       "    </tr>\n",
       "    <tr>\n",
       "      <th>12</th>\n",
       "      <td>96</td>\n",
       "      <td>MIC_Plasma_S31_V1_A1_F2_D101-196</td>\n",
       "    </tr>\n",
       "    <tr>\n",
       "      <th>13</th>\n",
       "      <td>96</td>\n",
       "      <td>MIC_Plasma_S31_V1_A1_F2_D201-296</td>\n",
       "    </tr>\n",
       "    <tr>\n",
       "      <th>14</th>\n",
       "      <td>96</td>\n",
       "      <td>MIC_Plasma_S31_V1_A1_F2_D301-396</td>\n",
       "    </tr>\n",
       "    <tr>\n",
       "      <th>15</th>\n",
       "      <td>96</td>\n",
       "      <td>MIC_Plasma_S31_V1_A1_F2_D401-496</td>\n",
       "    </tr>\n",
       "    <tr>\n",
       "      <th>16</th>\n",
       "      <td>96</td>\n",
       "      <td>MIC_Plasma_S31_V1_A1_F2_D501-596</td>\n",
       "    </tr>\n",
       "    <tr>\n",
       "      <th>17</th>\n",
       "      <td>96</td>\n",
       "      <td>MIC_Plasma_S31_V1_A1_F2_D601-696</td>\n",
       "    </tr>\n",
       "    <tr>\n",
       "      <th>18</th>\n",
       "      <td>96</td>\n",
       "      <td>MIC_Plasma_S31_V1_A1_F2_D701-796</td>\n",
       "    </tr>\n",
       "    <tr>\n",
       "      <th>19</th>\n",
       "      <td>96</td>\n",
       "      <td>MIC_Plasma_S31_V1_A1_F2_D801-896</td>\n",
       "    </tr>\n",
       "    <tr>\n",
       "      <th>20</th>\n",
       "      <td>96</td>\n",
       "      <td>MIC_Plasma_S31_V1_A1_F2_D901-996</td>\n",
       "    </tr>\n",
       "    <tr>\n",
       "      <th>21</th>\n",
       "      <td>41</td>\n",
       "      <td>MIC_Plasma_S31_V1_A1_F2_DX97-X00</td>\n",
       "    </tr>\n",
       "    <tr>\n",
       "      <th>22</th>\n",
       "      <td>95</td>\n",
       "      <td>MIC_Plasma_S9_V1_A1_F1_D1-96</td>\n",
       "    </tr>\n",
       "    <tr>\n",
       "      <th>23</th>\n",
       "      <td>96</td>\n",
       "      <td>MIC_Plasma_S9_V1_A1_F1_D101-196</td>\n",
       "    </tr>\n",
       "    <tr>\n",
       "      <th>24</th>\n",
       "      <td>96</td>\n",
       "      <td>MIC_Plasma_S9_V1_A1_F1_D201-296</td>\n",
       "    </tr>\n",
       "    <tr>\n",
       "      <th>25</th>\n",
       "      <td>96</td>\n",
       "      <td>MIC_Plasma_S9_V1_A1_F1_D301-396</td>\n",
       "    </tr>\n",
       "    <tr>\n",
       "      <th>26</th>\n",
       "      <td>96</td>\n",
       "      <td>MIC_Plasma_S9_V1_A1_F1_D401-496</td>\n",
       "    </tr>\n",
       "    <tr>\n",
       "      <th>27</th>\n",
       "      <td>96</td>\n",
       "      <td>MIC_Plasma_S9_V1_A1_F1_D501-596</td>\n",
       "    </tr>\n",
       "    <tr>\n",
       "      <th>28</th>\n",
       "      <td>96</td>\n",
       "      <td>MIC_Plasma_S9_V1_A1_F1_D601-696</td>\n",
       "    </tr>\n",
       "    <tr>\n",
       "      <th>29</th>\n",
       "      <td>96</td>\n",
       "      <td>MIC_Plasma_S9_V1_A1_F1_D701-796</td>\n",
       "    </tr>\n",
       "    <tr>\n",
       "      <th>30</th>\n",
       "      <td>96</td>\n",
       "      <td>MIC_Plasma_S9_V1_A1_F1_D801-896</td>\n",
       "    </tr>\n",
       "    <tr>\n",
       "      <th>31</th>\n",
       "      <td>96</td>\n",
       "      <td>MIC_Plasma_S9_V1_A1_F1_D901-996</td>\n",
       "    </tr>\n",
       "    <tr>\n",
       "      <th>32</th>\n",
       "      <td>41</td>\n",
       "      <td>MIC_Plasma_S9_V1_A1_F1_DX97-X00</td>\n",
       "    </tr>\n",
       "    <tr>\n",
       "      <th>33</th>\n",
       "      <td>95</td>\n",
       "      <td>MIC_Plasma_S9_V1_A1_F2_D1-96</td>\n",
       "    </tr>\n",
       "    <tr>\n",
       "      <th>34</th>\n",
       "      <td>96</td>\n",
       "      <td>MIC_Plasma_S9_V1_A1_F2_D101-196</td>\n",
       "    </tr>\n",
       "    <tr>\n",
       "      <th>35</th>\n",
       "      <td>96</td>\n",
       "      <td>MIC_Plasma_S9_V1_A1_F2_D201-296</td>\n",
       "    </tr>\n",
       "    <tr>\n",
       "      <th>36</th>\n",
       "      <td>96</td>\n",
       "      <td>MIC_Plasma_S9_V1_A1_F2_D301-396</td>\n",
       "    </tr>\n",
       "    <tr>\n",
       "      <th>37</th>\n",
       "      <td>96</td>\n",
       "      <td>MIC_Plasma_S9_V1_A1_F2_D401-496</td>\n",
       "    </tr>\n",
       "    <tr>\n",
       "      <th>38</th>\n",
       "      <td>96</td>\n",
       "      <td>MIC_Plasma_S9_V1_A1_F2_D501-596</td>\n",
       "    </tr>\n",
       "    <tr>\n",
       "      <th>39</th>\n",
       "      <td>96</td>\n",
       "      <td>MIC_Plasma_S9_V1_A1_F2_D601-696</td>\n",
       "    </tr>\n",
       "    <tr>\n",
       "      <th>40</th>\n",
       "      <td>96</td>\n",
       "      <td>MIC_Plasma_S9_V1_A1_F2_D701-796</td>\n",
       "    </tr>\n",
       "    <tr>\n",
       "      <th>41</th>\n",
       "      <td>96</td>\n",
       "      <td>MIC_Plasma_S9_V1_A1_F2_D801-896</td>\n",
       "    </tr>\n",
       "    <tr>\n",
       "      <th>42</th>\n",
       "      <td>96</td>\n",
       "      <td>MIC_Plasma_S9_V1_A1_F2_D901-996</td>\n",
       "    </tr>\n",
       "    <tr>\n",
       "      <th>43</th>\n",
       "      <td>41</td>\n",
       "      <td>MIC_Plasma_S9_V1_A1_F2_DX97-X00</td>\n",
       "    </tr>\n",
       "  </tbody>\n",
       "</table>\n",
       "</div>"
      ],
      "text/plain": [
       "    RFID                        BoxBarcode\n",
       "0     95     MIC_Plasma_S31_V1_A1_F1_D1-96\n",
       "1     96  MIC_Plasma_S31_V1_A1_F1_D101-196\n",
       "2     96  MIC_Plasma_S31_V1_A1_F1_D201-296\n",
       "3     96  MIC_Plasma_S31_V1_A1_F1_D301-396\n",
       "4     96  MIC_Plasma_S31_V1_A1_F1_D401-496\n",
       "5     96  MIC_Plasma_S31_V1_A1_F1_D501-596\n",
       "6     96  MIC_Plasma_S31_V1_A1_F1_D601-696\n",
       "7     96  MIC_Plasma_S31_V1_A1_F1_D701-796\n",
       "8     96  MIC_Plasma_S31_V1_A1_F1_D801-896\n",
       "9     96  MIC_Plasma_S31_V1_A1_F1_D901-996\n",
       "10    41  MIC_Plasma_S31_V1_A1_F1_DX97-X00\n",
       "11    95     MIC_Plasma_S31_V1_A1_F2_D1-96\n",
       "12    96  MIC_Plasma_S31_V1_A1_F2_D101-196\n",
       "13    96  MIC_Plasma_S31_V1_A1_F2_D201-296\n",
       "14    96  MIC_Plasma_S31_V1_A1_F2_D301-396\n",
       "15    96  MIC_Plasma_S31_V1_A1_F2_D401-496\n",
       "16    96  MIC_Plasma_S31_V1_A1_F2_D501-596\n",
       "17    96  MIC_Plasma_S31_V1_A1_F2_D601-696\n",
       "18    96  MIC_Plasma_S31_V1_A1_F2_D701-796\n",
       "19    96  MIC_Plasma_S31_V1_A1_F2_D801-896\n",
       "20    96  MIC_Plasma_S31_V1_A1_F2_D901-996\n",
       "21    41  MIC_Plasma_S31_V1_A1_F2_DX97-X00\n",
       "22    95      MIC_Plasma_S9_V1_A1_F1_D1-96\n",
       "23    96   MIC_Plasma_S9_V1_A1_F1_D101-196\n",
       "24    96   MIC_Plasma_S9_V1_A1_F1_D201-296\n",
       "25    96   MIC_Plasma_S9_V1_A1_F1_D301-396\n",
       "26    96   MIC_Plasma_S9_V1_A1_F1_D401-496\n",
       "27    96   MIC_Plasma_S9_V1_A1_F1_D501-596\n",
       "28    96   MIC_Plasma_S9_V1_A1_F1_D601-696\n",
       "29    96   MIC_Plasma_S9_V1_A1_F1_D701-796\n",
       "30    96   MIC_Plasma_S9_V1_A1_F1_D801-896\n",
       "31    96   MIC_Plasma_S9_V1_A1_F1_D901-996\n",
       "32    41   MIC_Plasma_S9_V1_A1_F1_DX97-X00\n",
       "33    95      MIC_Plasma_S9_V1_A1_F2_D1-96\n",
       "34    96   MIC_Plasma_S9_V1_A1_F2_D101-196\n",
       "35    96   MIC_Plasma_S9_V1_A1_F2_D201-296\n",
       "36    96   MIC_Plasma_S9_V1_A1_F2_D301-396\n",
       "37    96   MIC_Plasma_S9_V1_A1_F2_D401-496\n",
       "38    96   MIC_Plasma_S9_V1_A1_F2_D501-596\n",
       "39    96   MIC_Plasma_S9_V1_A1_F2_D601-696\n",
       "40    96   MIC_Plasma_S9_V1_A1_F2_D701-796\n",
       "41    96   MIC_Plasma_S9_V1_A1_F2_D801-896\n",
       "42    96   MIC_Plasma_S9_V1_A1_F2_D901-996\n",
       "43    41   MIC_Plasma_S9_V1_A1_F2_DX97-X00"
      ]
     },
     "metadata": {},
     "output_type": "display_data"
    },
    {
     "data": {
      "text/markdown": [
       "**4000** unique RFID assigned to a box."
      ],
      "text/plain": [
       "<IPython.core.display.Markdown object>"
      ]
     },
     "metadata": {},
     "output_type": "display_data"
    },
    {
     "data": {
      "text/markdown": [
       "**0** RFID not assigned to a box."
      ],
      "text/plain": [
       "<IPython.core.display.Markdown object>"
      ]
     },
     "metadata": {},
     "output_type": "display_data"
    },
    {
     "data": {
      "text/markdown": [
       "Ratio of RFID/BARCODE: **0.5**"
      ],
      "text/plain": [
       "<IPython.core.display.Markdown object>"
      ]
     },
     "metadata": {},
     "output_type": "display_data"
    }
   ],
   "source": [
    "trash = df[df[\"Freezer\"] == \"MIC_Trash_RBM\"]\n",
    "display(Markdown(\"**{}** unique boxes.\".format(trash[\"BoxBarcode\"].nunique())))\n",
    "\n",
    "barcodeperbox = pd.DataFrame(trash.groupby(\"BoxBarcode\")[\"BARCODE\"].nunique())\n",
    "barcodeperbox.loc[:, \"BoxBarcode\"] = barcodeperbox.index\n",
    "barcodeperbox.reset_index(drop=True, inplace=True)\n",
    "display(barcodeperbox)\n",
    "display(Markdown(\"**{}** unique BARCODE assigned to a box.\".format(barcodeperbox[\"BARCODE\"].sum())))\n",
    "display(Markdown(\"**{}** BARCODE not assigned to a box.\".format(\n",
    "            len(barcodeperbox.loc[barcodeperbox[\"BARCODE\"].isnull()])\n",
    "        )))\n",
    "if len(barcodeperbox.loc[barcodeperbox[\"BARCODE\"].isnull()]) > 0:\n",
    "    display(barcodeperbox[barcodeperbox[\"BARCODE\"].isnull()])\n",
    "\n",
    "rfidperbox = pd.DataFrame(trash.groupby(\"BoxBarcode\")[\"RFID\"].nunique())\n",
    "rfidperbox.loc[:, \"BoxBarcode\"] = rfidperbox.index\n",
    "rfidperbox.reset_index(drop=True, inplace=True)\n",
    "display(rfidperbox)\n",
    "display(Markdown(\"**{}** unique RFID assigned to a box.\".format(rfidperbox[\"RFID\"].sum())))\n",
    "display(Markdown(\"**{}** RFID not assigned to a box.\".format(len(rfidperbox.loc[rfidperbox[\"RFID\"].isnull()]))))\n",
    "\n",
    "barcodeperrfid = pd.DataFrame(trash.groupby(\"RFID\")[\"BARCODE\"].nunique())\n",
    "barcodeperrfid.loc[:, \"RFID\"] = barcodeperrfid.index\n",
    "barcodeperrfid.reset_index(drop=True, inplace=True)\n",
    "display(\n",
    "    Markdown(\n",
    "        \"Ratio of RFID/BARCODE: **{}**\".format(\n",
    "            float(barcodeperrfid[\"RFID\"].count())/float(barcodeperrfid[\"BARCODE\"].sum())\n",
    "        )\n",
    "    )\n",
    ")"
   ]
  },
  {
   "cell_type": "markdown",
   "metadata": {},
   "source": [
    "The expected ratio of RFID per BARCODE is of 0.5. Why is not the case? We have to check if all RFID only have 2 BARCODE assigned, and, if not, what could be the problem."
   ]
  },
  {
   "cell_type": "code",
   "execution_count": 13,
   "metadata": {
    "collapsed": false
   },
   "outputs": [
    {
     "data": {
      "text/markdown": [
       "**2000** RFID assigned to 2 BARCODE."
      ],
      "text/plain": [
       "<IPython.core.display.Markdown object>"
      ]
     },
     "metadata": {},
     "output_type": "display_data"
    }
   ],
   "source": [
    "if len(barcodeperrfid[barcodeperrfid[\"BARCODE\"] == 0]) > 0:\n",
    "    nobarcode = barcodeperrfid[barcodeperrfid[\"BARCODE\"] == 0]\n",
    "    display(Markdown(\"**{}** RFID not assigned to a BARCODE.\".format(len(nobarcode))))\n",
    "\n",
    "if len(barcodeperrfid[barcodeperrfid[\"BARCODE\"] == 1]) > 0:\n",
    "    onebarcode = barcodeperrfid[barcodeperrfid[\"BARCODE\"] == 1]\n",
    "    display(Markdown(\"**{}** RFID assigned to 1 BARCODE.\".format(len(onebarcode))))\n",
    "\n",
    "if len(barcodeperrfid[barcodeperrfid[\"BARCODE\"] == 2]) > 0:\n",
    "    twobarcode = barcodeperrfid[barcodeperrfid[\"BARCODE\"] == 2]\n",
    "    display(Markdown(\"**{}** RFID assigned to 2 BARCODE.\".format(len(twobarcode))))\n",
    "\n",
    "if len(barcodeperrfid[barcodeperrfid[\"BARCODE\"] > 2 ]) > 0:\n",
    "    morebarcode = barcodeperrfid[barcodeperrfid[\"BARCODE\"] > 2]\n",
    "    display(Markdown(\"**{}** RFID assigned to more than 2 BARCODE:\".format(len(morebarcode))))"
   ]
  },
  {
   "cell_type": "markdown",
   "metadata": {},
   "source": [
    "We have 2 strange RFID to check:"
   ]
  },
  {
   "cell_type": "code",
   "execution_count": 14,
   "metadata": {
    "collapsed": false
   },
   "outputs": [
    {
     "data": {
      "text/markdown": [
       "**0** unique BARCODE along **0** RFID to check."
      ],
      "text/plain": [
       "<IPython.core.display.Markdown object>"
      ]
     },
     "metadata": {},
     "output_type": "display_data"
    },
    {
     "data": {
      "text/markdown": [
       "**0** unique donors are concerned, along **0** unique boxes."
      ],
      "text/plain": [
       "<IPython.core.display.Markdown object>"
      ]
     },
     "metadata": {},
     "output_type": "display_data"
    },
    {
     "data": {
      "text/html": [
       "<div>\n",
       "<table border=\"1\" class=\"dataframe\">\n",
       "  <thead>\n",
       "    <tr style=\"text-align: right;\">\n",
       "      <th></th>\n",
       "      <th>RFID</th>\n",
       "      <th>BARCODE</th>\n",
       "      <th>BoxBarcode</th>\n",
       "      <th>DonorID</th>\n",
       "      <th>Position</th>\n",
       "    </tr>\n",
       "  </thead>\n",
       "  <tbody>\n",
       "  </tbody>\n",
       "</table>\n",
       "</div>"
      ],
      "text/plain": [
       "Empty DataFrame\n",
       "Columns: [RFID, BARCODE, BoxBarcode, DonorID, Position]\n",
       "Index: []"
      ]
     },
     "metadata": {},
     "output_type": "display_data"
    }
   ],
   "source": [
    "rfidlist = barcodeperrfid.loc[barcodeperrfid[\"BARCODE\"] > 2, \"RFID\"]\n",
    "display(Markdown(\"**{}** unique BARCODE along **{}** RFID to check.\".format(\n",
    "            df.loc[df[\"RFID\"].isin(rfidlist), \"BARCODE\"].nunique(), \\\n",
    "            len(rfidlist))))\n",
    "display(Markdown(\"**{}** unique donors are concerned, along **{}** unique boxes.\".format(\n",
    "            df.loc[df[\"RFID\"].isin(rfidlist), \"DonorID\"].nunique(),\n",
    "            df.loc[df[\"RFID\"].isin(rfidlist), \"BoxBarcode\"].nunique())))\n",
    "display(df.loc[\n",
    "            df[\"RFID\"].isin(rfidlist), \\\n",
    "            [\"RFID\", \"BARCODE\", \"BoxBarcode\", \"DonorID\", \"Position\"]].sort_values([\"RFID\", \"BARCODE\", \"DonorID\"], ascending=[True, True, True]))"
   ]
  },
  {
   "cell_type": "markdown",
   "metadata": {},
   "source": [
    "We retrieved the RFID that are duplicated more than twice.\n",
    "\n",
    "Why do we have 2 RFID assigned to 4 new BARCODE for 2 distinct DonorID when we expect to have 1 RFID assigne to 2 new BARCODE? We need to verify if the donors are duplicated in FreezerPro exported file."
   ]
  },
  {
   "cell_type": "code",
   "execution_count": 43,
   "metadata": {
    "collapsed": false
   },
   "outputs": [
    {
     "data": {
      "text/markdown": [
       "Duplication is not from FreezerPro."
      ],
      "text/plain": [
       "<IPython.core.display.Markdown object>"
      ]
     },
     "metadata": {},
     "output_type": "display_data"
    },
    {
     "data": {
      "text/html": [
       "<div>\n",
       "<table border=\"1\" class=\"dataframe\">\n",
       "  <thead>\n",
       "    <tr style=\"text-align: right;\">\n",
       "      <th></th>\n",
       "      <th>RFID</th>\n",
       "      <th>BARCODE</th>\n",
       "      <th>Volume</th>\n",
       "      <th>UpdateDate</th>\n",
       "      <th>Position</th>\n",
       "      <th>Edition comment</th>\n",
       "      <th>BoxBarcode</th>\n",
       "      <th>Freezer</th>\n",
       "      <th>DonorID</th>\n",
       "    </tr>\n",
       "  </thead>\n",
       "  <tbody>\n",
       "    <tr>\n",
       "      <th>21453</th>\n",
       "      <td>24148</td>\n",
       "      <td>3260734633</td>\n",
       "      <td>100.0</td>\n",
       "      <td>24/08/2016</td>\n",
       "      <td>E / 1</td>\n",
       "      <td>Tube sent to RBM. The tube 3260734633 no longe...</td>\n",
       "      <td>MIC_Plasma_S9_V1_A1_F2_DX97-X00</td>\n",
       "      <td>MIC_Trash_RBM</td>\n",
       "      <td>5096.0</td>\n",
       "    </tr>\n",
       "    <tr>\n",
       "      <th>23437</th>\n",
       "      <td>119837</td>\n",
       "      <td>3260734633</td>\n",
       "      <td>100.0</td>\n",
       "      <td>24/08/2016</td>\n",
       "      <td>A / 9</td>\n",
       "      <td>Tube sent to RBM. The tube 3260734633 no longe...</td>\n",
       "      <td>MIC_Plasma_S31_V1_A1_F2_DX97-X00</td>\n",
       "      <td>MIC_Trash_RBM</td>\n",
       "      <td>897.0</td>\n",
       "    </tr>\n",
       "  </tbody>\n",
       "</table>\n",
       "</div>"
      ],
      "text/plain": [
       "         RFID     BARCODE  Volume  UpdateDate Position  \\\n",
       "21453   24148  3260734633   100.0  24/08/2016    E / 1   \n",
       "23437  119837  3260734633   100.0  24/08/2016    A / 9   \n",
       "\n",
       "                                         Edition comment  \\\n",
       "21453  Tube sent to RBM. The tube 3260734633 no longe...   \n",
       "23437  Tube sent to RBM. The tube 3260734633 no longe...   \n",
       "\n",
       "                             BoxBarcode        Freezer  DonorID  \n",
       "21453   MIC_Plasma_S9_V1_A1_F2_DX97-X00  MIC_Trash_RBM   5096.0  \n",
       "23437  MIC_Plasma_S31_V1_A1_F2_DX97-X00  MIC_Trash_RBM    897.0  "
      ]
     },
     "metadata": {},
     "output_type": "display_data"
    }
   ],
   "source": [
    "donorslist = df.loc[df[\"RFID\"].isin(rfidlist), \"DonorID\"].unique()\n",
    "if len(donorslist) > 0:\n",
    "    display(Markdown(\"Expect to get DonorID:\"))\n",
    "    display(Markdown(\";\\n\".join([\"+ {}\".format(d) for d in donorslist])+\".\"))\n",
    "\n",
    "fp_filepath = \"/Volumes/LabExMI/Users/Nolwenn/FreezerPro/FPFilesToUpdate/\"\n",
    "fp_filename = \"freezer_1532_all_data_20161207.csv\"\n",
    "df_fp = pd.read_csv(fp_filepath + fp_filename)\n",
    "if len(rfidlist) > 0:\n",
    "    display(df_fp.loc[df_fp[\"UID\"].isin(rfidlist), [\"UID\", \"Name\", \"AliquotID\", \"VisitID\", \"StimulusID\", \"DonorID\", \"Freezer\", \"Box\", \"Position\"]])\n",
    "    \n",
    "if len(checkbarcodes) > 0:\n",
    "    display(df_fp.loc[df_fp[\"Name\"].isin(checkbarcodes), [\"UID\", \"Name\", \"AliquotID\", \"VisitID\", \"StimulusID\", \"DonorID\", \"Freezer\", \"Box\", \"Position\"]]) if len(df_fp.loc[df_fp[\"Name\"].isin(checkbarcodes)]) > 0 else display(Markdown(\"Duplication is not from FreezerPro.\")) \n",
    "    display(df.loc[df[\"BARCODE\"].isin(checkbarcodes)]) if len(df.loc[df[\"BARCODE\"].isin(checkbarcodes)]) > 0 else display(Markdown(\"Duplication is not from aliquoting files.\"))"
   ]
  },
  {
   "cell_type": "markdown",
   "metadata": {},
   "source": [
    "***The positions from FreezerPro exported data are also found in our file and they only correspond to 2 distincts donors. That was expected. If we look on the positions, from the previous table, it seems that, in fact, 2 tubes where scanned twice and placed in the wrong position. Céline will check the problem directly from the source files.***\n",
    "\n",
    "We also have to ckech if we have the good number of StimulusID:"
   ]
  },
  {
   "cell_type": "code",
   "execution_count": 33,
   "metadata": {
    "collapsed": false
   },
   "outputs": [
    {
     "data": {
      "text/markdown": [
       "List of **12** unique StimulusID:"
      ],
      "text/plain": [
       "<IPython.core.display.Markdown object>"
      ]
     },
     "metadata": {},
     "output_type": "display_data"
    },
    {
     "data": {
      "text/markdown": [
       "+ 9;\n",
       "+ 11;\n",
       "+ 17;\n",
       "+ 18;\n",
       "+ 23;\n",
       "+ 24;\n",
       "+ 27;\n",
       "+ 31;\n",
       "+ 32;\n",
       "+ 35;\n",
       "+ 37;\n",
       "+ 39."
      ],
      "text/plain": [
       "<IPython.core.display.Markdown object>"
      ]
     },
     "metadata": {},
     "output_type": "display_data"
    }
   ],
   "source": [
    "df_moreinfo = df.copy(deep=True)\n",
    "df_moreinfo.loc[:, \"StimulusID\"] = df_moreinfo[\"BoxBarcode\"].str.replace(r\"MIC_Plasma_S(\\d{1,2})_V\\d_A\\d_F\\d_D\\d{1,3}-\\d{2,4}\", r\"\\1\")\n",
    "df_moreinfo.loc[:, \"StimulusID\"] = df_moreinfo[\"StimulusID\"].str.replace(r\"MIC_Plasma_S(\\d{1,2})_V\\d_A\\d_F\\d_DX\\d{2}-X\\d{2}\", r\"\\1\")\n",
    "stims = pd.Series(df_moreinfo[\"StimulusID\"].astype(int).unique())\n",
    "display(Markdown(\"List of **{}** unique StimulusID:\".format(len(stims))))\n",
    "display(Markdown(\";\\n\".join([\"+ {}\".format(s) for s in stims.sort_values()])+\".\"))"
   ]
  }
 ],
 "metadata": {
  "kernelspec": {
   "display_name": "Python 2",
   "language": "python",
   "name": "python2"
  },
  "language_info": {
   "codemirror_mode": {
    "name": "ipython",
    "version": 2
   },
   "file_extension": ".py",
   "mimetype": "text/x-python",
   "name": "python",
   "nbconvert_exporter": "python",
   "pygments_lexer": "ipython2",
   "version": "2.7.11"
  }
 },
 "nbformat": 4,
 "nbformat_minor": 0
}
