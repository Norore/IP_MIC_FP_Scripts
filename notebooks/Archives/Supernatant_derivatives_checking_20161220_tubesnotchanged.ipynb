{
 "cells": [
  {
   "cell_type": "code",
   "execution_count": 1,
   "metadata": {
    "collapsed": false
   },
   "outputs": [
    {
     "data": {
      "text/markdown": [
       "**10000** tubes in our derivatives file."
      ],
      "text/plain": [
       "<IPython.core.display.Markdown object>"
      ]
     },
     "metadata": {},
     "output_type": "display_data"
    },
    {
     "data": {
      "text/markdown": [
       "List of the *33* columns:"
      ],
      "text/plain": [
       "<IPython.core.display.Markdown object>"
      ]
     },
     "metadata": {},
     "output_type": "display_data"
    },
    {
     "data": {
      "text/markdown": [
       "1. ParentID;\n",
       "1. Name;\n",
       "1. BARCODE;\n",
       "1. Position;\n",
       "1. Position.1;\n",
       "1. Volume;\n",
       "1. Freezer;\n",
       "1. Freezer_Descr;\n",
       "1. Level1;\n",
       "1. Level1_Descr;\n",
       "1. Level2;\n",
       "1. Level2_Descr;\n",
       "1. Level3;\n",
       "1. Level3_Descr;\n",
       "1. BoxType;\n",
       "1. Box;\n",
       "1. Box_Descr;\n",
       "1. ThermoBoxBarcode;\n",
       "1. BOX_BARCODE;\n",
       "1. CreationDate;\n",
       "1. UpdateDate;\n",
       "1. AliquotID;\n",
       "1. DonorID;\n",
       "1. StimulusID;\n",
       "1. StimulusName;\n",
       "1. VisitID;\n",
       "1. ThawCycle;\n",
       "1. Sample Source;\n",
       "1. Description;\n",
       "1. BatchID;\n",
       "1. ShelfBarcode;\n",
       "1. RackBarcode;\n",
       "1. DrawerBarcode."
      ],
      "text/plain": [
       "<IPython.core.display.Markdown object>"
      ]
     },
     "metadata": {},
     "output_type": "display_data"
    }
   ],
   "source": [
    "import pandas as pd\n",
    "from IPython.display import display, Markdown\n",
    "df = pd.read_csv(\"/Volumes/LabExMI/Users/Nolwenn/FreezerPro/DataToImport/Supernatants_Derivatives_20161220.csv\")\n",
    "display(Markdown(\"**%s** tubes in our derivatives file.\" % len(df)))\n",
    "display(Markdown(\"List of the *%d* columns:\" % len(df.columns)))\n",
    "display(Markdown(\";\\n\".join([\"1. \"+col for col in df.columns])+\".\"))"
   ]
  },
  {
   "cell_type": "markdown",
   "metadata": {},
   "source": [
    "We have 10.000 tubes as expected. We want to know how many StimulusID we have:"
   ]
  },
  {
   "cell_type": "code",
   "execution_count": 2,
   "metadata": {
    "collapsed": false
   },
   "outputs": [
    {
     "data": {
      "text/markdown": [
       "List of **1** count StimulusID:"
      ],
      "text/plain": [
       "<IPython.core.display.Markdown object>"
      ]
     },
     "metadata": {},
     "output_type": "display_data"
    },
    {
     "data": {
      "text/markdown": [
       "* 10 unique StimulusID."
      ],
      "text/plain": [
       "<IPython.core.display.Markdown object>"
      ]
     },
     "metadata": {},
     "output_type": "display_data"
    }
   ],
   "source": [
    "countstimperdonor = pd.DataFrame(df.groupby(\"DonorID\")[\"StimulusID\"].count())\n",
    "display(Markdown(\"List of **%d** count StimulusID:\" % len(countstimperdonor[\"StimulusID\"].unique())))\n",
    "display(Markdown(\";\\n\".join([\"* \"+str(int(stim))+\" unique StimulusID\" for stim in sorted(countstimperdonor[\"StimulusID\"].unique())])+\".\"))"
   ]
  },
  {
   "cell_type": "markdown",
   "metadata": {},
   "source": [
    "We want to know if at least one donor has less than 10 StimulusID associated, and, if possible, which StimulusID is missing."
   ]
  },
  {
   "cell_type": "code",
   "execution_count": 3,
   "metadata": {
    "collapsed": false
   },
   "outputs": [
    {
     "data": {
      "text/markdown": [
       "All donor are assigned to at least 10 StimulusID."
      ],
      "text/plain": [
       "<IPython.core.display.Markdown object>"
      ]
     },
     "metadata": {},
     "output_type": "display_data"
    },
    {
     "data": {
      "text/markdown": [
       "0 unique DonorID has more thant 10 StimulusID."
      ],
      "text/plain": [
       "<IPython.core.display.Markdown object>"
      ]
     },
     "metadata": {},
     "output_type": "display_data"
    }
   ],
   "source": [
    "donorindexes = countstimperdonor[countstimperdonor[\"StimulusID\"] < 10].index.values\n",
    "if len(donorindexes) > 0:\n",
    "    display(Markdown(\"List of **%d** unique DonorID:\" % len(donorindexes)))\n",
    "    display(Markdown(\";\\n\".join([\" - \"+str(int(donor)) for donor in sorted(donorindexes)])+\".\"))\n",
    "else:\n",
    "    display(Markdown(\"All donor are assigned to at least 10 StimulusID.\"))\n",
    "    display(Markdown(\"%d unique DonorID has more thant 10 StimulusID.\" % \\\n",
    "                     len(countstimperdonor[countstimperdonor[\"StimulusID\"] > 10].index.values)))"
   ]
  },
  {
   "cell_type": "code",
   "execution_count": 4,
   "metadata": {
    "collapsed": false
   },
   "outputs": [
    {
     "data": {
      "text/markdown": [
       "List of **1** stimulus not found for donor number 75:"
      ],
      "text/plain": [
       "<IPython.core.display.Markdown object>"
      ]
     },
     "metadata": {},
     "output_type": "display_data"
    },
    {
     "data": {
      "text/markdown": [
       "* 19."
      ],
      "text/plain": [
       "<IPython.core.display.Markdown object>"
      ]
     },
     "metadata": {},
     "output_type": "display_data"
    }
   ],
   "source": [
    "stimlist = df[\"StimulusID\"].unique()\n",
    "stimlistdonor75 = df.loc[df[\"DonorID\"] == 75.0, \"StimulusID\"].unique()\n",
    "stimnotfound = list(set(stimlist) - set(stimlistdonor75))\n",
    "display(Markdown(\"List of **%d** stimulus not found for donor number 75:\" % len(stimnotfound)))\n",
    "display(Markdown(\";\\n\".join([\"* \"+str(int(stim)) for stim in sorted(stimnotfound)])+\".\"))"
   ]
  },
  {
   "cell_type": "markdown",
   "metadata": {},
   "source": [
    "The donor numbered 75 has no tube for Stimuli 19. We expected to have 10 StimulusID:\n",
    "1. 11;\n",
    "1. 17;\n",
    "1. 18;\n",
    "1. 23;\n",
    "1. 24;\n",
    "1. 27;\n",
    "1. 32;\n",
    "1. 35;\n",
    "1. 37;\n",
    "1. 39.\n",
    "\n",
    "We want to know how many donors are assigned to each stimulus to understand why the full list of Stimulus has the extra ID **19**."
   ]
  },
  {
   "cell_type": "code",
   "execution_count": 5,
   "metadata": {
    "collapsed": false
   },
   "outputs": [
    {
     "data": {
      "text/html": [
       "<div>\n",
       "<table border=\"1\" class=\"dataframe\">\n",
       "  <thead>\n",
       "    <tr style=\"text-align: right;\">\n",
       "      <th></th>\n",
       "      <th>StimulusID</th>\n",
       "      <th>DonorID</th>\n",
       "    </tr>\n",
       "  </thead>\n",
       "  <tbody>\n",
       "    <tr>\n",
       "      <th>0</th>\n",
       "      <td>11</td>\n",
       "      <td>1000</td>\n",
       "    </tr>\n",
       "    <tr>\n",
       "      <th>1</th>\n",
       "      <td>17</td>\n",
       "      <td>1000</td>\n",
       "    </tr>\n",
       "    <tr>\n",
       "      <th>2</th>\n",
       "      <td>18</td>\n",
       "      <td>1000</td>\n",
       "    </tr>\n",
       "    <tr>\n",
       "      <th>3</th>\n",
       "      <td>19</td>\n",
       "      <td>1</td>\n",
       "    </tr>\n",
       "    <tr>\n",
       "      <th>4</th>\n",
       "      <td>23</td>\n",
       "      <td>999</td>\n",
       "    </tr>\n",
       "    <tr>\n",
       "      <th>5</th>\n",
       "      <td>24</td>\n",
       "      <td>1000</td>\n",
       "    </tr>\n",
       "    <tr>\n",
       "      <th>6</th>\n",
       "      <td>27</td>\n",
       "      <td>1000</td>\n",
       "    </tr>\n",
       "    <tr>\n",
       "      <th>7</th>\n",
       "      <td>32</td>\n",
       "      <td>1000</td>\n",
       "    </tr>\n",
       "    <tr>\n",
       "      <th>8</th>\n",
       "      <td>35</td>\n",
       "      <td>1000</td>\n",
       "    </tr>\n",
       "    <tr>\n",
       "      <th>9</th>\n",
       "      <td>37</td>\n",
       "      <td>1000</td>\n",
       "    </tr>\n",
       "    <tr>\n",
       "      <th>10</th>\n",
       "      <td>39</td>\n",
       "      <td>1000</td>\n",
       "    </tr>\n",
       "  </tbody>\n",
       "</table>\n",
       "</div>"
      ],
      "text/plain": [
       "    StimulusID  DonorID\n",
       "0           11     1000\n",
       "1           17     1000\n",
       "2           18     1000\n",
       "3           19        1\n",
       "4           23      999\n",
       "5           24     1000\n",
       "6           27     1000\n",
       "7           32     1000\n",
       "8           35     1000\n",
       "9           37     1000\n",
       "10          39     1000"
      ]
     },
     "metadata": {},
     "output_type": "display_data"
    }
   ],
   "source": [
    "countdonorperstim = pd.DataFrame(df.groupby(\"StimulusID\")[\"DonorID\"].count())\n",
    "countdonorperstim.loc[:, \"StimulusID\"] = countdonorperstim.index.get_values().astype(int)\n",
    "countdonorperstim.reset_index(drop=True, inplace=True)\n",
    "display(countdonorperstim[[\"StimulusID\", \"DonorID\"]])"
   ]
  },
  {
   "cell_type": "markdown",
   "metadata": {},
   "source": [
    "For StimulusID 19, one donor is assigned. First, we want to know the donor assigned to stimulus 19:"
   ]
  },
  {
   "cell_type": "code",
   "execution_count": 6,
   "metadata": {
    "collapsed": false
   },
   "outputs": [
    {
     "data": {
      "text/markdown": [
       "DonorID **819** is assigned to Stimulus ID 19."
      ],
      "text/plain": [
       "<IPython.core.display.Markdown object>"
      ]
     },
     "metadata": {},
     "output_type": "display_data"
    }
   ],
   "source": [
    "getdonor = df.loc[df[\"StimulusID\"] == 19.0, \"DonorID\"]\n",
    "display(Markdown(\"DonorID **%d** is assigned to Stimulus ID 19.\" % getdonor))"
   ]
  },
  {
   "cell_type": "markdown",
   "metadata": {},
   "source": [
    "For donor *819*, the problem is known. In fact, this donor is supposed to be assigned to stimulus 23 but it seems that stimulus were mixed for this donor:\n",
    "* in box 23, tube donor 819 found should have been assigned for box 24\n",
    "* in box 24, tube donor 819 found should have been assigned for box 17\n",
    "* in box 17, tube donor 819 found should have been assigned for box 18\n",
    "* in box 18, tube donor 819 found should have been assigned for box 19\n",
    "\n",
    "(Remember to ask Céline if it is correct)\n",
    "\n",
    "For stimulus 23, we want to know which are the missing donors:"
   ]
  },
  {
   "cell_type": "code",
   "execution_count": 7,
   "metadata": {
    "collapsed": false
   },
   "outputs": [
    {
     "data": {
      "text/markdown": [
       "List of **1** donors not found for StimulusID 23:"
      ],
      "text/plain": [
       "<IPython.core.display.Markdown object>"
      ]
     },
     "metadata": {},
     "output_type": "display_data"
    },
    {
     "data": {
      "text/markdown": [
       "* 819"
      ],
      "text/plain": [
       "<IPython.core.display.Markdown object>"
      ]
     },
     "metadata": {},
     "output_type": "display_data"
    }
   ],
   "source": [
    "donorlist = df[\"DonorID\"].unique()\n",
    "donorliststim23 = df.loc[df[\"StimulusID\"] == 23.0, \"DonorID\"].unique()\n",
    "donornotfound = list(set(donorlist) - set(donorliststim23))\n",
    "display(Markdown(\"List of **%d** donors not found for StimulusID 23:\" % len(donornotfound)))\n",
    "display(Markdown(\";\\n\".join([\"* \"+str(int(donor)) for donor in sorted(donornotfound)])))"
   ]
  },
  {
   "cell_type": "markdown",
   "metadata": {},
   "source": [
    "This confirms that the tube of DonorID 819 in StimulusID 19 is probably assigned to the wrong stimulus and should have been assign to the stimulus 23.\n",
    "\n",
    "Know we want to be sure that we have one stimulus per box:"
   ]
  },
  {
   "cell_type": "code",
   "execution_count": 8,
   "metadata": {
    "collapsed": false
   },
   "outputs": [
    {
     "data": {
      "text/markdown": [
       "There is **110 unique boxes** in the file."
      ],
      "text/plain": [
       "<IPython.core.display.Markdown object>"
      ]
     },
     "metadata": {},
     "output_type": "display_data"
    },
    {
     "data": {
      "text/html": [
       "<div>\n",
       "<table border=\"1\" class=\"dataframe\">\n",
       "  <thead>\n",
       "    <tr style=\"text-align: right;\">\n",
       "      <th></th>\n",
       "      <th>Box</th>\n",
       "      <th>StimulusID</th>\n",
       "    </tr>\n",
       "  </thead>\n",
       "  <tbody>\n",
       "    <tr>\n",
       "      <th>19</th>\n",
       "      <td>MIC_Plasma_S17_V1_A1_F1_D801-896</td>\n",
       "      <td>2</td>\n",
       "    </tr>\n",
       "    <tr>\n",
       "      <th>30</th>\n",
       "      <td>MIC_Plasma_S18_V1_A1_F1_D801-896</td>\n",
       "      <td>2</td>\n",
       "    </tr>\n",
       "    <tr>\n",
       "      <th>41</th>\n",
       "      <td>MIC_Plasma_S23_V1_A1_F1_D801-896</td>\n",
       "      <td>2</td>\n",
       "    </tr>\n",
       "    <tr>\n",
       "      <th>52</th>\n",
       "      <td>MIC_Plasma_S24_V1_A1_F1_D801-896</td>\n",
       "      <td>2</td>\n",
       "    </tr>\n",
       "  </tbody>\n",
       "</table>\n",
       "</div>"
      ],
      "text/plain": [
       "                                 Box  StimulusID\n",
       "19  MIC_Plasma_S17_V1_A1_F1_D801-896           2\n",
       "30  MIC_Plasma_S18_V1_A1_F1_D801-896           2\n",
       "41  MIC_Plasma_S23_V1_A1_F1_D801-896           2\n",
       "52  MIC_Plasma_S24_V1_A1_F1_D801-896           2"
      ]
     },
     "metadata": {},
     "output_type": "display_data"
    }
   ],
   "source": [
    "display(Markdown(\"There is **%d unique boxes** in the file.\" % len(df[\"Box\"].unique())))\n",
    "countboxstim = pd.DataFrame(df.groupby(\"Box\")[\"StimulusID\"].nunique())\n",
    "countboxstim.loc[:, \"Box\"] = countboxstim.index.get_values()\n",
    "countboxstim.reset_index(drop = True, inplace = True)\n",
    "display(countboxstim.loc[countboxstim[\"StimulusID\"] > 1, [\"Box\", \"StimulusID\"]])"
   ]
  },
  {
   "cell_type": "markdown",
   "metadata": {},
   "source": [
    "We have 4 boxes for which 2 different StimulusID are assigned, apparently those boxes are in the range of the DonorID 819. What are the StimulusID for each box?"
   ]
  },
  {
   "cell_type": "code",
   "execution_count": 9,
   "metadata": {
    "collapsed": false
   },
   "outputs": [
    {
     "data": {
      "text/markdown": [
       "List of StimulusID for the **4** boxes to check:"
      ],
      "text/plain": [
       "<IPython.core.display.Markdown object>"
      ]
     },
     "metadata": {},
     "output_type": "display_data"
    },
    {
     "data": {
      "text/markdown": [
       "* MIC_Plasma_S17_V1_A1_F1_D801-896 contains 2 StimulusID:"
      ],
      "text/plain": [
       "<IPython.core.display.Markdown object>"
      ]
     },
     "metadata": {},
     "output_type": "display_data"
    },
    {
     "data": {
      "text/markdown": [
       "       * 17"
      ],
      "text/plain": [
       "<IPython.core.display.Markdown object>"
      ]
     },
     "metadata": {},
     "output_type": "display_data"
    },
    {
     "data": {
      "text/markdown": [
       "       * 18"
      ],
      "text/plain": [
       "<IPython.core.display.Markdown object>"
      ]
     },
     "metadata": {},
     "output_type": "display_data"
    },
    {
     "data": {
      "text/markdown": [
       "* MIC_Plasma_S18_V1_A1_F1_D801-896 contains 2 StimulusID:"
      ],
      "text/plain": [
       "<IPython.core.display.Markdown object>"
      ]
     },
     "metadata": {},
     "output_type": "display_data"
    },
    {
     "data": {
      "text/markdown": [
       "       * 18"
      ],
      "text/plain": [
       "<IPython.core.display.Markdown object>"
      ]
     },
     "metadata": {},
     "output_type": "display_data"
    },
    {
     "data": {
      "text/markdown": [
       "       * 19"
      ],
      "text/plain": [
       "<IPython.core.display.Markdown object>"
      ]
     },
     "metadata": {},
     "output_type": "display_data"
    },
    {
     "data": {
      "text/markdown": [
       "* MIC_Plasma_S23_V1_A1_F1_D801-896 contains 2 StimulusID:"
      ],
      "text/plain": [
       "<IPython.core.display.Markdown object>"
      ]
     },
     "metadata": {},
     "output_type": "display_data"
    },
    {
     "data": {
      "text/markdown": [
       "       * 23"
      ],
      "text/plain": [
       "<IPython.core.display.Markdown object>"
      ]
     },
     "metadata": {},
     "output_type": "display_data"
    },
    {
     "data": {
      "text/markdown": [
       "       * 24"
      ],
      "text/plain": [
       "<IPython.core.display.Markdown object>"
      ]
     },
     "metadata": {},
     "output_type": "display_data"
    },
    {
     "data": {
      "text/markdown": [
       "* MIC_Plasma_S24_V1_A1_F1_D801-896 contains 2 StimulusID:"
      ],
      "text/plain": [
       "<IPython.core.display.Markdown object>"
      ]
     },
     "metadata": {},
     "output_type": "display_data"
    },
    {
     "data": {
      "text/markdown": [
       "       * 24"
      ],
      "text/plain": [
       "<IPython.core.display.Markdown object>"
      ]
     },
     "metadata": {},
     "output_type": "display_data"
    },
    {
     "data": {
      "text/markdown": [
       "       * 17"
      ],
      "text/plain": [
       "<IPython.core.display.Markdown object>"
      ]
     },
     "metadata": {},
     "output_type": "display_data"
    }
   ],
   "source": [
    "boxes = countboxstim.loc[countboxstim[\"StimulusID\"] > 1, \"Box\"]\n",
    "display(Markdown(\"List of StimulusID for the **%d** boxes to check:\" % len(boxes)))\n",
    "for box in boxes:\n",
    "    display(Markdown(\"* \"+box+\" contains %d StimulusID\" % len(df.loc[df[\"Box\"] == box, \"StimulusID\"].unique())+\":\"))\n",
    "    for stim in df.loc[df[\"Box\"] == box, \"StimulusID\"].unique():\n",
    "        display(Markdown(\"       * \"+str(int(stim))))"
   ]
  },
  {
   "cell_type": "markdown",
   "metadata": {},
   "source": [
    "The boxes impacted seems to be the ones that Céline already found. Could we retrieve the DonorID 819 in those StimulusID?"
   ]
  },
  {
   "cell_type": "code",
   "execution_count": 10,
   "metadata": {
    "collapsed": false,
    "scrolled": true
   },
   "outputs": [
    {
     "data": {
      "text/markdown": [
       "* DonorID 819 found in box *MIC_Plasma_S17_V1_A1_F1_D801-896*, StimulusID **18**."
      ],
      "text/plain": [
       "<IPython.core.display.Markdown object>"
      ]
     },
     "metadata": {},
     "output_type": "display_data"
    },
    {
     "data": {
      "text/markdown": [
       "* DonorID 819 found in box *MIC_Plasma_S18_V1_A1_F1_D801-896*, StimulusID **19**."
      ],
      "text/plain": [
       "<IPython.core.display.Markdown object>"
      ]
     },
     "metadata": {},
     "output_type": "display_data"
    },
    {
     "data": {
      "text/markdown": [
       "* DonorID 819 found in box *MIC_Plasma_S23_V1_A1_F1_D801-896*, StimulusID **24**."
      ],
      "text/plain": [
       "<IPython.core.display.Markdown object>"
      ]
     },
     "metadata": {},
     "output_type": "display_data"
    },
    {
     "data": {
      "text/markdown": [
       "* DonorID 819 found in box *MIC_Plasma_S24_V1_A1_F1_D801-896*, StimulusID **17**."
      ],
      "text/plain": [
       "<IPython.core.display.Markdown object>"
      ]
     },
     "metadata": {},
     "output_type": "display_data"
    }
   ],
   "source": [
    "getstims = df.loc[df[\"Box\"].isin(boxes), \"StimulusID\"].astype(int).unique()\n",
    "for box in boxes:\n",
    "    for stim in getstims:\n",
    "        if len(df.loc[(df[\"Box\"] == box) & (df[\"StimulusID\"] == stim) & (df[\"DonorID\"] == 819), \"DonorID\"]) > 0:\n",
    "            display(Markdown('* DonorID 819 found in box *%s*, StimulusID **%d**.' % (box,stim)))"
   ]
  },
  {
   "cell_type": "markdown",
   "metadata": {},
   "source": [
    "Apparently, the problem described by Céline exists for the 4 boxes, do we have to change them? Normally they are supposed to already been changed. Is there a problem in the script that generated the data?\n",
    "\n",
    "We also want to be sure that the box name reproduce the same error if we look with the Thermo Fisher box barcode:"
   ]
  },
  {
   "cell_type": "code",
   "execution_count": 11,
   "metadata": {
    "collapsed": false
   },
   "outputs": [
    {
     "data": {
      "text/markdown": [
       "There is **110 unique boxes** in the file."
      ],
      "text/plain": [
       "<IPython.core.display.Markdown object>"
      ]
     },
     "metadata": {},
     "output_type": "display_data"
    },
    {
     "data": {
      "text/html": [
       "<div>\n",
       "<table border=\"1\" class=\"dataframe\">\n",
       "  <thead>\n",
       "    <tr style=\"text-align: right;\">\n",
       "      <th></th>\n",
       "      <th>ThermoBoxBarcode</th>\n",
       "      <th>StimulusID</th>\n",
       "    </tr>\n",
       "  </thead>\n",
       "  <tbody>\n",
       "    <tr>\n",
       "      <th>35</th>\n",
       "      <td>TF00080640</td>\n",
       "      <td>2</td>\n",
       "    </tr>\n",
       "    <tr>\n",
       "      <th>75</th>\n",
       "      <td>TS00010678</td>\n",
       "      <td>2</td>\n",
       "    </tr>\n",
       "    <tr>\n",
       "      <th>95</th>\n",
       "      <td>TS00047751</td>\n",
       "      <td>2</td>\n",
       "    </tr>\n",
       "    <tr>\n",
       "      <th>103</th>\n",
       "      <td>TS00048039</td>\n",
       "      <td>2</td>\n",
       "    </tr>\n",
       "  </tbody>\n",
       "</table>\n",
       "</div>"
      ],
      "text/plain": [
       "    ThermoBoxBarcode  StimulusID\n",
       "35        TF00080640           2\n",
       "75        TS00010678           2\n",
       "95        TS00047751           2\n",
       "103       TS00048039           2"
      ]
     },
     "metadata": {},
     "output_type": "display_data"
    }
   ],
   "source": [
    "display(Markdown(\"There is **%d unique boxes** in the file.\" % len(df[\"ThermoBoxBarcode\"].unique())))\n",
    "\n",
    "countthermoboxstim = pd.DataFrame(df.groupby(\"ThermoBoxBarcode\")[\"StimulusID\"].nunique())\n",
    "countthermoboxstim.loc[:, \"ThermoBoxBarcode\"] = countthermoboxstim.index.get_values()\n",
    "countthermoboxstim.reset_index(drop = True, inplace = True)\n",
    "display(countthermoboxstim.loc[countthermoboxstim[\"StimulusID\"] > 1, [\"ThermoBoxBarcode\", \"StimulusID\"]])"
   ]
  },
  {
   "cell_type": "markdown",
   "metadata": {},
   "source": [
    "When we looked for Box column, we had 117 unique boxes. When we look for ThermoBoxBarcode, we have 111 boxes. We will be interested to know how many Box each ThermoBoxBarcode embed.\n",
    "We wonder if the same trouble as for Box column, with StimulusID, occurs with the column ThermoBoxBarcode:"
   ]
  },
  {
   "cell_type": "code",
   "execution_count": 12,
   "metadata": {
    "collapsed": false
   },
   "outputs": [
    {
     "data": {
      "text/markdown": [
       "List of StimulusID for the **4** boxes to check:"
      ],
      "text/plain": [
       "<IPython.core.display.Markdown object>"
      ]
     },
     "metadata": {},
     "output_type": "display_data"
    },
    {
     "data": {
      "text/markdown": [
       "* TF00080640 contains 2 StimulusID:"
      ],
      "text/plain": [
       "<IPython.core.display.Markdown object>"
      ]
     },
     "metadata": {},
     "output_type": "display_data"
    },
    {
     "data": {
      "text/markdown": [
       "       *18"
      ],
      "text/plain": [
       "<IPython.core.display.Markdown object>"
      ]
     },
     "metadata": {},
     "output_type": "display_data"
    },
    {
     "data": {
      "text/markdown": [
       "       *19"
      ],
      "text/plain": [
       "<IPython.core.display.Markdown object>"
      ]
     },
     "metadata": {},
     "output_type": "display_data"
    },
    {
     "data": {
      "text/markdown": [
       "* TS00010678 contains 2 StimulusID:"
      ],
      "text/plain": [
       "<IPython.core.display.Markdown object>"
      ]
     },
     "metadata": {},
     "output_type": "display_data"
    },
    {
     "data": {
      "text/markdown": [
       "       *17"
      ],
      "text/plain": [
       "<IPython.core.display.Markdown object>"
      ]
     },
     "metadata": {},
     "output_type": "display_data"
    },
    {
     "data": {
      "text/markdown": [
       "       *18"
      ],
      "text/plain": [
       "<IPython.core.display.Markdown object>"
      ]
     },
     "metadata": {},
     "output_type": "display_data"
    },
    {
     "data": {
      "text/markdown": [
       "* TS00047751 contains 2 StimulusID:"
      ],
      "text/plain": [
       "<IPython.core.display.Markdown object>"
      ]
     },
     "metadata": {},
     "output_type": "display_data"
    },
    {
     "data": {
      "text/markdown": [
       "       *23"
      ],
      "text/plain": [
       "<IPython.core.display.Markdown object>"
      ]
     },
     "metadata": {},
     "output_type": "display_data"
    },
    {
     "data": {
      "text/markdown": [
       "       *24"
      ],
      "text/plain": [
       "<IPython.core.display.Markdown object>"
      ]
     },
     "metadata": {},
     "output_type": "display_data"
    },
    {
     "data": {
      "text/markdown": [
       "* TS00048039 contains 2 StimulusID:"
      ],
      "text/plain": [
       "<IPython.core.display.Markdown object>"
      ]
     },
     "metadata": {},
     "output_type": "display_data"
    },
    {
     "data": {
      "text/markdown": [
       "       *24"
      ],
      "text/plain": [
       "<IPython.core.display.Markdown object>"
      ]
     },
     "metadata": {},
     "output_type": "display_data"
    },
    {
     "data": {
      "text/markdown": [
       "       *17"
      ],
      "text/plain": [
       "<IPython.core.display.Markdown object>"
      ]
     },
     "metadata": {},
     "output_type": "display_data"
    }
   ],
   "source": [
    "thermoboxes = countthermoboxstim.loc[countthermoboxstim[\"StimulusID\"] > 1, \"ThermoBoxBarcode\"]\n",
    "display(Markdown(\"List of StimulusID for the **%d** boxes to check:\" % len(thermoboxes)))\n",
    "\n",
    "for thermobox in thermoboxes:\n",
    "    display(Markdown(\"* \"+thermobox+\" contains %d StimulusID\" % \\\n",
    "                     len(df.loc[df[\"ThermoBoxBarcode\"] == thermobox, \"StimulusID\"].unique())+\":\"))\n",
    "    for stim in df.loc[df[\"ThermoBoxBarcode\"] == thermobox, \"StimulusID\"].unique():\n",
    "        display(Markdown(\"       *\"+str(int(stim))))"
   ]
  },
  {
   "cell_type": "markdown",
   "metadata": {},
   "source": [
    "The same lists of StimulusID appears for ThermoBoxBarcode column. Do we have the same result on StimulusID column when we look specifically for DonorID 819?"
   ]
  },
  {
   "cell_type": "code",
   "execution_count": 13,
   "metadata": {
    "collapsed": false
   },
   "outputs": [
    {
     "data": {
      "text/markdown": [
       "* DonorID 819 found in box *TF00080640*, StimulusID **19**."
      ],
      "text/plain": [
       "<IPython.core.display.Markdown object>"
      ]
     },
     "metadata": {},
     "output_type": "display_data"
    },
    {
     "data": {
      "text/markdown": [
       "* DonorID 819 found in box *TS00010678*, StimulusID **18**."
      ],
      "text/plain": [
       "<IPython.core.display.Markdown object>"
      ]
     },
     "metadata": {},
     "output_type": "display_data"
    },
    {
     "data": {
      "text/markdown": [
       "* DonorID 819 found in box *TS00047751*, StimulusID **24**."
      ],
      "text/plain": [
       "<IPython.core.display.Markdown object>"
      ]
     },
     "metadata": {},
     "output_type": "display_data"
    },
    {
     "data": {
      "text/markdown": [
       "* DonorID 819 found in box *TS00048039*, StimulusID **17**."
      ],
      "text/plain": [
       "<IPython.core.display.Markdown object>"
      ]
     },
     "metadata": {},
     "output_type": "display_data"
    }
   ],
   "source": [
    "getstims = df.loc[df[\"ThermoBoxBarcode\"].isin(thermoboxes), \"StimulusID\"].astype(int).unique()\n",
    "for thermobox in thermoboxes:\n",
    "    for stim in getstims:\n",
    "        if len(df.loc[(df[\"ThermoBoxBarcode\"] == thermobox) & (df[\"StimulusID\"] == stim) & \\\n",
    "                      (df[\"DonorID\"] == 819), \"DonorID\"]) > 0:\n",
    "            display(Markdown('* DonorID 819 found in box *%s*, StimulusID **%d**.' % (thermobox,stim)))"
   ]
  },
  {
   "cell_type": "markdown",
   "metadata": {},
   "source": [
    "The results are in accordance with analysis using Box column.\n",
    "\n",
    "We want to know, from the 4 boxes from Thermo that are assigned to more than one StimulusID, the list of the boxes Box that are related:"
   ]
  },
  {
   "cell_type": "code",
   "execution_count": 14,
   "metadata": {
    "collapsed": false
   },
   "outputs": [
    {
     "data": {
      "text/markdown": [
       "TF00080640 -> MIC_Plasma_S18_V1_A1_F1_D801-896"
      ],
      "text/plain": [
       "<IPython.core.display.Markdown object>"
      ]
     },
     "metadata": {},
     "output_type": "display_data"
    },
    {
     "data": {
      "text/markdown": [
       "TS00010678 -> MIC_Plasma_S17_V1_A1_F1_D801-896"
      ],
      "text/plain": [
       "<IPython.core.display.Markdown object>"
      ]
     },
     "metadata": {},
     "output_type": "display_data"
    },
    {
     "data": {
      "text/markdown": [
       "TS00047751 -> MIC_Plasma_S23_V1_A1_F1_D801-896"
      ],
      "text/plain": [
       "<IPython.core.display.Markdown object>"
      ]
     },
     "metadata": {},
     "output_type": "display_data"
    },
    {
     "data": {
      "text/markdown": [
       "TS00048039 -> MIC_Plasma_S24_V1_A1_F1_D801-896"
      ],
      "text/plain": [
       "<IPython.core.display.Markdown object>"
      ]
     },
     "metadata": {},
     "output_type": "display_data"
    }
   ],
   "source": [
    "for thermobox in thermoboxes:\n",
    "    display(Markdown(thermobox+\" -> \"+\\\n",
    "                     \", \".join([box for box in df.loc[df[\"ThermoBoxBarcode\"] == thermobox, \"Box\"].unique()])))"
   ]
  },
  {
   "cell_type": "markdown",
   "metadata": {},
   "source": [
    "For the boxes assigned to more than one StimulusID, it looks ok.\n",
    "\n",
    "For each ThermoBoxBarcode column, which are those with more than one Box column associated?"
   ]
  },
  {
   "cell_type": "code",
   "execution_count": 15,
   "metadata": {
    "collapsed": false
   },
   "outputs": [
    {
     "data": {
      "text/markdown": [
       "**0** boxes are not assigned to a ThermoBoxBarcode"
      ],
      "text/plain": [
       "<IPython.core.display.Markdown object>"
      ]
     },
     "metadata": {},
     "output_type": "display_data"
    },
    {
     "data": {
      "text/markdown": [
       "**0** boxes are assigned to more than one ThermoBoxBarcode"
      ],
      "text/plain": [
       "<IPython.core.display.Markdown object>"
      ]
     },
     "metadata": {},
     "output_type": "display_data"
    },
    {
     "data": {
      "text/markdown": [
       "**110** boxes are assigned to a ThermoBoxBarcode"
      ],
      "text/plain": [
       "<IPython.core.display.Markdown object>"
      ]
     },
     "metadata": {},
     "output_type": "display_data"
    }
   ],
   "source": [
    "countboxperthermobox = pd.DataFrame(df.groupby(\"Box\")[\"ThermoBoxBarcode\"].nunique())\n",
    "countboxperthermobox.loc[:, \"Box\"] = countboxperthermobox.index.get_values()\n",
    "countboxperthermobox.reset_index(drop=True, inplace=True)\n",
    "display(Markdown(\"**%d** boxes are not assigned to a ThermoBoxBarcode\" % \\\n",
    "                 len(countboxperthermobox.loc[countboxperthermobox[\"ThermoBoxBarcode\"] < 1,\\\n",
    "                                              [\"Box\", \"ThermoBoxBarcode\"]])))\n",
    "display(Markdown(\"**%d** boxes are assigned to more than one ThermoBoxBarcode\" % \\\n",
    "                 len(countboxperthermobox.loc[countboxperthermobox[\"ThermoBoxBarcode\"] > 1,\\\n",
    "                                              [\"Box\", \"ThermoBoxBarcode\"]])))\n",
    "display(Markdown(\"**%d** boxes are assigned to a ThermoBoxBarcode\" % \\\n",
    "                 len(countboxperthermobox.loc[countboxperthermobox[\"ThermoBoxBarcode\"] == 1,\\\n",
    "                                              [\"Box\", \"ThermoBoxBarcode\"]])))\n",
    "if len(countboxperthermobox.loc[countboxperthermobox[\"ThermoBoxBarcode\"] != 1, \\\n",
    "                                [\"Box\", \"ThermoBoxBarcode\"]]) > 0:\n",
    "    display(countboxperthermobox.loc[countboxperthermobox[\"ThermoBoxBarcode\"] != 1,[\"Box\", \"ThermoBoxBarcode\"]])"
   ]
  },
  {
   "cell_type": "markdown",
   "metadata": {},
   "source": [
    "Do these boxes contains info on DonorID?"
   ]
  },
  {
   "cell_type": "code",
   "execution_count": 16,
   "metadata": {
    "collapsed": false
   },
   "outputs": [
    {
     "data": {
      "text/markdown": [
       "**0** tubes in boxes not assigned to ThermoBoxbarcode."
      ],
      "text/plain": [
       "<IPython.core.display.Markdown object>"
      ]
     },
     "metadata": {},
     "output_type": "display_data"
    }
   ],
   "source": [
    "boxes = countboxperthermobox.loc[countboxperthermobox[\"ThermoBoxBarcode\"] != 1][\"Box\"].values\n",
    "display(Markdown(\"**%d** tubes in boxes not assigned to ThermoBoxbarcode.\" % \\\n",
    "      len(df.loc[df[\"Box\"].isin(boxes), [\"Box\", \"ThermoBoxBarcode\", \"DonorID\"]])))\n",
    "if len(df.loc[df[\"Box\"].isin(boxes), [\"Box\", \"ThermoBoxBarcode\", \"DonorID\"]]) > 0:\n",
    "    display(df.loc[df[\"Box\"].isin(boxes), [\"Box\", \"ThermoBoxBarcode\", \"DonorID\"]])"
   ]
  },
  {
   "cell_type": "markdown",
   "metadata": {},
   "source": [
    "The list of DonorID found corresponded to tubes that generated errors and that were corrected by Céline. The column ThermoBoxBarcode was not taken into account on the previous version of the script, know it is fixed.\n",
    "\n",
    "We also want to check if none of the excluded donors are in our data:"
   ]
  },
  {
   "cell_type": "code",
   "execution_count": 17,
   "metadata": {
    "collapsed": false
   },
   "outputs": [
    {
     "data": {
      "text/markdown": [
       "**0** donor found."
      ],
      "text/plain": [
       "<IPython.core.display.Markdown object>"
      ]
     },
     "metadata": {},
     "output_type": "display_data"
    }
   ],
   "source": [
    "excludeddonors = [96, 104, 122, 167, 178, 219, 268, 279, 303, 308, 534, 701]\n",
    "df[\"DonorID\"] = df[\"DonorID\"].astype(int)\n",
    "display(Markdown(\"**%d** donor found.\" % len(df.loc[df[\"DonorID\"].isin(excludeddonors), \"DonorID\"].unique())))\n",
    "if len(df.loc[df[\"DonorID\"].isin(excludeddonors), \"DonorID\"].unique()) > 0:\n",
    "    display(Markdown(\"The excluded donor found are:\"))\n",
    "    display(Markdown(\";\\n\".join([\"* \"+str(donor) for donor in df.loc[df[\"DonorID\"].isin(excludeddonors), \"DonorID\"].unique()])))"
   ]
  },
  {
   "cell_type": "markdown",
   "metadata": {},
   "source": [
    "We have none of the excluded donors in the final output of our data."
   ]
  },
  {
   "cell_type": "markdown",
   "metadata": {},
   "source": [
    "From Céline, the missing donor for StimulusID should be in the run file, and it should be assign to Thermo Fisher box barcode TF00080651, at position G3. From the run file, there is a tube. We have to check the donors from the ThermoBoxBarcode, at well row G. From Atlas, in the run excel file, the tube is set as ‘No read‘, but from the computer next to TECAN, the barcode exists. After adding the good info, we have those data:"
   ]
  },
  {
   "cell_type": "code",
   "execution_count": 18,
   "metadata": {
    "collapsed": false
   },
   "outputs": [
    {
     "data": {
      "text/markdown": [
       "**12** tubes found for ThermoBoxBarcode TF00080651:"
      ],
      "text/plain": [
       "<IPython.core.display.Markdown object>"
      ]
     },
     "metadata": {},
     "output_type": "display_data"
    },
    {
     "data": {
      "text/html": [
       "<div>\n",
       "<table border=\"1\" class=\"dataframe\">\n",
       "  <thead>\n",
       "    <tr style=\"text-align: right;\">\n",
       "      <th></th>\n",
       "      <th>Box</th>\n",
       "      <th>ThermoBoxBarcode</th>\n",
       "      <th>Position</th>\n",
       "      <th>DonorID</th>\n",
       "    </tr>\n",
       "  </thead>\n",
       "  <tbody>\n",
       "    <tr>\n",
       "      <th>3017</th>\n",
       "      <td>MIC_Plasma_S23_V1_A1_F1_D1-96</td>\n",
       "      <td>TF00080651</td>\n",
       "      <td>G / 1</td>\n",
       "      <td>73</td>\n",
       "    </tr>\n",
       "    <tr>\n",
       "      <th>3012</th>\n",
       "      <td>MIC_Plasma_S23_V1_A1_F1_D1-96</td>\n",
       "      <td>TF00080651</td>\n",
       "      <td>G / 2</td>\n",
       "      <td>74</td>\n",
       "    </tr>\n",
       "    <tr>\n",
       "      <th>3019</th>\n",
       "      <td>MIC_Plasma_S23_V1_A1_F1_D1-96</td>\n",
       "      <td>TF00080651</td>\n",
       "      <td>G / 3</td>\n",
       "      <td>75</td>\n",
       "    </tr>\n",
       "    <tr>\n",
       "      <th>2988</th>\n",
       "      <td>MIC_Plasma_S23_V1_A1_F1_D1-96</td>\n",
       "      <td>TF00080651</td>\n",
       "      <td>G / 4</td>\n",
       "      <td>76</td>\n",
       "    </tr>\n",
       "    <tr>\n",
       "      <th>3074</th>\n",
       "      <td>MIC_Plasma_S23_V1_A1_F1_D1-96</td>\n",
       "      <td>TF00080651</td>\n",
       "      <td>G / 5</td>\n",
       "      <td>77</td>\n",
       "    </tr>\n",
       "    <tr>\n",
       "      <th>3029</th>\n",
       "      <td>MIC_Plasma_S23_V1_A1_F1_D1-96</td>\n",
       "      <td>TF00080651</td>\n",
       "      <td>G / 6</td>\n",
       "      <td>78</td>\n",
       "    </tr>\n",
       "    <tr>\n",
       "      <th>3030</th>\n",
       "      <td>MIC_Plasma_S23_V1_A1_F1_D1-96</td>\n",
       "      <td>TF00080651</td>\n",
       "      <td>G / 7</td>\n",
       "      <td>79</td>\n",
       "    </tr>\n",
       "    <tr>\n",
       "      <th>3060</th>\n",
       "      <td>MIC_Plasma_S23_V1_A1_F1_D1-96</td>\n",
       "      <td>TF00080651</td>\n",
       "      <td>G / 8</td>\n",
       "      <td>80</td>\n",
       "    </tr>\n",
       "    <tr>\n",
       "      <th>3004</th>\n",
       "      <td>MIC_Plasma_S23_V1_A1_F1_D1-96</td>\n",
       "      <td>TF00080651</td>\n",
       "      <td>G / 9</td>\n",
       "      <td>81</td>\n",
       "    </tr>\n",
       "    <tr>\n",
       "      <th>3051</th>\n",
       "      <td>MIC_Plasma_S23_V1_A1_F1_D1-96</td>\n",
       "      <td>TF00080651</td>\n",
       "      <td>G / 10</td>\n",
       "      <td>82</td>\n",
       "    </tr>\n",
       "    <tr>\n",
       "      <th>3042</th>\n",
       "      <td>MIC_Plasma_S23_V1_A1_F1_D1-96</td>\n",
       "      <td>TF00080651</td>\n",
       "      <td>G / 11</td>\n",
       "      <td>83</td>\n",
       "    </tr>\n",
       "    <tr>\n",
       "      <th>3035</th>\n",
       "      <td>MIC_Plasma_S23_V1_A1_F1_D1-96</td>\n",
       "      <td>TF00080651</td>\n",
       "      <td>G / 12</td>\n",
       "      <td>84</td>\n",
       "    </tr>\n",
       "  </tbody>\n",
       "</table>\n",
       "</div>"
      ],
      "text/plain": [
       "                                Box ThermoBoxBarcode Position  DonorID\n",
       "3017  MIC_Plasma_S23_V1_A1_F1_D1-96       TF00080651    G / 1       73\n",
       "3012  MIC_Plasma_S23_V1_A1_F1_D1-96       TF00080651    G / 2       74\n",
       "3019  MIC_Plasma_S23_V1_A1_F1_D1-96       TF00080651    G / 3       75\n",
       "2988  MIC_Plasma_S23_V1_A1_F1_D1-96       TF00080651    G / 4       76\n",
       "3074  MIC_Plasma_S23_V1_A1_F1_D1-96       TF00080651    G / 5       77\n",
       "3029  MIC_Plasma_S23_V1_A1_F1_D1-96       TF00080651    G / 6       78\n",
       "3030  MIC_Plasma_S23_V1_A1_F1_D1-96       TF00080651    G / 7       79\n",
       "3060  MIC_Plasma_S23_V1_A1_F1_D1-96       TF00080651    G / 8       80\n",
       "3004  MIC_Plasma_S23_V1_A1_F1_D1-96       TF00080651    G / 9       81\n",
       "3051  MIC_Plasma_S23_V1_A1_F1_D1-96       TF00080651   G / 10       82\n",
       "3042  MIC_Plasma_S23_V1_A1_F1_D1-96       TF00080651   G / 11       83\n",
       "3035  MIC_Plasma_S23_V1_A1_F1_D1-96       TF00080651   G / 12       84"
      ]
     },
     "metadata": {},
     "output_type": "display_data"
    }
   ],
   "source": [
    "display(Markdown(\"**%d** tubes found for ThermoBoxBarcode TF00080651:\" % len(df.loc[(df[\"ThermoBoxBarcode\"] == \"TF00080651\") & (df[\"Position\"].str.contains(\"G\")),\\\n",
    "               [\"Box\", \"ThermoBoxBarcode\", \"Position\", \"DonorID\"]].sort_values([\"DonorID\"]))))\n",
    "display(df.loc[(df[\"ThermoBoxBarcode\"] == \"TF00080651\") & (df[\"Position\"].str.contains(\"G\")),\\\n",
    "               [\"Box\", \"ThermoBoxBarcode\", \"Position\", \"DonorID\"]].sort_values([\"DonorID\"]))"
   ]
  },
  {
   "cell_type": "markdown",
   "metadata": {},
   "source": [
    "We are supposed to have 11 boxes per stimulus, how many boxes do we effectively have per StimulusID?"
   ]
  },
  {
   "cell_type": "code",
   "execution_count": 19,
   "metadata": {
    "collapsed": false
   },
   "outputs": [
    {
     "data": {
      "text/html": [
       "<div>\n",
       "<table border=\"1\" class=\"dataframe\">\n",
       "  <thead>\n",
       "    <tr style=\"text-align: right;\">\n",
       "      <th></th>\n",
       "      <th>Box</th>\n",
       "      <th>StimulusID</th>\n",
       "    </tr>\n",
       "  </thead>\n",
       "  <tbody>\n",
       "    <tr>\n",
       "      <th>0</th>\n",
       "      <td>11</td>\n",
       "      <td>11.0</td>\n",
       "    </tr>\n",
       "    <tr>\n",
       "      <th>1</th>\n",
       "      <td>12</td>\n",
       "      <td>17.0</td>\n",
       "    </tr>\n",
       "    <tr>\n",
       "      <th>2</th>\n",
       "      <td>12</td>\n",
       "      <td>18.0</td>\n",
       "    </tr>\n",
       "    <tr>\n",
       "      <th>3</th>\n",
       "      <td>1</td>\n",
       "      <td>19.0</td>\n",
       "    </tr>\n",
       "    <tr>\n",
       "      <th>4</th>\n",
       "      <td>11</td>\n",
       "      <td>23.0</td>\n",
       "    </tr>\n",
       "    <tr>\n",
       "      <th>5</th>\n",
       "      <td>12</td>\n",
       "      <td>24.0</td>\n",
       "    </tr>\n",
       "    <tr>\n",
       "      <th>6</th>\n",
       "      <td>11</td>\n",
       "      <td>27.0</td>\n",
       "    </tr>\n",
       "    <tr>\n",
       "      <th>7</th>\n",
       "      <td>11</td>\n",
       "      <td>32.0</td>\n",
       "    </tr>\n",
       "    <tr>\n",
       "      <th>8</th>\n",
       "      <td>11</td>\n",
       "      <td>35.0</td>\n",
       "    </tr>\n",
       "    <tr>\n",
       "      <th>9</th>\n",
       "      <td>11</td>\n",
       "      <td>37.0</td>\n",
       "    </tr>\n",
       "    <tr>\n",
       "      <th>10</th>\n",
       "      <td>11</td>\n",
       "      <td>39.0</td>\n",
       "    </tr>\n",
       "  </tbody>\n",
       "</table>\n",
       "</div>"
      ],
      "text/plain": [
       "    Box  StimulusID\n",
       "0    11        11.0\n",
       "1    12        17.0\n",
       "2    12        18.0\n",
       "3     1        19.0\n",
       "4    11        23.0\n",
       "5    12        24.0\n",
       "6    11        27.0\n",
       "7    11        32.0\n",
       "8    11        35.0\n",
       "9    11        37.0\n",
       "10   11        39.0"
      ]
     },
     "metadata": {},
     "output_type": "display_data"
    }
   ],
   "source": [
    "countboxperstim = pd.DataFrame(df.groupby(\"StimulusID\")[\"Box\"].nunique())\n",
    "countboxperstim.loc[:, \"StimulusID\"] = countboxperstim.index.get_values()\n",
    "countboxperstim.reset_index(drop = True, inplace = True)\n",
    "display(countboxperstim[[\"Box\", \"StimulusID\"]])"
   ]
  },
  {
   "cell_type": "markdown",
   "metadata": {},
   "source": [
    "The exceed box for StimulusID 19 is expected as we still don't have change DonorID 819 for this stimulus. The boxes in StimulusID 17, 18, and 24 are also expected. What are these boxes?"
   ]
  },
  {
   "cell_type": "code",
   "execution_count": 20,
   "metadata": {
    "collapsed": false
   },
   "outputs": [
    {
     "data": {
      "text/markdown": [
       "List of boxes for **StimulusID 17**:"
      ],
      "text/plain": [
       "<IPython.core.display.Markdown object>"
      ]
     },
     "metadata": {},
     "output_type": "display_data"
    },
    {
     "data": {
      "text/markdown": [
       "* MIC_Plasma_S17_V1_A1_F1_D1-96, StimulusID 17;\n",
       "* MIC_Plasma_S17_V1_A1_F1_D101-196, StimulusID 17;\n",
       "* MIC_Plasma_S17_V1_A1_F1_D201-296, StimulusID 17;\n",
       "* MIC_Plasma_S17_V1_A1_F1_D301-396, StimulusID 17;\n",
       "* MIC_Plasma_S17_V1_A1_F1_D401-496, StimulusID 17;\n",
       "* MIC_Plasma_S17_V1_A1_F1_D501-596, StimulusID 17;\n",
       "* MIC_Plasma_S17_V1_A1_F1_D601-696, StimulusID 17;\n",
       "* MIC_Plasma_S17_V1_A1_F1_D701-796, StimulusID 17;\n",
       "* MIC_Plasma_S17_V1_A1_F1_D801-896, StimulusID 17;\n",
       "* MIC_Plasma_S17_V1_A1_F1_D901-996, StimulusID 17;\n",
       "* MIC_Plasma_S17_V1_A1_F1_DX97-X00, StimulusID 17;\n",
       "* MIC_Plasma_S24_V1_A1_F1_D801-896, StimulusID 17."
      ],
      "text/plain": [
       "<IPython.core.display.Markdown object>"
      ]
     },
     "metadata": {},
     "output_type": "display_data"
    },
    {
     "data": {
      "text/markdown": [
       "List of boxes for **StimulusID 18**:"
      ],
      "text/plain": [
       "<IPython.core.display.Markdown object>"
      ]
     },
     "metadata": {},
     "output_type": "display_data"
    },
    {
     "data": {
      "text/markdown": [
       "* MIC_Plasma_S17_V1_A1_F1_D801-896, StimulusID 18;\n",
       "* MIC_Plasma_S18_V1_A1_F1_D1-96, StimulusID 18;\n",
       "* MIC_Plasma_S18_V1_A1_F1_D101-196, StimulusID 18;\n",
       "* MIC_Plasma_S18_V1_A1_F1_D201-296, StimulusID 18;\n",
       "* MIC_Plasma_S18_V1_A1_F1_D301-396, StimulusID 18;\n",
       "* MIC_Plasma_S18_V1_A1_F1_D401-496, StimulusID 18;\n",
       "* MIC_Plasma_S18_V1_A1_F1_D501-596, StimulusID 18;\n",
       "* MIC_Plasma_S18_V1_A1_F1_D601-696, StimulusID 18;\n",
       "* MIC_Plasma_S18_V1_A1_F1_D701-796, StimulusID 18;\n",
       "* MIC_Plasma_S18_V1_A1_F1_D801-896, StimulusID 18;\n",
       "* MIC_Plasma_S18_V1_A1_F1_D901-996, StimulusID 18;\n",
       "* MIC_Plasma_S18_V1_A1_F1_DX97-X00, StimulusID 18."
      ],
      "text/plain": [
       "<IPython.core.display.Markdown object>"
      ]
     },
     "metadata": {},
     "output_type": "display_data"
    },
    {
     "data": {
      "text/markdown": [
       "List of boxes for **StimulusID 24**:"
      ],
      "text/plain": [
       "<IPython.core.display.Markdown object>"
      ]
     },
     "metadata": {},
     "output_type": "display_data"
    },
    {
     "data": {
      "text/markdown": [
       "* MIC_Plasma_S23_V1_A1_F1_D801-896, StimulusID 24;\n",
       "* MIC_Plasma_S24_V1_A1_F1_D1-96, StimulusID 24;\n",
       "* MIC_Plasma_S24_V1_A1_F1_D101-196, StimulusID 24;\n",
       "* MIC_Plasma_S24_V1_A1_F1_D201-296, StimulusID 24;\n",
       "* MIC_Plasma_S24_V1_A1_F1_D301-396, StimulusID 24;\n",
       "* MIC_Plasma_S24_V1_A1_F1_D401-496, StimulusID 24;\n",
       "* MIC_Plasma_S24_V1_A1_F1_D501-596, StimulusID 24;\n",
       "* MIC_Plasma_S24_V1_A1_F1_D601-696, StimulusID 24;\n",
       "* MIC_Plasma_S24_V1_A1_F1_D701-796, StimulusID 24;\n",
       "* MIC_Plasma_S24_V1_A1_F1_D801-896, StimulusID 24;\n",
       "* MIC_Plasma_S24_V1_A1_F1_D901-996, StimulusID 24;\n",
       "* MIC_Plasma_S24_V1_A1_F1_DX97-X00, StimulusID 24."
      ],
      "text/plain": [
       "<IPython.core.display.Markdown object>"
      ]
     },
     "metadata": {},
     "output_type": "display_data"
    }
   ],
   "source": [
    "stims = countboxperstim.loc[countboxperstim[\"Box\"] > 11, \"StimulusID\"].values.tolist()\n",
    "\n",
    "if len(df.loc[df[\"StimulusID\"].isin(stims), \"Box\"].unique()) > 11:\n",
    "    for stim in stims:\n",
    "        display(Markdown(\"List of boxes for **StimulusID %d**:\" % stim))\n",
    "        display(Markdown(\";\\n\".join([\"* \"+str(box)+\", StimulusID \"+str(int(stim)) for box in df.loc[df[\"StimulusID\"] == stim, \"Box\"].unique()])+\".\"))"
   ]
  },
  {
   "cell_type": "markdown",
   "metadata": {},
   "source": [
    "List of donors in unexpected boxes:"
   ]
  },
  {
   "cell_type": "code",
   "execution_count": 25,
   "metadata": {
    "collapsed": false
   },
   "outputs": [
    {
     "data": {
      "text/html": [
       "<div>\n",
       "<table border=\"1\" class=\"dataframe\">\n",
       "  <thead>\n",
       "    <tr style=\"text-align: right;\">\n",
       "      <th></th>\n",
       "      <th>Box</th>\n",
       "      <th>StimulusID</th>\n",
       "      <th>DonorID</th>\n",
       "    </tr>\n",
       "  </thead>\n",
       "  <tbody>\n",
       "    <tr>\n",
       "      <th>1837</th>\n",
       "      <td>MIC_Plasma_S17_V1_A1_F1_D801-896</td>\n",
       "      <td>18.0</td>\n",
       "      <td>819</td>\n",
       "    </tr>\n",
       "  </tbody>\n",
       "</table>\n",
       "</div>"
      ],
      "text/plain": [
       "                                   Box  StimulusID  DonorID\n",
       "1837  MIC_Plasma_S17_V1_A1_F1_D801-896        18.0      819"
      ]
     },
     "metadata": {},
     "output_type": "display_data"
    },
    {
     "data": {
      "text/html": [
       "<div>\n",
       "<table border=\"1\" class=\"dataframe\">\n",
       "  <thead>\n",
       "    <tr style=\"text-align: right;\">\n",
       "      <th></th>\n",
       "      <th>Box</th>\n",
       "      <th>StimulusID</th>\n",
       "      <th>DonorID</th>\n",
       "    </tr>\n",
       "  </thead>\n",
       "  <tbody>\n",
       "    <tr>\n",
       "      <th>2775</th>\n",
       "      <td>MIC_Plasma_S18_V1_A1_F1_D801-896</td>\n",
       "      <td>19.0</td>\n",
       "      <td>819</td>\n",
       "    </tr>\n",
       "  </tbody>\n",
       "</table>\n",
       "</div>"
      ],
      "text/plain": [
       "                                   Box  StimulusID  DonorID\n",
       "2775  MIC_Plasma_S18_V1_A1_F1_D801-896        19.0      819"
      ]
     },
     "metadata": {},
     "output_type": "display_data"
    },
    {
     "data": {
      "text/html": [
       "<div>\n",
       "<table border=\"1\" class=\"dataframe\">\n",
       "  <thead>\n",
       "    <tr style=\"text-align: right;\">\n",
       "      <th></th>\n",
       "      <th>Box</th>\n",
       "      <th>StimulusID</th>\n",
       "      <th>DonorID</th>\n",
       "    </tr>\n",
       "  </thead>\n",
       "  <tbody>\n",
       "    <tr>\n",
       "      <th>4775</th>\n",
       "      <td>MIC_Plasma_S24_V1_A1_F1_D801-896</td>\n",
       "      <td>17.0</td>\n",
       "      <td>819</td>\n",
       "    </tr>\n",
       "  </tbody>\n",
       "</table>\n",
       "</div>"
      ],
      "text/plain": [
       "                                   Box  StimulusID  DonorID\n",
       "4775  MIC_Plasma_S24_V1_A1_F1_D801-896        17.0      819"
      ]
     },
     "metadata": {},
     "output_type": "display_data"
    },
    {
     "data": {
      "text/html": [
       "<div>\n",
       "<table border=\"1\" class=\"dataframe\">\n",
       "  <thead>\n",
       "    <tr style=\"text-align: right;\">\n",
       "      <th></th>\n",
       "      <th>Box</th>\n",
       "      <th>StimulusID</th>\n",
       "      <th>DonorID</th>\n",
       "    </tr>\n",
       "  </thead>\n",
       "  <tbody>\n",
       "    <tr>\n",
       "      <th>3821</th>\n",
       "      <td>MIC_Plasma_S23_V1_A1_F1_D801-896</td>\n",
       "      <td>24.0</td>\n",
       "      <td>819</td>\n",
       "    </tr>\n",
       "  </tbody>\n",
       "</table>\n",
       "</div>"
      ],
      "text/plain": [
       "                                   Box  StimulusID  DonorID\n",
       "3821  MIC_Plasma_S23_V1_A1_F1_D801-896        24.0      819"
      ]
     },
     "metadata": {},
     "output_type": "display_data"
    }
   ],
   "source": [
    "boxes = ['MIC_Plasma_S24_V1_A1_F1_D801-896', 'MIC_Plasma_S17_V1_A1_F1_D801-896', 'MIC_Plasma_S23_V1_A1_F1_D801-896']\n",
    "display(df.loc[(df[\"Box\"] == 'MIC_Plasma_S17_V1_A1_F1_D801-896') & (df[\"StimulusID\"] != 17.0),\\\n",
    "               [\"Box\", \"StimulusID\", \"DonorID\"]])\n",
    "display(df.loc[(df[\"Box\"] == 'MIC_Plasma_S18_V1_A1_F1_D801-896') & (df[\"StimulusID\"] != 18.0),\\\n",
    "               [\"Box\", \"StimulusID\", \"DonorID\"]])\n",
    "display(df.loc[(df[\"Box\"] == 'MIC_Plasma_S24_V1_A1_F1_D801-896') & (df[\"StimulusID\"] != 24.0),\\\n",
    "               [\"Box\", \"StimulusID\", \"DonorID\"]])\n",
    "display(df.loc[(df[\"Box\"] == 'MIC_Plasma_S23_V1_A1_F1_D801-896') & (df[\"StimulusID\"] != 23.0),\\\n",
    "               [\"Box\", \"StimulusID\", \"DonorID\"]])"
   ]
  },
  {
   "cell_type": "markdown",
   "metadata": {},
   "source": [
    "These results are agreed with observations done by Céline. These tubes will have to be changed manually, directly from the output file."
   ]
  }
 ],
 "metadata": {
  "kernelspec": {
   "display_name": "Python 2",
   "language": "python",
   "name": "python2"
  },
  "language_info": {
   "codemirror_mode": {
    "name": "ipython",
    "version": 2
   },
   "file_extension": ".py",
   "mimetype": "text/x-python",
   "name": "python",
   "nbconvert_exporter": "python",
   "pygments_lexer": "ipython2",
   "version": "2.7.11"
  }
 },
 "nbformat": 4,
 "nbformat_minor": 0
}
