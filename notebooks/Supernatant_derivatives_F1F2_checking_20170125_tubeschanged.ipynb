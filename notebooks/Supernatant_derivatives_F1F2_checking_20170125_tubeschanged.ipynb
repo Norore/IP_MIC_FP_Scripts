{
 "cells": [
  {
   "cell_type": "markdown",
   "metadata": {},
   "source": [
    "# Derivatives of Supernatants from our freezers, after corrections"
   ]
  },
  {
   "cell_type": "markdown",
   "metadata": {},
   "source": [
    "## General informations"
   ]
  },
  {
   "cell_type": "code",
   "execution_count": 3,
   "metadata": {
    "collapsed": false
   },
   "outputs": [
    {
     "data": {
      "text/markdown": [
       "**20000** tubes in our derivatives file."
      ],
      "text/plain": [
       "<IPython.core.display.Markdown object>"
      ]
     },
     "metadata": {},
     "output_type": "display_data"
    },
    {
     "data": {
      "text/markdown": [
       "* **10000** tubes for Fraction 1."
      ],
      "text/plain": [
       "<IPython.core.display.Markdown object>"
      ]
     },
     "metadata": {},
     "output_type": "display_data"
    },
    {
     "data": {
      "text/markdown": [
       "* **10000** tubes for Fraction 2."
      ],
      "text/plain": [
       "<IPython.core.display.Markdown object>"
      ]
     },
     "metadata": {},
     "output_type": "display_data"
    },
    {
     "data": {
      "text/markdown": [
       "* **0** tubes are not assigned to a fraction."
      ],
      "text/plain": [
       "<IPython.core.display.Markdown object>"
      ]
     },
     "metadata": {},
     "output_type": "display_data"
    },
    {
     "data": {
      "text/markdown": [
       "List of the *33* columns:"
      ],
      "text/plain": [
       "<IPython.core.display.Markdown object>"
      ]
     },
     "metadata": {},
     "output_type": "display_data"
    },
    {
     "data": {
      "text/markdown": [
       "1. ParentID;\n",
       "1. Name;\n",
       "1. BARCODE;\n",
       "1. Position;\n",
       "1. Volume;\n",
       "1. Freezer;\n",
       "1. Freezer_Descr;\n",
       "1. Level1;\n",
       "1. Level1_Descr;\n",
       "1. Level2;\n",
       "1. Level2_Descr;\n",
       "1. Level3;\n",
       "1. Level3_Descr;\n",
       "1. BoxType;\n",
       "1. Box;\n",
       "1. Box_Descr;\n",
       "1. ThermoBoxBarcode;\n",
       "1. BOX_BARCODE;\n",
       "1. CreationDate;\n",
       "1. UpdateDate;\n",
       "1. AliquotID;\n",
       "1. DonorID;\n",
       "1. StimulusID;\n",
       "1. StimulusName;\n",
       "1. VisitID;\n",
       "1. ThawCycle;\n",
       "1. Sample Source;\n",
       "1. Description;\n",
       "1. BatchID;\n",
       "1. Sample Type;\n",
       "1. ShelfBarcode;\n",
       "1. RackBarcode;\n",
       "1. DrawerBarcode."
      ],
      "text/plain": [
       "<IPython.core.display.Markdown object>"
      ]
     },
     "metadata": {},
     "output_type": "display_data"
    }
   ],
   "source": [
    "import pandas as pd\n",
    "import re\n",
    "from IPython.display import display, Markdown, HTML\n",
    "from file_toolkit import *\n",
    "\n",
    "pd.set_option('display.max_rows', 96)\n",
    "pd.set_option('display.max_columns', 96)\n",
    "\n",
    "filepath = \"/Volumes/LabExMI/Users/Nolwenn/FreezerPro/DataToImport/\"\n",
    "filename = \"Supernatants_Derivatives_F1F2_20170118_tubescorrected.csv\"\n",
    "df = pd.read_csv(filepath+filename, sep=\";\")\n",
    "display(Markdown(\"**%d** tubes in our derivatives file.\" % len(df)))\n",
    "display(Markdown(\"* **%d** tubes for Fraction 1.\" % \\\n",
    "                 len(df.loc[df[\"Sample Type\"] == \"Fraction1\"])))\n",
    "display(Markdown(\"* **%d** tubes for Fraction 2.\" % \\\n",
    "                 len(df.loc[df[\"Sample Type\"] == \"Fraction2\"])))\n",
    "display(Markdown(\"* **%d** tubes are not assigned to a fraction.\" % \\\n",
    "                 len(df.loc[df[\"Sample Type\"].isnull()])))\n",
    "show_columns(df)"
   ]
  },
  {
   "cell_type": "markdown",
   "metadata": {},
   "source": [
    "We have **20.000** tubes as expected, and **10.000** tubes per Fraction. We want to know how many tube per donor we have.\n",
    "\n",
    "## Checking tubes"
   ]
  },
  {
   "cell_type": "code",
   "execution_count": 4,
   "metadata": {
    "collapsed": false
   },
   "outputs": [
    {
     "data": {
      "text/markdown": [
       "Final output file has **10 unique StimulusID**"
      ],
      "text/plain": [
       "<IPython.core.display.Markdown object>"
      ]
     },
     "metadata": {},
     "output_type": "display_data"
    },
    {
     "data": {
      "text/markdown": [
       "List of **1** count of tubes per donor:"
      ],
      "text/plain": [
       "<IPython.core.display.Markdown object>"
      ]
     },
     "metadata": {},
     "output_type": "display_data"
    },
    {
     "data": {
      "text/markdown": [
       "* 20 tubes per donor."
      ],
      "text/plain": [
       "<IPython.core.display.Markdown object>"
      ]
     },
     "metadata": {},
     "output_type": "display_data"
    }
   ],
   "source": [
    "display(Markdown(\"Final output file has **%d unique StimulusID**\" % \\\n",
    "                 len(df[\"StimulusID\"].unique())))\n",
    "countstimperdonor = pd.DataFrame(df.groupby(\"DonorID\")[\"StimulusID\"].count())\n",
    "display(Markdown(\"List of **%d** count of tubes per donor:\" % \\\n",
    "                 len(countstimperdonor[\"StimulusID\"].unique())))\n",
    "display(Markdown(\";\\n\".join([\"* \"+str(int(stim))+\" tubes per donor\" for stim \\\n",
    "                             in sorted(countstimperdonor[\"StimulusID\"].unique())])+\".\"))"
   ]
  },
  {
   "cell_type": "markdown",
   "metadata": {},
   "source": [
    "We were expecting **10 unique** StimulusID, Céline and Bruno treatet 10 Stimulus. We have an extra stimulus.\n",
    "\n",
    "We want to know if at least one donor has less than 20 tubes associated, and, if possible, which tube is missing."
   ]
  },
  {
   "cell_type": "code",
   "execution_count": 5,
   "metadata": {
    "collapsed": false
   },
   "outputs": [
    {
     "data": {
      "text/markdown": [
       "All donor are assigned to at least 20 StimulusID."
      ],
      "text/plain": [
       "<IPython.core.display.Markdown object>"
      ]
     },
     "metadata": {},
     "output_type": "display_data"
    },
    {
     "data": {
      "text/markdown": [
       "**0** unique DonorID has more than 20 StimulusID."
      ],
      "text/plain": [
       "<IPython.core.display.Markdown object>"
      ]
     },
     "metadata": {},
     "output_type": "display_data"
    }
   ],
   "source": [
    "donorindexes = countstimperdonor[countstimperdonor[\"StimulusID\"] < 20].\\\n",
    "index.values\n",
    "if len(donorindexes) > 0:\n",
    "    display(Markdown(\"List of **%d** unique DonorID:\" % len(donorindexes)))\n",
    "    display(Markdown(\";\\n\".join([\" - \"+str(int(donor)) for donor \\\n",
    "                                 in sorted(donorindexes)])+\".\"))\n",
    "else:\n",
    "    display(Markdown(\"All donor are assigned to at least 20 StimulusID.\"))\n",
    "    display(Markdown(\"**%d** unique DonorID has more than 20 StimulusID.\" % \\\n",
    "                     len(countstimperdonor[countstimperdonor[\"StimulusID\"] > 20].\\\n",
    "                         index.values)))"
   ]
  },
  {
   "cell_type": "markdown",
   "metadata": {},
   "source": [
    "We also want to known how many DonorID each StimulusID count:"
   ]
  },
  {
   "cell_type": "code",
   "execution_count": 6,
   "metadata": {
    "collapsed": false
   },
   "outputs": [
    {
     "data": {
      "text/html": [
       "<div>\n",
       "<table border=\"1\" class=\"dataframe\">\n",
       "  <thead>\n",
       "    <tr style=\"text-align: right;\">\n",
       "      <th></th>\n",
       "      <th>StimulusID</th>\n",
       "      <th>Nb_DonorID</th>\n",
       "    </tr>\n",
       "  </thead>\n",
       "  <tbody>\n",
       "    <tr>\n",
       "      <th>0</th>\n",
       "      <td>11.0</td>\n",
       "      <td>2000</td>\n",
       "    </tr>\n",
       "    <tr>\n",
       "      <th>1</th>\n",
       "      <td>17.0</td>\n",
       "      <td>2000</td>\n",
       "    </tr>\n",
       "    <tr>\n",
       "      <th>2</th>\n",
       "      <td>18.0</td>\n",
       "      <td>2000</td>\n",
       "    </tr>\n",
       "    <tr>\n",
       "      <th>3</th>\n",
       "      <td>23.0</td>\n",
       "      <td>2000</td>\n",
       "    </tr>\n",
       "    <tr>\n",
       "      <th>4</th>\n",
       "      <td>24.0</td>\n",
       "      <td>2000</td>\n",
       "    </tr>\n",
       "    <tr>\n",
       "      <th>5</th>\n",
       "      <td>27.0</td>\n",
       "      <td>2000</td>\n",
       "    </tr>\n",
       "    <tr>\n",
       "      <th>6</th>\n",
       "      <td>32.0</td>\n",
       "      <td>2000</td>\n",
       "    </tr>\n",
       "    <tr>\n",
       "      <th>7</th>\n",
       "      <td>35.0</td>\n",
       "      <td>2000</td>\n",
       "    </tr>\n",
       "    <tr>\n",
       "      <th>8</th>\n",
       "      <td>37.0</td>\n",
       "      <td>2000</td>\n",
       "    </tr>\n",
       "    <tr>\n",
       "      <th>9</th>\n",
       "      <td>39.0</td>\n",
       "      <td>2000</td>\n",
       "    </tr>\n",
       "  </tbody>\n",
       "</table>\n",
       "</div>"
      ],
      "text/plain": [
       "   StimulusID  Nb_DonorID\n",
       "0        11.0        2000\n",
       "1        17.0        2000\n",
       "2        18.0        2000\n",
       "3        23.0        2000\n",
       "4        24.0        2000\n",
       "5        27.0        2000\n",
       "6        32.0        2000\n",
       "7        35.0        2000\n",
       "8        37.0        2000\n",
       "9        39.0        2000"
      ]
     },
     "metadata": {},
     "output_type": "display_data"
    },
    {
     "data": {
      "text/markdown": [
       "**1000** unique DonorID."
      ],
      "text/plain": [
       "<IPython.core.display.Markdown object>"
      ]
     },
     "metadata": {},
     "output_type": "display_data"
    }
   ],
   "source": [
    "compare_two_columns(df, \"StimulusID\", \"DonorID\")\n",
    "display(Markdown(\"**%d** unique DonorID.\" % len(df[\"DonorID\"].unique())))"
   ]
  },
  {
   "cell_type": "markdown",
   "metadata": {},
   "source": [
    "Just to be sure, we need to know how many unique barcode each StimulusID count:"
   ]
  },
  {
   "cell_type": "code",
   "execution_count": 7,
   "metadata": {
    "collapsed": false
   },
   "outputs": [
    {
     "data": {
      "text/html": [
       "<div>\n",
       "<table border=\"1\" class=\"dataframe\">\n",
       "  <thead>\n",
       "    <tr style=\"text-align: right;\">\n",
       "      <th></th>\n",
       "      <th>StimulusID</th>\n",
       "      <th>Nb_BARCODE</th>\n",
       "    </tr>\n",
       "  </thead>\n",
       "  <tbody>\n",
       "    <tr>\n",
       "      <th>0</th>\n",
       "      <td>11.0</td>\n",
       "      <td>2000</td>\n",
       "    </tr>\n",
       "    <tr>\n",
       "      <th>1</th>\n",
       "      <td>17.0</td>\n",
       "      <td>2000</td>\n",
       "    </tr>\n",
       "    <tr>\n",
       "      <th>2</th>\n",
       "      <td>18.0</td>\n",
       "      <td>2000</td>\n",
       "    </tr>\n",
       "    <tr>\n",
       "      <th>3</th>\n",
       "      <td>23.0</td>\n",
       "      <td>2000</td>\n",
       "    </tr>\n",
       "    <tr>\n",
       "      <th>4</th>\n",
       "      <td>24.0</td>\n",
       "      <td>2000</td>\n",
       "    </tr>\n",
       "    <tr>\n",
       "      <th>5</th>\n",
       "      <td>27.0</td>\n",
       "      <td>2000</td>\n",
       "    </tr>\n",
       "    <tr>\n",
       "      <th>6</th>\n",
       "      <td>32.0</td>\n",
       "      <td>2000</td>\n",
       "    </tr>\n",
       "    <tr>\n",
       "      <th>7</th>\n",
       "      <td>35.0</td>\n",
       "      <td>2000</td>\n",
       "    </tr>\n",
       "    <tr>\n",
       "      <th>8</th>\n",
       "      <td>37.0</td>\n",
       "      <td>2000</td>\n",
       "    </tr>\n",
       "    <tr>\n",
       "      <th>9</th>\n",
       "      <td>39.0</td>\n",
       "      <td>2000</td>\n",
       "    </tr>\n",
       "  </tbody>\n",
       "</table>\n",
       "</div>"
      ],
      "text/plain": [
       "   StimulusID  Nb_BARCODE\n",
       "0        11.0        2000\n",
       "1        17.0        2000\n",
       "2        18.0        2000\n",
       "3        23.0        2000\n",
       "4        24.0        2000\n",
       "5        27.0        2000\n",
       "6        32.0        2000\n",
       "7        35.0        2000\n",
       "8        37.0        2000\n",
       "9        39.0        2000"
      ]
     },
     "metadata": {},
     "output_type": "display_data"
    },
    {
     "data": {
      "text/markdown": [
       "**20000** unique BARCODE."
      ],
      "text/plain": [
       "<IPython.core.display.Markdown object>"
      ]
     },
     "metadata": {},
     "output_type": "display_data"
    },
    {
     "data": {
      "text/markdown": [
       "**0** not unique BARCODE:"
      ],
      "text/plain": [
       "<IPython.core.display.Markdown object>"
      ]
     },
     "metadata": {},
     "output_type": "display_data"
    }
   ],
   "source": [
    "compare_two_columns(df, \"StimulusID\", \"BARCODE\")\n",
    "display(Markdown(\"**%d** unique BARCODE.\" % len(df[\"BARCODE\"].unique())))\n",
    "display(Markdown(\"**%d** not unique BARCODE:\" % \\\n",
    "                 len(df.loc[df.duplicated([\"BARCODE\"])])))\n",
    "if len(df.loc[df.duplicated([\"BARCODE\"])]) > 0:\n",
    "    barcodelist = df.loc[df.duplicated([\"BARCODE\"]), \\\n",
    "                         \"BARCODE\"].tolist()\n",
    "    display(df.loc[df[\"BARCODE\"].isin(barcodelist), \\\n",
    "                   [\"ParentID\", \"Position\", \"DonorID\", \"AliquotID\", \"StimulusID\"]])"
   ]
  },
  {
   "cell_type": "markdown",
   "metadata": {},
   "source": [
    "Why do the BARCODE *3260627121* is duplicated? Need to recheck."
   ]
  },
  {
   "cell_type": "markdown",
   "metadata": {},
   "source": [
    "For donor *819*, the problem is normally corrected. In fact, this donor is supposed to be assigned to stimulus 23 but it seems that stimulus were mixed for this donor:\n",
    "* in box 23, tube donor 819 found should have been assigned for box 24\n",
    "* in box 24, tube donor 819 found should have been assigned for box 17\n",
    "* in box 17, tube donor 819 found should have been assigned for box 18\n",
    "* in box 18, tube donor 819 found should have been assigned for box 19\n",
    "\n",
    "Nolwenn manually changed the wrong ParentID and StimulusID. The following analysis will track if an error still occurs.\n",
    "\n",
    "For stimulus 23, we want to know which are the missing donors:"
   ]
  },
  {
   "cell_type": "code",
   "execution_count": 8,
   "metadata": {
    "collapsed": false
   },
   "outputs": [
    {
     "data": {
      "text/markdown": [
       "List of **0** donors not found for StimulusID 23."
      ],
      "text/plain": [
       "<IPython.core.display.Markdown object>"
      ]
     },
     "metadata": {},
     "output_type": "display_data"
    }
   ],
   "source": [
    "donorlist = df[\"DonorID\"].unique()\n",
    "donorliststim23 = df.loc[df[\"StimulusID\"] == 23.0, \"DonorID\"].unique()\n",
    "donornotfound = list(set(donorlist) - set(donorliststim23))\n",
    "if len(donornotfound) > 0:\n",
    "    display(Markdown(\"List of **%d** donors not found for StimulusID 23:\" % \\\n",
    "                     len(donornotfound)))\n",
    "    display(Markdown(\";\\n\".join([\"* \"+str(int(donor)) for donor \\\n",
    "                                 in sorted(donornotfound)])))\n",
    "else:\n",
    "    display(Markdown(\"List of **%d** donors not found for StimulusID 23.\" % \\\n",
    "                     len(donornotfound)))"
   ]
  },
  {
   "cell_type": "markdown",
   "metadata": {},
   "source": [
    "## Checking boxes\n",
    "\n",
    "Know we want to be sure that we have one stimulus per box:"
   ]
  },
  {
   "cell_type": "code",
   "execution_count": 9,
   "metadata": {
    "collapsed": false
   },
   "outputs": [
    {
     "data": {
      "text/markdown": [
       "There is **220 unique boxes** in the whole file."
      ],
      "text/plain": [
       "<IPython.core.display.Markdown object>"
      ]
     },
     "metadata": {},
     "output_type": "display_data"
    },
    {
     "data": {
      "text/markdown": [
       "**Look on Fraction 1:**"
      ],
      "text/plain": [
       "<IPython.core.display.Markdown object>"
      ]
     },
     "metadata": {},
     "output_type": "display_data"
    },
    {
     "data": {
      "text/markdown": [
       "There is **110 unique boxes** in the file for Fraction 1."
      ],
      "text/plain": [
       "<IPython.core.display.Markdown object>"
      ]
     },
     "metadata": {},
     "output_type": "display_data"
    },
    {
     "data": {
      "text/markdown": [
       "None box contains more than one stimulus."
      ],
      "text/plain": [
       "<IPython.core.display.Markdown object>"
      ]
     },
     "metadata": {},
     "output_type": "display_data"
    },
    {
     "data": {
      "text/markdown": [
       "**Look on Fraction 2:**"
      ],
      "text/plain": [
       "<IPython.core.display.Markdown object>"
      ]
     },
     "metadata": {},
     "output_type": "display_data"
    },
    {
     "data": {
      "text/markdown": [
       "There is **110 unique boxes** in the file for Fraction 2."
      ],
      "text/plain": [
       "<IPython.core.display.Markdown object>"
      ]
     },
     "metadata": {},
     "output_type": "display_data"
    },
    {
     "data": {
      "text/markdown": [
       "None box contains more than one stimulus."
      ],
      "text/plain": [
       "<IPython.core.display.Markdown object>"
      ]
     },
     "metadata": {},
     "output_type": "display_data"
    }
   ],
   "source": [
    "display(Markdown(\"There is **%d unique boxes** in the whole file.\" % \\\n",
    "                 len(df[\"Box\"].unique())))\n",
    "\n",
    "display(Markdown(\"**Look on Fraction 1:**\"))\n",
    "display(Markdown(\"There is **%d unique boxes** in the file for Fraction 1.\" % \\\n",
    "                 len(df.loc[df[\"Sample Type\"] == \"Fraction1\", \"Box\"].unique())))\n",
    "countboxstim = pd.DataFrame(df.groupby(\"Box\")[\"StimulusID\"].nunique())\n",
    "countboxstim.loc[:, \"Box\"] = countboxstim.index.get_values()\n",
    "countboxstim.reset_index(drop = True, inplace = True)\n",
    "if len(countboxstim[countboxstim[\"StimulusID\"] > 1]) > 0:\n",
    "    display(table_wo_index(countboxstim.loc[(countboxstim[\"StimulusID\"] > 1) & \\\n",
    "                                            (countboxstim[\"Box\"].str.contains(\"F1\")),\\\n",
    "                             [\"Box\", \"StimulusID\"]]))\n",
    "else:\n",
    "    display(Markdown(\"None box contains more than one stimulus.\"))\n",
    "\n",
    "display(Markdown(\"**Look on Fraction 2:**\"))\n",
    "display(Markdown(\"There is **%d unique boxes** in the file for Fraction 2.\" % \\\n",
    "                 len(df.loc[df[\"Sample Type\"] == \"Fraction2\", \"Box\"].unique())))\n",
    "countboxstim = pd.DataFrame(df.groupby(\"Box\")[\"StimulusID\"].nunique())\n",
    "countboxstim.loc[:, \"Box\"] = countboxstim.index.get_values()\n",
    "countboxstim.reset_index(drop = True, inplace = True)\n",
    "if len(countboxstim[countboxstim[\"StimulusID\"] > 1]) > 0:\n",
    "    display(table_wo_index(countboxstim.loc[(countboxstim[\"StimulusID\"] > 1) & \\\n",
    "                                            (countboxstim[\"Box\"].str.contains(\"F2\")),\\\n",
    "                             [\"Box\", \"StimulusID\"]]))\n",
    "else:\n",
    "    display(Markdown(\"None box contains more than one stimulus.\"))"
   ]
  },
  {
   "cell_type": "markdown",
   "metadata": {},
   "source": [
    "The boxes impacted shown in previous report seems to have been succesfully corrected."
   ]
  },
  {
   "cell_type": "markdown",
   "metadata": {},
   "source": [
    "We also want to be sure that the box name reproduce the same correction if we look with the Thermo Fisher box barcode:"
   ]
  },
  {
   "cell_type": "code",
   "execution_count": 10,
   "metadata": {
    "collapsed": false
   },
   "outputs": [
    {
     "data": {
      "text/markdown": [
       "There is a total of **220 unique boxes** in the file."
      ],
      "text/plain": [
       "<IPython.core.display.Markdown object>"
      ]
     },
     "metadata": {},
     "output_type": "display_data"
    },
    {
     "data": {
      "text/markdown": [
       "There is **110 unique boxes** in Fraction 1."
      ],
      "text/plain": [
       "<IPython.core.display.Markdown object>"
      ]
     },
     "metadata": {},
     "output_type": "display_data"
    },
    {
     "data": {
      "text/markdown": [
       "There is **110 unique boxes** in Fraction 2."
      ],
      "text/plain": [
       "<IPython.core.display.Markdown object>"
      ]
     },
     "metadata": {},
     "output_type": "display_data"
    },
    {
     "data": {
      "text/markdown": [
       "None box contains more than one stimulus."
      ],
      "text/plain": [
       "<IPython.core.display.Markdown object>"
      ]
     },
     "metadata": {},
     "output_type": "display_data"
    }
   ],
   "source": [
    "display(Markdown(\"There is a total of **%d unique boxes** in the file.\" % \\\n",
    "                 len(df[\"ThermoBoxBarcode\"].unique())))\n",
    "display(Markdown(\"There is **%d unique boxes** in Fraction 1.\" % \\\n",
    "                 len(df.loc[df[\"Sample Type\"] == \"Fraction1\", \\\n",
    "                            \"ThermoBoxBarcode\"].unique())))\n",
    "display(Markdown(\"There is **%d unique boxes** in Fraction 2.\" % \\\n",
    "                 len(df.loc[df[\"Sample Type\"] == \"Fraction2\", \n",
    "                            \"ThermoBoxBarcode\"].unique())))\n",
    "\n",
    "countthermoboxstim = compare_two_columns(df, \"ThermoBoxBarcode\", \"StimulusID\", \\\n",
    "                                        method=\"nunique\", show=False)\n",
    "if len(countthermoboxstim.loc[(countthermoboxstim[\"StimulusID\"] > 1)]> 0):\n",
    "    display(countthermoboxstim.loc[(countthermoboxstim[\"StimulusID\"] > 1), \\\n",
    "                                   [\"ThermoBoxBarcode\", \"StimulusID\"]])\n",
    "else:\n",
    "    display(Markdown(\"None box contains more than one stimulus.\"))"
   ]
  },
  {
   "cell_type": "markdown",
   "metadata": {},
   "source": [
    "We have the same number of ThermoBoxBarcode as of BoxBarcode."
   ]
  },
  {
   "cell_type": "markdown",
   "metadata": {},
   "source": [
    "For each ThermoBoxBarcode column, which are those with more than one Box column associated?"
   ]
  },
  {
   "cell_type": "code",
   "execution_count": 11,
   "metadata": {
    "collapsed": false
   },
   "outputs": [
    {
     "data": {
      "text/markdown": [
       "**0** boxes are not assigned to a ThermoBoxBarcode"
      ],
      "text/plain": [
       "<IPython.core.display.Markdown object>"
      ]
     },
     "metadata": {},
     "output_type": "display_data"
    },
    {
     "data": {
      "text/markdown": [
       "**0** boxes are assigned to more than one ThermoBoxBarcode"
      ],
      "text/plain": [
       "<IPython.core.display.Markdown object>"
      ]
     },
     "metadata": {},
     "output_type": "display_data"
    },
    {
     "data": {
      "text/markdown": [
       "**220** boxes are assigned to a ThermoBoxBarcode"
      ],
      "text/plain": [
       "<IPython.core.display.Markdown object>"
      ]
     },
     "metadata": {},
     "output_type": "display_data"
    }
   ],
   "source": [
    "countboxperthermobox = compare_two_columns(df, \"Box\", \"ThermoBoxBarcode\", \\\n",
    "                                          method=\"nunique\", show=False)\n",
    "\n",
    "display(Markdown(\"**%d** boxes are not assigned to a ThermoBoxBarcode\" % \\\n",
    "                 len(countboxperthermobox.loc[countboxperthermobox[\"ThermoBoxBarcode\"] < 1, \\\n",
    "                                              [\"Box\", \"ThermoBoxBarcode\"]])))\n",
    "display(Markdown(\"**%d** boxes are assigned to more than one ThermoBoxBarcode\" % \\\n",
    "                 len(countboxperthermobox.loc[countboxperthermobox[\"ThermoBoxBarcode\"] > 1, \\\n",
    "                                              [\"Box\", \"ThermoBoxBarcode\"]])))\n",
    "display(Markdown(\"**%d** boxes are assigned to a ThermoBoxBarcode\" % \\\n",
    "                 len(countboxperthermobox.loc[countboxperthermobox[\"ThermoBoxBarcode\"] == 1, \\\n",
    "                                              [\"Box\", \"ThermoBoxBarcode\"]])))\n",
    "\n",
    "if len(countboxperthermobox.loc[countboxperthermobox[\"ThermoBoxBarcode\"] != 1, \\\n",
    "                                [\"Box\", \"ThermoBoxBarcode\"]]) > 0:\n",
    "    display(countboxperthermobox.loc[countboxperthermobox[\"ThermoBoxBarcode\"] != 1, \\\n",
    "                                     [\"Box\", \"ThermoBoxBarcode\"]])"
   ]
  },
  {
   "cell_type": "markdown",
   "metadata": {},
   "source": [
    "No more than one Box column is associated to a ThermoBoxBarcode, as expected. Do we have tubes that are not assigned to ThermoBoxBarcode column?"
   ]
  },
  {
   "cell_type": "code",
   "execution_count": 12,
   "metadata": {
    "collapsed": false
   },
   "outputs": [
    {
     "data": {
      "text/markdown": [
       "**0** tubes in boxes not assigned to ThermoBoxbarcode."
      ],
      "text/plain": [
       "<IPython.core.display.Markdown object>"
      ]
     },
     "metadata": {},
     "output_type": "display_data"
    }
   ],
   "source": [
    "boxes = countboxperthermobox.loc[countboxperthermobox[\"ThermoBoxBarcode\"] != 1]\\\n",
    "[\"Box\"].values\n",
    "display(Markdown(\"**%d** tubes in boxes not assigned to ThermoBoxbarcode.\" % \\\n",
    "      len(df.loc[df[\"Box\"].isin(boxes), [\"Box\", \"ThermoBoxBarcode\", \"DonorID\"]])))\n",
    "if len(df.loc[df[\"Box\"].isin(boxes), [\"Box\", \"ThermoBoxBarcode\", \"DonorID\"]]) > 0:\n",
    "    display(df.loc[df[\"Box\"].isin(boxes), [\"Box\", \"ThermoBoxBarcode\", \"DonorID\"]])"
   ]
  },
  {
   "cell_type": "markdown",
   "metadata": {},
   "source": [
    "## Checking excluded donors\n",
    "\n",
    "We also want to check if none of the excluded donors are in our data:"
   ]
  },
  {
   "cell_type": "code",
   "execution_count": 13,
   "metadata": {
    "collapsed": false
   },
   "outputs": [
    {
     "data": {
      "text/markdown": [
       "**0** donor found."
      ],
      "text/plain": [
       "<IPython.core.display.Markdown object>"
      ]
     },
     "metadata": {},
     "output_type": "display_data"
    }
   ],
   "source": [
    "excludeddonors = [96, 104, 122, 167, 178, 219, 268, 279, 303, 308, 534, 701]\n",
    "df[\"DonorID\"] = df[\"DonorID\"].astype(int)\n",
    "display(Markdown(\"**%d** donor found.\" % len(df.loc[df[\"DonorID\"].isin(excludeddonors), \\\n",
    "                                                    \"DonorID\"].unique())))\n",
    "if len(df.loc[df[\"DonorID\"].isin(excludeddonors), \"DonorID\"].unique()) > 0:\n",
    "    display(Markdown(\"The excluded donor found are:\"))\n",
    "    display(Markdown(\";\\n\".join([\"* \"+str(donor) for donor \\\n",
    "                                 in df.loc[df[\"DonorID\"].isin(excludeddonors), \\\n",
    "                                           \"DonorID\"].unique()])))"
   ]
  },
  {
   "cell_type": "markdown",
   "metadata": {},
   "source": [
    "We have none of the excluded donors in the final output of our data."
   ]
  },
  {
   "cell_type": "markdown",
   "metadata": {},
   "source": [
    "## Checking StimulusID\n",
    "\n",
    "We are supposed to have 11 boxes per stimulus and fraction, how many boxes do we effectively have per StimulusID?"
   ]
  },
  {
   "cell_type": "code",
   "execution_count": 14,
   "metadata": {
    "collapsed": false
   },
   "outputs": [
    {
     "data": {
      "text/markdown": [
       "**Look on Fraction 1:**"
      ],
      "text/plain": [
       "<IPython.core.display.Markdown object>"
      ]
     },
     "metadata": {},
     "output_type": "display_data"
    },
    {
     "data": {
      "text/html": [
       "<div>\n",
       "<table border=\"1\" class=\"dataframe\">\n",
       "  <thead>\n",
       "    <tr style=\"text-align: right;\">\n",
       "      <th></th>\n",
       "      <th>StimulusID</th>\n",
       "      <th>Nb_Box</th>\n",
       "    </tr>\n",
       "  </thead>\n",
       "  <tbody>\n",
       "    <tr>\n",
       "      <th>0</th>\n",
       "      <td>11.0</td>\n",
       "      <td>1000</td>\n",
       "    </tr>\n",
       "    <tr>\n",
       "      <th>1</th>\n",
       "      <td>17.0</td>\n",
       "      <td>1000</td>\n",
       "    </tr>\n",
       "    <tr>\n",
       "      <th>2</th>\n",
       "      <td>18.0</td>\n",
       "      <td>1000</td>\n",
       "    </tr>\n",
       "    <tr>\n",
       "      <th>3</th>\n",
       "      <td>23.0</td>\n",
       "      <td>1000</td>\n",
       "    </tr>\n",
       "    <tr>\n",
       "      <th>4</th>\n",
       "      <td>24.0</td>\n",
       "      <td>1000</td>\n",
       "    </tr>\n",
       "    <tr>\n",
       "      <th>5</th>\n",
       "      <td>27.0</td>\n",
       "      <td>1000</td>\n",
       "    </tr>\n",
       "    <tr>\n",
       "      <th>6</th>\n",
       "      <td>32.0</td>\n",
       "      <td>1000</td>\n",
       "    </tr>\n",
       "    <tr>\n",
       "      <th>7</th>\n",
       "      <td>35.0</td>\n",
       "      <td>1000</td>\n",
       "    </tr>\n",
       "    <tr>\n",
       "      <th>8</th>\n",
       "      <td>37.0</td>\n",
       "      <td>1000</td>\n",
       "    </tr>\n",
       "    <tr>\n",
       "      <th>9</th>\n",
       "      <td>39.0</td>\n",
       "      <td>1000</td>\n",
       "    </tr>\n",
       "  </tbody>\n",
       "</table>\n",
       "</div>"
      ],
      "text/plain": [
       "   StimulusID  Nb_Box\n",
       "0        11.0    1000\n",
       "1        17.0    1000\n",
       "2        18.0    1000\n",
       "3        23.0    1000\n",
       "4        24.0    1000\n",
       "5        27.0    1000\n",
       "6        32.0    1000\n",
       "7        35.0    1000\n",
       "8        37.0    1000\n",
       "9        39.0    1000"
      ]
     },
     "metadata": {},
     "output_type": "display_data"
    },
    {
     "data": {
      "text/markdown": [
       "**Look on Fraction 2:**"
      ],
      "text/plain": [
       "<IPython.core.display.Markdown object>"
      ]
     },
     "metadata": {},
     "output_type": "display_data"
    },
    {
     "data": {
      "text/html": [
       "<div>\n",
       "<table border=\"1\" class=\"dataframe\">\n",
       "  <thead>\n",
       "    <tr style=\"text-align: right;\">\n",
       "      <th></th>\n",
       "      <th>StimulusID</th>\n",
       "      <th>Nb_Box</th>\n",
       "    </tr>\n",
       "  </thead>\n",
       "  <tbody>\n",
       "    <tr>\n",
       "      <th>0</th>\n",
       "      <td>11.0</td>\n",
       "      <td>1000</td>\n",
       "    </tr>\n",
       "    <tr>\n",
       "      <th>1</th>\n",
       "      <td>17.0</td>\n",
       "      <td>1000</td>\n",
       "    </tr>\n",
       "    <tr>\n",
       "      <th>2</th>\n",
       "      <td>18.0</td>\n",
       "      <td>1000</td>\n",
       "    </tr>\n",
       "    <tr>\n",
       "      <th>3</th>\n",
       "      <td>23.0</td>\n",
       "      <td>1000</td>\n",
       "    </tr>\n",
       "    <tr>\n",
       "      <th>4</th>\n",
       "      <td>24.0</td>\n",
       "      <td>1000</td>\n",
       "    </tr>\n",
       "    <tr>\n",
       "      <th>5</th>\n",
       "      <td>27.0</td>\n",
       "      <td>1000</td>\n",
       "    </tr>\n",
       "    <tr>\n",
       "      <th>6</th>\n",
       "      <td>32.0</td>\n",
       "      <td>1000</td>\n",
       "    </tr>\n",
       "    <tr>\n",
       "      <th>7</th>\n",
       "      <td>35.0</td>\n",
       "      <td>1000</td>\n",
       "    </tr>\n",
       "    <tr>\n",
       "      <th>8</th>\n",
       "      <td>37.0</td>\n",
       "      <td>1000</td>\n",
       "    </tr>\n",
       "    <tr>\n",
       "      <th>9</th>\n",
       "      <td>39.0</td>\n",
       "      <td>1000</td>\n",
       "    </tr>\n",
       "  </tbody>\n",
       "</table>\n",
       "</div>"
      ],
      "text/plain": [
       "   StimulusID  Nb_Box\n",
       "0        11.0    1000\n",
       "1        17.0    1000\n",
       "2        18.0    1000\n",
       "3        23.0    1000\n",
       "4        24.0    1000\n",
       "5        27.0    1000\n",
       "6        32.0    1000\n",
       "7        35.0    1000\n",
       "8        37.0    1000\n",
       "9        39.0    1000"
      ]
     },
     "metadata": {},
     "output_type": "display_data"
    }
   ],
   "source": [
    "display(Markdown(\"**Look on Fraction 1:**\"))\n",
    "df_frac1 = df.loc[df[\"Sample Type\"] == \"Fraction1\"]\n",
    "boxperstimfrac1 = compare_two_columns(df_frac1, \"StimulusID\", \"Box\")\n",
    "\n",
    "display(Markdown(\"**Look on Fraction 2:**\"))\n",
    "df_frac2 = df.loc[df[\"Sample Type\"] == \"Fraction2\"]\n",
    "boxperstimfrac2 = compare_two_columns(df_frac2, \"StimulusID\", \"Box\")"
   ]
  },
  {
   "cell_type": "markdown",
   "metadata": {},
   "source": [
    "We have 11 boxes per stimulus, as expected. The boxes in StimulusID 17, 18, and 24 generated errors on a previous report, now they are in accordance with expected data:"
   ]
  },
  {
   "cell_type": "code",
   "execution_count": 15,
   "metadata": {
    "collapsed": false
   },
   "outputs": [
    {
     "data": {
      "text/html": [
       "<div>\n",
       "<table border=\"1\" class=\"dataframe\">\n",
       "  <thead>\n",
       "    <tr style=\"text-align: right;\">\n",
       "      <th></th>\n",
       "      <th>Box</th>\n",
       "      <th>StimulusID</th>\n",
       "      <th>DonorID</th>\n",
       "    </tr>\n",
       "  </thead>\n",
       "  <tbody>\n",
       "    <tr>\n",
       "      <th>3674</th>\n",
       "      <td>MIC_Plasma_S17_V1_A1_F1_D801-896</td>\n",
       "      <td>17.0</td>\n",
       "      <td>819</td>\n",
       "    </tr>\n",
       "    <tr>\n",
       "      <th>3675</th>\n",
       "      <td>MIC_Plasma_S17_V1_A1_F2_D801-896</td>\n",
       "      <td>17.0</td>\n",
       "      <td>819</td>\n",
       "    </tr>\n",
       "    <tr>\n",
       "      <th>5550</th>\n",
       "      <td>MIC_Plasma_S18_V1_A1_F1_D801-896</td>\n",
       "      <td>18.0</td>\n",
       "      <td>819</td>\n",
       "    </tr>\n",
       "    <tr>\n",
       "      <th>5551</th>\n",
       "      <td>MIC_Plasma_S18_V1_A1_F2_D801-896</td>\n",
       "      <td>18.0</td>\n",
       "      <td>819</td>\n",
       "    </tr>\n",
       "    <tr>\n",
       "      <th>9550</th>\n",
       "      <td>MIC_Plasma_S24_V1_A1_F1_D801-896</td>\n",
       "      <td>24.0</td>\n",
       "      <td>819</td>\n",
       "    </tr>\n",
       "    <tr>\n",
       "      <th>9551</th>\n",
       "      <td>MIC_Plasma_S24_V1_A1_F2_D801-896</td>\n",
       "      <td>24.0</td>\n",
       "      <td>819</td>\n",
       "    </tr>\n",
       "  </tbody>\n",
       "</table>\n",
       "</div>"
      ],
      "text/plain": [
       "                                   Box  StimulusID  DonorID\n",
       "3674  MIC_Plasma_S17_V1_A1_F1_D801-896        17.0      819\n",
       "3675  MIC_Plasma_S17_V1_A1_F2_D801-896        17.0      819\n",
       "5550  MIC_Plasma_S18_V1_A1_F1_D801-896        18.0      819\n",
       "5551  MIC_Plasma_S18_V1_A1_F2_D801-896        18.0      819\n",
       "9550  MIC_Plasma_S24_V1_A1_F1_D801-896        24.0      819\n",
       "9551  MIC_Plasma_S24_V1_A1_F2_D801-896        24.0      819"
      ]
     },
     "metadata": {},
     "output_type": "display_data"
    }
   ],
   "source": [
    "display(df.loc[(df[\"StimulusID\"].isin([17.0, 18.0, 19.0, 24.0])) & \\\n",
    "               (df[\"DonorID\"] == 819), \\\n",
    "               [\"Box\", \"StimulusID\", \"DonorID\"]])"
   ]
  },
  {
   "cell_type": "markdown",
   "metadata": {},
   "source": [
    "## Checking common fields\n",
    "\n",
    "We have 2 fractions, but each fraction have to contains common informations:\n",
    "\n",
    "* ParentID;\n",
    "* Position;\n",
    "* CreationDate;\n",
    "* UpdateDate;\n",
    "* AliquotID;\n",
    "* BoxType;\n",
    "* VisitID;\n",
    "* ThawCycle;\n",
    "* Volume;\n",
    "* Sample Source;\n",
    "* BatchID;\n",
    "* Sample Type.\n",
    "\n",
    "We expect to have same number of lines for each field, for each fraction:"
   ]
  },
  {
   "cell_type": "code",
   "execution_count": 16,
   "metadata": {
    "collapsed": false
   },
   "outputs": [
    {
     "data": {
      "text/markdown": [
       "### Look on Fraction 1"
      ],
      "text/plain": [
       "<IPython.core.display.Markdown object>"
      ]
     },
     "metadata": {},
     "output_type": "display_data"
    },
    {
     "data": {
      "text/markdown": [
       "#### ParentID field"
      ],
      "text/plain": [
       "<IPython.core.display.Markdown object>"
      ]
     },
     "metadata": {},
     "output_type": "display_data"
    },
    {
     "data": {
      "text/markdown": [
       "* 0 empty ParentID\n",
       "* 10000 unique ParentID"
      ],
      "text/plain": [
       "<IPython.core.display.Markdown object>"
      ]
     },
     "metadata": {},
     "output_type": "display_data"
    },
    {
     "data": {
      "text/markdown": [
       "#### Position field"
      ],
      "text/plain": [
       "<IPython.core.display.Markdown object>"
      ]
     },
     "metadata": {},
     "output_type": "display_data"
    },
    {
     "data": {
      "text/html": [
       "<div>\n",
       "<table border=\"1\" class=\"dataframe\">\n",
       "  <thead>\n",
       "    <tr style=\"text-align: right;\">\n",
       "      <th></th>\n",
       "      <th>Position</th>\n",
       "      <th>Tubes</th>\n",
       "    </tr>\n",
       "  </thead>\n",
       "  <tbody>\n",
       "    <tr>\n",
       "      <th>0</th>\n",
       "      <td>A / 1</td>\n",
       "      <td>110</td>\n",
       "    </tr>\n",
       "    <tr>\n",
       "      <th>1</th>\n",
       "      <td>A / 10</td>\n",
       "      <td>110</td>\n",
       "    </tr>\n",
       "    <tr>\n",
       "      <th>2</th>\n",
       "      <td>A / 11</td>\n",
       "      <td>100</td>\n",
       "    </tr>\n",
       "    <tr>\n",
       "      <th>3</th>\n",
       "      <td>A / 12</td>\n",
       "      <td>100</td>\n",
       "    </tr>\n",
       "    <tr>\n",
       "      <th>4</th>\n",
       "      <td>A / 2</td>\n",
       "      <td>110</td>\n",
       "    </tr>\n",
       "    <tr>\n",
       "      <th>5</th>\n",
       "      <td>A / 3</td>\n",
       "      <td>110</td>\n",
       "    </tr>\n",
       "    <tr>\n",
       "      <th>6</th>\n",
       "      <td>A / 4</td>\n",
       "      <td>110</td>\n",
       "    </tr>\n",
       "    <tr>\n",
       "      <th>7</th>\n",
       "      <td>A / 5</td>\n",
       "      <td>110</td>\n",
       "    </tr>\n",
       "    <tr>\n",
       "      <th>8</th>\n",
       "      <td>A / 6</td>\n",
       "      <td>110</td>\n",
       "    </tr>\n",
       "    <tr>\n",
       "      <th>9</th>\n",
       "      <td>A / 7</td>\n",
       "      <td>110</td>\n",
       "    </tr>\n",
       "    <tr>\n",
       "      <th>10</th>\n",
       "      <td>A / 8</td>\n",
       "      <td>110</td>\n",
       "    </tr>\n",
       "    <tr>\n",
       "      <th>11</th>\n",
       "      <td>A / 9</td>\n",
       "      <td>110</td>\n",
       "    </tr>\n",
       "    <tr>\n",
       "      <th>12</th>\n",
       "      <td>B / 1</td>\n",
       "      <td>110</td>\n",
       "    </tr>\n",
       "    <tr>\n",
       "      <th>13</th>\n",
       "      <td>B / 10</td>\n",
       "      <td>110</td>\n",
       "    </tr>\n",
       "    <tr>\n",
       "      <th>14</th>\n",
       "      <td>B / 11</td>\n",
       "      <td>100</td>\n",
       "    </tr>\n",
       "    <tr>\n",
       "      <th>15</th>\n",
       "      <td>B / 12</td>\n",
       "      <td>100</td>\n",
       "    </tr>\n",
       "    <tr>\n",
       "      <th>16</th>\n",
       "      <td>B / 2</td>\n",
       "      <td>110</td>\n",
       "    </tr>\n",
       "    <tr>\n",
       "      <th>17</th>\n",
       "      <td>B / 3</td>\n",
       "      <td>110</td>\n",
       "    </tr>\n",
       "    <tr>\n",
       "      <th>18</th>\n",
       "      <td>B / 4</td>\n",
       "      <td>110</td>\n",
       "    </tr>\n",
       "    <tr>\n",
       "      <th>19</th>\n",
       "      <td>B / 5</td>\n",
       "      <td>110</td>\n",
       "    </tr>\n",
       "    <tr>\n",
       "      <th>20</th>\n",
       "      <td>B / 6</td>\n",
       "      <td>110</td>\n",
       "    </tr>\n",
       "    <tr>\n",
       "      <th>21</th>\n",
       "      <td>B / 7</td>\n",
       "      <td>110</td>\n",
       "    </tr>\n",
       "    <tr>\n",
       "      <th>22</th>\n",
       "      <td>B / 8</td>\n",
       "      <td>110</td>\n",
       "    </tr>\n",
       "    <tr>\n",
       "      <th>23</th>\n",
       "      <td>B / 9</td>\n",
       "      <td>110</td>\n",
       "    </tr>\n",
       "    <tr>\n",
       "      <th>24</th>\n",
       "      <td>C / 1</td>\n",
       "      <td>110</td>\n",
       "    </tr>\n",
       "    <tr>\n",
       "      <th>25</th>\n",
       "      <td>C / 10</td>\n",
       "      <td>110</td>\n",
       "    </tr>\n",
       "    <tr>\n",
       "      <th>26</th>\n",
       "      <td>C / 11</td>\n",
       "      <td>100</td>\n",
       "    </tr>\n",
       "    <tr>\n",
       "      <th>27</th>\n",
       "      <td>C / 12</td>\n",
       "      <td>100</td>\n",
       "    </tr>\n",
       "    <tr>\n",
       "      <th>28</th>\n",
       "      <td>C / 2</td>\n",
       "      <td>110</td>\n",
       "    </tr>\n",
       "    <tr>\n",
       "      <th>29</th>\n",
       "      <td>C / 3</td>\n",
       "      <td>110</td>\n",
       "    </tr>\n",
       "    <tr>\n",
       "      <th>30</th>\n",
       "      <td>C / 4</td>\n",
       "      <td>110</td>\n",
       "    </tr>\n",
       "    <tr>\n",
       "      <th>31</th>\n",
       "      <td>C / 5</td>\n",
       "      <td>110</td>\n",
       "    </tr>\n",
       "    <tr>\n",
       "      <th>32</th>\n",
       "      <td>C / 6</td>\n",
       "      <td>110</td>\n",
       "    </tr>\n",
       "    <tr>\n",
       "      <th>33</th>\n",
       "      <td>C / 7</td>\n",
       "      <td>110</td>\n",
       "    </tr>\n",
       "    <tr>\n",
       "      <th>34</th>\n",
       "      <td>C / 8</td>\n",
       "      <td>110</td>\n",
       "    </tr>\n",
       "    <tr>\n",
       "      <th>35</th>\n",
       "      <td>C / 9</td>\n",
       "      <td>110</td>\n",
       "    </tr>\n",
       "    <tr>\n",
       "      <th>36</th>\n",
       "      <td>D / 1</td>\n",
       "      <td>110</td>\n",
       "    </tr>\n",
       "    <tr>\n",
       "      <th>37</th>\n",
       "      <td>D / 10</td>\n",
       "      <td>110</td>\n",
       "    </tr>\n",
       "    <tr>\n",
       "      <th>38</th>\n",
       "      <td>D / 11</td>\n",
       "      <td>100</td>\n",
       "    </tr>\n",
       "    <tr>\n",
       "      <th>39</th>\n",
       "      <td>D / 12</td>\n",
       "      <td>100</td>\n",
       "    </tr>\n",
       "    <tr>\n",
       "      <th>40</th>\n",
       "      <td>D / 2</td>\n",
       "      <td>110</td>\n",
       "    </tr>\n",
       "    <tr>\n",
       "      <th>41</th>\n",
       "      <td>D / 3</td>\n",
       "      <td>110</td>\n",
       "    </tr>\n",
       "    <tr>\n",
       "      <th>42</th>\n",
       "      <td>D / 4</td>\n",
       "      <td>110</td>\n",
       "    </tr>\n",
       "    <tr>\n",
       "      <th>43</th>\n",
       "      <td>D / 5</td>\n",
       "      <td>110</td>\n",
       "    </tr>\n",
       "    <tr>\n",
       "      <th>44</th>\n",
       "      <td>D / 6</td>\n",
       "      <td>110</td>\n",
       "    </tr>\n",
       "    <tr>\n",
       "      <th>45</th>\n",
       "      <td>D / 7</td>\n",
       "      <td>110</td>\n",
       "    </tr>\n",
       "    <tr>\n",
       "      <th>46</th>\n",
       "      <td>D / 8</td>\n",
       "      <td>110</td>\n",
       "    </tr>\n",
       "    <tr>\n",
       "      <th>47</th>\n",
       "      <td>D / 9</td>\n",
       "      <td>110</td>\n",
       "    </tr>\n",
       "    <tr>\n",
       "      <th>48</th>\n",
       "      <td>E / 1</td>\n",
       "      <td>100</td>\n",
       "    </tr>\n",
       "    <tr>\n",
       "      <th>49</th>\n",
       "      <td>E / 10</td>\n",
       "      <td>100</td>\n",
       "    </tr>\n",
       "    <tr>\n",
       "      <th>50</th>\n",
       "      <td>E / 11</td>\n",
       "      <td>100</td>\n",
       "    </tr>\n",
       "    <tr>\n",
       "      <th>51</th>\n",
       "      <td>E / 12</td>\n",
       "      <td>100</td>\n",
       "    </tr>\n",
       "    <tr>\n",
       "      <th>52</th>\n",
       "      <td>E / 2</td>\n",
       "      <td>100</td>\n",
       "    </tr>\n",
       "    <tr>\n",
       "      <th>53</th>\n",
       "      <td>E / 3</td>\n",
       "      <td>100</td>\n",
       "    </tr>\n",
       "    <tr>\n",
       "      <th>54</th>\n",
       "      <td>E / 4</td>\n",
       "      <td>100</td>\n",
       "    </tr>\n",
       "    <tr>\n",
       "      <th>55</th>\n",
       "      <td>E / 5</td>\n",
       "      <td>100</td>\n",
       "    </tr>\n",
       "    <tr>\n",
       "      <th>56</th>\n",
       "      <td>E / 6</td>\n",
       "      <td>100</td>\n",
       "    </tr>\n",
       "    <tr>\n",
       "      <th>57</th>\n",
       "      <td>E / 7</td>\n",
       "      <td>100</td>\n",
       "    </tr>\n",
       "    <tr>\n",
       "      <th>58</th>\n",
       "      <td>E / 8</td>\n",
       "      <td>100</td>\n",
       "    </tr>\n",
       "    <tr>\n",
       "      <th>59</th>\n",
       "      <td>E / 9</td>\n",
       "      <td>100</td>\n",
       "    </tr>\n",
       "    <tr>\n",
       "      <th>60</th>\n",
       "      <td>F / 1</td>\n",
       "      <td>100</td>\n",
       "    </tr>\n",
       "    <tr>\n",
       "      <th>61</th>\n",
       "      <td>F / 10</td>\n",
       "      <td>100</td>\n",
       "    </tr>\n",
       "    <tr>\n",
       "      <th>62</th>\n",
       "      <td>F / 11</td>\n",
       "      <td>100</td>\n",
       "    </tr>\n",
       "    <tr>\n",
       "      <th>63</th>\n",
       "      <td>F / 12</td>\n",
       "      <td>100</td>\n",
       "    </tr>\n",
       "    <tr>\n",
       "      <th>64</th>\n",
       "      <td>F / 2</td>\n",
       "      <td>100</td>\n",
       "    </tr>\n",
       "    <tr>\n",
       "      <th>65</th>\n",
       "      <td>F / 3</td>\n",
       "      <td>100</td>\n",
       "    </tr>\n",
       "    <tr>\n",
       "      <th>66</th>\n",
       "      <td>F / 4</td>\n",
       "      <td>100</td>\n",
       "    </tr>\n",
       "    <tr>\n",
       "      <th>67</th>\n",
       "      <td>F / 5</td>\n",
       "      <td>100</td>\n",
       "    </tr>\n",
       "    <tr>\n",
       "      <th>68</th>\n",
       "      <td>F / 6</td>\n",
       "      <td>100</td>\n",
       "    </tr>\n",
       "    <tr>\n",
       "      <th>69</th>\n",
       "      <td>F / 7</td>\n",
       "      <td>100</td>\n",
       "    </tr>\n",
       "    <tr>\n",
       "      <th>70</th>\n",
       "      <td>F / 8</td>\n",
       "      <td>100</td>\n",
       "    </tr>\n",
       "    <tr>\n",
       "      <th>71</th>\n",
       "      <td>F / 9</td>\n",
       "      <td>100</td>\n",
       "    </tr>\n",
       "    <tr>\n",
       "      <th>72</th>\n",
       "      <td>G / 1</td>\n",
       "      <td>100</td>\n",
       "    </tr>\n",
       "    <tr>\n",
       "      <th>73</th>\n",
       "      <td>G / 10</td>\n",
       "      <td>100</td>\n",
       "    </tr>\n",
       "    <tr>\n",
       "      <th>74</th>\n",
       "      <td>G / 11</td>\n",
       "      <td>100</td>\n",
       "    </tr>\n",
       "    <tr>\n",
       "      <th>75</th>\n",
       "      <td>G / 12</td>\n",
       "      <td>100</td>\n",
       "    </tr>\n",
       "    <tr>\n",
       "      <th>76</th>\n",
       "      <td>G / 2</td>\n",
       "      <td>100</td>\n",
       "    </tr>\n",
       "    <tr>\n",
       "      <th>77</th>\n",
       "      <td>G / 3</td>\n",
       "      <td>100</td>\n",
       "    </tr>\n",
       "    <tr>\n",
       "      <th>78</th>\n",
       "      <td>G / 4</td>\n",
       "      <td>100</td>\n",
       "    </tr>\n",
       "    <tr>\n",
       "      <th>79</th>\n",
       "      <td>G / 5</td>\n",
       "      <td>100</td>\n",
       "    </tr>\n",
       "    <tr>\n",
       "      <th>80</th>\n",
       "      <td>G / 6</td>\n",
       "      <td>100</td>\n",
       "    </tr>\n",
       "    <tr>\n",
       "      <th>81</th>\n",
       "      <td>G / 7</td>\n",
       "      <td>100</td>\n",
       "    </tr>\n",
       "    <tr>\n",
       "      <th>82</th>\n",
       "      <td>G / 8</td>\n",
       "      <td>100</td>\n",
       "    </tr>\n",
       "    <tr>\n",
       "      <th>83</th>\n",
       "      <td>G / 9</td>\n",
       "      <td>100</td>\n",
       "    </tr>\n",
       "    <tr>\n",
       "      <th>84</th>\n",
       "      <td>H / 1</td>\n",
       "      <td>100</td>\n",
       "    </tr>\n",
       "    <tr>\n",
       "      <th>85</th>\n",
       "      <td>H / 10</td>\n",
       "      <td>100</td>\n",
       "    </tr>\n",
       "    <tr>\n",
       "      <th>86</th>\n",
       "      <td>H / 11</td>\n",
       "      <td>100</td>\n",
       "    </tr>\n",
       "    <tr>\n",
       "      <th>87</th>\n",
       "      <td>H / 12</td>\n",
       "      <td>100</td>\n",
       "    </tr>\n",
       "    <tr>\n",
       "      <th>88</th>\n",
       "      <td>H / 2</td>\n",
       "      <td>100</td>\n",
       "    </tr>\n",
       "    <tr>\n",
       "      <th>89</th>\n",
       "      <td>H / 3</td>\n",
       "      <td>100</td>\n",
       "    </tr>\n",
       "    <tr>\n",
       "      <th>90</th>\n",
       "      <td>H / 4</td>\n",
       "      <td>100</td>\n",
       "    </tr>\n",
       "    <tr>\n",
       "      <th>91</th>\n",
       "      <td>H / 5</td>\n",
       "      <td>100</td>\n",
       "    </tr>\n",
       "    <tr>\n",
       "      <th>92</th>\n",
       "      <td>H / 6</td>\n",
       "      <td>100</td>\n",
       "    </tr>\n",
       "    <tr>\n",
       "      <th>93</th>\n",
       "      <td>H / 7</td>\n",
       "      <td>100</td>\n",
       "    </tr>\n",
       "    <tr>\n",
       "      <th>94</th>\n",
       "      <td>H / 8</td>\n",
       "      <td>100</td>\n",
       "    </tr>\n",
       "    <tr>\n",
       "      <th>95</th>\n",
       "      <td>H / 9</td>\n",
       "      <td>100</td>\n",
       "    </tr>\n",
       "  </tbody>\n",
       "</table>\n",
       "</div>"
      ],
      "text/plain": [
       "   Position  Tubes\n",
       "0     A / 1    110\n",
       "1    A / 10    110\n",
       "2    A / 11    100\n",
       "3    A / 12    100\n",
       "4     A / 2    110\n",
       "5     A / 3    110\n",
       "6     A / 4    110\n",
       "7     A / 5    110\n",
       "8     A / 6    110\n",
       "9     A / 7    110\n",
       "10    A / 8    110\n",
       "11    A / 9    110\n",
       "12    B / 1    110\n",
       "13   B / 10    110\n",
       "14   B / 11    100\n",
       "15   B / 12    100\n",
       "16    B / 2    110\n",
       "17    B / 3    110\n",
       "18    B / 4    110\n",
       "19    B / 5    110\n",
       "20    B / 6    110\n",
       "21    B / 7    110\n",
       "22    B / 8    110\n",
       "23    B / 9    110\n",
       "24    C / 1    110\n",
       "25   C / 10    110\n",
       "26   C / 11    100\n",
       "27   C / 12    100\n",
       "28    C / 2    110\n",
       "29    C / 3    110\n",
       "30    C / 4    110\n",
       "31    C / 5    110\n",
       "32    C / 6    110\n",
       "33    C / 7    110\n",
       "34    C / 8    110\n",
       "35    C / 9    110\n",
       "36    D / 1    110\n",
       "37   D / 10    110\n",
       "38   D / 11    100\n",
       "39   D / 12    100\n",
       "40    D / 2    110\n",
       "41    D / 3    110\n",
       "42    D / 4    110\n",
       "43    D / 5    110\n",
       "44    D / 6    110\n",
       "45    D / 7    110\n",
       "46    D / 8    110\n",
       "47    D / 9    110\n",
       "48    E / 1    100\n",
       "49   E / 10    100\n",
       "50   E / 11    100\n",
       "51   E / 12    100\n",
       "52    E / 2    100\n",
       "53    E / 3    100\n",
       "54    E / 4    100\n",
       "55    E / 5    100\n",
       "56    E / 6    100\n",
       "57    E / 7    100\n",
       "58    E / 8    100\n",
       "59    E / 9    100\n",
       "60    F / 1    100\n",
       "61   F / 10    100\n",
       "62   F / 11    100\n",
       "63   F / 12    100\n",
       "64    F / 2    100\n",
       "65    F / 3    100\n",
       "66    F / 4    100\n",
       "67    F / 5    100\n",
       "68    F / 6    100\n",
       "69    F / 7    100\n",
       "70    F / 8    100\n",
       "71    F / 9    100\n",
       "72    G / 1    100\n",
       "73   G / 10    100\n",
       "74   G / 11    100\n",
       "75   G / 12    100\n",
       "76    G / 2    100\n",
       "77    G / 3    100\n",
       "78    G / 4    100\n",
       "79    G / 5    100\n",
       "80    G / 6    100\n",
       "81    G / 7    100\n",
       "82    G / 8    100\n",
       "83    G / 9    100\n",
       "84    H / 1    100\n",
       "85   H / 10    100\n",
       "86   H / 11    100\n",
       "87   H / 12    100\n",
       "88    H / 2    100\n",
       "89    H / 3    100\n",
       "90    H / 4    100\n",
       "91    H / 5    100\n",
       "92    H / 6    100\n",
       "93    H / 7    100\n",
       "94    H / 8    100\n",
       "95    H / 9    100"
      ]
     },
     "metadata": {},
     "output_type": "display_data"
    },
    {
     "data": {
      "text/markdown": [
       "**10000** tubes for Position."
      ],
      "text/plain": [
       "<IPython.core.display.Markdown object>"
      ]
     },
     "metadata": {},
     "output_type": "display_data"
    },
    {
     "data": {
      "text/markdown": [
       "#### CreationDate field"
      ],
      "text/plain": [
       "<IPython.core.display.Markdown object>"
      ]
     },
     "metadata": {},
     "output_type": "display_data"
    },
    {
     "data": {
      "text/html": [
       "<div>\n",
       "<table border=\"1\" class=\"dataframe\">\n",
       "  <thead>\n",
       "    <tr style=\"text-align: right;\">\n",
       "      <th></th>\n",
       "      <th>CreationDate</th>\n",
       "      <th>Tubes</th>\n",
       "    </tr>\n",
       "  </thead>\n",
       "  <tbody>\n",
       "    <tr>\n",
       "      <th>0</th>\n",
       "      <td>05/09/16</td>\n",
       "      <td>288</td>\n",
       "    </tr>\n",
       "    <tr>\n",
       "      <th>1</th>\n",
       "      <td>06/09/16</td>\n",
       "      <td>287</td>\n",
       "    </tr>\n",
       "    <tr>\n",
       "      <th>2</th>\n",
       "      <td>07/09/16</td>\n",
       "      <td>575</td>\n",
       "    </tr>\n",
       "    <tr>\n",
       "      <th>3</th>\n",
       "      <td>07/10/16</td>\n",
       "      <td>410</td>\n",
       "    </tr>\n",
       "    <tr>\n",
       "      <th>4</th>\n",
       "      <td>08/09/16</td>\n",
       "      <td>576</td>\n",
       "    </tr>\n",
       "    <tr>\n",
       "      <th>5</th>\n",
       "      <td>09/09/16</td>\n",
       "      <td>575</td>\n",
       "    </tr>\n",
       "    <tr>\n",
       "      <th>6</th>\n",
       "      <td>20/09/16</td>\n",
       "      <td>576</td>\n",
       "    </tr>\n",
       "    <tr>\n",
       "      <th>7</th>\n",
       "      <td>21/09/16</td>\n",
       "      <td>863</td>\n",
       "    </tr>\n",
       "    <tr>\n",
       "      <th>8</th>\n",
       "      <td>22/09/16</td>\n",
       "      <td>1151</td>\n",
       "    </tr>\n",
       "    <tr>\n",
       "      <th>9</th>\n",
       "      <td>23/09/16</td>\n",
       "      <td>863</td>\n",
       "    </tr>\n",
       "    <tr>\n",
       "      <th>10</th>\n",
       "      <td>26/08/16</td>\n",
       "      <td>575</td>\n",
       "    </tr>\n",
       "    <tr>\n",
       "      <th>11</th>\n",
       "      <td>26/09/16</td>\n",
       "      <td>1150</td>\n",
       "    </tr>\n",
       "    <tr>\n",
       "      <th>12</th>\n",
       "      <td>28/09/16</td>\n",
       "      <td>576</td>\n",
       "    </tr>\n",
       "    <tr>\n",
       "      <th>13</th>\n",
       "      <td>29/08/16</td>\n",
       "      <td>575</td>\n",
       "    </tr>\n",
       "    <tr>\n",
       "      <th>14</th>\n",
       "      <td>29/09/16</td>\n",
       "      <td>288</td>\n",
       "    </tr>\n",
       "    <tr>\n",
       "      <th>15</th>\n",
       "      <td>30/08/16</td>\n",
       "      <td>288</td>\n",
       "    </tr>\n",
       "    <tr>\n",
       "      <th>16</th>\n",
       "      <td>31/08/16</td>\n",
       "      <td>384</td>\n",
       "    </tr>\n",
       "  </tbody>\n",
       "</table>\n",
       "</div>"
      ],
      "text/plain": [
       "   CreationDate  Tubes\n",
       "0      05/09/16    288\n",
       "1      06/09/16    287\n",
       "2      07/09/16    575\n",
       "3      07/10/16    410\n",
       "4      08/09/16    576\n",
       "5      09/09/16    575\n",
       "6      20/09/16    576\n",
       "7      21/09/16    863\n",
       "8      22/09/16   1151\n",
       "9      23/09/16    863\n",
       "10     26/08/16    575\n",
       "11     26/09/16   1150\n",
       "12     28/09/16    576\n",
       "13     29/08/16    575\n",
       "14     29/09/16    288\n",
       "15     30/08/16    288\n",
       "16     31/08/16    384"
      ]
     },
     "metadata": {},
     "output_type": "display_data"
    },
    {
     "data": {
      "text/markdown": [
       "**10000** tubes for CreationDate."
      ],
      "text/plain": [
       "<IPython.core.display.Markdown object>"
      ]
     },
     "metadata": {},
     "output_type": "display_data"
    },
    {
     "data": {
      "text/markdown": [
       "#### UpdateDate field"
      ],
      "text/plain": [
       "<IPython.core.display.Markdown object>"
      ]
     },
     "metadata": {},
     "output_type": "display_data"
    },
    {
     "data": {
      "text/html": [
       "<div>\n",
       "<table border=\"1\" class=\"dataframe\">\n",
       "  <thead>\n",
       "    <tr style=\"text-align: right;\">\n",
       "      <th></th>\n",
       "      <th>UpdateDate</th>\n",
       "      <th>Tubes</th>\n",
       "    </tr>\n",
       "  </thead>\n",
       "  <tbody>\n",
       "    <tr>\n",
       "      <th>0</th>\n",
       "      <td>05/09/16</td>\n",
       "      <td>288</td>\n",
       "    </tr>\n",
       "    <tr>\n",
       "      <th>1</th>\n",
       "      <td>06/09/16</td>\n",
       "      <td>287</td>\n",
       "    </tr>\n",
       "    <tr>\n",
       "      <th>2</th>\n",
       "      <td>07/09/16</td>\n",
       "      <td>575</td>\n",
       "    </tr>\n",
       "    <tr>\n",
       "      <th>3</th>\n",
       "      <td>07/10/16</td>\n",
       "      <td>410</td>\n",
       "    </tr>\n",
       "    <tr>\n",
       "      <th>4</th>\n",
       "      <td>08/09/16</td>\n",
       "      <td>576</td>\n",
       "    </tr>\n",
       "    <tr>\n",
       "      <th>5</th>\n",
       "      <td>09/09/16</td>\n",
       "      <td>575</td>\n",
       "    </tr>\n",
       "    <tr>\n",
       "      <th>6</th>\n",
       "      <td>20/09/16</td>\n",
       "      <td>576</td>\n",
       "    </tr>\n",
       "    <tr>\n",
       "      <th>7</th>\n",
       "      <td>21/09/16</td>\n",
       "      <td>863</td>\n",
       "    </tr>\n",
       "    <tr>\n",
       "      <th>8</th>\n",
       "      <td>22/09/16</td>\n",
       "      <td>1151</td>\n",
       "    </tr>\n",
       "    <tr>\n",
       "      <th>9</th>\n",
       "      <td>23/09/16</td>\n",
       "      <td>863</td>\n",
       "    </tr>\n",
       "    <tr>\n",
       "      <th>10</th>\n",
       "      <td>26/08/16</td>\n",
       "      <td>575</td>\n",
       "    </tr>\n",
       "    <tr>\n",
       "      <th>11</th>\n",
       "      <td>26/09/16</td>\n",
       "      <td>1150</td>\n",
       "    </tr>\n",
       "    <tr>\n",
       "      <th>12</th>\n",
       "      <td>28/09/16</td>\n",
       "      <td>576</td>\n",
       "    </tr>\n",
       "    <tr>\n",
       "      <th>13</th>\n",
       "      <td>29/08/16</td>\n",
       "      <td>575</td>\n",
       "    </tr>\n",
       "    <tr>\n",
       "      <th>14</th>\n",
       "      <td>29/09/16</td>\n",
       "      <td>288</td>\n",
       "    </tr>\n",
       "    <tr>\n",
       "      <th>15</th>\n",
       "      <td>30/08/16</td>\n",
       "      <td>288</td>\n",
       "    </tr>\n",
       "    <tr>\n",
       "      <th>16</th>\n",
       "      <td>31/08/16</td>\n",
       "      <td>384</td>\n",
       "    </tr>\n",
       "  </tbody>\n",
       "</table>\n",
       "</div>"
      ],
      "text/plain": [
       "   UpdateDate  Tubes\n",
       "0    05/09/16    288\n",
       "1    06/09/16    287\n",
       "2    07/09/16    575\n",
       "3    07/10/16    410\n",
       "4    08/09/16    576\n",
       "5    09/09/16    575\n",
       "6    20/09/16    576\n",
       "7    21/09/16    863\n",
       "8    22/09/16   1151\n",
       "9    23/09/16    863\n",
       "10   26/08/16    575\n",
       "11   26/09/16   1150\n",
       "12   28/09/16    576\n",
       "13   29/08/16    575\n",
       "14   29/09/16    288\n",
       "15   30/08/16    288\n",
       "16   31/08/16    384"
      ]
     },
     "metadata": {},
     "output_type": "display_data"
    },
    {
     "data": {
      "text/markdown": [
       "**10000** tubes for UpdateDate."
      ],
      "text/plain": [
       "<IPython.core.display.Markdown object>"
      ]
     },
     "metadata": {},
     "output_type": "display_data"
    },
    {
     "data": {
      "text/markdown": [
       "#### AliquotID field"
      ],
      "text/plain": [
       "<IPython.core.display.Markdown object>"
      ]
     },
     "metadata": {},
     "output_type": "display_data"
    },
    {
     "data": {
      "text/html": [
       "<div>\n",
       "<table border=\"1\" class=\"dataframe\">\n",
       "  <thead>\n",
       "    <tr style=\"text-align: right;\">\n",
       "      <th></th>\n",
       "      <th>AliquotID</th>\n",
       "      <th>Tubes</th>\n",
       "    </tr>\n",
       "  </thead>\n",
       "  <tbody>\n",
       "    <tr>\n",
       "      <th>0</th>\n",
       "      <td>1.0</td>\n",
       "      <td>10000</td>\n",
       "    </tr>\n",
       "  </tbody>\n",
       "</table>\n",
       "</div>"
      ],
      "text/plain": [
       "   AliquotID  Tubes\n",
       "0        1.0  10000"
      ]
     },
     "metadata": {},
     "output_type": "display_data"
    },
    {
     "data": {
      "text/markdown": [
       "**10000** tubes for AliquotID."
      ],
      "text/plain": [
       "<IPython.core.display.Markdown object>"
      ]
     },
     "metadata": {},
     "output_type": "display_data"
    },
    {
     "data": {
      "text/markdown": [
       "#### BoxType field"
      ],
      "text/plain": [
       "<IPython.core.display.Markdown object>"
      ]
     },
     "metadata": {},
     "output_type": "display_data"
    },
    {
     "data": {
      "text/html": [
       "<div>\n",
       "<table border=\"1\" class=\"dataframe\">\n",
       "  <thead>\n",
       "    <tr style=\"text-align: right;\">\n",
       "      <th></th>\n",
       "      <th>BoxType</th>\n",
       "      <th>Tubes</th>\n",
       "    </tr>\n",
       "  </thead>\n",
       "  <tbody>\n",
       "    <tr>\n",
       "      <th>0</th>\n",
       "      <td>96 (12 x 8) Well Plate</td>\n",
       "      <td>10000</td>\n",
       "    </tr>\n",
       "  </tbody>\n",
       "</table>\n",
       "</div>"
      ],
      "text/plain": [
       "                  BoxType  Tubes\n",
       "0  96 (12 x 8) Well Plate  10000"
      ]
     },
     "metadata": {},
     "output_type": "display_data"
    },
    {
     "data": {
      "text/markdown": [
       "**10000** tubes for BoxType."
      ],
      "text/plain": [
       "<IPython.core.display.Markdown object>"
      ]
     },
     "metadata": {},
     "output_type": "display_data"
    },
    {
     "data": {
      "text/markdown": [
       "#### VisitID field"
      ],
      "text/plain": [
       "<IPython.core.display.Markdown object>"
      ]
     },
     "metadata": {},
     "output_type": "display_data"
    },
    {
     "data": {
      "text/html": [
       "<div>\n",
       "<table border=\"1\" class=\"dataframe\">\n",
       "  <thead>\n",
       "    <tr style=\"text-align: right;\">\n",
       "      <th></th>\n",
       "      <th>VisitID</th>\n",
       "      <th>Tubes</th>\n",
       "    </tr>\n",
       "  </thead>\n",
       "  <tbody>\n",
       "    <tr>\n",
       "      <th>0</th>\n",
       "      <td>1.0</td>\n",
       "      <td>10000</td>\n",
       "    </tr>\n",
       "  </tbody>\n",
       "</table>\n",
       "</div>"
      ],
      "text/plain": [
       "   VisitID  Tubes\n",
       "0      1.0  10000"
      ]
     },
     "metadata": {},
     "output_type": "display_data"
    },
    {
     "data": {
      "text/markdown": [
       "**10000** tubes for VisitID."
      ],
      "text/plain": [
       "<IPython.core.display.Markdown object>"
      ]
     },
     "metadata": {},
     "output_type": "display_data"
    },
    {
     "data": {
      "text/markdown": [
       "#### ThawCycle field"
      ],
      "text/plain": [
       "<IPython.core.display.Markdown object>"
      ]
     },
     "metadata": {},
     "output_type": "display_data"
    },
    {
     "data": {
      "text/html": [
       "<div>\n",
       "<table border=\"1\" class=\"dataframe\">\n",
       "  <thead>\n",
       "    <tr style=\"text-align: right;\">\n",
       "      <th></th>\n",
       "      <th>ThawCycle</th>\n",
       "      <th>Tubes</th>\n",
       "    </tr>\n",
       "  </thead>\n",
       "  <tbody>\n",
       "    <tr>\n",
       "      <th>0</th>\n",
       "      <td>0.0</td>\n",
       "      <td>10000</td>\n",
       "    </tr>\n",
       "  </tbody>\n",
       "</table>\n",
       "</div>"
      ],
      "text/plain": [
       "   ThawCycle  Tubes\n",
       "0        0.0  10000"
      ]
     },
     "metadata": {},
     "output_type": "display_data"
    },
    {
     "data": {
      "text/markdown": [
       "**10000** tubes for ThawCycle."
      ],
      "text/plain": [
       "<IPython.core.display.Markdown object>"
      ]
     },
     "metadata": {},
     "output_type": "display_data"
    },
    {
     "data": {
      "text/markdown": [
       "#### Sample Source field"
      ],
      "text/plain": [
       "<IPython.core.display.Markdown object>"
      ]
     },
     "metadata": {},
     "output_type": "display_data"
    },
    {
     "data": {
      "text/markdown": [
       "* **0** empty Sample Source\n",
       "* **1000** unique Sample Source"
      ],
      "text/plain": [
       "<IPython.core.display.Markdown object>"
      ]
     },
     "metadata": {},
     "output_type": "display_data"
    },
    {
     "data": {
      "text/markdown": [
       "#### BatchID field"
      ],
      "text/plain": [
       "<IPython.core.display.Markdown object>"
      ]
     },
     "metadata": {},
     "output_type": "display_data"
    },
    {
     "data": {
      "text/html": [
       "<div>\n",
       "<table border=\"1\" class=\"dataframe\">\n",
       "  <thead>\n",
       "    <tr style=\"text-align: right;\">\n",
       "      <th></th>\n",
       "      <th>BatchID</th>\n",
       "      <th>Tubes</th>\n",
       "    </tr>\n",
       "  </thead>\n",
       "  <tbody>\n",
       "    <tr>\n",
       "      <th>0</th>\n",
       "      <td>A</td>\n",
       "      <td>6060</td>\n",
       "    </tr>\n",
       "    <tr>\n",
       "      <th>1</th>\n",
       "      <td>B</td>\n",
       "      <td>3940</td>\n",
       "    </tr>\n",
       "  </tbody>\n",
       "</table>\n",
       "</div>"
      ],
      "text/plain": [
       "  BatchID  Tubes\n",
       "0       A   6060\n",
       "1       B   3940"
      ]
     },
     "metadata": {},
     "output_type": "display_data"
    },
    {
     "data": {
      "text/markdown": [
       "**10000** tubes for ThawCycle."
      ],
      "text/plain": [
       "<IPython.core.display.Markdown object>"
      ]
     },
     "metadata": {},
     "output_type": "display_data"
    },
    {
     "data": {
      "text/markdown": [
       "#### Sample Type field"
      ],
      "text/plain": [
       "<IPython.core.display.Markdown object>"
      ]
     },
     "metadata": {},
     "output_type": "display_data"
    },
    {
     "data": {
      "text/html": [
       "<div>\n",
       "<table border=\"1\" class=\"dataframe\">\n",
       "  <thead>\n",
       "    <tr style=\"text-align: right;\">\n",
       "      <th></th>\n",
       "      <th>Sample Type</th>\n",
       "      <th>Tubes</th>\n",
       "    </tr>\n",
       "  </thead>\n",
       "  <tbody>\n",
       "    <tr>\n",
       "      <th>0</th>\n",
       "      <td>Fraction1</td>\n",
       "      <td>10000</td>\n",
       "    </tr>\n",
       "  </tbody>\n",
       "</table>\n",
       "</div>"
      ],
      "text/plain": [
       "  Sample Type  Tubes\n",
       "0   Fraction1  10000"
      ]
     },
     "metadata": {},
     "output_type": "display_data"
    },
    {
     "data": {
      "text/markdown": [
       "**10000** tubes for Sample Type."
      ],
      "text/plain": [
       "<IPython.core.display.Markdown object>"
      ]
     },
     "metadata": {},
     "output_type": "display_data"
    },
    {
     "data": {
      "text/markdown": [
       "### Look on Fraction 2"
      ],
      "text/plain": [
       "<IPython.core.display.Markdown object>"
      ]
     },
     "metadata": {},
     "output_type": "display_data"
    },
    {
     "data": {
      "text/markdown": [
       "#### ParentID field"
      ],
      "text/plain": [
       "<IPython.core.display.Markdown object>"
      ]
     },
     "metadata": {},
     "output_type": "display_data"
    },
    {
     "data": {
      "text/markdown": [
       "* 0 empty ParentID\n",
       "* 10000 unique ParentID"
      ],
      "text/plain": [
       "<IPython.core.display.Markdown object>"
      ]
     },
     "metadata": {},
     "output_type": "display_data"
    },
    {
     "data": {
      "text/markdown": [
       "#### Position field"
      ],
      "text/plain": [
       "<IPython.core.display.Markdown object>"
      ]
     },
     "metadata": {},
     "output_type": "display_data"
    },
    {
     "data": {
      "text/html": [
       "<div>\n",
       "<table border=\"1\" class=\"dataframe\">\n",
       "  <thead>\n",
       "    <tr style=\"text-align: right;\">\n",
       "      <th></th>\n",
       "      <th>Position</th>\n",
       "      <th>Tubes</th>\n",
       "    </tr>\n",
       "  </thead>\n",
       "  <tbody>\n",
       "    <tr>\n",
       "      <th>0</th>\n",
       "      <td>A / 1</td>\n",
       "      <td>110</td>\n",
       "    </tr>\n",
       "    <tr>\n",
       "      <th>1</th>\n",
       "      <td>A / 10</td>\n",
       "      <td>110</td>\n",
       "    </tr>\n",
       "    <tr>\n",
       "      <th>2</th>\n",
       "      <td>A / 11</td>\n",
       "      <td>100</td>\n",
       "    </tr>\n",
       "    <tr>\n",
       "      <th>3</th>\n",
       "      <td>A / 12</td>\n",
       "      <td>100</td>\n",
       "    </tr>\n",
       "    <tr>\n",
       "      <th>4</th>\n",
       "      <td>A / 2</td>\n",
       "      <td>110</td>\n",
       "    </tr>\n",
       "    <tr>\n",
       "      <th>5</th>\n",
       "      <td>A / 3</td>\n",
       "      <td>110</td>\n",
       "    </tr>\n",
       "    <tr>\n",
       "      <th>6</th>\n",
       "      <td>A / 4</td>\n",
       "      <td>110</td>\n",
       "    </tr>\n",
       "    <tr>\n",
       "      <th>7</th>\n",
       "      <td>A / 5</td>\n",
       "      <td>110</td>\n",
       "    </tr>\n",
       "    <tr>\n",
       "      <th>8</th>\n",
       "      <td>A / 6</td>\n",
       "      <td>110</td>\n",
       "    </tr>\n",
       "    <tr>\n",
       "      <th>9</th>\n",
       "      <td>A / 7</td>\n",
       "      <td>110</td>\n",
       "    </tr>\n",
       "    <tr>\n",
       "      <th>10</th>\n",
       "      <td>A / 8</td>\n",
       "      <td>110</td>\n",
       "    </tr>\n",
       "    <tr>\n",
       "      <th>11</th>\n",
       "      <td>A / 9</td>\n",
       "      <td>110</td>\n",
       "    </tr>\n",
       "    <tr>\n",
       "      <th>12</th>\n",
       "      <td>B / 1</td>\n",
       "      <td>110</td>\n",
       "    </tr>\n",
       "    <tr>\n",
       "      <th>13</th>\n",
       "      <td>B / 10</td>\n",
       "      <td>110</td>\n",
       "    </tr>\n",
       "    <tr>\n",
       "      <th>14</th>\n",
       "      <td>B / 11</td>\n",
       "      <td>100</td>\n",
       "    </tr>\n",
       "    <tr>\n",
       "      <th>15</th>\n",
       "      <td>B / 12</td>\n",
       "      <td>100</td>\n",
       "    </tr>\n",
       "    <tr>\n",
       "      <th>16</th>\n",
       "      <td>B / 2</td>\n",
       "      <td>110</td>\n",
       "    </tr>\n",
       "    <tr>\n",
       "      <th>17</th>\n",
       "      <td>B / 3</td>\n",
       "      <td>110</td>\n",
       "    </tr>\n",
       "    <tr>\n",
       "      <th>18</th>\n",
       "      <td>B / 4</td>\n",
       "      <td>110</td>\n",
       "    </tr>\n",
       "    <tr>\n",
       "      <th>19</th>\n",
       "      <td>B / 5</td>\n",
       "      <td>110</td>\n",
       "    </tr>\n",
       "    <tr>\n",
       "      <th>20</th>\n",
       "      <td>B / 6</td>\n",
       "      <td>110</td>\n",
       "    </tr>\n",
       "    <tr>\n",
       "      <th>21</th>\n",
       "      <td>B / 7</td>\n",
       "      <td>110</td>\n",
       "    </tr>\n",
       "    <tr>\n",
       "      <th>22</th>\n",
       "      <td>B / 8</td>\n",
       "      <td>110</td>\n",
       "    </tr>\n",
       "    <tr>\n",
       "      <th>23</th>\n",
       "      <td>B / 9</td>\n",
       "      <td>110</td>\n",
       "    </tr>\n",
       "    <tr>\n",
       "      <th>24</th>\n",
       "      <td>C / 1</td>\n",
       "      <td>110</td>\n",
       "    </tr>\n",
       "    <tr>\n",
       "      <th>25</th>\n",
       "      <td>C / 10</td>\n",
       "      <td>110</td>\n",
       "    </tr>\n",
       "    <tr>\n",
       "      <th>26</th>\n",
       "      <td>C / 11</td>\n",
       "      <td>100</td>\n",
       "    </tr>\n",
       "    <tr>\n",
       "      <th>27</th>\n",
       "      <td>C / 12</td>\n",
       "      <td>100</td>\n",
       "    </tr>\n",
       "    <tr>\n",
       "      <th>28</th>\n",
       "      <td>C / 2</td>\n",
       "      <td>110</td>\n",
       "    </tr>\n",
       "    <tr>\n",
       "      <th>29</th>\n",
       "      <td>C / 3</td>\n",
       "      <td>110</td>\n",
       "    </tr>\n",
       "    <tr>\n",
       "      <th>30</th>\n",
       "      <td>C / 4</td>\n",
       "      <td>110</td>\n",
       "    </tr>\n",
       "    <tr>\n",
       "      <th>31</th>\n",
       "      <td>C / 5</td>\n",
       "      <td>110</td>\n",
       "    </tr>\n",
       "    <tr>\n",
       "      <th>32</th>\n",
       "      <td>C / 6</td>\n",
       "      <td>110</td>\n",
       "    </tr>\n",
       "    <tr>\n",
       "      <th>33</th>\n",
       "      <td>C / 7</td>\n",
       "      <td>110</td>\n",
       "    </tr>\n",
       "    <tr>\n",
       "      <th>34</th>\n",
       "      <td>C / 8</td>\n",
       "      <td>110</td>\n",
       "    </tr>\n",
       "    <tr>\n",
       "      <th>35</th>\n",
       "      <td>C / 9</td>\n",
       "      <td>110</td>\n",
       "    </tr>\n",
       "    <tr>\n",
       "      <th>36</th>\n",
       "      <td>D / 1</td>\n",
       "      <td>110</td>\n",
       "    </tr>\n",
       "    <tr>\n",
       "      <th>37</th>\n",
       "      <td>D / 10</td>\n",
       "      <td>110</td>\n",
       "    </tr>\n",
       "    <tr>\n",
       "      <th>38</th>\n",
       "      <td>D / 11</td>\n",
       "      <td>100</td>\n",
       "    </tr>\n",
       "    <tr>\n",
       "      <th>39</th>\n",
       "      <td>D / 12</td>\n",
       "      <td>100</td>\n",
       "    </tr>\n",
       "    <tr>\n",
       "      <th>40</th>\n",
       "      <td>D / 2</td>\n",
       "      <td>110</td>\n",
       "    </tr>\n",
       "    <tr>\n",
       "      <th>41</th>\n",
       "      <td>D / 3</td>\n",
       "      <td>110</td>\n",
       "    </tr>\n",
       "    <tr>\n",
       "      <th>42</th>\n",
       "      <td>D / 4</td>\n",
       "      <td>110</td>\n",
       "    </tr>\n",
       "    <tr>\n",
       "      <th>43</th>\n",
       "      <td>D / 5</td>\n",
       "      <td>110</td>\n",
       "    </tr>\n",
       "    <tr>\n",
       "      <th>44</th>\n",
       "      <td>D / 6</td>\n",
       "      <td>110</td>\n",
       "    </tr>\n",
       "    <tr>\n",
       "      <th>45</th>\n",
       "      <td>D / 7</td>\n",
       "      <td>110</td>\n",
       "    </tr>\n",
       "    <tr>\n",
       "      <th>46</th>\n",
       "      <td>D / 8</td>\n",
       "      <td>110</td>\n",
       "    </tr>\n",
       "    <tr>\n",
       "      <th>47</th>\n",
       "      <td>D / 9</td>\n",
       "      <td>110</td>\n",
       "    </tr>\n",
       "    <tr>\n",
       "      <th>48</th>\n",
       "      <td>E / 1</td>\n",
       "      <td>100</td>\n",
       "    </tr>\n",
       "    <tr>\n",
       "      <th>49</th>\n",
       "      <td>E / 10</td>\n",
       "      <td>100</td>\n",
       "    </tr>\n",
       "    <tr>\n",
       "      <th>50</th>\n",
       "      <td>E / 11</td>\n",
       "      <td>100</td>\n",
       "    </tr>\n",
       "    <tr>\n",
       "      <th>51</th>\n",
       "      <td>E / 12</td>\n",
       "      <td>100</td>\n",
       "    </tr>\n",
       "    <tr>\n",
       "      <th>52</th>\n",
       "      <td>E / 2</td>\n",
       "      <td>100</td>\n",
       "    </tr>\n",
       "    <tr>\n",
       "      <th>53</th>\n",
       "      <td>E / 3</td>\n",
       "      <td>100</td>\n",
       "    </tr>\n",
       "    <tr>\n",
       "      <th>54</th>\n",
       "      <td>E / 4</td>\n",
       "      <td>100</td>\n",
       "    </tr>\n",
       "    <tr>\n",
       "      <th>55</th>\n",
       "      <td>E / 5</td>\n",
       "      <td>100</td>\n",
       "    </tr>\n",
       "    <tr>\n",
       "      <th>56</th>\n",
       "      <td>E / 6</td>\n",
       "      <td>100</td>\n",
       "    </tr>\n",
       "    <tr>\n",
       "      <th>57</th>\n",
       "      <td>E / 7</td>\n",
       "      <td>100</td>\n",
       "    </tr>\n",
       "    <tr>\n",
       "      <th>58</th>\n",
       "      <td>E / 8</td>\n",
       "      <td>100</td>\n",
       "    </tr>\n",
       "    <tr>\n",
       "      <th>59</th>\n",
       "      <td>E / 9</td>\n",
       "      <td>100</td>\n",
       "    </tr>\n",
       "    <tr>\n",
       "      <th>60</th>\n",
       "      <td>F / 1</td>\n",
       "      <td>100</td>\n",
       "    </tr>\n",
       "    <tr>\n",
       "      <th>61</th>\n",
       "      <td>F / 10</td>\n",
       "      <td>100</td>\n",
       "    </tr>\n",
       "    <tr>\n",
       "      <th>62</th>\n",
       "      <td>F / 11</td>\n",
       "      <td>100</td>\n",
       "    </tr>\n",
       "    <tr>\n",
       "      <th>63</th>\n",
       "      <td>F / 12</td>\n",
       "      <td>100</td>\n",
       "    </tr>\n",
       "    <tr>\n",
       "      <th>64</th>\n",
       "      <td>F / 2</td>\n",
       "      <td>100</td>\n",
       "    </tr>\n",
       "    <tr>\n",
       "      <th>65</th>\n",
       "      <td>F / 3</td>\n",
       "      <td>100</td>\n",
       "    </tr>\n",
       "    <tr>\n",
       "      <th>66</th>\n",
       "      <td>F / 4</td>\n",
       "      <td>100</td>\n",
       "    </tr>\n",
       "    <tr>\n",
       "      <th>67</th>\n",
       "      <td>F / 5</td>\n",
       "      <td>100</td>\n",
       "    </tr>\n",
       "    <tr>\n",
       "      <th>68</th>\n",
       "      <td>F / 6</td>\n",
       "      <td>100</td>\n",
       "    </tr>\n",
       "    <tr>\n",
       "      <th>69</th>\n",
       "      <td>F / 7</td>\n",
       "      <td>100</td>\n",
       "    </tr>\n",
       "    <tr>\n",
       "      <th>70</th>\n",
       "      <td>F / 8</td>\n",
       "      <td>100</td>\n",
       "    </tr>\n",
       "    <tr>\n",
       "      <th>71</th>\n",
       "      <td>F / 9</td>\n",
       "      <td>100</td>\n",
       "    </tr>\n",
       "    <tr>\n",
       "      <th>72</th>\n",
       "      <td>G / 1</td>\n",
       "      <td>100</td>\n",
       "    </tr>\n",
       "    <tr>\n",
       "      <th>73</th>\n",
       "      <td>G / 10</td>\n",
       "      <td>100</td>\n",
       "    </tr>\n",
       "    <tr>\n",
       "      <th>74</th>\n",
       "      <td>G / 11</td>\n",
       "      <td>100</td>\n",
       "    </tr>\n",
       "    <tr>\n",
       "      <th>75</th>\n",
       "      <td>G / 12</td>\n",
       "      <td>100</td>\n",
       "    </tr>\n",
       "    <tr>\n",
       "      <th>76</th>\n",
       "      <td>G / 2</td>\n",
       "      <td>100</td>\n",
       "    </tr>\n",
       "    <tr>\n",
       "      <th>77</th>\n",
       "      <td>G / 3</td>\n",
       "      <td>100</td>\n",
       "    </tr>\n",
       "    <tr>\n",
       "      <th>78</th>\n",
       "      <td>G / 4</td>\n",
       "      <td>100</td>\n",
       "    </tr>\n",
       "    <tr>\n",
       "      <th>79</th>\n",
       "      <td>G / 5</td>\n",
       "      <td>100</td>\n",
       "    </tr>\n",
       "    <tr>\n",
       "      <th>80</th>\n",
       "      <td>G / 6</td>\n",
       "      <td>100</td>\n",
       "    </tr>\n",
       "    <tr>\n",
       "      <th>81</th>\n",
       "      <td>G / 7</td>\n",
       "      <td>100</td>\n",
       "    </tr>\n",
       "    <tr>\n",
       "      <th>82</th>\n",
       "      <td>G / 8</td>\n",
       "      <td>100</td>\n",
       "    </tr>\n",
       "    <tr>\n",
       "      <th>83</th>\n",
       "      <td>G / 9</td>\n",
       "      <td>100</td>\n",
       "    </tr>\n",
       "    <tr>\n",
       "      <th>84</th>\n",
       "      <td>H / 1</td>\n",
       "      <td>100</td>\n",
       "    </tr>\n",
       "    <tr>\n",
       "      <th>85</th>\n",
       "      <td>H / 10</td>\n",
       "      <td>100</td>\n",
       "    </tr>\n",
       "    <tr>\n",
       "      <th>86</th>\n",
       "      <td>H / 11</td>\n",
       "      <td>100</td>\n",
       "    </tr>\n",
       "    <tr>\n",
       "      <th>87</th>\n",
       "      <td>H / 12</td>\n",
       "      <td>100</td>\n",
       "    </tr>\n",
       "    <tr>\n",
       "      <th>88</th>\n",
       "      <td>H / 2</td>\n",
       "      <td>100</td>\n",
       "    </tr>\n",
       "    <tr>\n",
       "      <th>89</th>\n",
       "      <td>H / 3</td>\n",
       "      <td>100</td>\n",
       "    </tr>\n",
       "    <tr>\n",
       "      <th>90</th>\n",
       "      <td>H / 4</td>\n",
       "      <td>100</td>\n",
       "    </tr>\n",
       "    <tr>\n",
       "      <th>91</th>\n",
       "      <td>H / 5</td>\n",
       "      <td>100</td>\n",
       "    </tr>\n",
       "    <tr>\n",
       "      <th>92</th>\n",
       "      <td>H / 6</td>\n",
       "      <td>100</td>\n",
       "    </tr>\n",
       "    <tr>\n",
       "      <th>93</th>\n",
       "      <td>H / 7</td>\n",
       "      <td>100</td>\n",
       "    </tr>\n",
       "    <tr>\n",
       "      <th>94</th>\n",
       "      <td>H / 8</td>\n",
       "      <td>100</td>\n",
       "    </tr>\n",
       "    <tr>\n",
       "      <th>95</th>\n",
       "      <td>H / 9</td>\n",
       "      <td>100</td>\n",
       "    </tr>\n",
       "  </tbody>\n",
       "</table>\n",
       "</div>"
      ],
      "text/plain": [
       "   Position  Tubes\n",
       "0     A / 1    110\n",
       "1    A / 10    110\n",
       "2    A / 11    100\n",
       "3    A / 12    100\n",
       "4     A / 2    110\n",
       "5     A / 3    110\n",
       "6     A / 4    110\n",
       "7     A / 5    110\n",
       "8     A / 6    110\n",
       "9     A / 7    110\n",
       "10    A / 8    110\n",
       "11    A / 9    110\n",
       "12    B / 1    110\n",
       "13   B / 10    110\n",
       "14   B / 11    100\n",
       "15   B / 12    100\n",
       "16    B / 2    110\n",
       "17    B / 3    110\n",
       "18    B / 4    110\n",
       "19    B / 5    110\n",
       "20    B / 6    110\n",
       "21    B / 7    110\n",
       "22    B / 8    110\n",
       "23    B / 9    110\n",
       "24    C / 1    110\n",
       "25   C / 10    110\n",
       "26   C / 11    100\n",
       "27   C / 12    100\n",
       "28    C / 2    110\n",
       "29    C / 3    110\n",
       "30    C / 4    110\n",
       "31    C / 5    110\n",
       "32    C / 6    110\n",
       "33    C / 7    110\n",
       "34    C / 8    110\n",
       "35    C / 9    110\n",
       "36    D / 1    110\n",
       "37   D / 10    110\n",
       "38   D / 11    100\n",
       "39   D / 12    100\n",
       "40    D / 2    110\n",
       "41    D / 3    110\n",
       "42    D / 4    110\n",
       "43    D / 5    110\n",
       "44    D / 6    110\n",
       "45    D / 7    110\n",
       "46    D / 8    110\n",
       "47    D / 9    110\n",
       "48    E / 1    100\n",
       "49   E / 10    100\n",
       "50   E / 11    100\n",
       "51   E / 12    100\n",
       "52    E / 2    100\n",
       "53    E / 3    100\n",
       "54    E / 4    100\n",
       "55    E / 5    100\n",
       "56    E / 6    100\n",
       "57    E / 7    100\n",
       "58    E / 8    100\n",
       "59    E / 9    100\n",
       "60    F / 1    100\n",
       "61   F / 10    100\n",
       "62   F / 11    100\n",
       "63   F / 12    100\n",
       "64    F / 2    100\n",
       "65    F / 3    100\n",
       "66    F / 4    100\n",
       "67    F / 5    100\n",
       "68    F / 6    100\n",
       "69    F / 7    100\n",
       "70    F / 8    100\n",
       "71    F / 9    100\n",
       "72    G / 1    100\n",
       "73   G / 10    100\n",
       "74   G / 11    100\n",
       "75   G / 12    100\n",
       "76    G / 2    100\n",
       "77    G / 3    100\n",
       "78    G / 4    100\n",
       "79    G / 5    100\n",
       "80    G / 6    100\n",
       "81    G / 7    100\n",
       "82    G / 8    100\n",
       "83    G / 9    100\n",
       "84    H / 1    100\n",
       "85   H / 10    100\n",
       "86   H / 11    100\n",
       "87   H / 12    100\n",
       "88    H / 2    100\n",
       "89    H / 3    100\n",
       "90    H / 4    100\n",
       "91    H / 5    100\n",
       "92    H / 6    100\n",
       "93    H / 7    100\n",
       "94    H / 8    100\n",
       "95    H / 9    100"
      ]
     },
     "metadata": {},
     "output_type": "display_data"
    },
    {
     "data": {
      "text/markdown": [
       "**10000** tubes for Position."
      ],
      "text/plain": [
       "<IPython.core.display.Markdown object>"
      ]
     },
     "metadata": {},
     "output_type": "display_data"
    },
    {
     "data": {
      "text/markdown": [
       "#### CreationDate field"
      ],
      "text/plain": [
       "<IPython.core.display.Markdown object>"
      ]
     },
     "metadata": {},
     "output_type": "display_data"
    },
    {
     "data": {
      "text/html": [
       "<div>\n",
       "<table border=\"1\" class=\"dataframe\">\n",
       "  <thead>\n",
       "    <tr style=\"text-align: right;\">\n",
       "      <th></th>\n",
       "      <th>CreationDate</th>\n",
       "      <th>Tubes</th>\n",
       "    </tr>\n",
       "  </thead>\n",
       "  <tbody>\n",
       "    <tr>\n",
       "      <th>0</th>\n",
       "      <td>05/09/16</td>\n",
       "      <td>288</td>\n",
       "    </tr>\n",
       "    <tr>\n",
       "      <th>1</th>\n",
       "      <td>06/09/16</td>\n",
       "      <td>287</td>\n",
       "    </tr>\n",
       "    <tr>\n",
       "      <th>2</th>\n",
       "      <td>07/09/16</td>\n",
       "      <td>575</td>\n",
       "    </tr>\n",
       "    <tr>\n",
       "      <th>3</th>\n",
       "      <td>07/10/16</td>\n",
       "      <td>410</td>\n",
       "    </tr>\n",
       "    <tr>\n",
       "      <th>4</th>\n",
       "      <td>08/09/16</td>\n",
       "      <td>576</td>\n",
       "    </tr>\n",
       "    <tr>\n",
       "      <th>5</th>\n",
       "      <td>09/09/16</td>\n",
       "      <td>575</td>\n",
       "    </tr>\n",
       "    <tr>\n",
       "      <th>6</th>\n",
       "      <td>20/09/16</td>\n",
       "      <td>576</td>\n",
       "    </tr>\n",
       "    <tr>\n",
       "      <th>7</th>\n",
       "      <td>21/09/16</td>\n",
       "      <td>863</td>\n",
       "    </tr>\n",
       "    <tr>\n",
       "      <th>8</th>\n",
       "      <td>22/09/16</td>\n",
       "      <td>1151</td>\n",
       "    </tr>\n",
       "    <tr>\n",
       "      <th>9</th>\n",
       "      <td>23/09/16</td>\n",
       "      <td>863</td>\n",
       "    </tr>\n",
       "    <tr>\n",
       "      <th>10</th>\n",
       "      <td>26/08/16</td>\n",
       "      <td>575</td>\n",
       "    </tr>\n",
       "    <tr>\n",
       "      <th>11</th>\n",
       "      <td>26/09/16</td>\n",
       "      <td>1150</td>\n",
       "    </tr>\n",
       "    <tr>\n",
       "      <th>12</th>\n",
       "      <td>28/09/16</td>\n",
       "      <td>576</td>\n",
       "    </tr>\n",
       "    <tr>\n",
       "      <th>13</th>\n",
       "      <td>29/08/16</td>\n",
       "      <td>575</td>\n",
       "    </tr>\n",
       "    <tr>\n",
       "      <th>14</th>\n",
       "      <td>29/09/16</td>\n",
       "      <td>288</td>\n",
       "    </tr>\n",
       "    <tr>\n",
       "      <th>15</th>\n",
       "      <td>30/08/16</td>\n",
       "      <td>288</td>\n",
       "    </tr>\n",
       "    <tr>\n",
       "      <th>16</th>\n",
       "      <td>31/08/16</td>\n",
       "      <td>384</td>\n",
       "    </tr>\n",
       "  </tbody>\n",
       "</table>\n",
       "</div>"
      ],
      "text/plain": [
       "   CreationDate  Tubes\n",
       "0      05/09/16    288\n",
       "1      06/09/16    287\n",
       "2      07/09/16    575\n",
       "3      07/10/16    410\n",
       "4      08/09/16    576\n",
       "5      09/09/16    575\n",
       "6      20/09/16    576\n",
       "7      21/09/16    863\n",
       "8      22/09/16   1151\n",
       "9      23/09/16    863\n",
       "10     26/08/16    575\n",
       "11     26/09/16   1150\n",
       "12     28/09/16    576\n",
       "13     29/08/16    575\n",
       "14     29/09/16    288\n",
       "15     30/08/16    288\n",
       "16     31/08/16    384"
      ]
     },
     "metadata": {},
     "output_type": "display_data"
    },
    {
     "data": {
      "text/markdown": [
       "**10000** tubes for CreationDate."
      ],
      "text/plain": [
       "<IPython.core.display.Markdown object>"
      ]
     },
     "metadata": {},
     "output_type": "display_data"
    },
    {
     "data": {
      "text/markdown": [
       "#### UpdateDate field"
      ],
      "text/plain": [
       "<IPython.core.display.Markdown object>"
      ]
     },
     "metadata": {},
     "output_type": "display_data"
    },
    {
     "data": {
      "text/html": [
       "<div>\n",
       "<table border=\"1\" class=\"dataframe\">\n",
       "  <thead>\n",
       "    <tr style=\"text-align: right;\">\n",
       "      <th></th>\n",
       "      <th>UpdateDate</th>\n",
       "      <th>Tubes</th>\n",
       "    </tr>\n",
       "  </thead>\n",
       "  <tbody>\n",
       "    <tr>\n",
       "      <th>0</th>\n",
       "      <td>05/09/16</td>\n",
       "      <td>288</td>\n",
       "    </tr>\n",
       "    <tr>\n",
       "      <th>1</th>\n",
       "      <td>06/09/16</td>\n",
       "      <td>287</td>\n",
       "    </tr>\n",
       "    <tr>\n",
       "      <th>2</th>\n",
       "      <td>07/09/16</td>\n",
       "      <td>575</td>\n",
       "    </tr>\n",
       "    <tr>\n",
       "      <th>3</th>\n",
       "      <td>07/10/16</td>\n",
       "      <td>410</td>\n",
       "    </tr>\n",
       "    <tr>\n",
       "      <th>4</th>\n",
       "      <td>08/09/16</td>\n",
       "      <td>576</td>\n",
       "    </tr>\n",
       "    <tr>\n",
       "      <th>5</th>\n",
       "      <td>09/09/16</td>\n",
       "      <td>575</td>\n",
       "    </tr>\n",
       "    <tr>\n",
       "      <th>6</th>\n",
       "      <td>20/09/16</td>\n",
       "      <td>576</td>\n",
       "    </tr>\n",
       "    <tr>\n",
       "      <th>7</th>\n",
       "      <td>21/09/16</td>\n",
       "      <td>863</td>\n",
       "    </tr>\n",
       "    <tr>\n",
       "      <th>8</th>\n",
       "      <td>22/09/16</td>\n",
       "      <td>1151</td>\n",
       "    </tr>\n",
       "    <tr>\n",
       "      <th>9</th>\n",
       "      <td>23/09/16</td>\n",
       "      <td>863</td>\n",
       "    </tr>\n",
       "    <tr>\n",
       "      <th>10</th>\n",
       "      <td>26/08/16</td>\n",
       "      <td>575</td>\n",
       "    </tr>\n",
       "    <tr>\n",
       "      <th>11</th>\n",
       "      <td>26/09/16</td>\n",
       "      <td>1150</td>\n",
       "    </tr>\n",
       "    <tr>\n",
       "      <th>12</th>\n",
       "      <td>28/09/16</td>\n",
       "      <td>576</td>\n",
       "    </tr>\n",
       "    <tr>\n",
       "      <th>13</th>\n",
       "      <td>29/08/16</td>\n",
       "      <td>575</td>\n",
       "    </tr>\n",
       "    <tr>\n",
       "      <th>14</th>\n",
       "      <td>29/09/16</td>\n",
       "      <td>288</td>\n",
       "    </tr>\n",
       "    <tr>\n",
       "      <th>15</th>\n",
       "      <td>30/08/16</td>\n",
       "      <td>288</td>\n",
       "    </tr>\n",
       "    <tr>\n",
       "      <th>16</th>\n",
       "      <td>31/08/16</td>\n",
       "      <td>384</td>\n",
       "    </tr>\n",
       "  </tbody>\n",
       "</table>\n",
       "</div>"
      ],
      "text/plain": [
       "   UpdateDate  Tubes\n",
       "0    05/09/16    288\n",
       "1    06/09/16    287\n",
       "2    07/09/16    575\n",
       "3    07/10/16    410\n",
       "4    08/09/16    576\n",
       "5    09/09/16    575\n",
       "6    20/09/16    576\n",
       "7    21/09/16    863\n",
       "8    22/09/16   1151\n",
       "9    23/09/16    863\n",
       "10   26/08/16    575\n",
       "11   26/09/16   1150\n",
       "12   28/09/16    576\n",
       "13   29/08/16    575\n",
       "14   29/09/16    288\n",
       "15   30/08/16    288\n",
       "16   31/08/16    384"
      ]
     },
     "metadata": {},
     "output_type": "display_data"
    },
    {
     "data": {
      "text/markdown": [
       "**10000** tubes for UpdateDate."
      ],
      "text/plain": [
       "<IPython.core.display.Markdown object>"
      ]
     },
     "metadata": {},
     "output_type": "display_data"
    },
    {
     "data": {
      "text/markdown": [
       "#### AliquotID field"
      ],
      "text/plain": [
       "<IPython.core.display.Markdown object>"
      ]
     },
     "metadata": {},
     "output_type": "display_data"
    },
    {
     "data": {
      "text/html": [
       "<div>\n",
       "<table border=\"1\" class=\"dataframe\">\n",
       "  <thead>\n",
       "    <tr style=\"text-align: right;\">\n",
       "      <th></th>\n",
       "      <th>AliquotID</th>\n",
       "      <th>Tubes</th>\n",
       "    </tr>\n",
       "  </thead>\n",
       "  <tbody>\n",
       "    <tr>\n",
       "      <th>0</th>\n",
       "      <td>1.0</td>\n",
       "      <td>10000</td>\n",
       "    </tr>\n",
       "  </tbody>\n",
       "</table>\n",
       "</div>"
      ],
      "text/plain": [
       "   AliquotID  Tubes\n",
       "0        1.0  10000"
      ]
     },
     "metadata": {},
     "output_type": "display_data"
    },
    {
     "data": {
      "text/markdown": [
       "**10000** tubes for AliquotID."
      ],
      "text/plain": [
       "<IPython.core.display.Markdown object>"
      ]
     },
     "metadata": {},
     "output_type": "display_data"
    },
    {
     "data": {
      "text/markdown": [
       "#### BoxType field"
      ],
      "text/plain": [
       "<IPython.core.display.Markdown object>"
      ]
     },
     "metadata": {},
     "output_type": "display_data"
    },
    {
     "data": {
      "text/html": [
       "<div>\n",
       "<table border=\"1\" class=\"dataframe\">\n",
       "  <thead>\n",
       "    <tr style=\"text-align: right;\">\n",
       "      <th></th>\n",
       "      <th>BoxType</th>\n",
       "      <th>Tubes</th>\n",
       "    </tr>\n",
       "  </thead>\n",
       "  <tbody>\n",
       "    <tr>\n",
       "      <th>0</th>\n",
       "      <td>96 (12 x 8) Well Plate</td>\n",
       "      <td>10000</td>\n",
       "    </tr>\n",
       "  </tbody>\n",
       "</table>\n",
       "</div>"
      ],
      "text/plain": [
       "                  BoxType  Tubes\n",
       "0  96 (12 x 8) Well Plate  10000"
      ]
     },
     "metadata": {},
     "output_type": "display_data"
    },
    {
     "data": {
      "text/markdown": [
       "**10000** tubes for BoxType."
      ],
      "text/plain": [
       "<IPython.core.display.Markdown object>"
      ]
     },
     "metadata": {},
     "output_type": "display_data"
    },
    {
     "data": {
      "text/markdown": [
       "#### VisitID field"
      ],
      "text/plain": [
       "<IPython.core.display.Markdown object>"
      ]
     },
     "metadata": {},
     "output_type": "display_data"
    },
    {
     "data": {
      "text/html": [
       "<div>\n",
       "<table border=\"1\" class=\"dataframe\">\n",
       "  <thead>\n",
       "    <tr style=\"text-align: right;\">\n",
       "      <th></th>\n",
       "      <th>VisitID</th>\n",
       "      <th>Tubes</th>\n",
       "    </tr>\n",
       "  </thead>\n",
       "  <tbody>\n",
       "    <tr>\n",
       "      <th>0</th>\n",
       "      <td>1.0</td>\n",
       "      <td>10000</td>\n",
       "    </tr>\n",
       "  </tbody>\n",
       "</table>\n",
       "</div>"
      ],
      "text/plain": [
       "   VisitID  Tubes\n",
       "0      1.0  10000"
      ]
     },
     "metadata": {},
     "output_type": "display_data"
    },
    {
     "data": {
      "text/markdown": [
       "**10000** tubes for VisitID."
      ],
      "text/plain": [
       "<IPython.core.display.Markdown object>"
      ]
     },
     "metadata": {},
     "output_type": "display_data"
    },
    {
     "data": {
      "text/markdown": [
       "#### ThawCycle field"
      ],
      "text/plain": [
       "<IPython.core.display.Markdown object>"
      ]
     },
     "metadata": {},
     "output_type": "display_data"
    },
    {
     "data": {
      "text/html": [
       "<div>\n",
       "<table border=\"1\" class=\"dataframe\">\n",
       "  <thead>\n",
       "    <tr style=\"text-align: right;\">\n",
       "      <th></th>\n",
       "      <th>ThawCycle</th>\n",
       "      <th>Tubes</th>\n",
       "    </tr>\n",
       "  </thead>\n",
       "  <tbody>\n",
       "    <tr>\n",
       "      <th>0</th>\n",
       "      <td>0.0</td>\n",
       "      <td>10000</td>\n",
       "    </tr>\n",
       "  </tbody>\n",
       "</table>\n",
       "</div>"
      ],
      "text/plain": [
       "   ThawCycle  Tubes\n",
       "0        0.0  10000"
      ]
     },
     "metadata": {},
     "output_type": "display_data"
    },
    {
     "data": {
      "text/markdown": [
       "**10000** tubes for ThawCycle."
      ],
      "text/plain": [
       "<IPython.core.display.Markdown object>"
      ]
     },
     "metadata": {},
     "output_type": "display_data"
    },
    {
     "data": {
      "text/markdown": [
       "#### Sample Source field"
      ],
      "text/plain": [
       "<IPython.core.display.Markdown object>"
      ]
     },
     "metadata": {},
     "output_type": "display_data"
    },
    {
     "data": {
      "text/markdown": [
       "* **0** empty Sample Source\n",
       "* **1000** unique Sample Source"
      ],
      "text/plain": [
       "<IPython.core.display.Markdown object>"
      ]
     },
     "metadata": {},
     "output_type": "display_data"
    },
    {
     "data": {
      "text/markdown": [
       "#### BatchID field"
      ],
      "text/plain": [
       "<IPython.core.display.Markdown object>"
      ]
     },
     "metadata": {},
     "output_type": "display_data"
    },
    {
     "data": {
      "text/html": [
       "<div>\n",
       "<table border=\"1\" class=\"dataframe\">\n",
       "  <thead>\n",
       "    <tr style=\"text-align: right;\">\n",
       "      <th></th>\n",
       "      <th>BatchID</th>\n",
       "      <th>Tubes</th>\n",
       "    </tr>\n",
       "  </thead>\n",
       "  <tbody>\n",
       "    <tr>\n",
       "      <th>0</th>\n",
       "      <td>A</td>\n",
       "      <td>6060</td>\n",
       "    </tr>\n",
       "    <tr>\n",
       "      <th>1</th>\n",
       "      <td>B</td>\n",
       "      <td>3940</td>\n",
       "    </tr>\n",
       "  </tbody>\n",
       "</table>\n",
       "</div>"
      ],
      "text/plain": [
       "  BatchID  Tubes\n",
       "0       A   6060\n",
       "1       B   3940"
      ]
     },
     "metadata": {},
     "output_type": "display_data"
    },
    {
     "data": {
      "text/markdown": [
       "**10000** tubes for ThawCycle."
      ],
      "text/plain": [
       "<IPython.core.display.Markdown object>"
      ]
     },
     "metadata": {},
     "output_type": "display_data"
    },
    {
     "data": {
      "text/markdown": [
       "#### Sample Type field"
      ],
      "text/plain": [
       "<IPython.core.display.Markdown object>"
      ]
     },
     "metadata": {},
     "output_type": "display_data"
    },
    {
     "data": {
      "text/html": [
       "<div>\n",
       "<table border=\"1\" class=\"dataframe\">\n",
       "  <thead>\n",
       "    <tr style=\"text-align: right;\">\n",
       "      <th></th>\n",
       "      <th>Sample Type</th>\n",
       "      <th>Tubes</th>\n",
       "    </tr>\n",
       "  </thead>\n",
       "  <tbody>\n",
       "    <tr>\n",
       "      <th>0</th>\n",
       "      <td>Fraction2</td>\n",
       "      <td>10000</td>\n",
       "    </tr>\n",
       "  </tbody>\n",
       "</table>\n",
       "</div>"
      ],
      "text/plain": [
       "  Sample Type  Tubes\n",
       "0   Fraction2  10000"
      ]
     },
     "metadata": {},
     "output_type": "display_data"
    },
    {
     "data": {
      "text/markdown": [
       "**10000** tubes for Sample Type."
      ],
      "text/plain": [
       "<IPython.core.display.Markdown object>"
      ]
     },
     "metadata": {},
     "output_type": "display_data"
    }
   ],
   "source": [
    "display(Markdown(\"### Look on Fraction 1\"))\n",
    "\n",
    "display(Markdown(\"#### ParentID field\"))\n",
    "display(Markdown(\"* %d empty ParentID\\n* %d unique ParentID\" % \\\n",
    "                 (len(df_frac1[df_frac1[\"ParentID\"].isnull()]), \\\n",
    "                  len(df_frac1[\"ParentID\"].unique()))))\n",
    "\n",
    "display(Markdown(\"#### Position field\"))\n",
    "tubesperposition1 = pd.DataFrame(df_frac1.groupby(\"Position\")[\"Position\"].count())\n",
    "tubesperposition1.loc[:, \"Tubes\"] = tubesperposition1[\"Position\"]\n",
    "tubesperposition1.loc[:, \"Position\"] = tubesperposition1.index\n",
    "tubesperposition1.reset_index(drop=True, inplace=True)\n",
    "display(tubesperposition1)\n",
    "display(Markdown(\"**%d** tubes for Position.\" % tubesperposition1[\"Tubes\"].sum()))\n",
    "\n",
    "display(Markdown(\"#### CreationDate field\"))\n",
    "tubespercreation1 = pd.DataFrame(df_frac1.groupby(\"CreationDate\")[\"CreationDate\"].count())\n",
    "tubespercreation1.loc[:, \"Tubes\"] = tubespercreation1[\"CreationDate\"]\n",
    "tubespercreation1.loc[:, \"CreationDate\"] = tubespercreation1.index\n",
    "tubespercreation1.reset_index(drop=True, inplace=True)\n",
    "display(tubespercreation1)\n",
    "display(Markdown(\"**%d** tubes for CreationDate.\" % tubespercreation1[\"Tubes\"].sum()))\n",
    "\n",
    "display(Markdown(\"#### UpdateDate field\"))\n",
    "tubesperupdate1 = pd.DataFrame(df_frac1.groupby(\"UpdateDate\")[\"UpdateDate\"].count())\n",
    "tubesperupdate1.loc[:, \"Tubes\"] = tubesperupdate1[\"UpdateDate\"]\n",
    "tubesperupdate1.loc[:, \"UpdateDate\"] = tubesperupdate1.index\n",
    "tubesperupdate1.reset_index(drop=True, inplace=True)\n",
    "display(tubesperupdate1)\n",
    "display(Markdown(\"**%d** tubes for UpdateDate.\" % tubesperupdate1[\"Tubes\"].sum()))\n",
    "\n",
    "display(Markdown(\"#### AliquotID field\"))\n",
    "tubesperaliquotid1 = pd.DataFrame(df_frac1.groupby(\"AliquotID\")[\"AliquotID\"].count())\n",
    "tubesperaliquotid1.loc[:, \"Tubes\"] = tubesperaliquotid1[\"AliquotID\"]\n",
    "tubesperaliquotid1.loc[:, \"AliquotID\"] = tubesperaliquotid1.index\n",
    "tubesperaliquotid1.reset_index(drop=True, inplace=True)\n",
    "display(tubesperaliquotid1)\n",
    "display(Markdown(\"**%d** tubes for AliquotID.\" % tubesperaliquotid1[\"Tubes\"].sum()))\n",
    "\n",
    "display(Markdown(\"#### BoxType field\"))\n",
    "tubesperboxtype1 = pd.DataFrame(df_frac1.groupby(\"BoxType\")[\"BoxType\"].count())\n",
    "tubesperboxtype1.loc[:, \"Tubes\"] = tubesperboxtype1[\"BoxType\"]\n",
    "tubesperboxtype1.loc[:, \"BoxType\"] = tubesperboxtype1.index\n",
    "tubesperboxtype1.reset_index(drop=True, inplace=True)\n",
    "display(tubesperboxtype1)\n",
    "display(Markdown(\"**%d** tubes for BoxType.\" % tubesperboxtype1[\"Tubes\"].sum()))\n",
    "\n",
    "display(Markdown(\"#### VisitID field\"))\n",
    "tubespervisitid1 = pd.DataFrame(df_frac1.groupby(\"VisitID\")[\"VisitID\"].count())\n",
    "tubespervisitid1.loc[:, \"Tubes\"] = tubespervisitid1[\"VisitID\"]\n",
    "tubespervisitid1.loc[:, \"VisitID\"] = tubespervisitid1.index\n",
    "tubespervisitid1.reset_index(drop=True, inplace=True)\n",
    "display(tubespervisitid1)\n",
    "display(Markdown(\"**%d** tubes for VisitID.\" % tubespervisitid1[\"Tubes\"].sum()))\n",
    "\n",
    "display(Markdown(\"#### ThawCycle field\"))\n",
    "tubesperthawcycle1 = pd.DataFrame(df_frac1.groupby(\"ThawCycle\")[\"ThawCycle\"].count())\n",
    "tubesperthawcycle1.loc[:, \"Tubes\"] = tubesperthawcycle1[\"ThawCycle\"]\n",
    "tubesperthawcycle1.loc[:, \"ThawCycle\"] = tubesperthawcycle1.index\n",
    "tubesperthawcycle1.reset_index(drop=True, inplace=True)\n",
    "display(tubesperthawcycle1)\n",
    "display(Markdown(\"**%d** tubes for ThawCycle.\" % tubesperthawcycle1[\"Tubes\"].sum()))\n",
    "\n",
    "display(Markdown(\"#### Sample Source field\"))\n",
    "display(Markdown(\"* **%d** empty Sample Source\\n* **%d** unique Sample Source\" % \\\n",
    "                 (len(df_frac1[df_frac1[\"Sample Source\"].isnull()]), \\\n",
    "                  len(df_frac1[\"Sample Source\"].unique()))))\n",
    "\n",
    "display(Markdown(\"#### BatchID field\"))\n",
    "tubesperbatchid1 = pd.DataFrame(df_frac1.groupby(\"BatchID\")[\"BatchID\"].count())\n",
    "tubesperbatchid1.loc[:, \"Tubes\"] = tubesperbatchid1[\"BatchID\"]\n",
    "tubesperbatchid1.loc[:, \"BatchID\"] = tubesperbatchid1.index\n",
    "tubesperbatchid1.reset_index(drop=True, inplace=True)\n",
    "display(tubesperbatchid1)\n",
    "display(Markdown(\"**%d** tubes for ThawCycle.\" % tubesperbatchid1[\"Tubes\"].sum()))\n",
    "\n",
    "display(Markdown(\"#### Sample Type field\"))\n",
    "tubespersampletype1 = pd.DataFrame(df_frac1.groupby(\"Sample Type\")[\"Sample Type\"].count())\n",
    "tubespersampletype1.loc[:, \"Tubes\"] = tubespersampletype1[\"Sample Type\"]\n",
    "tubespersampletype1.loc[:, \"Sample Type\"] = tubespersampletype1.index\n",
    "tubespersampletype1.reset_index(drop=True, inplace=True)\n",
    "display(tubespersampletype1)\n",
    "display(Markdown(\"**%d** tubes for Sample Type.\" % tubespersampletype1[\"Tubes\"].sum()))\n",
    "\n",
    "display(Markdown(\"### Look on Fraction 2\"))\n",
    "\n",
    "display(Markdown(\"#### ParentID field\"))\n",
    "display(Markdown(\"* %d empty ParentID\\n* %d unique ParentID\" % \\\n",
    "                 (len(df_frac2[df_frac2[\"ParentID\"].isnull()]), \\\n",
    "                  len(df_frac2[\"ParentID\"].unique()))))\n",
    "\n",
    "display(Markdown(\"#### Position field\"))\n",
    "tubesperposition2 = pd.DataFrame(df_frac2.groupby(\"Position\")[\"Position\"].count())\n",
    "tubesperposition2.loc[:, \"Tubes\"] = tubesperposition2[\"Position\"]\n",
    "tubesperposition2.loc[:, \"Position\"] = tubesperposition2.index\n",
    "tubesperposition2.reset_index(drop=True, inplace=True)\n",
    "display(tubesperposition2)\n",
    "display(Markdown(\"**%d** tubes for Position.\" % tubesperposition2[\"Tubes\"].sum()))\n",
    "\n",
    "display(Markdown(\"#### CreationDate field\"))\n",
    "tubespercreation2 = pd.DataFrame(df_frac2.groupby(\"CreationDate\")[\"CreationDate\"].count())\n",
    "tubespercreation2.loc[:, \"Tubes\"] = tubespercreation2[\"CreationDate\"]\n",
    "tubespercreation2.loc[:, \"CreationDate\"] = tubespercreation2.index\n",
    "tubespercreation2.reset_index(drop=True, inplace=True)\n",
    "display(tubespercreation2)\n",
    "display(Markdown(\"**%d** tubes for CreationDate.\" % tubespercreation2[\"Tubes\"].sum()))\n",
    "\n",
    "display(Markdown(\"#### UpdateDate field\"))\n",
    "tubesperupdate2 = pd.DataFrame(df_frac2.groupby(\"UpdateDate\")[\"UpdateDate\"].count())\n",
    "tubesperupdate2.loc[:, \"Tubes\"] = tubesperupdate2[\"UpdateDate\"]\n",
    "tubesperupdate2.loc[:, \"UpdateDate\"] = tubesperupdate2.index\n",
    "tubesperupdate2.reset_index(drop=True, inplace=True)\n",
    "display(tubesperupdate2)\n",
    "display(Markdown(\"**%d** tubes for UpdateDate.\" % tubesperupdate2[\"Tubes\"].sum()))\n",
    "\n",
    "display(Markdown(\"#### AliquotID field\"))\n",
    "tubesperaliquotid2 = pd.DataFrame(df_frac2.groupby(\"AliquotID\")[\"AliquotID\"].count())\n",
    "tubesperaliquotid2.loc[:, \"Tubes\"] = tubesperaliquotid2[\"AliquotID\"]\n",
    "tubesperaliquotid2.loc[:, \"AliquotID\"] = tubesperaliquotid2.index\n",
    "tubesperaliquotid2.reset_index(drop=True, inplace=True)\n",
    "display(tubesperaliquotid2)\n",
    "display(Markdown(\"**%d** tubes for AliquotID.\" % tubesperaliquotid2[\"Tubes\"].sum()))\n",
    "\n",
    "display(Markdown(\"#### BoxType field\"))\n",
    "tubesperboxtype2 = pd.DataFrame(df_frac2.groupby(\"BoxType\")[\"BoxType\"].count())\n",
    "tubesperboxtype2.loc[:, \"Tubes\"] = tubesperboxtype2[\"BoxType\"]\n",
    "tubesperboxtype2.loc[:, \"BoxType\"] = tubesperboxtype2.index\n",
    "tubesperboxtype2.reset_index(drop=True, inplace=True)\n",
    "display(tubesperboxtype2)\n",
    "display(Markdown(\"**%d** tubes for BoxType.\" % tubesperboxtype2[\"Tubes\"].sum()))\n",
    "\n",
    "display(Markdown(\"#### VisitID field\"))\n",
    "tubespervisitid2 = pd.DataFrame(df_frac2.groupby(\"VisitID\")[\"VisitID\"].count())\n",
    "tubespervisitid2.loc[:, \"Tubes\"] = tubespervisitid2[\"VisitID\"]\n",
    "tubespervisitid2.loc[:, \"VisitID\"] = tubespervisitid2.index\n",
    "tubespervisitid2.reset_index(drop=True, inplace=True)\n",
    "display(tubespervisitid2)\n",
    "display(Markdown(\"**%d** tubes for VisitID.\" % tubespervisitid2[\"Tubes\"].sum()))\n",
    "\n",
    "display(Markdown(\"#### ThawCycle field\"))\n",
    "tubesperthawcycle2 = pd.DataFrame(df_frac2.groupby(\"ThawCycle\")[\"ThawCycle\"].count())\n",
    "tubesperthawcycle2.loc[:, \"Tubes\"] = tubesperthawcycle2[\"ThawCycle\"]\n",
    "tubesperthawcycle2.loc[:, \"ThawCycle\"] = tubesperthawcycle2.index\n",
    "tubesperthawcycle2.reset_index(drop=True, inplace=True)\n",
    "display(tubesperthawcycle2)\n",
    "display(Markdown(\"**%d** tubes for ThawCycle.\" % tubesperthawcycle2[\"Tubes\"].sum()))\n",
    "\n",
    "display(Markdown(\"#### Sample Source field\"))\n",
    "display(Markdown(\"* **%d** empty Sample Source\\n* **%d** unique Sample Source\" % \\\n",
    "                 (len(df_frac2[df_frac2[\"Sample Source\"].isnull()]), \\\n",
    "                  len(df_frac2[\"Sample Source\"].unique()))))\n",
    "\n",
    "display(Markdown(\"#### BatchID field\"))\n",
    "tubesperbatchid2 = pd.DataFrame(df_frac2.groupby(\"BatchID\")[\"BatchID\"].count())\n",
    "tubesperbatchid2.loc[:, \"Tubes\"] = tubesperbatchid2[\"BatchID\"]\n",
    "tubesperbatchid2.loc[:, \"BatchID\"] = tubesperbatchid2.index\n",
    "tubesperbatchid2.reset_index(drop=True, inplace=True)\n",
    "display(tubesperbatchid2)\n",
    "display(Markdown(\"**%d** tubes for ThawCycle.\" % tubesperbatchid2[\"Tubes\"].sum()))\n",
    "\n",
    "display(Markdown(\"#### Sample Type field\"))\n",
    "tubespersampletype2 = pd.DataFrame(df_frac2.groupby(\"Sample Type\")[\"Sample Type\"].count())\n",
    "tubespersampletype2.loc[:, \"Tubes\"] = tubespersampletype2[\"Sample Type\"]\n",
    "tubespersampletype2.loc[:, \"Sample Type\"] = tubespersampletype2.index\n",
    "tubespersampletype2.reset_index(drop=True, inplace=True)\n",
    "display(tubespersampletype2)\n",
    "display(Markdown(\"**%d** tubes for Sample Type.\" % tubespersampletype2[\"Tubes\"].sum()))"
   ]
  },
  {
   "cell_type": "markdown",
   "metadata": {},
   "source": [
    "## Checking some fields per fraction\n",
    "\n",
    "We need to check if the number of unique BARCODE is coherent between each fraction:"
   ]
  },
  {
   "cell_type": "code",
   "execution_count": 17,
   "metadata": {
    "collapsed": false
   },
   "outputs": [
    {
     "data": {
      "text/markdown": [
       "#### BARCODE field"
      ],
      "text/plain": [
       "<IPython.core.display.Markdown object>"
      ]
     },
     "metadata": {},
     "output_type": "display_data"
    },
    {
     "data": {
      "text/html": [
       "<div>\n",
       "<table border=\"1\" class=\"dataframe\">\n",
       "  <thead>\n",
       "    <tr style=\"text-align: right;\">\n",
       "      <th></th>\n",
       "      <th>Sample Type</th>\n",
       "      <th>Nb_BARCODE</th>\n",
       "    </tr>\n",
       "  </thead>\n",
       "  <tbody>\n",
       "    <tr>\n",
       "      <th>0</th>\n",
       "      <td>Fraction1</td>\n",
       "      <td>10000</td>\n",
       "    </tr>\n",
       "    <tr>\n",
       "      <th>1</th>\n",
       "      <td>Fraction2</td>\n",
       "      <td>10000</td>\n",
       "    </tr>\n",
       "  </tbody>\n",
       "</table>\n",
       "</div>"
      ],
      "text/plain": [
       "  Sample Type  Nb_BARCODE\n",
       "0   Fraction1       10000\n",
       "1   Fraction2       10000"
      ]
     },
     "metadata": {},
     "output_type": "display_data"
    },
    {
     "ename": "KeyError",
     "evalue": "'Nb_BARCODE'",
     "output_type": "error",
     "traceback": [
      "\u001b[0;31m---------------------------------------------------------------------------\u001b[0m",
      "\u001b[0;31mKeyError\u001b[0m                                  Traceback (most recent call last)",
      "\u001b[0;32m<ipython-input-17-d9d0f0edfebb>\u001b[0m in \u001b[0;36m<module>\u001b[0;34m()\u001b[0m\n\u001b[1;32m      2\u001b[0m \u001b[0mtubesperbarcode\u001b[0m \u001b[0;34m=\u001b[0m \u001b[0mcompare_two_columns\u001b[0m\u001b[0;34m(\u001b[0m\u001b[0mdf\u001b[0m\u001b[0;34m,\u001b[0m \u001b[0;34m\"Sample Type\"\u001b[0m\u001b[0;34m,\u001b[0m \u001b[0;34m\"BARCODE\"\u001b[0m\u001b[0;34m,\u001b[0m                                       \u001b[0mmethod\u001b[0m\u001b[0;34m=\u001b[0m\u001b[0;34m\"nunique\"\u001b[0m\u001b[0;34m)\u001b[0m\u001b[0;34m\u001b[0m\u001b[0m\n\u001b[1;32m      3\u001b[0m \u001b[0;34m\u001b[0m\u001b[0m\n\u001b[0;32m----> 4\u001b[0;31m \u001b[0mdisplay\u001b[0m\u001b[0;34m(\u001b[0m\u001b[0mMarkdown\u001b[0m\u001b[0;34m(\u001b[0m\u001b[0;34m\"**{}** unique BARCODE for Sample Type.\"\u001b[0m\u001b[0;34m.\u001b[0m                 \u001b[0mformat\u001b[0m\u001b[0;34m(\u001b[0m\u001b[0mtubesperbarcode\u001b[0m\u001b[0;34m[\u001b[0m\u001b[0;34m\"Nb_BARCODE\"\u001b[0m\u001b[0;34m]\u001b[0m\u001b[0;34m.\u001b[0m\u001b[0msum\u001b[0m\u001b[0;34m(\u001b[0m\u001b[0;34m)\u001b[0m\u001b[0;34m)\u001b[0m\u001b[0;34m)\u001b[0m\u001b[0;34m)\u001b[0m\u001b[0;34m\u001b[0m\u001b[0m\n\u001b[0m\u001b[1;32m      5\u001b[0m \u001b[0;34m\u001b[0m\u001b[0m\n\u001b[1;32m      6\u001b[0m \u001b[0mdisplay\u001b[0m\u001b[0;34m(\u001b[0m\u001b[0mMarkdown\u001b[0m\u001b[0;34m(\u001b[0m\u001b[0;34m\"#### Freezer field\"\u001b[0m\u001b[0;34m)\u001b[0m\u001b[0;34m)\u001b[0m\u001b[0;34m\u001b[0m\u001b[0m\n",
      "\u001b[0;32m/Users/nlaviell/anaconda2/lib/python2.7/site-packages/pandas/core/frame.pyc\u001b[0m in \u001b[0;36m__getitem__\u001b[0;34m(self, key)\u001b[0m\n\u001b[1;32m   1990\u001b[0m             \u001b[0;32mreturn\u001b[0m \u001b[0mself\u001b[0m\u001b[0;34m.\u001b[0m\u001b[0m_getitem_multilevel\u001b[0m\u001b[0;34m(\u001b[0m\u001b[0mkey\u001b[0m\u001b[0;34m)\u001b[0m\u001b[0;34m\u001b[0m\u001b[0m\n\u001b[1;32m   1991\u001b[0m         \u001b[0;32melse\u001b[0m\u001b[0;34m:\u001b[0m\u001b[0;34m\u001b[0m\u001b[0m\n\u001b[0;32m-> 1992\u001b[0;31m             \u001b[0;32mreturn\u001b[0m \u001b[0mself\u001b[0m\u001b[0;34m.\u001b[0m\u001b[0m_getitem_column\u001b[0m\u001b[0;34m(\u001b[0m\u001b[0mkey\u001b[0m\u001b[0;34m)\u001b[0m\u001b[0;34m\u001b[0m\u001b[0m\n\u001b[0m\u001b[1;32m   1993\u001b[0m \u001b[0;34m\u001b[0m\u001b[0m\n\u001b[1;32m   1994\u001b[0m     \u001b[0;32mdef\u001b[0m \u001b[0m_getitem_column\u001b[0m\u001b[0;34m(\u001b[0m\u001b[0mself\u001b[0m\u001b[0;34m,\u001b[0m \u001b[0mkey\u001b[0m\u001b[0;34m)\u001b[0m\u001b[0;34m:\u001b[0m\u001b[0;34m\u001b[0m\u001b[0m\n",
      "\u001b[0;32m/Users/nlaviell/anaconda2/lib/python2.7/site-packages/pandas/core/frame.pyc\u001b[0m in \u001b[0;36m_getitem_column\u001b[0;34m(self, key)\u001b[0m\n\u001b[1;32m   1997\u001b[0m         \u001b[0;31m# get column\u001b[0m\u001b[0;34m\u001b[0m\u001b[0;34m\u001b[0m\u001b[0m\n\u001b[1;32m   1998\u001b[0m         \u001b[0;32mif\u001b[0m \u001b[0mself\u001b[0m\u001b[0;34m.\u001b[0m\u001b[0mcolumns\u001b[0m\u001b[0;34m.\u001b[0m\u001b[0mis_unique\u001b[0m\u001b[0;34m:\u001b[0m\u001b[0;34m\u001b[0m\u001b[0m\n\u001b[0;32m-> 1999\u001b[0;31m             \u001b[0;32mreturn\u001b[0m \u001b[0mself\u001b[0m\u001b[0;34m.\u001b[0m\u001b[0m_get_item_cache\u001b[0m\u001b[0;34m(\u001b[0m\u001b[0mkey\u001b[0m\u001b[0;34m)\u001b[0m\u001b[0;34m\u001b[0m\u001b[0m\n\u001b[0m\u001b[1;32m   2000\u001b[0m \u001b[0;34m\u001b[0m\u001b[0m\n\u001b[1;32m   2001\u001b[0m         \u001b[0;31m# duplicate columns & possible reduce dimensionality\u001b[0m\u001b[0;34m\u001b[0m\u001b[0;34m\u001b[0m\u001b[0m\n",
      "\u001b[0;32m/Users/nlaviell/anaconda2/lib/python2.7/site-packages/pandas/core/generic.pyc\u001b[0m in \u001b[0;36m_get_item_cache\u001b[0;34m(self, item)\u001b[0m\n\u001b[1;32m   1343\u001b[0m         \u001b[0mres\u001b[0m \u001b[0;34m=\u001b[0m \u001b[0mcache\u001b[0m\u001b[0;34m.\u001b[0m\u001b[0mget\u001b[0m\u001b[0;34m(\u001b[0m\u001b[0mitem\u001b[0m\u001b[0;34m)\u001b[0m\u001b[0;34m\u001b[0m\u001b[0m\n\u001b[1;32m   1344\u001b[0m         \u001b[0;32mif\u001b[0m \u001b[0mres\u001b[0m \u001b[0;32mis\u001b[0m \u001b[0mNone\u001b[0m\u001b[0;34m:\u001b[0m\u001b[0;34m\u001b[0m\u001b[0m\n\u001b[0;32m-> 1345\u001b[0;31m             \u001b[0mvalues\u001b[0m \u001b[0;34m=\u001b[0m \u001b[0mself\u001b[0m\u001b[0;34m.\u001b[0m\u001b[0m_data\u001b[0m\u001b[0;34m.\u001b[0m\u001b[0mget\u001b[0m\u001b[0;34m(\u001b[0m\u001b[0mitem\u001b[0m\u001b[0;34m)\u001b[0m\u001b[0;34m\u001b[0m\u001b[0m\n\u001b[0m\u001b[1;32m   1346\u001b[0m             \u001b[0mres\u001b[0m \u001b[0;34m=\u001b[0m \u001b[0mself\u001b[0m\u001b[0;34m.\u001b[0m\u001b[0m_box_item_values\u001b[0m\u001b[0;34m(\u001b[0m\u001b[0mitem\u001b[0m\u001b[0;34m,\u001b[0m \u001b[0mvalues\u001b[0m\u001b[0;34m)\u001b[0m\u001b[0;34m\u001b[0m\u001b[0m\n\u001b[1;32m   1347\u001b[0m             \u001b[0mcache\u001b[0m\u001b[0;34m[\u001b[0m\u001b[0mitem\u001b[0m\u001b[0;34m]\u001b[0m \u001b[0;34m=\u001b[0m \u001b[0mres\u001b[0m\u001b[0;34m\u001b[0m\u001b[0m\n",
      "\u001b[0;32m/Users/nlaviell/anaconda2/lib/python2.7/site-packages/pandas/core/internals.pyc\u001b[0m in \u001b[0;36mget\u001b[0;34m(self, item, fastpath)\u001b[0m\n\u001b[1;32m   3223\u001b[0m \u001b[0;34m\u001b[0m\u001b[0m\n\u001b[1;32m   3224\u001b[0m             \u001b[0;32mif\u001b[0m \u001b[0;32mnot\u001b[0m \u001b[0misnull\u001b[0m\u001b[0;34m(\u001b[0m\u001b[0mitem\u001b[0m\u001b[0;34m)\u001b[0m\u001b[0;34m:\u001b[0m\u001b[0;34m\u001b[0m\u001b[0m\n\u001b[0;32m-> 3225\u001b[0;31m                 \u001b[0mloc\u001b[0m \u001b[0;34m=\u001b[0m \u001b[0mself\u001b[0m\u001b[0;34m.\u001b[0m\u001b[0mitems\u001b[0m\u001b[0;34m.\u001b[0m\u001b[0mget_loc\u001b[0m\u001b[0;34m(\u001b[0m\u001b[0mitem\u001b[0m\u001b[0;34m)\u001b[0m\u001b[0;34m\u001b[0m\u001b[0m\n\u001b[0m\u001b[1;32m   3226\u001b[0m             \u001b[0;32melse\u001b[0m\u001b[0;34m:\u001b[0m\u001b[0;34m\u001b[0m\u001b[0m\n\u001b[1;32m   3227\u001b[0m                 \u001b[0mindexer\u001b[0m \u001b[0;34m=\u001b[0m \u001b[0mnp\u001b[0m\u001b[0;34m.\u001b[0m\u001b[0marange\u001b[0m\u001b[0;34m(\u001b[0m\u001b[0mlen\u001b[0m\u001b[0;34m(\u001b[0m\u001b[0mself\u001b[0m\u001b[0;34m.\u001b[0m\u001b[0mitems\u001b[0m\u001b[0;34m)\u001b[0m\u001b[0;34m)\u001b[0m\u001b[0;34m[\u001b[0m\u001b[0misnull\u001b[0m\u001b[0;34m(\u001b[0m\u001b[0mself\u001b[0m\u001b[0;34m.\u001b[0m\u001b[0mitems\u001b[0m\u001b[0;34m)\u001b[0m\u001b[0;34m]\u001b[0m\u001b[0;34m\u001b[0m\u001b[0m\n",
      "\u001b[0;32m/Users/nlaviell/anaconda2/lib/python2.7/site-packages/pandas/indexes/base.pyc\u001b[0m in \u001b[0;36mget_loc\u001b[0;34m(self, key, method, tolerance)\u001b[0m\n\u001b[1;32m   1876\u001b[0m                 \u001b[0;32mreturn\u001b[0m \u001b[0mself\u001b[0m\u001b[0;34m.\u001b[0m\u001b[0m_engine\u001b[0m\u001b[0;34m.\u001b[0m\u001b[0mget_loc\u001b[0m\u001b[0;34m(\u001b[0m\u001b[0mkey\u001b[0m\u001b[0;34m)\u001b[0m\u001b[0;34m\u001b[0m\u001b[0m\n\u001b[1;32m   1877\u001b[0m             \u001b[0;32mexcept\u001b[0m \u001b[0mKeyError\u001b[0m\u001b[0;34m:\u001b[0m\u001b[0;34m\u001b[0m\u001b[0m\n\u001b[0;32m-> 1878\u001b[0;31m                 \u001b[0;32mreturn\u001b[0m \u001b[0mself\u001b[0m\u001b[0;34m.\u001b[0m\u001b[0m_engine\u001b[0m\u001b[0;34m.\u001b[0m\u001b[0mget_loc\u001b[0m\u001b[0;34m(\u001b[0m\u001b[0mself\u001b[0m\u001b[0;34m.\u001b[0m\u001b[0m_maybe_cast_indexer\u001b[0m\u001b[0;34m(\u001b[0m\u001b[0mkey\u001b[0m\u001b[0;34m)\u001b[0m\u001b[0;34m)\u001b[0m\u001b[0;34m\u001b[0m\u001b[0m\n\u001b[0m\u001b[1;32m   1879\u001b[0m \u001b[0;34m\u001b[0m\u001b[0m\n\u001b[1;32m   1880\u001b[0m         \u001b[0mindexer\u001b[0m \u001b[0;34m=\u001b[0m \u001b[0mself\u001b[0m\u001b[0;34m.\u001b[0m\u001b[0mget_indexer\u001b[0m\u001b[0;34m(\u001b[0m\u001b[0;34m[\u001b[0m\u001b[0mkey\u001b[0m\u001b[0;34m]\u001b[0m\u001b[0;34m,\u001b[0m \u001b[0mmethod\u001b[0m\u001b[0;34m=\u001b[0m\u001b[0mmethod\u001b[0m\u001b[0;34m,\u001b[0m \u001b[0mtolerance\u001b[0m\u001b[0;34m=\u001b[0m\u001b[0mtolerance\u001b[0m\u001b[0;34m)\u001b[0m\u001b[0;34m\u001b[0m\u001b[0m\n",
      "\u001b[0;32mpandas/index.pyx\u001b[0m in \u001b[0;36mpandas.index.IndexEngine.get_loc (pandas/index.c:4027)\u001b[0;34m()\u001b[0m\n",
      "\u001b[0;32mpandas/index.pyx\u001b[0m in \u001b[0;36mpandas.index.IndexEngine.get_loc (pandas/index.c:3891)\u001b[0;34m()\u001b[0m\n",
      "\u001b[0;32mpandas/hashtable.pyx\u001b[0m in \u001b[0;36mpandas.hashtable.PyObjectHashTable.get_item (pandas/hashtable.c:12408)\u001b[0;34m()\u001b[0m\n",
      "\u001b[0;32mpandas/hashtable.pyx\u001b[0m in \u001b[0;36mpandas.hashtable.PyObjectHashTable.get_item (pandas/hashtable.c:12359)\u001b[0;34m()\u001b[0m\n",
      "\u001b[0;31mKeyError\u001b[0m: 'Nb_BARCODE'"
     ]
    }
   ],
   "source": [
    "display(Markdown(\"#### BARCODE field\"))\n",
    "tubesperbarcode = compare_two_columns(df, \"Sample Type\", \"BARCODE\", \\\n",
    "                                      method=\"nunique\")\n",
    "\n",
    "display(Markdown(\"**{}** unique BARCODE for Sample Type.\".\\\n",
    "                 format(tubesperbarcode[\"Nb_BARCODE\"].sum())))\n",
    "\n",
    "display(Markdown(\"#### Freezer field\"))\n",
    "tubesperfreezer = compare_two_columns(df, \"Freezer\", \"BARCODE\", method=\"nunique\")"
   ]
  },
  {
   "cell_type": "markdown",
   "metadata": {},
   "source": [
    "Check if RFID are assigned to more than 2 BARCODE."
   ]
  },
  {
   "cell_type": "code",
   "execution_count": null,
   "metadata": {
    "collapsed": false
   },
   "outputs": [],
   "source": [
    "barcodeperrfid = compare_two_columns(df, \"ParentID\", \"BARCODE\", \\\n",
    "                                     method=\"nunique\", show=False)\n",
    "\n",
    "if len(barcodeperrfid[barcodeperrfid[\"BARCODE\"] == 0]) > 0:\n",
    "    nobarcode = barcodeperrfid[barcodeperrfid[\"BARCODE\"] == 0]\n",
    "    display(Markdown(\"**{}** ParentID not assigned to a BARCODE.\".\\\n",
    "                     format(len(nobarcode))))\n",
    "\n",
    "if len(barcodeperrfid[barcodeperrfid[\"BARCODE\"] == 1]) > 0:\n",
    "    onebarcode = barcodeperrfid[barcodeperrfid[\"BARCODE\"] == 1]\n",
    "    display(Markdown(\"**{}** ParentID assigned to 1 BARCODE.\".\\\n",
    "                     format(len(onebarcode))))\n",
    "\n",
    "if len(barcodeperrfid[barcodeperrfid[\"BARCODE\"] == 2]) > 0:\n",
    "    twobarcode = barcodeperrfid[barcodeperrfid[\"BARCODE\"] == 2]\n",
    "    display(Markdown(\"**{}** ParentID assigned to 2 BARCODE.\".\\\n",
    "                     format(len(twobarcode))))\n",
    "\n",
    "if len(barcodeperrfid[barcodeperrfid[\"BARCODE\"] > 2 ]) > 0:\n",
    "    morebarcode = barcodeperrfid[barcodeperrfid[\"BARCODE\"] > 2]\n",
    "    display(Markdown(\"**{}** ParentID assigned to more than 2 BARCODE:\".\\\n",
    "                     format(len(morebarcode))))"
   ]
  }
 ],
 "metadata": {
  "kernelspec": {
   "display_name": "Python 2",
   "language": "python",
   "name": "python2"
  },
  "language_info": {
   "codemirror_mode": {
    "name": "ipython",
    "version": 2
   },
   "file_extension": ".py",
   "mimetype": "text/x-python",
   "name": "python",
   "nbconvert_exporter": "python",
   "pygments_lexer": "ipython2",
   "version": "2.7.11"
  }
 },
 "nbformat": 4,
 "nbformat_minor": 0
}
