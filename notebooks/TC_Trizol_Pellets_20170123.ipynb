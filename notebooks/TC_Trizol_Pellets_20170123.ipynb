{
 "cells": [
  {
   "cell_type": "markdown",
   "metadata": {},
   "source": [
    "# TruCulture Trizol Pellet tubes"
   ]
  },
  {
   "cell_type": "code",
   "execution_count": 4,
   "metadata": {
    "collapsed": false
   },
   "outputs": [
    {
     "data": {
      "text/markdown": [
       "File *TC_Trizol_rack_samples_20170123.csv* contains **59200** lines for **33** columns.\n"
      ],
      "text/plain": [
       "<IPython.core.display.Markdown object>"
      ]
     },
     "metadata": {},
     "output_type": "display_data"
    },
    {
     "data": {
      "text/markdown": [
       "List of columns:"
      ],
      "text/plain": [
       "<IPython.core.display.Markdown object>"
      ]
     },
     "metadata": {},
     "output_type": "display_data"
    },
    {
     "data": {
      "text/markdown": [
       "1. Freezer;\n",
       "1. Freezer_Descr;\n",
       "1. Level1;\n",
       "1. Level1_Descr;\n",
       "1. Level2;\n",
       "1. Level2_Descr;\n",
       "1. Level3;\n",
       "1. Level3_Descr;\n",
       "1. Box;\n",
       "1. Box_Descr;\n",
       "1. BoxType;\n",
       "1. RoomID;\n",
       "1. DonorID;\n",
       "1. BoxPos;\n",
       "1. Position;\n",
       "1. StimulusID;\n",
       "1. Sample Type;\n",
       "1. StimulusName;\n",
       "1. Name;\n",
       "1. CenterID;\n",
       "1. VisitID;\n",
       "1. BatchID;\n",
       "1. BARCODE;\n",
       "1. Volume;\n",
       "1. DonorIDscanned;\n",
       "1. ExtractionName;\n",
       "1. StimulationName;\n",
       "1. StimulationTime;\n",
       "1. FreezeThaw;\n",
       "1. FreezerBarcode;\n",
       "1. ShelfBarcode;\n",
       "1. RackBarcode;\n",
       "1. BOXBARCODE."
      ],
      "text/plain": [
       "<IPython.core.display.Markdown object>"
      ]
     },
     "metadata": {},
     "output_type": "display_data"
    }
   ],
   "source": [
    "%matplotlib inline\n",
    "\n",
    "import pandas as pd\n",
    "import re\n",
    "import matplotlib.pyplot as plt\n",
    "import matplotlib.patches as mpatches\n",
    "colors = [\"#7199e2\", \"#8bbf6b\", \"#ce73c5\", \"#ff4949\", \"#606060\", \"#f9f581\"]\n",
    "from IPython.display import display, Markdown, HTML\n",
    "excludeddonors = [96, 104, 122, 167, 178, 219, 268, 279, 303, 308, 534, 701]\n",
    "\n",
    "# print table without index column\n",
    "def table_wo_index(df):\n",
    "    table = HTML(re.sub('(<tr.*>\\n) +<th>.*</th>\\n', '\\\\1', df._repr_html_()))\n",
    "    return(table)\n",
    "\n",
    "def label_nb_barh(ax, rects):\n",
    "    for rect in rects:\n",
    "        width = rect.get_width()\n",
    "        ax.text(width, rect.get_y() + rect.get_height()/2., \n",
    "                '%d' % int(width),\n",
    "                ha='center', va='center',\n",
    "               bbox=dict(facecolor='white', edgecolor='none', alpha=0.5))\n",
    "\n",
    "def label_nb_barv(ax, rects):\n",
    "    for rect in rects:\n",
    "        height = rect.get_height()\n",
    "        ax.text(rect.get_x() + rect.get_width()/2., 1.05*height, \n",
    "                '%d' % int(height),\n",
    "                ha='center', va='bottom')\n",
    "        \n",
    "filepath = \"/Volumes/LabExMI/Users/Nolwenn/FreezerPro/DataToImport/\"\n",
    "filename = \"TC_Trizol_rack_samples_20170123.csv\"\n",
    "df = pd.read_csv(filepath + filename)\n",
    "\n",
    "display(Markdown(\"File *{}* contains **{}** lines for **{}** columns.\\n\".format(filename, len(df), len(df.columns))))\n",
    "display(Markdown(\"List of columns:\"))\n",
    "display(Markdown(\";\\n\".join([\"1. {}\".format(col) for col in df.columns])+\".\"))"
   ]
  },
  {
   "cell_type": "code",
   "execution_count": 53,
   "metadata": {
    "collapsed": false
   },
   "outputs": [
    {
     "data": {
      "text/markdown": [
       "### Freezer analysis"
      ],
      "text/plain": [
       "<IPython.core.display.Markdown object>"
      ]
     },
     "metadata": {},
     "output_type": "display_data"
    },
    {
     "data": {
      "text/markdown": [
       "**5** unique Freezer."
      ],
      "text/plain": [
       "<IPython.core.display.Markdown object>"
      ]
     },
     "metadata": {},
     "output_type": "display_data"
    },
    {
     "data": {
      "image/png": "[encoded data removed]",
      "text/plain": [
       "<matplotlib.figure.Figure at 0x1144abe10>"
      ]
     },
     "metadata": {},
     "output_type": "display_data"
    },
    {
     "data": {
      "text/markdown": [
       "**16** unique shelf for all the **5** freezers. Number of tubes per shelf:"
      ],
      "text/plain": [
       "<IPython.core.display.Markdown object>"
      ]
     },
     "metadata": {},
     "output_type": "display_data"
    },
    {
     "data": {
      "image/png": "[encoded data removed]",
      "text/plain": [
       "<matplotlib.figure.Figure at 0x112746ad0>"
      ]
     },
     "metadata": {},
     "output_type": "display_data"
    },
    {
     "data": {
      "text/markdown": [
       "List of **9** unique tube number along shelves:"
      ],
      "text/plain": [
       "<IPython.core.display.Markdown object>"
      ]
     },
     "metadata": {},
     "output_type": "display_data"
    },
    {
     "data": {
      "text/html": [
       "<div>\n",
       "<table border=\"1\" class=\"dataframe\">\n",
       "  <thead>\n",
       "    <tr style=\"text-align: right;\">\n",
       "      <th></th>\n",
       "      <th>NbShelf</th>\n",
       "    </tr>\n",
       "    <tr>\n",
       "      <th>Tubes</th>\n",
       "      <th></th>\n",
       "    </tr>\n",
       "  </thead>\n",
       "  <tbody>\n",
       "    <tr>\n",
       "      <th>720</th>\n",
       "      <td>1</td>\n",
       "    </tr>\n",
       "    <tr>\n",
       "      <th>800</th>\n",
       "      <td>3</td>\n",
       "    </tr>\n",
       "    <tr>\n",
       "      <th>2240</th>\n",
       "      <td>1</td>\n",
       "    </tr>\n",
       "    <tr>\n",
       "      <th>2800</th>\n",
       "      <td>1</td>\n",
       "    </tr>\n",
       "    <tr>\n",
       "      <th>3200</th>\n",
       "      <td>1</td>\n",
       "    </tr>\n",
       "    <tr>\n",
       "      <th>3960</th>\n",
       "      <td>1</td>\n",
       "    </tr>\n",
       "    <tr>\n",
       "      <th>5000</th>\n",
       "      <td>1</td>\n",
       "    </tr>\n",
       "    <tr>\n",
       "      <th>5520</th>\n",
       "      <td>4</td>\n",
       "    </tr>\n",
       "    <tr>\n",
       "      <th>5600</th>\n",
       "      <td>3</td>\n",
       "    </tr>\n",
       "  </tbody>\n",
       "</table>\n",
       "</div>"
      ],
      "text/plain": [
       "       NbShelf\n",
       "Tubes         \n",
       "720          1\n",
       "800          3\n",
       "2240         1\n",
       "2800         1\n",
       "3200         1\n",
       "3960         1\n",
       "5000         1\n",
       "5520         4\n",
       "5600         3"
      ]
     },
     "metadata": {},
     "output_type": "display_data"
    },
    {
     "data": {
      "text/markdown": [
       "**76** unique rack for all the **5** freezers. Number of tubes per rack:"
      ],
      "text/plain": [
       "<IPython.core.display.Markdown object>"
      ]
     },
     "metadata": {},
     "output_type": "display_data"
    },
    {
     "data": {
      "text/markdown": [
       "List of **5** unique tube number along **76** racks:"
      ],
      "text/plain": [
       "<IPython.core.display.Markdown object>"
      ]
     },
     "metadata": {},
     "output_type": "display_data"
    },
    {
     "data": {
      "text/html": [
       "<div>\n",
       "<table border=\"1\" class=\"dataframe\">\n",
       "  <thead>\n",
       "    <tr style=\"text-align: right;\">\n",
       "      <th></th>\n",
       "      <th>NbRack</th>\n",
       "    </tr>\n",
       "    <tr>\n",
       "      <th>Tubes</th>\n",
       "      <th></th>\n",
       "    </tr>\n",
       "  </thead>\n",
       "  <tbody>\n",
       "    <tr>\n",
       "      <th>200</th>\n",
       "      <td>1</td>\n",
       "    </tr>\n",
       "    <tr>\n",
       "      <th>400</th>\n",
       "      <td>1</td>\n",
       "    </tr>\n",
       "    <tr>\n",
       "      <th>720</th>\n",
       "      <td>7</td>\n",
       "    </tr>\n",
       "    <tr>\n",
       "      <th>760</th>\n",
       "      <td>1</td>\n",
       "    </tr>\n",
       "    <tr>\n",
       "      <th>800</th>\n",
       "      <td>66</td>\n",
       "    </tr>\n",
       "  </tbody>\n",
       "</table>\n",
       "</div>"
      ],
      "text/plain": [
       "       NbRack\n",
       "Tubes        \n",
       "200         1\n",
       "400         1\n",
       "720         7\n",
       "760         1\n",
       "800        66"
      ]
     },
     "metadata": {},
     "output_type": "display_data"
    },
    {
     "data": {
      "text/markdown": [
       "**744** unique box for all the **5** freezers. Number of tubes per box:"
      ],
      "text/plain": [
       "<IPython.core.display.Markdown object>"
      ]
     },
     "metadata": {},
     "output_type": "display_data"
    },
    {
     "data": {
      "text/markdown": [
       "List of unique tube number along boxes:"
      ],
      "text/plain": [
       "<IPython.core.display.Markdown object>"
      ]
     },
     "metadata": {},
     "output_type": "display_data"
    },
    {
     "data": {
      "text/html": [
       "<div>\n",
       "<table border=\"1\" class=\"dataframe\">\n",
       "  <thead>\n",
       "    <tr style=\"text-align: right;\">\n",
       "      <th></th>\n",
       "      <th>NbBox</th>\n",
       "    </tr>\n",
       "    <tr>\n",
       "      <th>Tubes</th>\n",
       "      <th></th>\n",
       "    </tr>\n",
       "  </thead>\n",
       "  <tbody>\n",
       "    <tr>\n",
       "      <th>40</th>\n",
       "      <td>8</td>\n",
       "    </tr>\n",
       "    <tr>\n",
       "      <th>80</th>\n",
       "      <td>736</td>\n",
       "    </tr>\n",
       "  </tbody>\n",
       "</table>\n",
       "</div>"
      ],
      "text/plain": [
       "       NbBox\n",
       "Tubes       \n",
       "40         8\n",
       "80       736"
      ]
     },
     "metadata": {},
     "output_type": "display_data"
    },
    {
     "data": {
      "text/markdown": [
       "### Box analysis"
      ],
      "text/plain": [
       "<IPython.core.display.Markdown object>"
      ]
     },
     "metadata": {},
     "output_type": "display_data"
    },
    {
     "data": {
      "text/markdown": [
       "**744** unique Box."
      ],
      "text/plain": [
       "<IPython.core.display.Markdown object>"
      ]
     },
     "metadata": {},
     "output_type": "display_data"
    },
    {
     "data": {
      "text/markdown": [
       "**1** unique BoxType."
      ],
      "text/plain": [
       "<IPython.core.display.Markdown object>"
      ]
     },
     "metadata": {},
     "output_type": "display_data"
    },
    {
     "data": {
      "text/markdown": [
       "### Tube analysis"
      ],
      "text/plain": [
       "<IPython.core.display.Markdown object>"
      ]
     },
     "metadata": {},
     "output_type": "display_data"
    },
    {
     "data": {
      "text/markdown": [
       "**59200** unique Name."
      ],
      "text/plain": [
       "<IPython.core.display.Markdown object>"
      ]
     },
     "metadata": {},
     "output_type": "display_data"
    },
    {
     "data": {
      "text/markdown": [
       "**2** unique VisitID, expect 2."
      ],
      "text/plain": [
       "<IPython.core.display.Markdown object>"
      ]
     },
     "metadata": {},
     "output_type": "display_data"
    },
    {
     "data": {
      "text/markdown": [
       "**2** unique BatchID, expect 2."
      ],
      "text/plain": [
       "<IPython.core.display.Markdown object>"
      ]
     },
     "metadata": {},
     "output_type": "display_data"
    },
    {
     "data": {
      "text/markdown": [
       "**40** unique StimulusID, expect 40."
      ],
      "text/plain": [
       "<IPython.core.display.Markdown object>"
      ]
     },
     "metadata": {},
     "output_type": "display_data"
    },
    {
     "data": {
      "text/markdown": [
       "**994** unique DonorID, expect 1000."
      ],
      "text/plain": [
       "<IPython.core.display.Markdown object>"
      ]
     },
     "metadata": {},
     "output_type": "display_data"
    },
    {
     "data": {
      "text/html": [
       "<div>\n",
       "<table border=\"1\" class=\"dataframe\">\n",
       "  <thead>\n",
       "    <tr style=\"text-align: right;\">\n",
       "      <th></th>\n",
       "      <th>Tubes</th>\n",
       "      <th>VisitID</th>\n",
       "    </tr>\n",
       "  </thead>\n",
       "  <tbody>\n",
       "    <tr>\n",
       "      <th>0</th>\n",
       "      <td>39040</td>\n",
       "      <td>1</td>\n",
       "    </tr>\n",
       "    <tr>\n",
       "      <th>1</th>\n",
       "      <td>20160</td>\n",
       "      <td>2</td>\n",
       "    </tr>\n",
       "  </tbody>\n",
       "</table>\n",
       "</div>"
      ],
      "text/plain": [
       "   Tubes  VisitID\n",
       "0  39040        1\n",
       "1  20160        2"
      ]
     },
     "metadata": {},
     "output_type": "display_data"
    },
    {
     "data": {
      "text/html": [
       "<div>\n",
       "<table border=\"1\" class=\"dataframe\">\n",
       "  <thead>\n",
       "    <tr style=\"text-align: right;\">\n",
       "      <th></th>\n",
       "      <th>Tubes</th>\n",
       "      <th>BatchID</th>\n",
       "    </tr>\n",
       "  </thead>\n",
       "  <tbody>\n",
       "    <tr>\n",
       "      <th>0</th>\n",
       "      <td>34840</td>\n",
       "      <td>A</td>\n",
       "    </tr>\n",
       "    <tr>\n",
       "      <th>1</th>\n",
       "      <td>24360</td>\n",
       "      <td>B</td>\n",
       "    </tr>\n",
       "  </tbody>\n",
       "</table>\n",
       "</div>"
      ],
      "text/plain": [
       "   Tubes BatchID\n",
       "0  34840       A\n",
       "1  24360       B"
      ]
     },
     "metadata": {},
     "output_type": "display_data"
    },
    {
     "data": {
      "text/markdown": [
       "Each of the **40** StimulusID has **1480** tubes."
      ],
      "text/plain": [
       "<IPython.core.display.Markdown object>"
      ]
     },
     "metadata": {},
     "output_type": "display_data"
    },
    {
     "data": {
      "text/markdown": [
       "List of **2** unique tube number along **994** DonorID:"
      ],
      "text/plain": [
       "<IPython.core.display.Markdown object>"
      ]
     },
     "metadata": {},
     "output_type": "display_data"
    },
    {
     "data": {
      "text/markdown": [
       "* 40;\n",
       "* 80."
      ],
      "text/plain": [
       "<IPython.core.display.Markdown object>"
      ]
     },
     "metadata": {},
     "output_type": "display_data"
    },
    {
     "data": {
      "text/html": [
       "<div>\n",
       "<table border=\"1\" class=\"dataframe\">\n",
       "  <thead>\n",
       "    <tr style=\"text-align: right;\">\n",
       "      <th></th>\n",
       "      <th>DonorID</th>\n",
       "    </tr>\n",
       "    <tr>\n",
       "      <th>Tubes</th>\n",
       "      <th></th>\n",
       "    </tr>\n",
       "  </thead>\n",
       "  <tbody>\n",
       "    <tr>\n",
       "      <th>40</th>\n",
       "      <td>508</td>\n",
       "    </tr>\n",
       "    <tr>\n",
       "      <th>80</th>\n",
       "      <td>486</td>\n",
       "    </tr>\n",
       "  </tbody>\n",
       "</table>\n",
       "</div>"
      ],
      "text/plain": [
       "       DonorID\n",
       "Tubes         \n",
       "40         508\n",
       "80         486"
      ]
     },
     "metadata": {},
     "output_type": "display_data"
    },
    {
     "data": {
      "text/markdown": [
       "**994** unique DonorID in total.\n",
       "Expected 1.000 DonorID, missing 6 DonorID?"
      ],
      "text/plain": [
       "<IPython.core.display.Markdown object>"
      ]
     },
     "metadata": {},
     "output_type": "display_data"
    },
    {
     "data": {
      "text/markdown": [
       "### Check excluded donors"
      ],
      "text/plain": [
       "<IPython.core.display.Markdown object>"
      ]
     },
     "metadata": {},
     "output_type": "display_data"
    },
    {
     "data": {
      "text/html": [
       "<div>\n",
       "<table border=\"1\" class=\"dataframe\">\n",
       "  <thead>\n",
       "    <tr style=\"text-align: right;\">\n",
       "      <th></th>\n",
       "      <th>DonorID</th>\n",
       "      <th>VisitID</th>\n",
       "    </tr>\n",
       "  </thead>\n",
       "  <tbody>\n",
       "    <tr>\n",
       "      <th>7480</th>\n",
       "      <td>308</td>\n",
       "      <td>1</td>\n",
       "    </tr>\n",
       "    <tr>\n",
       "      <th>7640</th>\n",
       "      <td>303</td>\n",
       "      <td>1</td>\n",
       "    </tr>\n",
       "    <tr>\n",
       "      <th>11880</th>\n",
       "      <td>167</td>\n",
       "      <td>1</td>\n",
       "    </tr>\n",
       "    <tr>\n",
       "      <th>12200</th>\n",
       "      <td>279</td>\n",
       "      <td>1</td>\n",
       "    </tr>\n",
       "    <tr>\n",
       "      <th>15280</th>\n",
       "      <td>178</td>\n",
       "      <td>1</td>\n",
       "    </tr>\n",
       "    <tr>\n",
       "      <th>19960</th>\n",
       "      <td>104</td>\n",
       "      <td>1</td>\n",
       "    </tr>\n",
       "    <tr>\n",
       "      <th>21040</th>\n",
       "      <td>268</td>\n",
       "      <td>1</td>\n",
       "    </tr>\n",
       "    <tr>\n",
       "      <th>24080</th>\n",
       "      <td>701</td>\n",
       "      <td>1</td>\n",
       "    </tr>\n",
       "    <tr>\n",
       "      <th>34560</th>\n",
       "      <td>534</td>\n",
       "      <td>1</td>\n",
       "    </tr>\n",
       "    <tr>\n",
       "      <th>35600</th>\n",
       "      <td>122</td>\n",
       "      <td>1</td>\n",
       "    </tr>\n",
       "    <tr>\n",
       "      <th>44360</th>\n",
       "      <td>96</td>\n",
       "      <td>1</td>\n",
       "    </tr>\n",
       "  </tbody>\n",
       "</table>\n",
       "</div>"
      ],
      "text/plain": [
       "       DonorID  VisitID\n",
       "7480       308        1\n",
       "7640       303        1\n",
       "11880      167        1\n",
       "12200      279        1\n",
       "15280      178        1\n",
       "19960      104        1\n",
       "21040      268        1\n",
       "24080      701        1\n",
       "34560      534        1\n",
       "35600      122        1\n",
       "44360       96        1"
      ]
     },
     "metadata": {},
     "output_type": "display_data"
    },
    {
     "data": {
      "text/markdown": [
       "### Check missing donors"
      ],
      "text/plain": [
       "<IPython.core.display.Markdown object>"
      ]
     },
     "metadata": {},
     "output_type": "display_data"
    },
    {
     "data": {
      "text/markdown": [
       "**12** DonorID not found on the expected donors list:"
      ],
      "text/plain": [
       "<IPython.core.display.Markdown object>"
      ]
     },
     "metadata": {},
     "output_type": "display_data"
    },
    {
     "data": {
      "text/markdown": [
       "1. 5096;\n",
       "1. 5104;\n",
       "1. 5122;\n",
       "1. 5167;\n",
       "1. 5178;\n",
       "1. 5219;\n",
       "1. 5268;\n",
       "1. 5279;\n",
       "1. 5303;\n",
       "1. 5308;\n",
       "1. 5534;\n",
       "1. 5701."
      ],
      "text/plain": [
       "<IPython.core.display.Markdown object>"
      ]
     },
     "metadata": {},
     "output_type": "display_data"
    },
    {
     "data": {
      "text/markdown": [
       "**982** DonorID found on the expected donors list."
      ],
      "text/plain": [
       "<IPython.core.display.Markdown object>"
      ]
     },
     "metadata": {},
     "output_type": "display_data"
    },
    {
     "data": {
      "text/markdown": [
       "List of **18** expected DonorID from list not in the file to upload on FreezerPro."
      ],
      "text/plain": [
       "<IPython.core.display.Markdown object>"
      ]
     },
     "metadata": {},
     "output_type": "display_data"
    },
    {
     "data": {
      "text/markdown": [
       "1. 197;\n",
       "1. 201;\n",
       "1. 202;\n",
       "1. 205;\n",
       "1. 206;\n",
       "1. 207;\n",
       "1. 208;\n",
       "1. 213;\n",
       "1. 214;\n",
       "1. 219;\n",
       "1. 302;\n",
       "1. 311;\n",
       "1. 312;\n",
       "1. 313;\n",
       "1. 314;\n",
       "1. 797;\n",
       "1. 798;\n",
       "1. 799."
      ],
      "text/plain": [
       "<IPython.core.display.Markdown object>"
      ]
     },
     "metadata": {},
     "output_type": "display_data"
    }
   ],
   "source": [
    "display(Markdown(\"### Freezer analysis\"))\n",
    "display(Markdown(\"**{}** unique Freezer.\".format(df[\"Freezer\"].nunique())))\n",
    "barcodeperfreezer = pd.DataFrame(df.groupby(\"Freezer\")[\"Name\"].nunique())\n",
    "barcodeperfreezer.loc[:, \"Freezer\"] = barcodeperfreezer.index.get_values()\n",
    "barcodeperfreezer.rename(columns={\"Name\": \"Tubes\"}, inplace=True)\n",
    "barcodeperfreezer.reset_index(drop=True, inplace=True)\n",
    "barcodeperfreezer.sort_values(by=\"Tubes\", ascending=False, inplace=True)\n",
    "\n",
    "fig1, ax1 = plt.subplots()\n",
    "y_pos1 = [i for i in range(len(barcodeperfreezer[\"Freezer\"]))]\n",
    "rects1 = ax1.barh(y_pos1, barcodeperfreezer[\"Tubes\"], color=colors[0])\n",
    "ax1.set_yticks(y_pos1)\n",
    "ax1.set_yticklabels(barcodeperfreezer[\"Freezer\"])\n",
    "ax1.set_ylabel(\"Freezer Barcode\")\n",
    "ax1.set_xlabel(\"Number of tubes\")\n",
    "ax1.set_title(\"Total number of tubes per freezer\")\n",
    "\n",
    "label_nb_barh(ax1, rects1)\n",
    "\n",
    "plt.show()\n",
    "\n",
    "display(Markdown(\"**{}** unique shelf for all the **{}** freezers. Number of tubes per shelf:\".\\\n",
    "                 format(df[\"Level1\"].nunique(), df[\"Freezer\"].nunique())))\n",
    "barcodepershelfperfreezer = pd.DataFrame(df.groupby([\"ShelfBarcode\", \"Freezer\"])[\"Name\"].nunique())\n",
    "barcodepershelfperfreezer.rename(columns={\"Name\": \"Tubes\"}, inplace=True)\n",
    "# barcodepershelfperfreezer.sort_values(by=\"Tubes\", ascending=False, inplace=True)\n",
    "shelves = barcodepershelfperfreezer.index.levels[0].tolist()\n",
    "freezers = barcodepershelfperfreezer.index.levels[1].tolist()\n",
    "barcodepershelfperfreezer.loc[:, \"NbShelf\"] = shelves\n",
    "\n",
    "color_bars = [colors[i] for i in barcodepershelfperfreezer.index.labels[1].tolist()]\n",
    "\n",
    "fig2, ax2 = plt.subplots(figsize=(10,8))\n",
    "y_pos2 = [i for i in range(len(shelves))]\n",
    "rects2 = ax2.barh(y_pos2, barcodepershelfperfreezer[\"Tubes\"], color=color_bars)\n",
    "ax2.set_yticks(y_pos2)\n",
    "ax2.set_yticklabels(shelves)\n",
    "ax2.set_ylabel(\"Shelf Barcode\")\n",
    "ax2.set_xlabel(\"Number of tubes\")\n",
    "ax2.set_title(\"Total number of tubes per shelf and per freezer\")\n",
    "cols_patches = [mpatches.Patch(color=colors[i], label=freezers[i]) for i in range(len(freezers))]\n",
    "ax2.legend(handles=cols_patches, loc=2, bbox_to_anchor=(1, 1), title=\"Freezer Barcode\")\n",
    "\n",
    "label_nb_barh(ax2, rects2)\n",
    "\n",
    "plt.show()\n",
    "\n",
    "display(Markdown(\"List of **{}** unique tube number along shelves:\".format(barcodepershelfperfreezer[\"Tubes\"].nunique())))\n",
    "display(pd.DataFrame(barcodepershelfperfreezer.groupby(\"Tubes\")[\"NbShelf\"].count()))\n",
    "\n",
    "display(Markdown(\"**{}** unique rack for all the **{}** freezers. Number of tubes per rack:\".\\\n",
    "                 format(df[\"Level2\"].nunique(), df[\"Freezer\"].nunique())))\n",
    "barcodeperrackperfreezer = pd.DataFrame(df.groupby([\"RackBarcode\", \"Freezer\"])[\"Name\"].nunique())\n",
    "racks = barcodeperrackperfreezer.index.levels[0].tolist()\n",
    "barcodeperrackperfreezer.loc[:, \"NbRack\"] = racks\n",
    "barcodeperrackperfreezer.rename(columns={\"Name\": \"Tubes\"}, inplace=True)\n",
    "# display(barcodeperrackperfreezer)\n",
    "display(Markdown(\"List of **{}** unique tube number along **{}** racks:\".\\\n",
    "                 format(barcodeperrackperfreezer[\"Tubes\"].nunique(), \\\n",
    "                        barcodeperrackperfreezer[\"NbRack\"].nunique())))\n",
    "display(pd.DataFrame(barcodeperrackperfreezer.groupby(\"Tubes\")[\"NbRack\"].count()))\n",
    "\n",
    "display(Markdown(\"**{}** unique box for all the **{}** freezers. Number of tubes per box:\".\\\n",
    "                 format(df[\"Box\"].nunique(), df[\"Freezer\"].nunique())))\n",
    "barcodeperboxperfreezer = pd.DataFrame(df.groupby([\"Box\", \"Freezer\"])[\"Name\"].nunique())\n",
    "barcodeperboxperfreezer.rename(columns={\"Name\": \"Tubes\"}, inplace=True)\n",
    "boxes = barcodeperboxperfreezer.index.levels[0].tolist()\n",
    "barcodeperboxperfreezer.loc[:, \"NbBox\"] = boxes\n",
    "# display(barcodeperboxperfreezer)\n",
    "display(Markdown(\"List of unique tube number along boxes:\"))\n",
    "# display(Markdown(\";\\n\".join([\"* {}\".format(t) for t in sorted(barcodeperboxperfreezer[\"Tubes\"].unique())])+\".\"))\n",
    "display(pd.DataFrame(barcodeperboxperfreezer.groupby(\"Tubes\")[\"NbBox\"].count()))\n",
    "\n",
    "display(Markdown(\"### Box analysis\"))\n",
    "display(Markdown(\"**{}** unique Box.\".format(df[\"Box\"].nunique())))\n",
    "display(Markdown(\"**{}** unique BoxType.\".format(df[\"BoxType\"].nunique())))\n",
    "\n",
    "display(Markdown(\"### Tube analysis\"))\n",
    "display(Markdown(\"**{}** unique Name.\".format(df[\"Name\"].nunique())))\n",
    "display(Markdown(\"**{}** unique VisitID, expect 2.\".format(df[\"VisitID\"].nunique())))\n",
    "display(Markdown(\"**{}** unique BatchID, expect 2.\".format(df[\"BatchID\"].nunique())))\n",
    "display(Markdown(\"**{}** unique StimulusID, expect 40.\".format(df[\"StimulusID\"].nunique())))\n",
    "display(Markdown(\"**{}** unique DonorID, expect 1000.\".format(df[\"DonorID\"].nunique())))\n",
    "\n",
    "visitperbarcode = pd.DataFrame(df.groupby(\"VisitID\")[\"Name\"].nunique())\n",
    "visitperbarcode.loc[:, \"VisitID\"] = visitperbarcode.index.get_values()\n",
    "visitperbarcode.reset_index(drop=True, inplace=True)\n",
    "visitperbarcode.rename(columns={\"Name\": \"Tubes\"}, inplace=True)\n",
    "display(visitperbarcode)\n",
    "\n",
    "batchperbarcode = pd.DataFrame(df.groupby(\"BatchID\")[\"Name\"].nunique())\n",
    "batchperbarcode.loc[:, \"BatchID\"] = batchperbarcode.index.get_values()\n",
    "batchperbarcode.reset_index(drop=True, inplace=True)\n",
    "batchperbarcode.rename(columns={\"Name\": \"Tubes\"}, inplace=True)\n",
    "display(batchperbarcode)\n",
    "\n",
    "stimulusperbarcode = pd.DataFrame(df.groupby(\"StimulusID\")[\"Name\"].nunique())\n",
    "stimulusperbarcode.loc[:, \"StimulusID\"] = stimulusperbarcode.index.get_values()\n",
    "stimulusperbarcode.reset_index(drop=True, inplace=True)\n",
    "stimulusperbarcode.rename(columns={\"Name\": \"Tubes\"}, inplace=True)\n",
    "\n",
    "if stimulusperbarcode[\"Tubes\"].nunique() > 1: \n",
    "    figs, axs = plt.subplots(figsize=(10,5))\n",
    "    y_poss = [i for i in range(len(stimulusperbarcode[\"StimulusID\"]))]\n",
    "    rectss = axs.barh(stimulusperbarcode[\"Tubes\"].astype(int), y_poss, color=colors[0])\n",
    "    axs.set_xticks(y_poss)\n",
    "    axs.set_xticklabels(stimulusperbarcode[\"StimulusID\"])\n",
    "    axs.set_xlabel(\"StimulusID\")\n",
    "    axs.set_ylabel(\"Number of tubes\")\n",
    "    axs.set_yticklabels(stimulusperbarcode[\"Tubes\"].astype(str))\n",
    "    axs.set_title(\"Total number of tubes per StimulusID\")\n",
    "\n",
    "    plt.show()\n",
    "else:\n",
    "    display(Markdown(\"Each of the **{}** StimulusID has **{}** tubes.\".format(stimulusperbarcode[\"StimulusID\"].nunique(), stimulusperbarcode[\"Tubes\"].unique()[0])))\n",
    "\n",
    "donorperbarcode = pd.DataFrame(df.groupby(\"DonorID\")[\"Name\"].nunique())\n",
    "donorperbarcode.loc[:, \"DonorID\"] = donorperbarcode.index.get_values()\n",
    "donorperbarcode.reset_index(drop=True, inplace=True)\n",
    "donorperbarcode.rename(columns={\"Name\": \"Tubes\"}, inplace=True)\n",
    "display(Markdown(\"List of **{}** unique tube number along **{}** DonorID:\".\\\n",
    "                format(donorperbarcode[\"Tubes\"].nunique(), donorperbarcode[\"DonorID\"].nunique())))\n",
    "display(Markdown(\";\\n\".join([\"* {}\".format(t) for t in sorted(donorperbarcode[\"Tubes\"].unique())])+\".\"))\n",
    "# display(donorperbarcode.loc[donorperbarcode[\"DonorID\"].isin(excludeddonors)])\n",
    "donorpertube = pd.DataFrame(donorperbarcode.groupby(\"Tubes\")[\"DonorID\"].count())\n",
    "donorpertube.rename(columns={\"DonorID\": \"NbDonors\"})\n",
    "display(donorpertube)\n",
    "if donorpertube[\"DonorID\"].nunique() <= 1000:\n",
    "    display(Markdown(\"**{}** unique DonorID in total.\\nExpected 1.000 DonorID, missing {} DonorID?\".format(donorperbarcode[\"DonorID\"].nunique(), (1000-donorperbarcode[\"DonorID\"].nunique()))))\n",
    "else:\n",
    "    display(Markdown(\"**{}** unique DonorID in total.\\nExpected 1.000 DonorID, exceed {} DonorID?\".format(donorperbarcode[\"DonorID\"].nunique(), (donorperbarcode[\"DonorID\"].nunique()-1000))))\n",
    "    \n",
    "display(Markdown(\"### Check excluded donors\"))\n",
    "display(df.loc[df[\"DonorID\"].isin(excludeddonors), [\"DonorID\", \"VisitID\"]].drop_duplicates())\n",
    "\n",
    "display(Markdown(\"### Check missing donors\"))\n",
    "dfdonors = df[\"DonorID\"].unique()\n",
    "# donorsreplace = list(set(dfdonors) - set(expecteddonors))\n",
    "df.loc[:, \"DonorID\"] = df[\"DonorID\"].astype(int)\n",
    "donorsnotfound = df.loc[~df[\"DonorID\"].isin(expecteddonors), \"DonorID\"].unique()\n",
    "donorsfound = df.loc[df[\"DonorID\"].isin(expecteddonors), \"DonorID\"].unique()\n",
    "display(Markdown(\"**{}** DonorID not found on the expected donors list:\".format(len(donorsnotfound))))\n",
    "display(Markdown(\";\\n\".join([\"1. {}\".format(t) for t in sorted(donorsnotfound)])+\".\"))\n",
    "display(Markdown(\"**{}** DonorID found on the expected donors list.\".format(len(donorsfound))))\n",
    "donorstocheck = list(set(expecteddonors) - set(donorsfound))\n",
    "display(Markdown(\"List of **{}** expected DonorID from list not in the file to upload on FreezerPro.\".\\\n",
    "                format(len(donorstocheck))))\n",
    "display(Markdown(\";\\n\".join([\"1. {}\".format(t) for t in sorted(donorstocheck)])+\".\"))\n",
    "\n",
    "# display(Markdown(\"**{}** DonorID found on the file, probably replaced donors:\".format(len(donorsreplace))))\n",
    "# display(Markdown(\";\\n\".join([\"1. {}\".format(t) for t in sorted(donorsreplace)])+\".\"))"
   ]
  },
  {
   "cell_type": "code",
   "execution_count": 5,
   "metadata": {
    "collapsed": false
   },
   "outputs": [
    {
     "data": {
      "text/markdown": [
       "### Rack list"
      ],
      "text/plain": [
       "<IPython.core.display.Markdown object>"
      ]
     },
     "metadata": {},
     "output_type": "display_data"
    },
    {
     "data": {
      "text/plain": [
       "array(['MIC-TruCRack_1', 'MIC-TruCRack_2', 'MIC-TruCRack_3',\n",
       "       'MIC-TruCRack_4', 'MIC-TruCRack_5', 'MIC-TruCRack_6',\n",
       "       'MIC-TruCRack_7', 'MIC-TruCRack_8', 'MIC-TruCRack_16',\n",
       "       'MIC-TruCRack_17', 'MIC-TruCRack_18', 'MIC-TruCRack_19',\n",
       "       'MIC-TruCRack_20', 'MIC-TruCRack_21', 'MIC-TruCRack_22',\n",
       "       'MIC-TruCRack_23', 'MIC-TruCRack_24', 'MIC-TruCRack_25',\n",
       "       'MIC-TruCRack_26', 'MIC-TruCRack_27', 'MIC-TruCRack_28',\n",
       "       'MIC-TruCRack_29', 'MIC-TruCRack_30', 'MIC-TruCRack_31',\n",
       "       'MIC-TruCRack_32', 'MIC-TruCRack_33', 'MIC-TruCRack_34',\n",
       "       'MIC-TruCRack_35', 'MIC-TruCRack_36', 'MIC-TruCRack_37',\n",
       "       'MIC-TruCRack_38', 'MIC-TruCRack_39', 'MIC-TruCRack_40',\n",
       "       'MIC-TruCRack_41', 'MIC-TruCRack_42', 'MIC-TruCRack_43',\n",
       "       'MIC-TruCRack_44', 'MIC-TruCRack_45', 'MIC-TruCRack_46',\n",
       "       'MIC-TruCRack_47', 'MIC-TruCRack_9', 'MIC-TruCRack_10',\n",
       "       'MIC-TruCRack_11', 'MIC-TruCRack_12', 'MIC-TruCRack_48',\n",
       "       'MIC-TruCRack_13', 'MIC-TruCRack_14', 'MIC-TruCRack_15',\n",
       "       'MIC-TruCRack_49', 'MIC-TruCRack_50', 'MIC-TruCRack_51',\n",
       "       'MIC-TruCRack_52', 'MIC-TruCRack_53', 'MIC-TruCRack_54',\n",
       "       'MIC-TruCRack_56', 'MIC-TruCRack_55', 'MIC-TruCRack_57',\n",
       "       'MIC-TruCRack_58', 'MIC-TruCRack_59', 'MIC-TruCRack_60',\n",
       "       'MIC-TruCRack_61', 'MIC-TruCRack_62', 'MIC-TruCRack_63',\n",
       "       'MIC-TruCRack_64', 'MIC-TruCRack_65', 'MIC-TruCRack_66',\n",
       "       'MIC-TruCRack_67', 'MIC-TruCRack_68', 'MIC-TruCRack_69',\n",
       "       'MIC-TruCRack_70', 'MIC-TruCRack_71', 'MIC-TruCRack_72',\n",
       "       'MIC-TruCRack_73', 'MIC-TruCRack_74', 'MIC-TruCRack_75',\n",
       "       'MIC-TruCRack_76'], dtype=object)"
      ]
     },
     "metadata": {},
     "output_type": "display_data"
    }
   ],
   "source": [
    "display(Markdown(\"### Rack list\"))\n",
    "display(df[\"RackBarcode\"].unique())"
   ]
  }
 ],
 "metadata": {
  "kernelspec": {
   "display_name": "Python 2",
   "language": "python",
   "name": "python2"
  },
  "language_info": {
   "codemirror_mode": {
    "name": "ipython",
    "version": 2
   },
   "file_extension": ".py",
   "mimetype": "text/x-python",
   "name": "python",
   "nbconvert_exporter": "python",
   "pygments_lexer": "ipython2",
   "version": "2.7.11"
  }
 },
 "nbformat": 4,
 "nbformat_minor": 0
}
