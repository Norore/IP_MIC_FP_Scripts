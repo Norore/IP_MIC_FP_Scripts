{
 "cells": [
  {
   "cell_type": "markdown",
   "metadata": {},
   "source": [
    "# Derivatives of Supernatants from our freezers, before corrections"
   ]
  },
  {
   "cell_type": "markdown",
   "metadata": {},
   "source": [
    "## General informations"
   ]
  },
  {
   "cell_type": "code",
   "execution_count": 2,
   "metadata": {
    "collapsed": false
   },
   "outputs": [
    {
     "data": {
      "text/markdown": [
       "**20000** tubes in our derivatives file."
      ],
      "text/plain": [
       "<IPython.core.display.Markdown object>"
      ]
     },
     "metadata": {},
     "output_type": "display_data"
    },
    {
     "data": {
      "text/markdown": [
       "* **10000** tubes for Fraction 1."
      ],
      "text/plain": [
       "<IPython.core.display.Markdown object>"
      ]
     },
     "metadata": {},
     "output_type": "display_data"
    },
    {
     "data": {
      "text/markdown": [
       "* **10000** tubes for Fraction 2."
      ],
      "text/plain": [
       "<IPython.core.display.Markdown object>"
      ]
     },
     "metadata": {},
     "output_type": "display_data"
    },
    {
     "data": {
      "text/markdown": [
       "* **0** tubes are not assigned to a fraction."
      ],
      "text/plain": [
       "<IPython.core.display.Markdown object>"
      ]
     },
     "metadata": {},
     "output_type": "display_data"
    },
    {
     "data": {
      "text/markdown": [
       "List of the *33* columns:"
      ],
      "text/plain": [
       "<IPython.core.display.Markdown object>"
      ]
     },
     "metadata": {},
     "output_type": "display_data"
    },
    {
     "data": {
      "text/markdown": [
       "1. ParentID;\n",
       "1. Name;\n",
       "1. BARCODE;\n",
       "1. Position;\n",
       "1. Volume;\n",
       "1. Freezer;\n",
       "1. Freezer_Descr;\n",
       "1. Level1;\n",
       "1. Level1_Descr;\n",
       "1. Level2;\n",
       "1. Level2_Descr;\n",
       "1. Level3;\n",
       "1. Level3_Descr;\n",
       "1. BoxType;\n",
       "1. Box;\n",
       "1. Box_Descr;\n",
       "1. ThermoBoxBarcode;\n",
       "1. BOX_BARCODE;\n",
       "1. CreationDate;\n",
       "1. UpdateDate;\n",
       "1. AliquotID;\n",
       "1. DonorID;\n",
       "1. StimulusID;\n",
       "1. StimulusName;\n",
       "1. VisitID;\n",
       "1. ThawCycle;\n",
       "1. Sample Source;\n",
       "1. Description;\n",
       "1. BatchID;\n",
       "1. Sample Type;\n",
       "1. ShelfBarcode;\n",
       "1. RackBarcode;\n",
       "1. DrawerBarcode."
      ],
      "text/plain": [
       "<IPython.core.display.Markdown object>"
      ]
     },
     "metadata": {},
     "output_type": "display_data"
    }
   ],
   "source": [
    "import pandas as pd\n",
    "import re\n",
    "from IPython.display import display, Markdown, HTML\n",
    "\n",
    "# print table without index column\n",
    "def table_wo_index(df):\n",
    "    table = HTML(re.sub('(<tr.*>\\n) +<th>.*</th>\\n', '\\\\1', df._repr_html_()))\n",
    "    return(table)\n",
    "\n",
    "pd.set_option('display.max_rows', 96)\n",
    "pd.set_option('display.max_columns', 96)\n",
    "\n",
    "filepath = \"/Volumes/LabExMI/Users/Nolwenn/FreezerPro/DataToImport/\"\n",
    "filename = \"Supernatants_Derivatives_F1F2_20170118.csv\"\n",
    "df = pd.read_csv(filepath+filename)\n",
    "display(Markdown(\"**%d** tubes in our derivatives file.\" % len(df)))\n",
    "display(Markdown(\"* **%d** tubes for Fraction 1.\" % len(df.loc[df[\"Sample Type\"] == \"Fraction1\"])))\n",
    "display(Markdown(\"* **%d** tubes for Fraction 2.\" % len(df.loc[df[\"Sample Type\"] == \"Fraction2\"])))\n",
    "display(Markdown(\"* **%d** tubes are not assigned to a fraction.\" % len(df.loc[df[\"Sample Type\"].isnull()])))\n",
    "display(Markdown(\"List of the *%d* columns:\" % len(df.columns)))\n",
    "display(Markdown(\";\\n\".join([\"1. \"+col for col in df.columns])+\".\"))"
   ]
  },
  {
   "cell_type": "markdown",
   "metadata": {},
   "source": [
    "We have 20.000 tubes as expected, and 10.000 tubes per Fraction. We want to know how many tube per donor we have.\n",
    "\n",
    "## Checking tubes"
   ]
  },
  {
   "cell_type": "code",
   "execution_count": 3,
   "metadata": {
    "collapsed": false
   },
   "outputs": [
    {
     "data": {
      "text/markdown": [
       "**19999** unique BARCODE. Expected 20.000."
      ],
      "text/plain": [
       "<IPython.core.display.Markdown object>"
      ]
     },
     "metadata": {},
     "output_type": "display_data"
    },
    {
     "data": {
      "text/markdown": [
       "Table for 1 duplicated *Name*:"
      ],
      "text/plain": [
       "<IPython.core.display.Markdown object>"
      ]
     },
     "metadata": {},
     "output_type": "display_data"
    },
    {
     "data": {
      "text/html": [
       "<div>\n",
       "<table border=\"1\" class=\"dataframe\">\n",
       "  <thead>\n",
       "    <tr style=\"text-align: right;\">\n",
       "      <th></th>\n",
       "      <th>Name</th>\n",
       "      <th>ParentID</th>\n",
       "      <th>DonorID</th>\n",
       "      <th>VisitID</th>\n",
       "      <th>BatchID</th>\n",
       "      <th>AliquotID</th>\n",
       "      <th>StimulusID</th>\n",
       "    </tr>\n",
       "  </thead>\n",
       "  <tbody>\n",
       "    <tr>\n",
       "      <th>13400</th>\n",
       "      <td>3260627121</td>\n",
       "      <td>91156</td>\n",
       "      <td>796.0</td>\n",
       "      <td>1.0</td>\n",
       "      <td>B</td>\n",
       "      <td>1.0</td>\n",
       "      <td>32.0</td>\n",
       "    </tr>\n",
       "    <tr>\n",
       "      <th>13428</th>\n",
       "      <td>3260627121</td>\n",
       "      <td>91145</td>\n",
       "      <td>785.0</td>\n",
       "      <td>1.0</td>\n",
       "      <td>B</td>\n",
       "      <td>1.0</td>\n",
       "      <td>32.0</td>\n",
       "    </tr>\n",
       "  </tbody>\n",
       "</table>\n",
       "</div>"
      ],
      "text/plain": [
       "             Name  ParentID  DonorID  VisitID BatchID  AliquotID  StimulusID\n",
       "13400  3260627121     91156    796.0      1.0       B        1.0        32.0\n",
       "13428  3260627121     91145    785.0      1.0       B        1.0        32.0"
      ]
     },
     "metadata": {},
     "output_type": "display_data"
    }
   ],
   "source": [
    "display(Markdown(\"**{}** unique BARCODE. Expected 20.000.\".format(df[\"Name\"].nunique())))\n",
    "duplicatednames = df.loc[df[\"Name\"].duplicated(), \"Name\"].tolist()\n",
    "if len(duplicatednames) > 0:\n",
    "    display(Markdown(\"Table for {} duplicated *Name*:\".format(len(duplicatednames))))\n",
    "    display(df.loc[df[\"Name\"].isin(duplicatednames), [\"Name\", \"ParentID\", \"DonorID\", \"VisitID\", \"BatchID\", \"AliquotID\", \"StimulusID\"]])"
   ]
  },
  {
   "cell_type": "code",
   "execution_count": 4,
   "metadata": {
    "collapsed": false
   },
   "outputs": [
    {
     "data": {
      "text/markdown": [
       "Final output file has **11 unique StimulusID**"
      ],
      "text/plain": [
       "<IPython.core.display.Markdown object>"
      ]
     },
     "metadata": {},
     "output_type": "display_data"
    },
    {
     "data": {
      "text/markdown": [
       "List of **1** count of tubes per donor:"
      ],
      "text/plain": [
       "<IPython.core.display.Markdown object>"
      ]
     },
     "metadata": {},
     "output_type": "display_data"
    },
    {
     "data": {
      "text/markdown": [
       "* 20 tubes per donor."
      ],
      "text/plain": [
       "<IPython.core.display.Markdown object>"
      ]
     },
     "metadata": {},
     "output_type": "display_data"
    }
   ],
   "source": [
    "display(Markdown(\"Final output file has **%d unique StimulusID**\" % len(df[\"StimulusID\"].unique())))\n",
    "countstimperdonor = pd.DataFrame(df.groupby(\"DonorID\")[\"StimulusID\"].count())\n",
    "display(Markdown(\"List of **%d** count of tubes per donor:\" % len(countstimperdonor[\"StimulusID\"].unique())))\n",
    "display(Markdown(\";\\n\".join([\"* \"+str(int(stim))+\" tubes per donor\" for stim in sorted(countstimperdonor[\"StimulusID\"].unique())])+\".\"))"
   ]
  },
  {
   "cell_type": "markdown",
   "metadata": {},
   "source": [
    "We were expecting **10 unique** StimulusID, Céline and Bruno only treat 10 Stimulus. We have an extra stimulus.\n",
    "\n",
    "We want to know if at least one donor has less than 20 tubes associated, and, if possible, which tube is missing."
   ]
  },
  {
   "cell_type": "code",
   "execution_count": 5,
   "metadata": {
    "collapsed": false
   },
   "outputs": [
    {
     "data": {
      "text/markdown": [
       "All donor are assigned to at least 20 StimulusID."
      ],
      "text/plain": [
       "<IPython.core.display.Markdown object>"
      ]
     },
     "metadata": {},
     "output_type": "display_data"
    },
    {
     "data": {
      "text/markdown": [
       "0 unique DonorID has more than 20 StimulusID."
      ],
      "text/plain": [
       "<IPython.core.display.Markdown object>"
      ]
     },
     "metadata": {},
     "output_type": "display_data"
    }
   ],
   "source": [
    "donorindexes = countstimperdonor[countstimperdonor[\"StimulusID\"] < 20].index.values\n",
    "if len(donorindexes) > 0:\n",
    "    display(Markdown(\"List of **%d** unique DonorID:\" % len(donorindexes)))\n",
    "    display(Markdown(\";\\n\".join([\" - \"+str(int(donor)) for donor in sorted(donorindexes)])+\".\"))\n",
    "else:\n",
    "    display(Markdown(\"All donor are assigned to at least 20 StimulusID.\"))\n",
    "    display(Markdown(\"%d unique DonorID has more than 20 StimulusID.\" % \\\n",
    "                     len(countstimperdonor[countstimperdonor[\"StimulusID\"] > 20].index.values)))"
   ]
  },
  {
   "cell_type": "markdown",
   "metadata": {},
   "source": [
    "We also want to known how many DonorID each StimulusID count:"
   ]
  },
  {
   "cell_type": "code",
   "execution_count": 6,
   "metadata": {
    "collapsed": false
   },
   "outputs": [
    {
     "data": {
      "text/html": [
       "<div>\n",
       "<table border=\"1\" class=\"dataframe\">\n",
       "  <thead>\n",
       "    <tr style=\"text-align: right;\">\n",
       "      <th></th>\n",
       "      <th>StimulusID</th>\n",
       "      <th>DonorID</th>\n",
       "    </tr>\n",
       "  </thead>\n",
       "  <tbody>\n",
       "    <tr>\n",
       "      <th>0</th>\n",
       "      <td>11</td>\n",
       "      <td>2000</td>\n",
       "    </tr>\n",
       "    <tr>\n",
       "      <th>1</th>\n",
       "      <td>17</td>\n",
       "      <td>2000</td>\n",
       "    </tr>\n",
       "    <tr>\n",
       "      <th>2</th>\n",
       "      <td>18</td>\n",
       "      <td>2000</td>\n",
       "    </tr>\n",
       "    <tr>\n",
       "      <th>3</th>\n",
       "      <td>19</td>\n",
       "      <td>2</td>\n",
       "    </tr>\n",
       "    <tr>\n",
       "      <th>4</th>\n",
       "      <td>23</td>\n",
       "      <td>1998</td>\n",
       "    </tr>\n",
       "    <tr>\n",
       "      <th>5</th>\n",
       "      <td>24</td>\n",
       "      <td>2000</td>\n",
       "    </tr>\n",
       "    <tr>\n",
       "      <th>6</th>\n",
       "      <td>27</td>\n",
       "      <td>2000</td>\n",
       "    </tr>\n",
       "    <tr>\n",
       "      <th>7</th>\n",
       "      <td>32</td>\n",
       "      <td>2000</td>\n",
       "    </tr>\n",
       "    <tr>\n",
       "      <th>8</th>\n",
       "      <td>35</td>\n",
       "      <td>2000</td>\n",
       "    </tr>\n",
       "    <tr>\n",
       "      <th>9</th>\n",
       "      <td>37</td>\n",
       "      <td>2000</td>\n",
       "    </tr>\n",
       "    <tr>\n",
       "      <th>10</th>\n",
       "      <td>39</td>\n",
       "      <td>2000</td>\n",
       "    </tr>\n",
       "  </tbody>\n",
       "</table>\n",
       "</div>"
      ],
      "text/plain": [
       "    StimulusID  DonorID\n",
       "0           11     2000\n",
       "1           17     2000\n",
       "2           18     2000\n",
       "3           19        2\n",
       "4           23     1998\n",
       "5           24     2000\n",
       "6           27     2000\n",
       "7           32     2000\n",
       "8           35     2000\n",
       "9           37     2000\n",
       "10          39     2000"
      ]
     },
     "metadata": {},
     "output_type": "display_data"
    }
   ],
   "source": [
    "countdonorperstim = pd.DataFrame(df.groupby(\"StimulusID\")[\"DonorID\"].count())\n",
    "countdonorperstim.loc[:, \"StimulusID\"] = countdonorperstim.index.get_values().astype(int)\n",
    "countdonorperstim.reset_index(drop=True, inplace=True)\n",
    "display(countdonorperstim[[\"StimulusID\", \"DonorID\"]])"
   ]
  },
  {
   "cell_type": "markdown",
   "metadata": {},
   "source": [
    "For StimulusID 19, at least one donor is assigned. First, we want to know the donors assigned to stimulus 19:"
   ]
  },
  {
   "cell_type": "code",
   "execution_count": 7,
   "metadata": {
    "collapsed": false,
    "scrolled": true
   },
   "outputs": [
    {
     "data": {
      "text/markdown": [
       "StimulusID 19 has **1** DonorID assigned:"
      ],
      "text/plain": [
       "<IPython.core.display.Markdown object>"
      ]
     },
     "metadata": {},
     "output_type": "display_data"
    },
    {
     "data": {
      "text/markdown": [
       "* 819."
      ],
      "text/plain": [
       "<IPython.core.display.Markdown object>"
      ]
     },
     "metadata": {},
     "output_type": "display_data"
    }
   ],
   "source": [
    "getdonor = df.loc[df[\"StimulusID\"] == 19, \"DonorID\"].unique()\n",
    "display(Markdown(\"StimulusID 19 has **%s** DonorID assigned:\" % len(getdonor)))\n",
    "display(Markdown(\";\\n\".join([\"* \"+str(int(donor)) for donor in getdonor])+\".\"))"
   ]
  },
  {
   "cell_type": "markdown",
   "metadata": {},
   "source": [
    "The donor numbered 75 had no tube for Stimuli 19. Céline sent an email to pinpoint where to find a file with the corrected data for this tube. The script to construct the final output was updated consequently."
   ]
  },
  {
   "cell_type": "markdown",
   "metadata": {},
   "source": [
    "For donor *819*, the problem is known. In fact, this donor is supposed to be assigned to stimulus 23 but it seems that stimulus were mixed for this donor:\n",
    "* in box 23, tube donor 819 found should have been assigned for box 24\n",
    "* in box 24, tube donor 819 found should have been assigned for box 17\n",
    "* in box 17, tube donor 819 found should have been assigned for box 18\n",
    "* in box 18, tube donor 819 found should have been assigned for box 19\n",
    "\n",
    "(Remember to ask Céline if it is correct)\n",
    "\n",
    "For stimulus 23, we want to know which are the missing donors:"
   ]
  },
  {
   "cell_type": "code",
   "execution_count": 7,
   "metadata": {
    "collapsed": false
   },
   "outputs": [
    {
     "data": {
      "text/markdown": [
       "List of **1** donors not found for StimulusID 23:"
      ],
      "text/plain": [
       "<IPython.core.display.Markdown object>"
      ]
     },
     "metadata": {},
     "output_type": "display_data"
    },
    {
     "data": {
      "text/markdown": [
       "* 819"
      ],
      "text/plain": [
       "<IPython.core.display.Markdown object>"
      ]
     },
     "metadata": {},
     "output_type": "display_data"
    }
   ],
   "source": [
    "donorlist = df[\"DonorID\"].unique()\n",
    "donorliststim23 = df.loc[df[\"StimulusID\"] == 23.0, \"DonorID\"].unique()\n",
    "donornotfound = list(set(donorlist) - set(donorliststim23))\n",
    "display(Markdown(\"List of **%d** donors not found for StimulusID 23:\" % len(donornotfound)))\n",
    "display(Markdown(\";\\n\".join([\"* \"+str(int(donor)) for donor in sorted(donornotfound)])))"
   ]
  },
  {
   "cell_type": "markdown",
   "metadata": {},
   "source": [
    "This confirms that the tube of DonorID 819 in StimulusID 19 is probably assigned to the wrong stimulus and should have been assign to the stimulus 23.\n",
    "\n",
    "Know we want to be sure that we have one stimulus per box:"
   ]
  },
  {
   "cell_type": "code",
   "execution_count": 8,
   "metadata": {
    "collapsed": false
   },
   "outputs": [
    {
     "data": {
      "text/markdown": [
       "There is **220 unique boxes** in the whole file."
      ],
      "text/plain": [
       "<IPython.core.display.Markdown object>"
      ]
     },
     "metadata": {},
     "output_type": "display_data"
    },
    {
     "data": {
      "text/markdown": [
       "**Look on Fraction 1:**"
      ],
      "text/plain": [
       "<IPython.core.display.Markdown object>"
      ]
     },
     "metadata": {},
     "output_type": "display_data"
    },
    {
     "data": {
      "text/markdown": [
       "There is **110 unique boxes** in the file for Fraction 1."
      ],
      "text/plain": [
       "<IPython.core.display.Markdown object>"
      ]
     },
     "metadata": {},
     "output_type": "display_data"
    },
    {
     "data": {
      "text/html": [
       "<div>\n",
       "<table border=\"1\" class=\"dataframe\">\n",
       "  <thead>\n",
       "    <tr style=\"text-align: right;\">\n",
       "      <th></th>\n",
       "      <th>Box</th>\n",
       "      <th>StimulusID</th>\n",
       "    </tr>\n",
       "  </thead>\n",
       "  <tbody>\n",
       "    <tr>\n",
       "      <th>30</th>\n",
       "      <td>MIC_Plasma_S17_V1_A1_F1_D801-896</td>\n",
       "      <td>2</td>\n",
       "    </tr>\n",
       "    <tr>\n",
       "      <th>52</th>\n",
       "      <td>MIC_Plasma_S18_V1_A1_F1_D801-896</td>\n",
       "      <td>2</td>\n",
       "    </tr>\n",
       "    <tr>\n",
       "      <th>74</th>\n",
       "      <td>MIC_Plasma_S23_V1_A1_F1_D801-896</td>\n",
       "      <td>2</td>\n",
       "    </tr>\n",
       "    <tr>\n",
       "      <th>96</th>\n",
       "      <td>MIC_Plasma_S24_V1_A1_F1_D801-896</td>\n",
       "      <td>2</td>\n",
       "    </tr>\n",
       "  </tbody>\n",
       "</table>\n",
       "</div>"
      ],
      "text/plain": [
       "                                 Box  StimulusID\n",
       "30  MIC_Plasma_S17_V1_A1_F1_D801-896           2\n",
       "52  MIC_Plasma_S18_V1_A1_F1_D801-896           2\n",
       "74  MIC_Plasma_S23_V1_A1_F1_D801-896           2\n",
       "96  MIC_Plasma_S24_V1_A1_F1_D801-896           2"
      ]
     },
     "metadata": {},
     "output_type": "display_data"
    },
    {
     "data": {
      "text/markdown": [
       "**Look on Fraction 2:**"
      ],
      "text/plain": [
       "<IPython.core.display.Markdown object>"
      ]
     },
     "metadata": {},
     "output_type": "display_data"
    },
    {
     "data": {
      "text/markdown": [
       "There is **110 unique boxes** in the file for Fraction 2."
      ],
      "text/plain": [
       "<IPython.core.display.Markdown object>"
      ]
     },
     "metadata": {},
     "output_type": "display_data"
    },
    {
     "data": {
      "text/html": [
       "<div>\n",
       "<table border=\"1\" class=\"dataframe\">\n",
       "  <thead>\n",
       "    <tr style=\"text-align: right;\">\n",
       "      <th></th>\n",
       "      <th>Box</th>\n",
       "      <th>StimulusID</th>\n",
       "    </tr>\n",
       "  </thead>\n",
       "  <tbody>\n",
       "    <tr>\n",
       "      <th>41</th>\n",
       "      <td>MIC_Plasma_S17_V1_A1_F2_D801-896</td>\n",
       "      <td>2</td>\n",
       "    </tr>\n",
       "    <tr>\n",
       "      <th>63</th>\n",
       "      <td>MIC_Plasma_S18_V1_A1_F2_D801-896</td>\n",
       "      <td>2</td>\n",
       "    </tr>\n",
       "    <tr>\n",
       "      <th>85</th>\n",
       "      <td>MIC_Plasma_S23_V1_A1_F2_D801-896</td>\n",
       "      <td>2</td>\n",
       "    </tr>\n",
       "    <tr>\n",
       "      <th>107</th>\n",
       "      <td>MIC_Plasma_S24_V1_A1_F2_D801-896</td>\n",
       "      <td>2</td>\n",
       "    </tr>\n",
       "  </tbody>\n",
       "</table>\n",
       "</div>"
      ],
      "text/plain": [
       "                                  Box  StimulusID\n",
       "41   MIC_Plasma_S17_V1_A1_F2_D801-896           2\n",
       "63   MIC_Plasma_S18_V1_A1_F2_D801-896           2\n",
       "85   MIC_Plasma_S23_V1_A1_F2_D801-896           2\n",
       "107  MIC_Plasma_S24_V1_A1_F2_D801-896           2"
      ]
     },
     "metadata": {},
     "output_type": "display_data"
    }
   ],
   "source": [
    "display(Markdown(\"There is **%d unique boxes** in the whole file.\" % len(df[\"Box\"].unique())))\n",
    "\n",
    "display(Markdown(\"**Look on Fraction 1:**\"))\n",
    "display(Markdown(\"There is **%d unique boxes** in the file for Fraction 1.\" %\\\n",
    "                 len(df.loc[df[\"Sample Type\"] == \"Fraction1\", \"Box\"].unique())))\n",
    "countboxstim = pd.DataFrame(df.groupby(\"Box\")[\"StimulusID\"].nunique())\n",
    "countboxstim.loc[:, \"Box\"] = countboxstim.index.get_values()\n",
    "countboxstim.reset_index(drop = True, inplace = True)\n",
    "display(countboxstim.loc[(countboxstim[\"StimulusID\"] > 1) & (countboxstim[\"Box\"].str.contains(\"F1\")),\\\n",
    "                         [\"Box\", \"StimulusID\"]])\n",
    "\n",
    "display(Markdown(\"**Look on Fraction 2:**\"))\n",
    "display(Markdown(\"There is **%d unique boxes** in the file for Fraction 2.\" %\\\n",
    "                 len(df.loc[df[\"Sample Type\"] == \"Fraction2\", \"Box\"].unique())))\n",
    "countboxstim = pd.DataFrame(df.groupby(\"Box\")[\"StimulusID\"].nunique())\n",
    "countboxstim.loc[:, \"Box\"] = countboxstim.index.get_values()\n",
    "countboxstim.reset_index(drop = True, inplace = True)\n",
    "display(countboxstim.loc[(countboxstim[\"StimulusID\"] > 1) & (countboxstim[\"Box\"].str.contains(\"F2\")),\\\n",
    "                         [\"Box\", \"StimulusID\"]])"
   ]
  },
  {
   "cell_type": "markdown",
   "metadata": {},
   "source": [
    "We have 4 boxes for which 2 different StimulusID are assigned, apparently those boxes are in the range of the DonorID 819. What are the StimulusID for each box?"
   ]
  },
  {
   "cell_type": "code",
   "execution_count": 9,
   "metadata": {
    "collapsed": false
   },
   "outputs": [
    {
     "data": {
      "text/markdown": [
       "There is a total of **8** boxes to check."
      ],
      "text/plain": [
       "<IPython.core.display.Markdown object>"
      ]
     },
     "metadata": {},
     "output_type": "display_data"
    },
    {
     "data": {
      "text/markdown": [
       "**Look on Fraction 1:**"
      ],
      "text/plain": [
       "<IPython.core.display.Markdown object>"
      ]
     },
     "metadata": {},
     "output_type": "display_data"
    },
    {
     "data": {
      "text/markdown": [
       "List of StimulusID for the **4** boxes to check:"
      ],
      "text/plain": [
       "<IPython.core.display.Markdown object>"
      ]
     },
     "metadata": {},
     "output_type": "display_data"
    },
    {
     "data": {
      "text/markdown": [
       "* MIC_Plasma_S17_V1_A1_F1_D801-896 contains 2 StimulusID:"
      ],
      "text/plain": [
       "<IPython.core.display.Markdown object>"
      ]
     },
     "metadata": {},
     "output_type": "display_data"
    },
    {
     "data": {
      "text/markdown": [
       "       * 17"
      ],
      "text/plain": [
       "<IPython.core.display.Markdown object>"
      ]
     },
     "metadata": {},
     "output_type": "display_data"
    },
    {
     "data": {
      "text/markdown": [
       "       * 18"
      ],
      "text/plain": [
       "<IPython.core.display.Markdown object>"
      ]
     },
     "metadata": {},
     "output_type": "display_data"
    },
    {
     "data": {
      "text/markdown": [
       "* MIC_Plasma_S18_V1_A1_F1_D801-896 contains 2 StimulusID:"
      ],
      "text/plain": [
       "<IPython.core.display.Markdown object>"
      ]
     },
     "metadata": {},
     "output_type": "display_data"
    },
    {
     "data": {
      "text/markdown": [
       "       * 18"
      ],
      "text/plain": [
       "<IPython.core.display.Markdown object>"
      ]
     },
     "metadata": {},
     "output_type": "display_data"
    },
    {
     "data": {
      "text/markdown": [
       "       * 19"
      ],
      "text/plain": [
       "<IPython.core.display.Markdown object>"
      ]
     },
     "metadata": {},
     "output_type": "display_data"
    },
    {
     "data": {
      "text/markdown": [
       "* MIC_Plasma_S23_V1_A1_F1_D801-896 contains 2 StimulusID:"
      ],
      "text/plain": [
       "<IPython.core.display.Markdown object>"
      ]
     },
     "metadata": {},
     "output_type": "display_data"
    },
    {
     "data": {
      "text/markdown": [
       "       * 23"
      ],
      "text/plain": [
       "<IPython.core.display.Markdown object>"
      ]
     },
     "metadata": {},
     "output_type": "display_data"
    },
    {
     "data": {
      "text/markdown": [
       "       * 24"
      ],
      "text/plain": [
       "<IPython.core.display.Markdown object>"
      ]
     },
     "metadata": {},
     "output_type": "display_data"
    },
    {
     "data": {
      "text/markdown": [
       "* MIC_Plasma_S24_V1_A1_F1_D801-896 contains 2 StimulusID:"
      ],
      "text/plain": [
       "<IPython.core.display.Markdown object>"
      ]
     },
     "metadata": {},
     "output_type": "display_data"
    },
    {
     "data": {
      "text/markdown": [
       "       * 24"
      ],
      "text/plain": [
       "<IPython.core.display.Markdown object>"
      ]
     },
     "metadata": {},
     "output_type": "display_data"
    },
    {
     "data": {
      "text/markdown": [
       "       * 17"
      ],
      "text/plain": [
       "<IPython.core.display.Markdown object>"
      ]
     },
     "metadata": {},
     "output_type": "display_data"
    },
    {
     "data": {
      "text/markdown": [
       "**Look on Fraction 2:**"
      ],
      "text/plain": [
       "<IPython.core.display.Markdown object>"
      ]
     },
     "metadata": {},
     "output_type": "display_data"
    },
    {
     "data": {
      "text/markdown": [
       "List of StimulusID for the **4** boxes to check:"
      ],
      "text/plain": [
       "<IPython.core.display.Markdown object>"
      ]
     },
     "metadata": {},
     "output_type": "display_data"
    },
    {
     "data": {
      "text/markdown": [
       "* MIC_Plasma_S17_V1_A1_F2_D801-896 contains 2 StimulusID:"
      ],
      "text/plain": [
       "<IPython.core.display.Markdown object>"
      ]
     },
     "metadata": {},
     "output_type": "display_data"
    },
    {
     "data": {
      "text/markdown": [
       "       * 17"
      ],
      "text/plain": [
       "<IPython.core.display.Markdown object>"
      ]
     },
     "metadata": {},
     "output_type": "display_data"
    },
    {
     "data": {
      "text/markdown": [
       "       * 18"
      ],
      "text/plain": [
       "<IPython.core.display.Markdown object>"
      ]
     },
     "metadata": {},
     "output_type": "display_data"
    },
    {
     "data": {
      "text/markdown": [
       "* MIC_Plasma_S18_V1_A1_F2_D801-896 contains 2 StimulusID:"
      ],
      "text/plain": [
       "<IPython.core.display.Markdown object>"
      ]
     },
     "metadata": {},
     "output_type": "display_data"
    },
    {
     "data": {
      "text/markdown": [
       "       * 18"
      ],
      "text/plain": [
       "<IPython.core.display.Markdown object>"
      ]
     },
     "metadata": {},
     "output_type": "display_data"
    },
    {
     "data": {
      "text/markdown": [
       "       * 19"
      ],
      "text/plain": [
       "<IPython.core.display.Markdown object>"
      ]
     },
     "metadata": {},
     "output_type": "display_data"
    },
    {
     "data": {
      "text/markdown": [
       "* MIC_Plasma_S23_V1_A1_F2_D801-896 contains 2 StimulusID:"
      ],
      "text/plain": [
       "<IPython.core.display.Markdown object>"
      ]
     },
     "metadata": {},
     "output_type": "display_data"
    },
    {
     "data": {
      "text/markdown": [
       "       * 23"
      ],
      "text/plain": [
       "<IPython.core.display.Markdown object>"
      ]
     },
     "metadata": {},
     "output_type": "display_data"
    },
    {
     "data": {
      "text/markdown": [
       "       * 24"
      ],
      "text/plain": [
       "<IPython.core.display.Markdown object>"
      ]
     },
     "metadata": {},
     "output_type": "display_data"
    },
    {
     "data": {
      "text/markdown": [
       "* MIC_Plasma_S24_V1_A1_F2_D801-896 contains 2 StimulusID:"
      ],
      "text/plain": [
       "<IPython.core.display.Markdown object>"
      ]
     },
     "metadata": {},
     "output_type": "display_data"
    },
    {
     "data": {
      "text/markdown": [
       "       * 24"
      ],
      "text/plain": [
       "<IPython.core.display.Markdown object>"
      ]
     },
     "metadata": {},
     "output_type": "display_data"
    },
    {
     "data": {
      "text/markdown": [
       "       * 17"
      ],
      "text/plain": [
       "<IPython.core.display.Markdown object>"
      ]
     },
     "metadata": {},
     "output_type": "display_data"
    }
   ],
   "source": [
    "boxes = countboxstim.loc[countboxstim[\"StimulusID\"] > 1, \"Box\"]\n",
    "display(Markdown(\"There is a total of **%d** boxes to check.\" % len(boxes)))\n",
    "display(Markdown(\"**Look on Fraction 1:**\"))\n",
    "display(Markdown(\"List of StimulusID for the **%d** boxes to check:\" % len(boxes.loc[boxes.str.contains(\"F1\")])))\n",
    "for box in boxes.loc[boxes.str.contains(\"F1\")]:\n",
    "    display(Markdown(\"* \"+box+\" contains %d StimulusID\" % len(df.loc[df[\"Box\"] == box, \"StimulusID\"].unique())+\":\"))\n",
    "    for stim in df.loc[df[\"Box\"] == box, \"StimulusID\"].unique():\n",
    "        display(Markdown(\"       * \"+str(int(stim))))\n",
    "display(Markdown(\"**Look on Fraction 2:**\"))\n",
    "display(Markdown(\"List of StimulusID for the **%d** boxes to check:\" % len(boxes.loc[boxes.str.contains(\"F2\")])))\n",
    "for box in boxes.loc[boxes.str.contains(\"F2\")]:\n",
    "    display(Markdown(\"* \"+box+\" contains %d StimulusID\" % len(df.loc[df[\"Box\"] == box, \"StimulusID\"].unique())+\":\"))\n",
    "    for stim in df.loc[df[\"Box\"] == box, \"StimulusID\"].unique():\n",
    "        display(Markdown(\"       * \"+str(int(stim))))"
   ]
  },
  {
   "cell_type": "markdown",
   "metadata": {},
   "source": [
    "The boxes impacted seems to be the ones that Céline already found. Could we retrieve the DonorID 819 in those StimulusID?"
   ]
  },
  {
   "cell_type": "code",
   "execution_count": 10,
   "metadata": {
    "collapsed": false,
    "scrolled": true
   },
   "outputs": [
    {
     "data": {
      "text/markdown": [
       "**Look on Fraction 1:**"
      ],
      "text/plain": [
       "<IPython.core.display.Markdown object>"
      ]
     },
     "metadata": {},
     "output_type": "display_data"
    },
    {
     "data": {
      "text/markdown": [
       "* DonorID 819 found in box *MIC_Plasma_S17_V1_A1_F1_D801-896*, StimulusID **18**."
      ],
      "text/plain": [
       "<IPython.core.display.Markdown object>"
      ]
     },
     "metadata": {},
     "output_type": "display_data"
    },
    {
     "data": {
      "text/markdown": [
       "* DonorID 819 found in box *MIC_Plasma_S18_V1_A1_F1_D801-896*, StimulusID **19**."
      ],
      "text/plain": [
       "<IPython.core.display.Markdown object>"
      ]
     },
     "metadata": {},
     "output_type": "display_data"
    },
    {
     "data": {
      "text/markdown": [
       "* DonorID 819 found in box *MIC_Plasma_S23_V1_A1_F1_D801-896*, StimulusID **24**."
      ],
      "text/plain": [
       "<IPython.core.display.Markdown object>"
      ]
     },
     "metadata": {},
     "output_type": "display_data"
    },
    {
     "data": {
      "text/markdown": [
       "* DonorID 819 found in box *MIC_Plasma_S24_V1_A1_F1_D801-896*, StimulusID **17**."
      ],
      "text/plain": [
       "<IPython.core.display.Markdown object>"
      ]
     },
     "metadata": {},
     "output_type": "display_data"
    },
    {
     "data": {
      "text/markdown": [
       "**Look on Fraction 2:**"
      ],
      "text/plain": [
       "<IPython.core.display.Markdown object>"
      ]
     },
     "metadata": {},
     "output_type": "display_data"
    },
    {
     "data": {
      "text/markdown": [
       "* DonorID 819 found in box *MIC_Plasma_S17_V1_A1_F2_D801-896*, StimulusID **18**."
      ],
      "text/plain": [
       "<IPython.core.display.Markdown object>"
      ]
     },
     "metadata": {},
     "output_type": "display_data"
    },
    {
     "data": {
      "text/markdown": [
       "* DonorID 819 found in box *MIC_Plasma_S18_V1_A1_F2_D801-896*, StimulusID **19**."
      ],
      "text/plain": [
       "<IPython.core.display.Markdown object>"
      ]
     },
     "metadata": {},
     "output_type": "display_data"
    },
    {
     "data": {
      "text/markdown": [
       "* DonorID 819 found in box *MIC_Plasma_S23_V1_A1_F2_D801-896*, StimulusID **24**."
      ],
      "text/plain": [
       "<IPython.core.display.Markdown object>"
      ]
     },
     "metadata": {},
     "output_type": "display_data"
    },
    {
     "data": {
      "text/markdown": [
       "* DonorID 819 found in box *MIC_Plasma_S24_V1_A1_F2_D801-896*, StimulusID **17**."
      ],
      "text/plain": [
       "<IPython.core.display.Markdown object>"
      ]
     },
     "metadata": {},
     "output_type": "display_data"
    }
   ],
   "source": [
    "getstims = df.loc[df[\"Box\"].isin(boxes), \"StimulusID\"].astype(int).unique()\n",
    "display(Markdown(\"**Look on Fraction 1:**\"))\n",
    "for box in boxes.loc[boxes.str.contains(\"F1\")]:\n",
    "    for stim in getstims:\n",
    "        if len(df.loc[(df[\"Box\"] == box) & (df[\"StimulusID\"] == stim) & (df[\"DonorID\"] == 819), \"DonorID\"]) > 0:\n",
    "            display(Markdown('* DonorID 819 found in box *%s*, StimulusID **%d**.' % (box,stim)))\n",
    "display(Markdown(\"**Look on Fraction 2:**\"))\n",
    "for box in boxes.loc[boxes.str.contains(\"F2\")]:\n",
    "    for stim in getstims:\n",
    "        if len(df.loc[(df[\"Box\"] == box) & (df[\"StimulusID\"] == stim) & (df[\"DonorID\"] == 819), \"DonorID\"]) > 0:\n",
    "            display(Markdown('* DonorID 819 found in box *%s*, StimulusID **%d**.' % (box,stim)))"
   ]
  },
  {
   "cell_type": "markdown",
   "metadata": {},
   "source": [
    "Apparently, the problem described by Céline exists for the 8 boxes, do we have to change them? Normally they are supposed to already been changed. Is there a problem in the script that generated the data?\n",
    "\n",
    "We also want to be sure that the box name reproduce the same error if we look with the Thermo Fisher box barcode:"
   ]
  },
  {
   "cell_type": "code",
   "execution_count": 11,
   "metadata": {
    "collapsed": false
   },
   "outputs": [
    {
     "data": {
      "text/markdown": [
       "There is a total of **220 unique boxes** in the file."
      ],
      "text/plain": [
       "<IPython.core.display.Markdown object>"
      ]
     },
     "metadata": {},
     "output_type": "display_data"
    },
    {
     "data": {
      "text/markdown": [
       "There is **110 unique boxes** in Fraction 1."
      ],
      "text/plain": [
       "<IPython.core.display.Markdown object>"
      ]
     },
     "metadata": {},
     "output_type": "display_data"
    },
    {
     "data": {
      "text/markdown": [
       "There is **110 unique boxes** in Fraction 2."
      ],
      "text/plain": [
       "<IPython.core.display.Markdown object>"
      ]
     },
     "metadata": {},
     "output_type": "display_data"
    },
    {
     "data": {
      "text/html": [
       "<div>\n",
       "<table border=\"1\" class=\"dataframe\">\n",
       "  <thead>\n",
       "    <tr style=\"text-align: right;\">\n",
       "      <th></th>\n",
       "      <th>ThermoBoxBarcode</th>\n",
       "      <th>StimulusID</th>\n",
       "    </tr>\n",
       "  </thead>\n",
       "  <tbody>\n",
       "    <tr>\n",
       "      <th>71</th>\n",
       "      <td>TF00080640</td>\n",
       "      <td>2</td>\n",
       "    </tr>\n",
       "    <tr>\n",
       "      <th>73</th>\n",
       "      <td>TF00080642</td>\n",
       "      <td>2</td>\n",
       "    </tr>\n",
       "    <tr>\n",
       "      <th>144</th>\n",
       "      <td>TS00010678</td>\n",
       "      <td>2</td>\n",
       "    </tr>\n",
       "    <tr>\n",
       "      <th>153</th>\n",
       "      <td>TS00010783</td>\n",
       "      <td>2</td>\n",
       "    </tr>\n",
       "    <tr>\n",
       "      <th>182</th>\n",
       "      <td>TS00047751</td>\n",
       "      <td>2</td>\n",
       "    </tr>\n",
       "    <tr>\n",
       "      <th>196</th>\n",
       "      <td>TS00048028</td>\n",
       "      <td>2</td>\n",
       "    </tr>\n",
       "    <tr>\n",
       "      <th>201</th>\n",
       "      <td>TS00048039</td>\n",
       "      <td>2</td>\n",
       "    </tr>\n",
       "    <tr>\n",
       "      <th>210</th>\n",
       "      <td>TS00048095</td>\n",
       "      <td>2</td>\n",
       "    </tr>\n",
       "  </tbody>\n",
       "</table>\n",
       "</div>"
      ],
      "text/plain": [
       "    ThermoBoxBarcode  StimulusID\n",
       "71        TF00080640           2\n",
       "73        TF00080642           2\n",
       "144       TS00010678           2\n",
       "153       TS00010783           2\n",
       "182       TS00047751           2\n",
       "196       TS00048028           2\n",
       "201       TS00048039           2\n",
       "210       TS00048095           2"
      ]
     },
     "metadata": {},
     "output_type": "display_data"
    }
   ],
   "source": [
    "display(Markdown(\"There is a total of **%d unique boxes** in the file.\" % len(df[\"ThermoBoxBarcode\"].unique())))\n",
    "display(Markdown(\"There is **%d unique boxes** in Fraction 1.\" % len(df.loc[df[\"Sample Type\"] == \"Fraction1\", \\\n",
    "                                                                          \"ThermoBoxBarcode\"].unique())))\n",
    "display(Markdown(\"There is **%d unique boxes** in Fraction 2.\" % len(df.loc[df[\"Sample Type\"] == \"Fraction2\", \\\n",
    "                                                                          \"ThermoBoxBarcode\"].unique())))\n",
    "\n",
    "countthermoboxstim = pd.DataFrame(df.groupby(\"ThermoBoxBarcode\")[\"StimulusID\"].nunique())\n",
    "countthermoboxstim.loc[:, \"ThermoBoxBarcode\"] = countthermoboxstim.index.get_values()\n",
    "countthermoboxstim.reset_index(drop = True, inplace = True)\n",
    "display(countthermoboxstim.loc[(countthermoboxstim[\"StimulusID\"] > 1), [\"ThermoBoxBarcode\", \"StimulusID\"]])"
   ]
  },
  {
   "cell_type": "markdown",
   "metadata": {},
   "source": [
    "We have the same number of ThermoBoxBarcode as of BoxBarcode.\n",
    "\n",
    "We wonder if the same trouble as for Box column, with StimulusID, occurs with the column ThermoBoxBarcode:"
   ]
  },
  {
   "cell_type": "code",
   "execution_count": 12,
   "metadata": {
    "collapsed": false
   },
   "outputs": [
    {
     "data": {
      "text/markdown": [
       "List of StimulusID for the **8** boxes to check:"
      ],
      "text/plain": [
       "<IPython.core.display.Markdown object>"
      ]
     },
     "metadata": {},
     "output_type": "display_data"
    },
    {
     "data": {
      "text/markdown": [
       "* TF00080640 contains 2 StimulusID:"
      ],
      "text/plain": [
       "<IPython.core.display.Markdown object>"
      ]
     },
     "metadata": {},
     "output_type": "display_data"
    },
    {
     "data": {
      "text/markdown": [
       "       *18"
      ],
      "text/plain": [
       "<IPython.core.display.Markdown object>"
      ]
     },
     "metadata": {},
     "output_type": "display_data"
    },
    {
     "data": {
      "text/markdown": [
       "       *19"
      ],
      "text/plain": [
       "<IPython.core.display.Markdown object>"
      ]
     },
     "metadata": {},
     "output_type": "display_data"
    },
    {
     "data": {
      "text/markdown": [
       "* TF00080642 contains 2 StimulusID:"
      ],
      "text/plain": [
       "<IPython.core.display.Markdown object>"
      ]
     },
     "metadata": {},
     "output_type": "display_data"
    },
    {
     "data": {
      "text/markdown": [
       "       *18"
      ],
      "text/plain": [
       "<IPython.core.display.Markdown object>"
      ]
     },
     "metadata": {},
     "output_type": "display_data"
    },
    {
     "data": {
      "text/markdown": [
       "       *19"
      ],
      "text/plain": [
       "<IPython.core.display.Markdown object>"
      ]
     },
     "metadata": {},
     "output_type": "display_data"
    },
    {
     "data": {
      "text/markdown": [
       "* TS00010678 contains 2 StimulusID:"
      ],
      "text/plain": [
       "<IPython.core.display.Markdown object>"
      ]
     },
     "metadata": {},
     "output_type": "display_data"
    },
    {
     "data": {
      "text/markdown": [
       "       *17"
      ],
      "text/plain": [
       "<IPython.core.display.Markdown object>"
      ]
     },
     "metadata": {},
     "output_type": "display_data"
    },
    {
     "data": {
      "text/markdown": [
       "       *18"
      ],
      "text/plain": [
       "<IPython.core.display.Markdown object>"
      ]
     },
     "metadata": {},
     "output_type": "display_data"
    },
    {
     "data": {
      "text/markdown": [
       "* TS00010783 contains 2 StimulusID:"
      ],
      "text/plain": [
       "<IPython.core.display.Markdown object>"
      ]
     },
     "metadata": {},
     "output_type": "display_data"
    },
    {
     "data": {
      "text/markdown": [
       "       *17"
      ],
      "text/plain": [
       "<IPython.core.display.Markdown object>"
      ]
     },
     "metadata": {},
     "output_type": "display_data"
    },
    {
     "data": {
      "text/markdown": [
       "       *18"
      ],
      "text/plain": [
       "<IPython.core.display.Markdown object>"
      ]
     },
     "metadata": {},
     "output_type": "display_data"
    },
    {
     "data": {
      "text/markdown": [
       "* TS00047751 contains 2 StimulusID:"
      ],
      "text/plain": [
       "<IPython.core.display.Markdown object>"
      ]
     },
     "metadata": {},
     "output_type": "display_data"
    },
    {
     "data": {
      "text/markdown": [
       "       *23"
      ],
      "text/plain": [
       "<IPython.core.display.Markdown object>"
      ]
     },
     "metadata": {},
     "output_type": "display_data"
    },
    {
     "data": {
      "text/markdown": [
       "       *24"
      ],
      "text/plain": [
       "<IPython.core.display.Markdown object>"
      ]
     },
     "metadata": {},
     "output_type": "display_data"
    },
    {
     "data": {
      "text/markdown": [
       "* TS00048028 contains 2 StimulusID:"
      ],
      "text/plain": [
       "<IPython.core.display.Markdown object>"
      ]
     },
     "metadata": {},
     "output_type": "display_data"
    },
    {
     "data": {
      "text/markdown": [
       "       *23"
      ],
      "text/plain": [
       "<IPython.core.display.Markdown object>"
      ]
     },
     "metadata": {},
     "output_type": "display_data"
    },
    {
     "data": {
      "text/markdown": [
       "       *24"
      ],
      "text/plain": [
       "<IPython.core.display.Markdown object>"
      ]
     },
     "metadata": {},
     "output_type": "display_data"
    },
    {
     "data": {
      "text/markdown": [
       "* TS00048039 contains 2 StimulusID:"
      ],
      "text/plain": [
       "<IPython.core.display.Markdown object>"
      ]
     },
     "metadata": {},
     "output_type": "display_data"
    },
    {
     "data": {
      "text/markdown": [
       "       *24"
      ],
      "text/plain": [
       "<IPython.core.display.Markdown object>"
      ]
     },
     "metadata": {},
     "output_type": "display_data"
    },
    {
     "data": {
      "text/markdown": [
       "       *17"
      ],
      "text/plain": [
       "<IPython.core.display.Markdown object>"
      ]
     },
     "metadata": {},
     "output_type": "display_data"
    },
    {
     "data": {
      "text/markdown": [
       "* TS00048095 contains 2 StimulusID:"
      ],
      "text/plain": [
       "<IPython.core.display.Markdown object>"
      ]
     },
     "metadata": {},
     "output_type": "display_data"
    },
    {
     "data": {
      "text/markdown": [
       "       *24"
      ],
      "text/plain": [
       "<IPython.core.display.Markdown object>"
      ]
     },
     "metadata": {},
     "output_type": "display_data"
    },
    {
     "data": {
      "text/markdown": [
       "       *17"
      ],
      "text/plain": [
       "<IPython.core.display.Markdown object>"
      ]
     },
     "metadata": {},
     "output_type": "display_data"
    }
   ],
   "source": [
    "thermoboxes = countthermoboxstim.loc[countthermoboxstim[\"StimulusID\"] > 1, \"ThermoBoxBarcode\"]\n",
    "display(Markdown(\"List of StimulusID for the **%d** boxes to check:\" % len(thermoboxes)))\n",
    "\n",
    "for thermobox in thermoboxes:\n",
    "    display(Markdown(\"* \"+thermobox+\" contains %d StimulusID\" % \\\n",
    "                     len(df.loc[df[\"ThermoBoxBarcode\"] == thermobox, \"StimulusID\"].unique())+\":\"))\n",
    "    for stim in df.loc[df[\"ThermoBoxBarcode\"] == thermobox, \"StimulusID\"].unique():\n",
    "        display(Markdown(\"       *\"+str(int(stim))))"
   ]
  },
  {
   "cell_type": "markdown",
   "metadata": {},
   "source": [
    "The same lists of StimulusID appears for ThermoBoxBarcode column. Do we have the same result on StimulusID column when we look specifically for DonorID 819?"
   ]
  },
  {
   "cell_type": "code",
   "execution_count": 13,
   "metadata": {
    "collapsed": false
   },
   "outputs": [
    {
     "data": {
      "text/markdown": [
       "* DonorID 819 found in box *TF00080640*, StimulusID **19**."
      ],
      "text/plain": [
       "<IPython.core.display.Markdown object>"
      ]
     },
     "metadata": {},
     "output_type": "display_data"
    },
    {
     "data": {
      "text/markdown": [
       "* DonorID 819 found in box *TF00080642*, StimulusID **19**."
      ],
      "text/plain": [
       "<IPython.core.display.Markdown object>"
      ]
     },
     "metadata": {},
     "output_type": "display_data"
    },
    {
     "data": {
      "text/markdown": [
       "* DonorID 819 found in box *TS00010678*, StimulusID **18**."
      ],
      "text/plain": [
       "<IPython.core.display.Markdown object>"
      ]
     },
     "metadata": {},
     "output_type": "display_data"
    },
    {
     "data": {
      "text/markdown": [
       "* DonorID 819 found in box *TS00010783*, StimulusID **18**."
      ],
      "text/plain": [
       "<IPython.core.display.Markdown object>"
      ]
     },
     "metadata": {},
     "output_type": "display_data"
    },
    {
     "data": {
      "text/markdown": [
       "* DonorID 819 found in box *TS00047751*, StimulusID **24**."
      ],
      "text/plain": [
       "<IPython.core.display.Markdown object>"
      ]
     },
     "metadata": {},
     "output_type": "display_data"
    },
    {
     "data": {
      "text/markdown": [
       "* DonorID 819 found in box *TS00048028*, StimulusID **24**."
      ],
      "text/plain": [
       "<IPython.core.display.Markdown object>"
      ]
     },
     "metadata": {},
     "output_type": "display_data"
    },
    {
     "data": {
      "text/markdown": [
       "* DonorID 819 found in box *TS00048039*, StimulusID **17**."
      ],
      "text/plain": [
       "<IPython.core.display.Markdown object>"
      ]
     },
     "metadata": {},
     "output_type": "display_data"
    },
    {
     "data": {
      "text/markdown": [
       "* DonorID 819 found in box *TS00048095*, StimulusID **17**."
      ],
      "text/plain": [
       "<IPython.core.display.Markdown object>"
      ]
     },
     "metadata": {},
     "output_type": "display_data"
    }
   ],
   "source": [
    "getstims = df.loc[df[\"ThermoBoxBarcode\"].isin(thermoboxes), \"StimulusID\"].astype(int).unique()\n",
    "for thermobox in thermoboxes:\n",
    "    for stim in getstims:\n",
    "        if len(df.loc[(df[\"ThermoBoxBarcode\"] == thermobox) & (df[\"StimulusID\"] == stim) & \\\n",
    "                      (df[\"DonorID\"] == 819), \"DonorID\"]) > 0:\n",
    "            display(Markdown('* DonorID 819 found in box *%s*, StimulusID **%d**.' % (thermobox,stim)))"
   ]
  },
  {
   "cell_type": "markdown",
   "metadata": {},
   "source": [
    "The results are in accordance with analysis using Box column.\n",
    "\n",
    "We want to know, from the 4 boxes from Thermo that are assigned to more than one StimulusID, the list of the boxes Box that are related:"
   ]
  },
  {
   "cell_type": "code",
   "execution_count": 14,
   "metadata": {
    "collapsed": false
   },
   "outputs": [
    {
     "data": {
      "text/markdown": [
       "TF00080640 -> MIC_Plasma_S18_V1_A1_F1_D801-896"
      ],
      "text/plain": [
       "<IPython.core.display.Markdown object>"
      ]
     },
     "metadata": {},
     "output_type": "display_data"
    },
    {
     "data": {
      "text/markdown": [
       "TF00080642 -> MIC_Plasma_S18_V1_A1_F2_D801-896"
      ],
      "text/plain": [
       "<IPython.core.display.Markdown object>"
      ]
     },
     "metadata": {},
     "output_type": "display_data"
    },
    {
     "data": {
      "text/markdown": [
       "TS00010678 -> MIC_Plasma_S17_V1_A1_F1_D801-896"
      ],
      "text/plain": [
       "<IPython.core.display.Markdown object>"
      ]
     },
     "metadata": {},
     "output_type": "display_data"
    },
    {
     "data": {
      "text/markdown": [
       "TS00010783 -> MIC_Plasma_S17_V1_A1_F2_D801-896"
      ],
      "text/plain": [
       "<IPython.core.display.Markdown object>"
      ]
     },
     "metadata": {},
     "output_type": "display_data"
    },
    {
     "data": {
      "text/markdown": [
       "TS00047751 -> MIC_Plasma_S23_V1_A1_F1_D801-896"
      ],
      "text/plain": [
       "<IPython.core.display.Markdown object>"
      ]
     },
     "metadata": {},
     "output_type": "display_data"
    },
    {
     "data": {
      "text/markdown": [
       "TS00048028 -> MIC_Plasma_S23_V1_A1_F2_D801-896"
      ],
      "text/plain": [
       "<IPython.core.display.Markdown object>"
      ]
     },
     "metadata": {},
     "output_type": "display_data"
    },
    {
     "data": {
      "text/markdown": [
       "TS00048039 -> MIC_Plasma_S24_V1_A1_F1_D801-896"
      ],
      "text/plain": [
       "<IPython.core.display.Markdown object>"
      ]
     },
     "metadata": {},
     "output_type": "display_data"
    },
    {
     "data": {
      "text/markdown": [
       "TS00048095 -> MIC_Plasma_S24_V1_A1_F2_D801-896"
      ],
      "text/plain": [
       "<IPython.core.display.Markdown object>"
      ]
     },
     "metadata": {},
     "output_type": "display_data"
    }
   ],
   "source": [
    "for thermobox in thermoboxes:\n",
    "    display(Markdown(thermobox+\" -> \"+\\\n",
    "                     \", \".join([box for box in df.loc[df[\"ThermoBoxBarcode\"] == thermobox, \"Box\"].unique()])))"
   ]
  },
  {
   "cell_type": "markdown",
   "metadata": {},
   "source": [
    "For the boxes assigned to more than one StimulusID, it looks ok.\n",
    "\n",
    "For each ThermoBoxBarcode column, which are those with more than one Box column associated?"
   ]
  },
  {
   "cell_type": "code",
   "execution_count": 15,
   "metadata": {
    "collapsed": false
   },
   "outputs": [
    {
     "data": {
      "text/markdown": [
       "**0** boxes are not assigned to a ThermoBoxBarcode"
      ],
      "text/plain": [
       "<IPython.core.display.Markdown object>"
      ]
     },
     "metadata": {},
     "output_type": "display_data"
    },
    {
     "data": {
      "text/markdown": [
       "**0** boxes are assigned to more than one ThermoBoxBarcode"
      ],
      "text/plain": [
       "<IPython.core.display.Markdown object>"
      ]
     },
     "metadata": {},
     "output_type": "display_data"
    },
    {
     "data": {
      "text/markdown": [
       "**220** boxes are assigned to a ThermoBoxBarcode"
      ],
      "text/plain": [
       "<IPython.core.display.Markdown object>"
      ]
     },
     "metadata": {},
     "output_type": "display_data"
    }
   ],
   "source": [
    "countboxperthermobox = pd.DataFrame(df.groupby(\"Box\")[\"ThermoBoxBarcode\"].nunique())\n",
    "countboxperthermobox.loc[:, \"Box\"] = countboxperthermobox.index.get_values()\n",
    "countboxperthermobox.reset_index(drop=True, inplace=True)\n",
    "display(Markdown(\"**%d** boxes are not assigned to a ThermoBoxBarcode\" % \\\n",
    "                 len(countboxperthermobox.loc[countboxperthermobox[\"ThermoBoxBarcode\"] < 1,\\\n",
    "                                              [\"Box\", \"ThermoBoxBarcode\"]])))\n",
    "display(Markdown(\"**%d** boxes are assigned to more than one ThermoBoxBarcode\" % \\\n",
    "                 len(countboxperthermobox.loc[countboxperthermobox[\"ThermoBoxBarcode\"] > 1,\\\n",
    "                                              [\"Box\", \"ThermoBoxBarcode\"]])))\n",
    "display(Markdown(\"**%d** boxes are assigned to a ThermoBoxBarcode\" % \\\n",
    "                 len(countboxperthermobox.loc[countboxperthermobox[\"ThermoBoxBarcode\"] == 1,\\\n",
    "                                              [\"Box\", \"ThermoBoxBarcode\"]])))\n",
    "if len(countboxperthermobox.loc[countboxperthermobox[\"ThermoBoxBarcode\"] != 1, \\\n",
    "                                [\"Box\", \"ThermoBoxBarcode\"]]) > 0:\n",
    "    display(countboxperthermobox.loc[countboxperthermobox[\"ThermoBoxBarcode\"] != 1,[\"Box\", \"ThermoBoxBarcode\"]])"
   ]
  },
  {
   "cell_type": "markdown",
   "metadata": {},
   "source": [
    "Do these boxes contains info on DonorID?"
   ]
  },
  {
   "cell_type": "code",
   "execution_count": 16,
   "metadata": {
    "collapsed": false
   },
   "outputs": [
    {
     "data": {
      "text/markdown": [
       "**0** tubes in boxes not assigned to ThermoBoxbarcode."
      ],
      "text/plain": [
       "<IPython.core.display.Markdown object>"
      ]
     },
     "metadata": {},
     "output_type": "display_data"
    }
   ],
   "source": [
    "boxes = countboxperthermobox.loc[countboxperthermobox[\"ThermoBoxBarcode\"] != 1][\"Box\"].values\n",
    "display(Markdown(\"**%d** tubes in boxes not assigned to ThermoBoxbarcode.\" % \\\n",
    "      len(df.loc[df[\"Box\"].isin(boxes), [\"Box\", \"ThermoBoxBarcode\", \"DonorID\"]])))\n",
    "if len(df.loc[df[\"Box\"].isin(boxes), [\"Box\", \"ThermoBoxBarcode\", \"DonorID\"]]) > 0:\n",
    "    display(df.loc[df[\"Box\"].isin(boxes), [\"Box\", \"ThermoBoxBarcode\", \"DonorID\"]])"
   ]
  },
  {
   "cell_type": "markdown",
   "metadata": {},
   "source": [
    "The list of DonorID found correspond to tubes that generated errors and that were corrected by Céline. The column ThermoBoxBarcode was not taken into account on the previous version of the script, know it is fixed.\n",
    "\n",
    "We also want to check if none of the excluded donors are in our data:"
   ]
  },
  {
   "cell_type": "code",
   "execution_count": 17,
   "metadata": {
    "collapsed": false
   },
   "outputs": [
    {
     "data": {
      "text/markdown": [
       "**0** donor found."
      ],
      "text/plain": [
       "<IPython.core.display.Markdown object>"
      ]
     },
     "metadata": {},
     "output_type": "display_data"
    }
   ],
   "source": [
    "excludeddonors = [96, 104, 122, 167, 178, 219, 268, 279, 303, 308, 534, 701]\n",
    "df[\"DonorID\"] = df[\"DonorID\"].astype(int)\n",
    "display(Markdown(\"**%d** donor found.\" % len(df.loc[df[\"DonorID\"].isin(excludeddonors), \"DonorID\"].unique())))\n",
    "if len(df.loc[df[\"DonorID\"].isin(excludeddonors), \"DonorID\"].unique()) > 0:\n",
    "    display(Markdown(\"The excluded donor found are:\"))\n",
    "    display(Markdown(\";\\n\".join([\"* \"+str(donor) for donor in df.loc[df[\"DonorID\"].isin(excludeddonors), \"DonorID\"].unique()])))"
   ]
  },
  {
   "cell_type": "markdown",
   "metadata": {},
   "source": [
    "We have none of the excluded donors in the final output of our data."
   ]
  },
  {
   "cell_type": "markdown",
   "metadata": {},
   "source": [
    "From Céline, the missing donor for StimulusID should be in the run file, and it should be assign to Thermo Fisher box barcode TF00080651, at position G3. From the run file, there is a tube. We have to check the donors from the ThermoBoxBarcode, at well row G. From Atlas, in the run excel file, the tube is set as ‘No read‘, but from the computer next to TECAN, the barcode exists. After adding the good info, we have those data:"
   ]
  },
  {
   "cell_type": "code",
   "execution_count": 18,
   "metadata": {
    "collapsed": false
   },
   "outputs": [
    {
     "data": {
      "text/markdown": [
       "**12** tubes found for ThermoBoxBarcode TF00080651:"
      ],
      "text/plain": [
       "<IPython.core.display.Markdown object>"
      ]
     },
     "metadata": {},
     "output_type": "display_data"
    },
    {
     "data": {
      "text/html": [
       "<div>\n",
       "<table border=\"1\" class=\"dataframe\">\n",
       "  <thead>\n",
       "    <tr style=\"text-align: right;\">\n",
       "      <th></th>\n",
       "      <th>Box</th>\n",
       "      <th>ThermoBoxBarcode</th>\n",
       "      <th>Position</th>\n",
       "      <th>DonorID</th>\n",
       "    </tr>\n",
       "  </thead>\n",
       "  <tbody>\n",
       "    <tr>\n",
       "      <th>6034</th>\n",
       "      <td>MIC_Plasma_S23_V1_A1_F1_D1-96</td>\n",
       "      <td>TF00080651</td>\n",
       "      <td>G / 1</td>\n",
       "      <td>73</td>\n",
       "    </tr>\n",
       "    <tr>\n",
       "      <th>6024</th>\n",
       "      <td>MIC_Plasma_S23_V1_A1_F1_D1-96</td>\n",
       "      <td>TF00080651</td>\n",
       "      <td>G / 2</td>\n",
       "      <td>74</td>\n",
       "    </tr>\n",
       "    <tr>\n",
       "      <th>6038</th>\n",
       "      <td>MIC_Plasma_S23_V1_A1_F1_D1-96</td>\n",
       "      <td>TF00080651</td>\n",
       "      <td>G / 3</td>\n",
       "      <td>75</td>\n",
       "    </tr>\n",
       "    <tr>\n",
       "      <th>5976</th>\n",
       "      <td>MIC_Plasma_S23_V1_A1_F1_D1-96</td>\n",
       "      <td>TF00080651</td>\n",
       "      <td>G / 4</td>\n",
       "      <td>76</td>\n",
       "    </tr>\n",
       "    <tr>\n",
       "      <th>6148</th>\n",
       "      <td>MIC_Plasma_S23_V1_A1_F1_D1-96</td>\n",
       "      <td>TF00080651</td>\n",
       "      <td>G / 5</td>\n",
       "      <td>77</td>\n",
       "    </tr>\n",
       "    <tr>\n",
       "      <th>6058</th>\n",
       "      <td>MIC_Plasma_S23_V1_A1_F1_D1-96</td>\n",
       "      <td>TF00080651</td>\n",
       "      <td>G / 6</td>\n",
       "      <td>78</td>\n",
       "    </tr>\n",
       "    <tr>\n",
       "      <th>6060</th>\n",
       "      <td>MIC_Plasma_S23_V1_A1_F1_D1-96</td>\n",
       "      <td>TF00080651</td>\n",
       "      <td>G / 7</td>\n",
       "      <td>79</td>\n",
       "    </tr>\n",
       "    <tr>\n",
       "      <th>6120</th>\n",
       "      <td>MIC_Plasma_S23_V1_A1_F1_D1-96</td>\n",
       "      <td>TF00080651</td>\n",
       "      <td>G / 8</td>\n",
       "      <td>80</td>\n",
       "    </tr>\n",
       "    <tr>\n",
       "      <th>6008</th>\n",
       "      <td>MIC_Plasma_S23_V1_A1_F1_D1-96</td>\n",
       "      <td>TF00080651</td>\n",
       "      <td>G / 9</td>\n",
       "      <td>81</td>\n",
       "    </tr>\n",
       "    <tr>\n",
       "      <th>6102</th>\n",
       "      <td>MIC_Plasma_S23_V1_A1_F1_D1-96</td>\n",
       "      <td>TF00080651</td>\n",
       "      <td>G / 10</td>\n",
       "      <td>82</td>\n",
       "    </tr>\n",
       "    <tr>\n",
       "      <th>6084</th>\n",
       "      <td>MIC_Plasma_S23_V1_A1_F1_D1-96</td>\n",
       "      <td>TF00080651</td>\n",
       "      <td>G / 11</td>\n",
       "      <td>83</td>\n",
       "    </tr>\n",
       "    <tr>\n",
       "      <th>6070</th>\n",
       "      <td>MIC_Plasma_S23_V1_A1_F1_D1-96</td>\n",
       "      <td>TF00080651</td>\n",
       "      <td>G / 12</td>\n",
       "      <td>84</td>\n",
       "    </tr>\n",
       "  </tbody>\n",
       "</table>\n",
       "</div>"
      ],
      "text/plain": [
       "                                Box ThermoBoxBarcode Position  DonorID\n",
       "6034  MIC_Plasma_S23_V1_A1_F1_D1-96       TF00080651    G / 1       73\n",
       "6024  MIC_Plasma_S23_V1_A1_F1_D1-96       TF00080651    G / 2       74\n",
       "6038  MIC_Plasma_S23_V1_A1_F1_D1-96       TF00080651    G / 3       75\n",
       "5976  MIC_Plasma_S23_V1_A1_F1_D1-96       TF00080651    G / 4       76\n",
       "6148  MIC_Plasma_S23_V1_A1_F1_D1-96       TF00080651    G / 5       77\n",
       "6058  MIC_Plasma_S23_V1_A1_F1_D1-96       TF00080651    G / 6       78\n",
       "6060  MIC_Plasma_S23_V1_A1_F1_D1-96       TF00080651    G / 7       79\n",
       "6120  MIC_Plasma_S23_V1_A1_F1_D1-96       TF00080651    G / 8       80\n",
       "6008  MIC_Plasma_S23_V1_A1_F1_D1-96       TF00080651    G / 9       81\n",
       "6102  MIC_Plasma_S23_V1_A1_F1_D1-96       TF00080651   G / 10       82\n",
       "6084  MIC_Plasma_S23_V1_A1_F1_D1-96       TF00080651   G / 11       83\n",
       "6070  MIC_Plasma_S23_V1_A1_F1_D1-96       TF00080651   G / 12       84"
      ]
     },
     "metadata": {},
     "output_type": "display_data"
    }
   ],
   "source": [
    "display(Markdown(\"**%d** tubes found for ThermoBoxBarcode TF00080651:\" % len(df.loc[(df[\"ThermoBoxBarcode\"] == \"TF00080651\") & (df[\"Position\"].str.contains(\"G\")),\\\n",
    "               [\"Box\", \"ThermoBoxBarcode\", \"Position\", \"DonorID\"]].sort_values([\"DonorID\"]))))\n",
    "display(df.loc[(df[\"ThermoBoxBarcode\"] == \"TF00080651\") & (df[\"Position\"].str.contains(\"G\")),\\\n",
    "               [\"Box\", \"ThermoBoxBarcode\", \"Position\", \"DonorID\"]].sort_values([\"DonorID\"]))"
   ]
  },
  {
   "cell_type": "markdown",
   "metadata": {},
   "source": [
    "We are supposed to have 11 boxes per stimulus and fraction, how many boxes do we effectively have per StimulusID?"
   ]
  },
  {
   "cell_type": "code",
   "execution_count": 19,
   "metadata": {
    "collapsed": false
   },
   "outputs": [
    {
     "data": {
      "text/markdown": [
       "**Look on Fraction 1:**"
      ],
      "text/plain": [
       "<IPython.core.display.Markdown object>"
      ]
     },
     "metadata": {},
     "output_type": "display_data"
    },
    {
     "data": {
      "text/html": [
       "<div>\n",
       "<table border=\"1\" class=\"dataframe\">\n",
       "  <thead>\n",
       "    <tr style=\"text-align: right;\">\n",
       "      <th>Box</th>\n",
       "      <th>StimulusID</th>\n",
       "    </tr>\n",
       "  </thead>\n",
       "  <tbody>\n",
       "    <tr>\n",
       "      <td>11</td>\n",
       "      <td>11</td>\n",
       "    </tr>\n",
       "    <tr>\n",
       "      <td>12</td>\n",
       "      <td>17</td>\n",
       "    </tr>\n",
       "    <tr>\n",
       "      <td>12</td>\n",
       "      <td>18</td>\n",
       "    </tr>\n",
       "    <tr>\n",
       "      <td>1</td>\n",
       "      <td>19</td>\n",
       "    </tr>\n",
       "    <tr>\n",
       "      <td>11</td>\n",
       "      <td>23</td>\n",
       "    </tr>\n",
       "    <tr>\n",
       "      <td>12</td>\n",
       "      <td>24</td>\n",
       "    </tr>\n",
       "    <tr>\n",
       "      <td>11</td>\n",
       "      <td>27</td>\n",
       "    </tr>\n",
       "    <tr>\n",
       "      <td>11</td>\n",
       "      <td>32</td>\n",
       "    </tr>\n",
       "    <tr>\n",
       "      <td>11</td>\n",
       "      <td>35</td>\n",
       "    </tr>\n",
       "    <tr>\n",
       "      <td>11</td>\n",
       "      <td>37</td>\n",
       "    </tr>\n",
       "    <tr>\n",
       "      <td>11</td>\n",
       "      <td>39</td>\n",
       "    </tr>\n",
       "  </tbody>\n",
       "</table>\n",
       "</div>"
      ],
      "text/plain": [
       "<IPython.core.display.HTML object>"
      ]
     },
     "metadata": {},
     "output_type": "display_data"
    },
    {
     "data": {
      "text/markdown": [
       "**Look on Fraction 2:**"
      ],
      "text/plain": [
       "<IPython.core.display.Markdown object>"
      ]
     },
     "metadata": {},
     "output_type": "display_data"
    },
    {
     "data": {
      "text/html": [
       "<div>\n",
       "<table border=\"1\" class=\"dataframe\">\n",
       "  <thead>\n",
       "    <tr style=\"text-align: right;\">\n",
       "      <th></th>\n",
       "      <th>Box</th>\n",
       "      <th>StimulusID</th>\n",
       "    </tr>\n",
       "  </thead>\n",
       "  <tbody>\n",
       "    <tr>\n",
       "      <th>0</th>\n",
       "      <td>11</td>\n",
       "      <td>11</td>\n",
       "    </tr>\n",
       "    <tr>\n",
       "      <th>1</th>\n",
       "      <td>12</td>\n",
       "      <td>17</td>\n",
       "    </tr>\n",
       "    <tr>\n",
       "      <th>2</th>\n",
       "      <td>12</td>\n",
       "      <td>18</td>\n",
       "    </tr>\n",
       "    <tr>\n",
       "      <th>3</th>\n",
       "      <td>1</td>\n",
       "      <td>19</td>\n",
       "    </tr>\n",
       "    <tr>\n",
       "      <th>4</th>\n",
       "      <td>11</td>\n",
       "      <td>23</td>\n",
       "    </tr>\n",
       "    <tr>\n",
       "      <th>5</th>\n",
       "      <td>12</td>\n",
       "      <td>24</td>\n",
       "    </tr>\n",
       "    <tr>\n",
       "      <th>6</th>\n",
       "      <td>11</td>\n",
       "      <td>27</td>\n",
       "    </tr>\n",
       "    <tr>\n",
       "      <th>7</th>\n",
       "      <td>11</td>\n",
       "      <td>32</td>\n",
       "    </tr>\n",
       "    <tr>\n",
       "      <th>8</th>\n",
       "      <td>11</td>\n",
       "      <td>35</td>\n",
       "    </tr>\n",
       "    <tr>\n",
       "      <th>9</th>\n",
       "      <td>11</td>\n",
       "      <td>37</td>\n",
       "    </tr>\n",
       "    <tr>\n",
       "      <th>10</th>\n",
       "      <td>11</td>\n",
       "      <td>39</td>\n",
       "    </tr>\n",
       "  </tbody>\n",
       "</table>\n",
       "</div>"
      ],
      "text/plain": [
       "    Box  StimulusID\n",
       "0    11          11\n",
       "1    12          17\n",
       "2    12          18\n",
       "3     1          19\n",
       "4    11          23\n",
       "5    12          24\n",
       "6    11          27\n",
       "7    11          32\n",
       "8    11          35\n",
       "9    11          37\n",
       "10   11          39"
      ]
     },
     "metadata": {},
     "output_type": "display_data"
    }
   ],
   "source": [
    "display(Markdown(\"**Look on Fraction 1:**\"))\n",
    "df_frac1 = df.loc[df[\"Sample Type\"] == \"Fraction1\"]\n",
    "countboxperstim1 = pd.DataFrame(df_frac1.groupby(\"StimulusID\")[\"Box\"].nunique())\n",
    "countboxperstim1.loc[:, \"StimulusID\"] = countboxperstim1.index.get_values().astype(int)\n",
    "countboxperstim1.reset_index(drop = True, inplace = True)\n",
    "display(table_wo_index(countboxperstim1[[\"Box\", \"StimulusID\"]]))\n",
    "\n",
    "display(Markdown(\"**Look on Fraction 2:**\"))\n",
    "df_frac2 = df.loc[df[\"Sample Type\"] == \"Fraction2\"]\n",
    "countboxperstim2 = pd.DataFrame(df_frac2.groupby(\"StimulusID\")[\"Box\"].nunique())\n",
    "countboxperstim2.loc[:, \"StimulusID\"] = countboxperstim2.index.get_values().astype(int)\n",
    "countboxperstim2.reset_index(drop = True, inplace = True)\n",
    "display(countboxperstim2[[\"Box\", \"StimulusID\"]])"
   ]
  },
  {
   "cell_type": "markdown",
   "metadata": {},
   "source": [
    "The exceed box for StimulusID 19 is expected as we still don't have change DonorID 819 for this stimulus. The boxes in StimulusID 17, 18, and 24 are also expected. What are these boxes?"
   ]
  },
  {
   "cell_type": "code",
   "execution_count": 20,
   "metadata": {
    "collapsed": false
   },
   "outputs": [
    {
     "data": {
      "text/markdown": [
       "**Look on Fraction 1:**"
      ],
      "text/plain": [
       "<IPython.core.display.Markdown object>"
      ]
     },
     "metadata": {},
     "output_type": "display_data"
    },
    {
     "data": {
      "text/markdown": [
       "List of boxes for **StimulusID 17**:"
      ],
      "text/plain": [
       "<IPython.core.display.Markdown object>"
      ]
     },
     "metadata": {},
     "output_type": "display_data"
    },
    {
     "data": {
      "text/markdown": [
       "* MIC_Plasma_S17_V1_A1_F1_D1-96, StimulusID 17;\n",
       "* MIC_Plasma_S17_V1_A1_F1_D101-196, StimulusID 17;\n",
       "* MIC_Plasma_S17_V1_A1_F1_D201-296, StimulusID 17;\n",
       "* MIC_Plasma_S17_V1_A1_F1_D301-396, StimulusID 17;\n",
       "* MIC_Plasma_S17_V1_A1_F1_D401-496, StimulusID 17;\n",
       "* MIC_Plasma_S17_V1_A1_F1_D501-596, StimulusID 17;\n",
       "* MIC_Plasma_S17_V1_A1_F1_D601-696, StimulusID 17;\n",
       "* MIC_Plasma_S17_V1_A1_F1_D701-796, StimulusID 17;\n",
       "* MIC_Plasma_S17_V1_A1_F1_D801-896, StimulusID 17;\n",
       "* MIC_Plasma_S17_V1_A1_F1_D901-996, StimulusID 17;\n",
       "* MIC_Plasma_S17_V1_A1_F1_DX97-X00, StimulusID 17;\n",
       "* MIC_Plasma_S24_V1_A1_F1_D801-896, StimulusID 17."
      ],
      "text/plain": [
       "<IPython.core.display.Markdown object>"
      ]
     },
     "metadata": {},
     "output_type": "display_data"
    },
    {
     "data": {
      "text/markdown": [
       "List of boxes for **StimulusID 18**:"
      ],
      "text/plain": [
       "<IPython.core.display.Markdown object>"
      ]
     },
     "metadata": {},
     "output_type": "display_data"
    },
    {
     "data": {
      "text/markdown": [
       "* MIC_Plasma_S17_V1_A1_F1_D801-896, StimulusID 18;\n",
       "* MIC_Plasma_S18_V1_A1_F1_D1-96, StimulusID 18;\n",
       "* MIC_Plasma_S18_V1_A1_F1_D101-196, StimulusID 18;\n",
       "* MIC_Plasma_S18_V1_A1_F1_D201-296, StimulusID 18;\n",
       "* MIC_Plasma_S18_V1_A1_F1_D301-396, StimulusID 18;\n",
       "* MIC_Plasma_S18_V1_A1_F1_D401-496, StimulusID 18;\n",
       "* MIC_Plasma_S18_V1_A1_F1_D501-596, StimulusID 18;\n",
       "* MIC_Plasma_S18_V1_A1_F1_D601-696, StimulusID 18;\n",
       "* MIC_Plasma_S18_V1_A1_F1_D701-796, StimulusID 18;\n",
       "* MIC_Plasma_S18_V1_A1_F1_D801-896, StimulusID 18;\n",
       "* MIC_Plasma_S18_V1_A1_F1_D901-996, StimulusID 18;\n",
       "* MIC_Plasma_S18_V1_A1_F1_DX97-X00, StimulusID 18."
      ],
      "text/plain": [
       "<IPython.core.display.Markdown object>"
      ]
     },
     "metadata": {},
     "output_type": "display_data"
    },
    {
     "data": {
      "text/markdown": [
       "List of boxes for **StimulusID 24**:"
      ],
      "text/plain": [
       "<IPython.core.display.Markdown object>"
      ]
     },
     "metadata": {},
     "output_type": "display_data"
    },
    {
     "data": {
      "text/markdown": [
       "* MIC_Plasma_S23_V1_A1_F1_D801-896, StimulusID 24;\n",
       "* MIC_Plasma_S24_V1_A1_F1_D1-96, StimulusID 24;\n",
       "* MIC_Plasma_S24_V1_A1_F1_D101-196, StimulusID 24;\n",
       "* MIC_Plasma_S24_V1_A1_F1_D201-296, StimulusID 24;\n",
       "* MIC_Plasma_S24_V1_A1_F1_D301-396, StimulusID 24;\n",
       "* MIC_Plasma_S24_V1_A1_F1_D401-496, StimulusID 24;\n",
       "* MIC_Plasma_S24_V1_A1_F1_D501-596, StimulusID 24;\n",
       "* MIC_Plasma_S24_V1_A1_F1_D601-696, StimulusID 24;\n",
       "* MIC_Plasma_S24_V1_A1_F1_D701-796, StimulusID 24;\n",
       "* MIC_Plasma_S24_V1_A1_F1_D801-896, StimulusID 24;\n",
       "* MIC_Plasma_S24_V1_A1_F1_D901-996, StimulusID 24;\n",
       "* MIC_Plasma_S24_V1_A1_F1_DX97-X00, StimulusID 24."
      ],
      "text/plain": [
       "<IPython.core.display.Markdown object>"
      ]
     },
     "metadata": {},
     "output_type": "display_data"
    },
    {
     "data": {
      "text/markdown": [
       "**Look on Fraction 2:**"
      ],
      "text/plain": [
       "<IPython.core.display.Markdown object>"
      ]
     },
     "metadata": {},
     "output_type": "display_data"
    },
    {
     "data": {
      "text/markdown": [
       "List of boxes for **StimulusID 17**:"
      ],
      "text/plain": [
       "<IPython.core.display.Markdown object>"
      ]
     },
     "metadata": {},
     "output_type": "display_data"
    },
    {
     "data": {
      "text/markdown": [
       "* MIC_Plasma_S17_V1_A1_F2_D1-96, StimulusID 17;\n",
       "* MIC_Plasma_S17_V1_A1_F2_D101-196, StimulusID 17;\n",
       "* MIC_Plasma_S17_V1_A1_F2_D201-296, StimulusID 17;\n",
       "* MIC_Plasma_S17_V1_A1_F2_D301-396, StimulusID 17;\n",
       "* MIC_Plasma_S17_V1_A1_F2_D401-496, StimulusID 17;\n",
       "* MIC_Plasma_S17_V1_A1_F2_D501-596, StimulusID 17;\n",
       "* MIC_Plasma_S17_V1_A1_F2_D601-696, StimulusID 17;\n",
       "* MIC_Plasma_S17_V1_A1_F2_D701-796, StimulusID 17;\n",
       "* MIC_Plasma_S17_V1_A1_F2_D801-896, StimulusID 17;\n",
       "* MIC_Plasma_S17_V1_A1_F2_D901-996, StimulusID 17;\n",
       "* MIC_Plasma_S17_V1_A1_F2_DX97-X00, StimulusID 17;\n",
       "* MIC_Plasma_S24_V1_A1_F2_D801-896, StimulusID 17."
      ],
      "text/plain": [
       "<IPython.core.display.Markdown object>"
      ]
     },
     "metadata": {},
     "output_type": "display_data"
    },
    {
     "data": {
      "text/markdown": [
       "List of boxes for **StimulusID 18**:"
      ],
      "text/plain": [
       "<IPython.core.display.Markdown object>"
      ]
     },
     "metadata": {},
     "output_type": "display_data"
    },
    {
     "data": {
      "text/markdown": [
       "* MIC_Plasma_S17_V1_A1_F2_D801-896, StimulusID 18;\n",
       "* MIC_Plasma_S18_V1_A1_F2_D1-96, StimulusID 18;\n",
       "* MIC_Plasma_S18_V1_A1_F2_D101-196, StimulusID 18;\n",
       "* MIC_Plasma_S18_V1_A1_F2_D201-296, StimulusID 18;\n",
       "* MIC_Plasma_S18_V1_A1_F2_D301-396, StimulusID 18;\n",
       "* MIC_Plasma_S18_V1_A1_F2_D401-496, StimulusID 18;\n",
       "* MIC_Plasma_S18_V1_A1_F2_D501-596, StimulusID 18;\n",
       "* MIC_Plasma_S18_V1_A1_F2_D601-696, StimulusID 18;\n",
       "* MIC_Plasma_S18_V1_A1_F2_D701-796, StimulusID 18;\n",
       "* MIC_Plasma_S18_V1_A1_F2_D801-896, StimulusID 18;\n",
       "* MIC_Plasma_S18_V1_A1_F2_D901-996, StimulusID 18;\n",
       "* MIC_Plasma_S18_V1_A1_F2_DX97-X00, StimulusID 18."
      ],
      "text/plain": [
       "<IPython.core.display.Markdown object>"
      ]
     },
     "metadata": {},
     "output_type": "display_data"
    },
    {
     "data": {
      "text/markdown": [
       "List of boxes for **StimulusID 24**:"
      ],
      "text/plain": [
       "<IPython.core.display.Markdown object>"
      ]
     },
     "metadata": {},
     "output_type": "display_data"
    },
    {
     "data": {
      "text/markdown": [
       "* MIC_Plasma_S23_V1_A1_F2_D801-896, StimulusID 24;\n",
       "* MIC_Plasma_S24_V1_A1_F2_D1-96, StimulusID 24;\n",
       "* MIC_Plasma_S24_V1_A1_F2_D101-196, StimulusID 24;\n",
       "* MIC_Plasma_S24_V1_A1_F2_D201-296, StimulusID 24;\n",
       "* MIC_Plasma_S24_V1_A1_F2_D301-396, StimulusID 24;\n",
       "* MIC_Plasma_S24_V1_A1_F2_D401-496, StimulusID 24;\n",
       "* MIC_Plasma_S24_V1_A1_F2_D501-596, StimulusID 24;\n",
       "* MIC_Plasma_S24_V1_A1_F2_D601-696, StimulusID 24;\n",
       "* MIC_Plasma_S24_V1_A1_F2_D701-796, StimulusID 24;\n",
       "* MIC_Plasma_S24_V1_A1_F2_D801-896, StimulusID 24;\n",
       "* MIC_Plasma_S24_V1_A1_F2_D901-996, StimulusID 24;\n",
       "* MIC_Plasma_S24_V1_A1_F2_DX97-X00, StimulusID 24."
      ],
      "text/plain": [
       "<IPython.core.display.Markdown object>"
      ]
     },
     "metadata": {},
     "output_type": "display_data"
    }
   ],
   "source": [
    "display(Markdown(\"**Look on Fraction 1:**\"))\n",
    "stims1 = countboxperstim1.loc[countboxperstim1[\"Box\"] > 11, \"StimulusID\"].values.tolist()\n",
    "\n",
    "if len(df.loc[(df[\"StimulusID\"].isin(stims1)) & (df[\"Box\"].str.contains(\"F1\")), \"Box\"].unique()) > 11:\n",
    "    for stim1 in stims1:\n",
    "        display(Markdown(\"List of boxes for **StimulusID %d**:\" % stim1))\n",
    "        display(Markdown(\";\\n\".join([\"* \"+str(box)+\", StimulusID \"+str(int(stim1)) \\\n",
    "                                     for box in df.loc[(df[\"StimulusID\"] == stim1) & \\\n",
    "                                                       (df[\"Box\"].str.contains(\"F1\")), \"Box\"].unique()])+\".\"))\n",
    "        \n",
    "display(Markdown(\"**Look on Fraction 2:**\"))\n",
    "stims2 = countboxperstim2.loc[countboxperstim2[\"Box\"] > 11, \"StimulusID\"].values.tolist()\n",
    "\n",
    "if len(df.loc[(df[\"StimulusID\"].isin(stims2)) & (df[\"Box\"].str.contains(\"F2\")), \"Box\"].unique()) > 11:\n",
    "    for stim2 in stims2:\n",
    "        display(Markdown(\"List of boxes for **StimulusID %d**:\" % stim2))\n",
    "        display(Markdown(\";\\n\".join([\"* \"+str(box)+\", StimulusID \"+str(int(stim2)) \\\n",
    "                                     for box in df.loc[(df[\"StimulusID\"] == stim2) & \\\n",
    "                                                       (df[\"Box\"].str.contains(\"F2\")), \"Box\"].unique()])+\".\"))"
   ]
  },
  {
   "cell_type": "markdown",
   "metadata": {},
   "source": [
    "List of donors in unexpected boxes:"
   ]
  },
  {
   "cell_type": "code",
   "execution_count": 21,
   "metadata": {
    "collapsed": false
   },
   "outputs": [
    {
     "data": {
      "text/markdown": [
       "**Look on Fraction 1:**"
      ],
      "text/plain": [
       "<IPython.core.display.Markdown object>"
      ]
     },
     "metadata": {},
     "output_type": "display_data"
    },
    {
     "data": {
      "text/html": [
       "<div>\n",
       "<table border=\"1\" class=\"dataframe\">\n",
       "  <thead>\n",
       "    <tr style=\"text-align: right;\">\n",
       "      <th></th>\n",
       "      <th>Box</th>\n",
       "      <th>StimulusID</th>\n",
       "      <th>DonorID</th>\n",
       "    </tr>\n",
       "  </thead>\n",
       "  <tbody>\n",
       "    <tr>\n",
       "      <th>3674</th>\n",
       "      <td>MIC_Plasma_S17_V1_A1_F1_D801-896</td>\n",
       "      <td>18.0</td>\n",
       "      <td>819</td>\n",
       "    </tr>\n",
       "  </tbody>\n",
       "</table>\n",
       "</div>"
      ],
      "text/plain": [
       "                                   Box  StimulusID  DonorID\n",
       "3674  MIC_Plasma_S17_V1_A1_F1_D801-896        18.0      819"
      ]
     },
     "metadata": {},
     "output_type": "display_data"
    },
    {
     "data": {
      "text/html": [
       "<div>\n",
       "<table border=\"1\" class=\"dataframe\">\n",
       "  <thead>\n",
       "    <tr style=\"text-align: right;\">\n",
       "      <th></th>\n",
       "      <th>Box</th>\n",
       "      <th>StimulusID</th>\n",
       "      <th>DonorID</th>\n",
       "    </tr>\n",
       "  </thead>\n",
       "  <tbody>\n",
       "    <tr>\n",
       "      <th>5550</th>\n",
       "      <td>MIC_Plasma_S18_V1_A1_F1_D801-896</td>\n",
       "      <td>19.0</td>\n",
       "      <td>819</td>\n",
       "    </tr>\n",
       "  </tbody>\n",
       "</table>\n",
       "</div>"
      ],
      "text/plain": [
       "                                   Box  StimulusID  DonorID\n",
       "5550  MIC_Plasma_S18_V1_A1_F1_D801-896        19.0      819"
      ]
     },
     "metadata": {},
     "output_type": "display_data"
    },
    {
     "data": {
      "text/html": [
       "<div>\n",
       "<table border=\"1\" class=\"dataframe\">\n",
       "  <thead>\n",
       "    <tr style=\"text-align: right;\">\n",
       "      <th></th>\n",
       "      <th>Box</th>\n",
       "      <th>StimulusID</th>\n",
       "      <th>DonorID</th>\n",
       "    </tr>\n",
       "  </thead>\n",
       "  <tbody>\n",
       "    <tr>\n",
       "      <th>9550</th>\n",
       "      <td>MIC_Plasma_S24_V1_A1_F1_D801-896</td>\n",
       "      <td>17.0</td>\n",
       "      <td>819</td>\n",
       "    </tr>\n",
       "  </tbody>\n",
       "</table>\n",
       "</div>"
      ],
      "text/plain": [
       "                                   Box  StimulusID  DonorID\n",
       "9550  MIC_Plasma_S24_V1_A1_F1_D801-896        17.0      819"
      ]
     },
     "metadata": {},
     "output_type": "display_data"
    },
    {
     "data": {
      "text/html": [
       "<div>\n",
       "<table border=\"1\" class=\"dataframe\">\n",
       "  <thead>\n",
       "    <tr style=\"text-align: right;\">\n",
       "      <th></th>\n",
       "      <th>Box</th>\n",
       "      <th>StimulusID</th>\n",
       "      <th>DonorID</th>\n",
       "    </tr>\n",
       "  </thead>\n",
       "  <tbody>\n",
       "    <tr>\n",
       "      <th>7642</th>\n",
       "      <td>MIC_Plasma_S23_V1_A1_F1_D801-896</td>\n",
       "      <td>24.0</td>\n",
       "      <td>819</td>\n",
       "    </tr>\n",
       "  </tbody>\n",
       "</table>\n",
       "</div>"
      ],
      "text/plain": [
       "                                   Box  StimulusID  DonorID\n",
       "7642  MIC_Plasma_S23_V1_A1_F1_D801-896        24.0      819"
      ]
     },
     "metadata": {},
     "output_type": "display_data"
    },
    {
     "data": {
      "text/markdown": [
       "**Look on Fraction 2:**"
      ],
      "text/plain": [
       "<IPython.core.display.Markdown object>"
      ]
     },
     "metadata": {},
     "output_type": "display_data"
    },
    {
     "data": {
      "text/html": [
       "<div>\n",
       "<table border=\"1\" class=\"dataframe\">\n",
       "  <thead>\n",
       "    <tr style=\"text-align: right;\">\n",
       "      <th></th>\n",
       "      <th>Box</th>\n",
       "      <th>StimulusID</th>\n",
       "      <th>DonorID</th>\n",
       "    </tr>\n",
       "  </thead>\n",
       "  <tbody>\n",
       "    <tr>\n",
       "      <th>3675</th>\n",
       "      <td>MIC_Plasma_S17_V1_A1_F2_D801-896</td>\n",
       "      <td>18.0</td>\n",
       "      <td>819</td>\n",
       "    </tr>\n",
       "  </tbody>\n",
       "</table>\n",
       "</div>"
      ],
      "text/plain": [
       "                                   Box  StimulusID  DonorID\n",
       "3675  MIC_Plasma_S17_V1_A1_F2_D801-896        18.0      819"
      ]
     },
     "metadata": {},
     "output_type": "display_data"
    },
    {
     "data": {
      "text/html": [
       "<div>\n",
       "<table border=\"1\" class=\"dataframe\">\n",
       "  <thead>\n",
       "    <tr style=\"text-align: right;\">\n",
       "      <th></th>\n",
       "      <th>Box</th>\n",
       "      <th>StimulusID</th>\n",
       "      <th>DonorID</th>\n",
       "    </tr>\n",
       "  </thead>\n",
       "  <tbody>\n",
       "    <tr>\n",
       "      <th>5551</th>\n",
       "      <td>MIC_Plasma_S18_V1_A1_F2_D801-896</td>\n",
       "      <td>19.0</td>\n",
       "      <td>819</td>\n",
       "    </tr>\n",
       "  </tbody>\n",
       "</table>\n",
       "</div>"
      ],
      "text/plain": [
       "                                   Box  StimulusID  DonorID\n",
       "5551  MIC_Plasma_S18_V1_A1_F2_D801-896        19.0      819"
      ]
     },
     "metadata": {},
     "output_type": "display_data"
    },
    {
     "data": {
      "text/html": [
       "<div>\n",
       "<table border=\"1\" class=\"dataframe\">\n",
       "  <thead>\n",
       "    <tr style=\"text-align: right;\">\n",
       "      <th></th>\n",
       "      <th>Box</th>\n",
       "      <th>StimulusID</th>\n",
       "      <th>DonorID</th>\n",
       "    </tr>\n",
       "  </thead>\n",
       "  <tbody>\n",
       "    <tr>\n",
       "      <th>9551</th>\n",
       "      <td>MIC_Plasma_S24_V1_A1_F2_D801-896</td>\n",
       "      <td>17.0</td>\n",
       "      <td>819</td>\n",
       "    </tr>\n",
       "  </tbody>\n",
       "</table>\n",
       "</div>"
      ],
      "text/plain": [
       "                                   Box  StimulusID  DonorID\n",
       "9551  MIC_Plasma_S24_V1_A1_F2_D801-896        17.0      819"
      ]
     },
     "metadata": {},
     "output_type": "display_data"
    },
    {
     "data": {
      "text/html": [
       "<div>\n",
       "<table border=\"1\" class=\"dataframe\">\n",
       "  <thead>\n",
       "    <tr style=\"text-align: right;\">\n",
       "      <th></th>\n",
       "      <th>Box</th>\n",
       "      <th>StimulusID</th>\n",
       "      <th>DonorID</th>\n",
       "    </tr>\n",
       "  </thead>\n",
       "  <tbody>\n",
       "    <tr>\n",
       "      <th>7643</th>\n",
       "      <td>MIC_Plasma_S23_V1_A1_F2_D801-896</td>\n",
       "      <td>24.0</td>\n",
       "      <td>819</td>\n",
       "    </tr>\n",
       "  </tbody>\n",
       "</table>\n",
       "</div>"
      ],
      "text/plain": [
       "                                   Box  StimulusID  DonorID\n",
       "7643  MIC_Plasma_S23_V1_A1_F2_D801-896        24.0      819"
      ]
     },
     "metadata": {},
     "output_type": "display_data"
    }
   ],
   "source": [
    "display(Markdown(\"**Look on Fraction 1:**\"))\n",
    "display(df.loc[(df[\"Box\"] == 'MIC_Plasma_S17_V1_A1_F1_D801-896') & (df[\"StimulusID\"] != 17.0),\\\n",
    "               [\"Box\", \"StimulusID\", \"DonorID\"]])\n",
    "display(df.loc[(df[\"Box\"] == 'MIC_Plasma_S18_V1_A1_F1_D801-896') & (df[\"StimulusID\"] != 18.0),\\\n",
    "               [\"Box\", \"StimulusID\", \"DonorID\"]])\n",
    "display(df.loc[(df[\"Box\"] == 'MIC_Plasma_S24_V1_A1_F1_D801-896') & (df[\"StimulusID\"] != 24.0),\\\n",
    "               [\"Box\", \"StimulusID\", \"DonorID\"]])\n",
    "display(df.loc[(df[\"Box\"] == 'MIC_Plasma_S23_V1_A1_F1_D801-896') & (df[\"StimulusID\"] != 23.0),\\\n",
    "               [\"Box\", \"StimulusID\", \"DonorID\"]])\n",
    "\n",
    "display(Markdown(\"**Look on Fraction 2:**\"))\n",
    "display(df.loc[(df[\"Box\"] == 'MIC_Plasma_S17_V1_A1_F2_D801-896') & (df[\"StimulusID\"] != 17.0),\\\n",
    "               [\"Box\", \"StimulusID\", \"DonorID\"]])\n",
    "display(df.loc[(df[\"Box\"] == 'MIC_Plasma_S18_V1_A1_F2_D801-896') & (df[\"StimulusID\"] != 18.0),\\\n",
    "               [\"Box\", \"StimulusID\", \"DonorID\"]])\n",
    "display(df.loc[(df[\"Box\"] == 'MIC_Plasma_S24_V1_A1_F2_D801-896') & (df[\"StimulusID\"] != 24.0),\\\n",
    "               [\"Box\", \"StimulusID\", \"DonorID\"]])\n",
    "display(df.loc[(df[\"Box\"] == 'MIC_Plasma_S23_V1_A1_F2_D801-896') & (df[\"StimulusID\"] != 23.0),\\\n",
    "               [\"Box\", \"StimulusID\", \"DonorID\"]])"
   ]
  },
  {
   "cell_type": "markdown",
   "metadata": {},
   "source": [
    "These results are agreed with observations done by Céline. These tubes will have to be changed manually, directly from the output file."
   ]
  },
  {
   "cell_type": "code",
   "execution_count": 22,
   "metadata": {
    "collapsed": false
   },
   "outputs": [
    {
     "data": {
      "text/html": [
       "<div>\n",
       "<table border=\"1\" class=\"dataframe\">\n",
       "  <thead>\n",
       "    <tr style=\"text-align: right;\">\n",
       "      <th></th>\n",
       "      <th>Box</th>\n",
       "      <th>StimulusID</th>\n",
       "      <th>DonorID</th>\n",
       "    </tr>\n",
       "  </thead>\n",
       "  <tbody>\n",
       "    <tr>\n",
       "      <th>3674</th>\n",
       "      <td>MIC_Plasma_S17_V1_A1_F1_D801-896</td>\n",
       "      <td>18.0</td>\n",
       "      <td>819</td>\n",
       "    </tr>\n",
       "    <tr>\n",
       "      <th>3675</th>\n",
       "      <td>MIC_Plasma_S17_V1_A1_F2_D801-896</td>\n",
       "      <td>18.0</td>\n",
       "      <td>819</td>\n",
       "    </tr>\n",
       "    <tr>\n",
       "      <th>5550</th>\n",
       "      <td>MIC_Plasma_S18_V1_A1_F1_D801-896</td>\n",
       "      <td>19.0</td>\n",
       "      <td>819</td>\n",
       "    </tr>\n",
       "    <tr>\n",
       "      <th>5551</th>\n",
       "      <td>MIC_Plasma_S18_V1_A1_F2_D801-896</td>\n",
       "      <td>19.0</td>\n",
       "      <td>819</td>\n",
       "    </tr>\n",
       "    <tr>\n",
       "      <th>7642</th>\n",
       "      <td>MIC_Plasma_S23_V1_A1_F1_D801-896</td>\n",
       "      <td>24.0</td>\n",
       "      <td>819</td>\n",
       "    </tr>\n",
       "    <tr>\n",
       "      <th>7643</th>\n",
       "      <td>MIC_Plasma_S23_V1_A1_F2_D801-896</td>\n",
       "      <td>24.0</td>\n",
       "      <td>819</td>\n",
       "    </tr>\n",
       "    <tr>\n",
       "      <th>9550</th>\n",
       "      <td>MIC_Plasma_S24_V1_A1_F1_D801-896</td>\n",
       "      <td>17.0</td>\n",
       "      <td>819</td>\n",
       "    </tr>\n",
       "    <tr>\n",
       "      <th>9551</th>\n",
       "      <td>MIC_Plasma_S24_V1_A1_F2_D801-896</td>\n",
       "      <td>17.0</td>\n",
       "      <td>819</td>\n",
       "    </tr>\n",
       "  </tbody>\n",
       "</table>\n",
       "</div>"
      ],
      "text/plain": [
       "                                   Box  StimulusID  DonorID\n",
       "3674  MIC_Plasma_S17_V1_A1_F1_D801-896        18.0      819\n",
       "3675  MIC_Plasma_S17_V1_A1_F2_D801-896        18.0      819\n",
       "5550  MIC_Plasma_S18_V1_A1_F1_D801-896        19.0      819\n",
       "5551  MIC_Plasma_S18_V1_A1_F2_D801-896        19.0      819\n",
       "7642  MIC_Plasma_S23_V1_A1_F1_D801-896        24.0      819\n",
       "7643  MIC_Plasma_S23_V1_A1_F2_D801-896        24.0      819\n",
       "9550  MIC_Plasma_S24_V1_A1_F1_D801-896        17.0      819\n",
       "9551  MIC_Plasma_S24_V1_A1_F2_D801-896        17.0      819"
      ]
     },
     "metadata": {},
     "output_type": "display_data"
    }
   ],
   "source": [
    "display(df.loc[(df[\"StimulusID\"].isin([17.0, 18.0, 19.0, 24.0])) & (df[\"DonorID\"] == 819),\\\n",
    "               [\"Box\", \"StimulusID\", \"DonorID\"]])"
   ]
  },
  {
   "cell_type": "markdown",
   "metadata": {},
   "source": [
    "## Checking common fields\n",
    "\n",
    "We have 2 fractions, but each fraction have to contains common informations:\n",
    "* ParentID;\n",
    "* Position;\n",
    "* CreationDate;\n",
    "* UpdateDate;\n",
    "* AliquotID;\n",
    "* BoxType;\n",
    "* VisitID;\n",
    "* ThawCycle;\n",
    "* Volume;\n",
    "* Sample Source;\n",
    "* BatchID;\n",
    "* Sample Type.\n",
    "\n",
    "We expect to have same number of lines for each field, for each fraction:"
   ]
  },
  {
   "cell_type": "code",
   "execution_count": 23,
   "metadata": {
    "collapsed": false
   },
   "outputs": [
    {
     "data": {
      "text/markdown": [
       "### Look on Fraction 1"
      ],
      "text/plain": [
       "<IPython.core.display.Markdown object>"
      ]
     },
     "metadata": {},
     "output_type": "display_data"
    },
    {
     "data": {
      "text/markdown": [
       "#### ParentID field"
      ],
      "text/plain": [
       "<IPython.core.display.Markdown object>"
      ]
     },
     "metadata": {},
     "output_type": "display_data"
    },
    {
     "data": {
      "text/markdown": [
       "* **0** empty ParentID\n",
       "* **10000** unique ParentID"
      ],
      "text/plain": [
       "<IPython.core.display.Markdown object>"
      ]
     },
     "metadata": {},
     "output_type": "display_data"
    },
    {
     "data": {
      "text/markdown": [
       "#### Position field"
      ],
      "text/plain": [
       "<IPython.core.display.Markdown object>"
      ]
     },
     "metadata": {},
     "output_type": "display_data"
    },
    {
     "data": {
      "text/html": [
       "<div>\n",
       "<table border=\"1\" class=\"dataframe\">\n",
       "  <thead>\n",
       "    <tr style=\"text-align: right;\">\n",
       "      <th></th>\n",
       "      <th>Position</th>\n",
       "      <th>Tubes</th>\n",
       "    </tr>\n",
       "  </thead>\n",
       "  <tbody>\n",
       "    <tr>\n",
       "      <th>0</th>\n",
       "      <td>A / 1</td>\n",
       "      <td>110</td>\n",
       "    </tr>\n",
       "    <tr>\n",
       "      <th>1</th>\n",
       "      <td>A / 10</td>\n",
       "      <td>110</td>\n",
       "    </tr>\n",
       "    <tr>\n",
       "      <th>2</th>\n",
       "      <td>A / 11</td>\n",
       "      <td>100</td>\n",
       "    </tr>\n",
       "    <tr>\n",
       "      <th>3</th>\n",
       "      <td>A / 12</td>\n",
       "      <td>100</td>\n",
       "    </tr>\n",
       "    <tr>\n",
       "      <th>4</th>\n",
       "      <td>A / 2</td>\n",
       "      <td>110</td>\n",
       "    </tr>\n",
       "    <tr>\n",
       "      <th>5</th>\n",
       "      <td>A / 3</td>\n",
       "      <td>110</td>\n",
       "    </tr>\n",
       "    <tr>\n",
       "      <th>6</th>\n",
       "      <td>A / 4</td>\n",
       "      <td>110</td>\n",
       "    </tr>\n",
       "    <tr>\n",
       "      <th>7</th>\n",
       "      <td>A / 5</td>\n",
       "      <td>110</td>\n",
       "    </tr>\n",
       "    <tr>\n",
       "      <th>8</th>\n",
       "      <td>A / 6</td>\n",
       "      <td>110</td>\n",
       "    </tr>\n",
       "    <tr>\n",
       "      <th>9</th>\n",
       "      <td>A / 7</td>\n",
       "      <td>110</td>\n",
       "    </tr>\n",
       "    <tr>\n",
       "      <th>10</th>\n",
       "      <td>A / 8</td>\n",
       "      <td>110</td>\n",
       "    </tr>\n",
       "    <tr>\n",
       "      <th>11</th>\n",
       "      <td>A / 9</td>\n",
       "      <td>110</td>\n",
       "    </tr>\n",
       "    <tr>\n",
       "      <th>12</th>\n",
       "      <td>B / 1</td>\n",
       "      <td>110</td>\n",
       "    </tr>\n",
       "    <tr>\n",
       "      <th>13</th>\n",
       "      <td>B / 10</td>\n",
       "      <td>110</td>\n",
       "    </tr>\n",
       "    <tr>\n",
       "      <th>14</th>\n",
       "      <td>B / 11</td>\n",
       "      <td>100</td>\n",
       "    </tr>\n",
       "    <tr>\n",
       "      <th>15</th>\n",
       "      <td>B / 12</td>\n",
       "      <td>100</td>\n",
       "    </tr>\n",
       "    <tr>\n",
       "      <th>16</th>\n",
       "      <td>B / 2</td>\n",
       "      <td>110</td>\n",
       "    </tr>\n",
       "    <tr>\n",
       "      <th>17</th>\n",
       "      <td>B / 3</td>\n",
       "      <td>110</td>\n",
       "    </tr>\n",
       "    <tr>\n",
       "      <th>18</th>\n",
       "      <td>B / 4</td>\n",
       "      <td>110</td>\n",
       "    </tr>\n",
       "    <tr>\n",
       "      <th>19</th>\n",
       "      <td>B / 5</td>\n",
       "      <td>110</td>\n",
       "    </tr>\n",
       "    <tr>\n",
       "      <th>20</th>\n",
       "      <td>B / 6</td>\n",
       "      <td>110</td>\n",
       "    </tr>\n",
       "    <tr>\n",
       "      <th>21</th>\n",
       "      <td>B / 7</td>\n",
       "      <td>110</td>\n",
       "    </tr>\n",
       "    <tr>\n",
       "      <th>22</th>\n",
       "      <td>B / 8</td>\n",
       "      <td>110</td>\n",
       "    </tr>\n",
       "    <tr>\n",
       "      <th>23</th>\n",
       "      <td>B / 9</td>\n",
       "      <td>110</td>\n",
       "    </tr>\n",
       "    <tr>\n",
       "      <th>24</th>\n",
       "      <td>C / 1</td>\n",
       "      <td>110</td>\n",
       "    </tr>\n",
       "    <tr>\n",
       "      <th>25</th>\n",
       "      <td>C / 10</td>\n",
       "      <td>110</td>\n",
       "    </tr>\n",
       "    <tr>\n",
       "      <th>26</th>\n",
       "      <td>C / 11</td>\n",
       "      <td>100</td>\n",
       "    </tr>\n",
       "    <tr>\n",
       "      <th>27</th>\n",
       "      <td>C / 12</td>\n",
       "      <td>100</td>\n",
       "    </tr>\n",
       "    <tr>\n",
       "      <th>28</th>\n",
       "      <td>C / 2</td>\n",
       "      <td>110</td>\n",
       "    </tr>\n",
       "    <tr>\n",
       "      <th>29</th>\n",
       "      <td>C / 3</td>\n",
       "      <td>110</td>\n",
       "    </tr>\n",
       "    <tr>\n",
       "      <th>30</th>\n",
       "      <td>C / 4</td>\n",
       "      <td>110</td>\n",
       "    </tr>\n",
       "    <tr>\n",
       "      <th>31</th>\n",
       "      <td>C / 5</td>\n",
       "      <td>110</td>\n",
       "    </tr>\n",
       "    <tr>\n",
       "      <th>32</th>\n",
       "      <td>C / 6</td>\n",
       "      <td>110</td>\n",
       "    </tr>\n",
       "    <tr>\n",
       "      <th>33</th>\n",
       "      <td>C / 7</td>\n",
       "      <td>110</td>\n",
       "    </tr>\n",
       "    <tr>\n",
       "      <th>34</th>\n",
       "      <td>C / 8</td>\n",
       "      <td>110</td>\n",
       "    </tr>\n",
       "    <tr>\n",
       "      <th>35</th>\n",
       "      <td>C / 9</td>\n",
       "      <td>110</td>\n",
       "    </tr>\n",
       "    <tr>\n",
       "      <th>36</th>\n",
       "      <td>D / 1</td>\n",
       "      <td>110</td>\n",
       "    </tr>\n",
       "    <tr>\n",
       "      <th>37</th>\n",
       "      <td>D / 10</td>\n",
       "      <td>110</td>\n",
       "    </tr>\n",
       "    <tr>\n",
       "      <th>38</th>\n",
       "      <td>D / 11</td>\n",
       "      <td>100</td>\n",
       "    </tr>\n",
       "    <tr>\n",
       "      <th>39</th>\n",
       "      <td>D / 12</td>\n",
       "      <td>100</td>\n",
       "    </tr>\n",
       "    <tr>\n",
       "      <th>40</th>\n",
       "      <td>D / 2</td>\n",
       "      <td>110</td>\n",
       "    </tr>\n",
       "    <tr>\n",
       "      <th>41</th>\n",
       "      <td>D / 3</td>\n",
       "      <td>110</td>\n",
       "    </tr>\n",
       "    <tr>\n",
       "      <th>42</th>\n",
       "      <td>D / 4</td>\n",
       "      <td>110</td>\n",
       "    </tr>\n",
       "    <tr>\n",
       "      <th>43</th>\n",
       "      <td>D / 5</td>\n",
       "      <td>110</td>\n",
       "    </tr>\n",
       "    <tr>\n",
       "      <th>44</th>\n",
       "      <td>D / 6</td>\n",
       "      <td>110</td>\n",
       "    </tr>\n",
       "    <tr>\n",
       "      <th>45</th>\n",
       "      <td>D / 7</td>\n",
       "      <td>110</td>\n",
       "    </tr>\n",
       "    <tr>\n",
       "      <th>46</th>\n",
       "      <td>D / 8</td>\n",
       "      <td>110</td>\n",
       "    </tr>\n",
       "    <tr>\n",
       "      <th>47</th>\n",
       "      <td>D / 9</td>\n",
       "      <td>110</td>\n",
       "    </tr>\n",
       "    <tr>\n",
       "      <th>48</th>\n",
       "      <td>E / 1</td>\n",
       "      <td>100</td>\n",
       "    </tr>\n",
       "    <tr>\n",
       "      <th>49</th>\n",
       "      <td>E / 10</td>\n",
       "      <td>100</td>\n",
       "    </tr>\n",
       "    <tr>\n",
       "      <th>50</th>\n",
       "      <td>E / 11</td>\n",
       "      <td>100</td>\n",
       "    </tr>\n",
       "    <tr>\n",
       "      <th>51</th>\n",
       "      <td>E / 12</td>\n",
       "      <td>100</td>\n",
       "    </tr>\n",
       "    <tr>\n",
       "      <th>52</th>\n",
       "      <td>E / 2</td>\n",
       "      <td>100</td>\n",
       "    </tr>\n",
       "    <tr>\n",
       "      <th>53</th>\n",
       "      <td>E / 3</td>\n",
       "      <td>100</td>\n",
       "    </tr>\n",
       "    <tr>\n",
       "      <th>54</th>\n",
       "      <td>E / 4</td>\n",
       "      <td>100</td>\n",
       "    </tr>\n",
       "    <tr>\n",
       "      <th>55</th>\n",
       "      <td>E / 5</td>\n",
       "      <td>100</td>\n",
       "    </tr>\n",
       "    <tr>\n",
       "      <th>56</th>\n",
       "      <td>E / 6</td>\n",
       "      <td>100</td>\n",
       "    </tr>\n",
       "    <tr>\n",
       "      <th>57</th>\n",
       "      <td>E / 7</td>\n",
       "      <td>100</td>\n",
       "    </tr>\n",
       "    <tr>\n",
       "      <th>58</th>\n",
       "      <td>E / 8</td>\n",
       "      <td>100</td>\n",
       "    </tr>\n",
       "    <tr>\n",
       "      <th>59</th>\n",
       "      <td>E / 9</td>\n",
       "      <td>100</td>\n",
       "    </tr>\n",
       "    <tr>\n",
       "      <th>60</th>\n",
       "      <td>F / 1</td>\n",
       "      <td>100</td>\n",
       "    </tr>\n",
       "    <tr>\n",
       "      <th>61</th>\n",
       "      <td>F / 10</td>\n",
       "      <td>100</td>\n",
       "    </tr>\n",
       "    <tr>\n",
       "      <th>62</th>\n",
       "      <td>F / 11</td>\n",
       "      <td>100</td>\n",
       "    </tr>\n",
       "    <tr>\n",
       "      <th>63</th>\n",
       "      <td>F / 12</td>\n",
       "      <td>100</td>\n",
       "    </tr>\n",
       "    <tr>\n",
       "      <th>64</th>\n",
       "      <td>F / 2</td>\n",
       "      <td>100</td>\n",
       "    </tr>\n",
       "    <tr>\n",
       "      <th>65</th>\n",
       "      <td>F / 3</td>\n",
       "      <td>100</td>\n",
       "    </tr>\n",
       "    <tr>\n",
       "      <th>66</th>\n",
       "      <td>F / 4</td>\n",
       "      <td>100</td>\n",
       "    </tr>\n",
       "    <tr>\n",
       "      <th>67</th>\n",
       "      <td>F / 5</td>\n",
       "      <td>100</td>\n",
       "    </tr>\n",
       "    <tr>\n",
       "      <th>68</th>\n",
       "      <td>F / 6</td>\n",
       "      <td>100</td>\n",
       "    </tr>\n",
       "    <tr>\n",
       "      <th>69</th>\n",
       "      <td>F / 7</td>\n",
       "      <td>100</td>\n",
       "    </tr>\n",
       "    <tr>\n",
       "      <th>70</th>\n",
       "      <td>F / 8</td>\n",
       "      <td>100</td>\n",
       "    </tr>\n",
       "    <tr>\n",
       "      <th>71</th>\n",
       "      <td>F / 9</td>\n",
       "      <td>100</td>\n",
       "    </tr>\n",
       "    <tr>\n",
       "      <th>72</th>\n",
       "      <td>G / 1</td>\n",
       "      <td>100</td>\n",
       "    </tr>\n",
       "    <tr>\n",
       "      <th>73</th>\n",
       "      <td>G / 10</td>\n",
       "      <td>100</td>\n",
       "    </tr>\n",
       "    <tr>\n",
       "      <th>74</th>\n",
       "      <td>G / 11</td>\n",
       "      <td>100</td>\n",
       "    </tr>\n",
       "    <tr>\n",
       "      <th>75</th>\n",
       "      <td>G / 12</td>\n",
       "      <td>100</td>\n",
       "    </tr>\n",
       "    <tr>\n",
       "      <th>76</th>\n",
       "      <td>G / 2</td>\n",
       "      <td>100</td>\n",
       "    </tr>\n",
       "    <tr>\n",
       "      <th>77</th>\n",
       "      <td>G / 3</td>\n",
       "      <td>100</td>\n",
       "    </tr>\n",
       "    <tr>\n",
       "      <th>78</th>\n",
       "      <td>G / 4</td>\n",
       "      <td>100</td>\n",
       "    </tr>\n",
       "    <tr>\n",
       "      <th>79</th>\n",
       "      <td>G / 5</td>\n",
       "      <td>100</td>\n",
       "    </tr>\n",
       "    <tr>\n",
       "      <th>80</th>\n",
       "      <td>G / 6</td>\n",
       "      <td>100</td>\n",
       "    </tr>\n",
       "    <tr>\n",
       "      <th>81</th>\n",
       "      <td>G / 7</td>\n",
       "      <td>100</td>\n",
       "    </tr>\n",
       "    <tr>\n",
       "      <th>82</th>\n",
       "      <td>G / 8</td>\n",
       "      <td>100</td>\n",
       "    </tr>\n",
       "    <tr>\n",
       "      <th>83</th>\n",
       "      <td>G / 9</td>\n",
       "      <td>100</td>\n",
       "    </tr>\n",
       "    <tr>\n",
       "      <th>84</th>\n",
       "      <td>H / 1</td>\n",
       "      <td>100</td>\n",
       "    </tr>\n",
       "    <tr>\n",
       "      <th>85</th>\n",
       "      <td>H / 10</td>\n",
       "      <td>100</td>\n",
       "    </tr>\n",
       "    <tr>\n",
       "      <th>86</th>\n",
       "      <td>H / 11</td>\n",
       "      <td>100</td>\n",
       "    </tr>\n",
       "    <tr>\n",
       "      <th>87</th>\n",
       "      <td>H / 12</td>\n",
       "      <td>100</td>\n",
       "    </tr>\n",
       "    <tr>\n",
       "      <th>88</th>\n",
       "      <td>H / 2</td>\n",
       "      <td>100</td>\n",
       "    </tr>\n",
       "    <tr>\n",
       "      <th>89</th>\n",
       "      <td>H / 3</td>\n",
       "      <td>100</td>\n",
       "    </tr>\n",
       "    <tr>\n",
       "      <th>90</th>\n",
       "      <td>H / 4</td>\n",
       "      <td>100</td>\n",
       "    </tr>\n",
       "    <tr>\n",
       "      <th>91</th>\n",
       "      <td>H / 5</td>\n",
       "      <td>100</td>\n",
       "    </tr>\n",
       "    <tr>\n",
       "      <th>92</th>\n",
       "      <td>H / 6</td>\n",
       "      <td>100</td>\n",
       "    </tr>\n",
       "    <tr>\n",
       "      <th>93</th>\n",
       "      <td>H / 7</td>\n",
       "      <td>100</td>\n",
       "    </tr>\n",
       "    <tr>\n",
       "      <th>94</th>\n",
       "      <td>H / 8</td>\n",
       "      <td>100</td>\n",
       "    </tr>\n",
       "    <tr>\n",
       "      <th>95</th>\n",
       "      <td>H / 9</td>\n",
       "      <td>100</td>\n",
       "    </tr>\n",
       "  </tbody>\n",
       "</table>\n",
       "</div>"
      ],
      "text/plain": [
       "   Position  Tubes\n",
       "0     A / 1    110\n",
       "1    A / 10    110\n",
       "2    A / 11    100\n",
       "3    A / 12    100\n",
       "4     A / 2    110\n",
       "5     A / 3    110\n",
       "6     A / 4    110\n",
       "7     A / 5    110\n",
       "8     A / 6    110\n",
       "9     A / 7    110\n",
       "10    A / 8    110\n",
       "11    A / 9    110\n",
       "12    B / 1    110\n",
       "13   B / 10    110\n",
       "14   B / 11    100\n",
       "15   B / 12    100\n",
       "16    B / 2    110\n",
       "17    B / 3    110\n",
       "18    B / 4    110\n",
       "19    B / 5    110\n",
       "20    B / 6    110\n",
       "21    B / 7    110\n",
       "22    B / 8    110\n",
       "23    B / 9    110\n",
       "24    C / 1    110\n",
       "25   C / 10    110\n",
       "26   C / 11    100\n",
       "27   C / 12    100\n",
       "28    C / 2    110\n",
       "29    C / 3    110\n",
       "30    C / 4    110\n",
       "31    C / 5    110\n",
       "32    C / 6    110\n",
       "33    C / 7    110\n",
       "34    C / 8    110\n",
       "35    C / 9    110\n",
       "36    D / 1    110\n",
       "37   D / 10    110\n",
       "38   D / 11    100\n",
       "39   D / 12    100\n",
       "40    D / 2    110\n",
       "41    D / 3    110\n",
       "42    D / 4    110\n",
       "43    D / 5    110\n",
       "44    D / 6    110\n",
       "45    D / 7    110\n",
       "46    D / 8    110\n",
       "47    D / 9    110\n",
       "48    E / 1    100\n",
       "49   E / 10    100\n",
       "50   E / 11    100\n",
       "51   E / 12    100\n",
       "52    E / 2    100\n",
       "53    E / 3    100\n",
       "54    E / 4    100\n",
       "55    E / 5    100\n",
       "56    E / 6    100\n",
       "57    E / 7    100\n",
       "58    E / 8    100\n",
       "59    E / 9    100\n",
       "60    F / 1    100\n",
       "61   F / 10    100\n",
       "62   F / 11    100\n",
       "63   F / 12    100\n",
       "64    F / 2    100\n",
       "65    F / 3    100\n",
       "66    F / 4    100\n",
       "67    F / 5    100\n",
       "68    F / 6    100\n",
       "69    F / 7    100\n",
       "70    F / 8    100\n",
       "71    F / 9    100\n",
       "72    G / 1    100\n",
       "73   G / 10    100\n",
       "74   G / 11    100\n",
       "75   G / 12    100\n",
       "76    G / 2    100\n",
       "77    G / 3    100\n",
       "78    G / 4    100\n",
       "79    G / 5    100\n",
       "80    G / 6    100\n",
       "81    G / 7    100\n",
       "82    G / 8    100\n",
       "83    G / 9    100\n",
       "84    H / 1    100\n",
       "85   H / 10    100\n",
       "86   H / 11    100\n",
       "87   H / 12    100\n",
       "88    H / 2    100\n",
       "89    H / 3    100\n",
       "90    H / 4    100\n",
       "91    H / 5    100\n",
       "92    H / 6    100\n",
       "93    H / 7    100\n",
       "94    H / 8    100\n",
       "95    H / 9    100"
      ]
     },
     "metadata": {},
     "output_type": "display_data"
    },
    {
     "data": {
      "text/markdown": [
       "**10000** tubes for Position."
      ],
      "text/plain": [
       "<IPython.core.display.Markdown object>"
      ]
     },
     "metadata": {},
     "output_type": "display_data"
    },
    {
     "data": {
      "text/markdown": [
       "#### CreationDate field"
      ],
      "text/plain": [
       "<IPython.core.display.Markdown object>"
      ]
     },
     "metadata": {},
     "output_type": "display_data"
    },
    {
     "data": {
      "text/html": [
       "<div>\n",
       "<table border=\"1\" class=\"dataframe\">\n",
       "  <thead>\n",
       "    <tr style=\"text-align: right;\">\n",
       "      <th></th>\n",
       "      <th>CreationDate</th>\n",
       "      <th>Tubes</th>\n",
       "    </tr>\n",
       "  </thead>\n",
       "  <tbody>\n",
       "    <tr>\n",
       "      <th>0</th>\n",
       "      <td>05/09/2016</td>\n",
       "      <td>288</td>\n",
       "    </tr>\n",
       "    <tr>\n",
       "      <th>1</th>\n",
       "      <td>06/09/2016</td>\n",
       "      <td>287</td>\n",
       "    </tr>\n",
       "    <tr>\n",
       "      <th>2</th>\n",
       "      <td>07/09/2016</td>\n",
       "      <td>575</td>\n",
       "    </tr>\n",
       "    <tr>\n",
       "      <th>3</th>\n",
       "      <td>07/10/2016</td>\n",
       "      <td>410</td>\n",
       "    </tr>\n",
       "    <tr>\n",
       "      <th>4</th>\n",
       "      <td>08/09/2016</td>\n",
       "      <td>576</td>\n",
       "    </tr>\n",
       "    <tr>\n",
       "      <th>5</th>\n",
       "      <td>09/09/2016</td>\n",
       "      <td>575</td>\n",
       "    </tr>\n",
       "    <tr>\n",
       "      <th>6</th>\n",
       "      <td>20/09/2016</td>\n",
       "      <td>576</td>\n",
       "    </tr>\n",
       "    <tr>\n",
       "      <th>7</th>\n",
       "      <td>21/09/2016</td>\n",
       "      <td>863</td>\n",
       "    </tr>\n",
       "    <tr>\n",
       "      <th>8</th>\n",
       "      <td>22/09/2016</td>\n",
       "      <td>1151</td>\n",
       "    </tr>\n",
       "    <tr>\n",
       "      <th>9</th>\n",
       "      <td>23/09/2016</td>\n",
       "      <td>863</td>\n",
       "    </tr>\n",
       "    <tr>\n",
       "      <th>10</th>\n",
       "      <td>26/08/2016</td>\n",
       "      <td>575</td>\n",
       "    </tr>\n",
       "    <tr>\n",
       "      <th>11</th>\n",
       "      <td>26/09/2016</td>\n",
       "      <td>1150</td>\n",
       "    </tr>\n",
       "    <tr>\n",
       "      <th>12</th>\n",
       "      <td>28/09/2016</td>\n",
       "      <td>576</td>\n",
       "    </tr>\n",
       "    <tr>\n",
       "      <th>13</th>\n",
       "      <td>29/08/2016</td>\n",
       "      <td>575</td>\n",
       "    </tr>\n",
       "    <tr>\n",
       "      <th>14</th>\n",
       "      <td>29/09/2016</td>\n",
       "      <td>288</td>\n",
       "    </tr>\n",
       "    <tr>\n",
       "      <th>15</th>\n",
       "      <td>30/08/2016</td>\n",
       "      <td>288</td>\n",
       "    </tr>\n",
       "    <tr>\n",
       "      <th>16</th>\n",
       "      <td>31/08/2016</td>\n",
       "      <td>384</td>\n",
       "    </tr>\n",
       "  </tbody>\n",
       "</table>\n",
       "</div>"
      ],
      "text/plain": [
       "   CreationDate  Tubes\n",
       "0    05/09/2016    288\n",
       "1    06/09/2016    287\n",
       "2    07/09/2016    575\n",
       "3    07/10/2016    410\n",
       "4    08/09/2016    576\n",
       "5    09/09/2016    575\n",
       "6    20/09/2016    576\n",
       "7    21/09/2016    863\n",
       "8    22/09/2016   1151\n",
       "9    23/09/2016    863\n",
       "10   26/08/2016    575\n",
       "11   26/09/2016   1150\n",
       "12   28/09/2016    576\n",
       "13   29/08/2016    575\n",
       "14   29/09/2016    288\n",
       "15   30/08/2016    288\n",
       "16   31/08/2016    384"
      ]
     },
     "metadata": {},
     "output_type": "display_data"
    },
    {
     "data": {
      "text/markdown": [
       "**10000** tubes for CreationDate."
      ],
      "text/plain": [
       "<IPython.core.display.Markdown object>"
      ]
     },
     "metadata": {},
     "output_type": "display_data"
    },
    {
     "data": {
      "text/markdown": [
       "#### UpdateDate field"
      ],
      "text/plain": [
       "<IPython.core.display.Markdown object>"
      ]
     },
     "metadata": {},
     "output_type": "display_data"
    },
    {
     "data": {
      "text/html": [
       "<div>\n",
       "<table border=\"1\" class=\"dataframe\">\n",
       "  <thead>\n",
       "    <tr style=\"text-align: right;\">\n",
       "      <th></th>\n",
       "      <th>UpdateDate</th>\n",
       "      <th>Tubes</th>\n",
       "    </tr>\n",
       "  </thead>\n",
       "  <tbody>\n",
       "    <tr>\n",
       "      <th>0</th>\n",
       "      <td>05/09/2016</td>\n",
       "      <td>288</td>\n",
       "    </tr>\n",
       "    <tr>\n",
       "      <th>1</th>\n",
       "      <td>06/09/2016</td>\n",
       "      <td>287</td>\n",
       "    </tr>\n",
       "    <tr>\n",
       "      <th>2</th>\n",
       "      <td>07/09/2016</td>\n",
       "      <td>575</td>\n",
       "    </tr>\n",
       "    <tr>\n",
       "      <th>3</th>\n",
       "      <td>07/10/2016</td>\n",
       "      <td>410</td>\n",
       "    </tr>\n",
       "    <tr>\n",
       "      <th>4</th>\n",
       "      <td>08/09/2016</td>\n",
       "      <td>576</td>\n",
       "    </tr>\n",
       "    <tr>\n",
       "      <th>5</th>\n",
       "      <td>09/09/2016</td>\n",
       "      <td>575</td>\n",
       "    </tr>\n",
       "    <tr>\n",
       "      <th>6</th>\n",
       "      <td>20/09/2016</td>\n",
       "      <td>576</td>\n",
       "    </tr>\n",
       "    <tr>\n",
       "      <th>7</th>\n",
       "      <td>21/09/2016</td>\n",
       "      <td>863</td>\n",
       "    </tr>\n",
       "    <tr>\n",
       "      <th>8</th>\n",
       "      <td>22/09/2016</td>\n",
       "      <td>1151</td>\n",
       "    </tr>\n",
       "    <tr>\n",
       "      <th>9</th>\n",
       "      <td>23/09/2016</td>\n",
       "      <td>863</td>\n",
       "    </tr>\n",
       "    <tr>\n",
       "      <th>10</th>\n",
       "      <td>26/08/2016</td>\n",
       "      <td>575</td>\n",
       "    </tr>\n",
       "    <tr>\n",
       "      <th>11</th>\n",
       "      <td>26/09/2016</td>\n",
       "      <td>1150</td>\n",
       "    </tr>\n",
       "    <tr>\n",
       "      <th>12</th>\n",
       "      <td>28/09/2016</td>\n",
       "      <td>576</td>\n",
       "    </tr>\n",
       "    <tr>\n",
       "      <th>13</th>\n",
       "      <td>29/08/2016</td>\n",
       "      <td>575</td>\n",
       "    </tr>\n",
       "    <tr>\n",
       "      <th>14</th>\n",
       "      <td>29/09/2016</td>\n",
       "      <td>288</td>\n",
       "    </tr>\n",
       "    <tr>\n",
       "      <th>15</th>\n",
       "      <td>30/08/2016</td>\n",
       "      <td>288</td>\n",
       "    </tr>\n",
       "    <tr>\n",
       "      <th>16</th>\n",
       "      <td>31/08/2016</td>\n",
       "      <td>384</td>\n",
       "    </tr>\n",
       "  </tbody>\n",
       "</table>\n",
       "</div>"
      ],
      "text/plain": [
       "    UpdateDate  Tubes\n",
       "0   05/09/2016    288\n",
       "1   06/09/2016    287\n",
       "2   07/09/2016    575\n",
       "3   07/10/2016    410\n",
       "4   08/09/2016    576\n",
       "5   09/09/2016    575\n",
       "6   20/09/2016    576\n",
       "7   21/09/2016    863\n",
       "8   22/09/2016   1151\n",
       "9   23/09/2016    863\n",
       "10  26/08/2016    575\n",
       "11  26/09/2016   1150\n",
       "12  28/09/2016    576\n",
       "13  29/08/2016    575\n",
       "14  29/09/2016    288\n",
       "15  30/08/2016    288\n",
       "16  31/08/2016    384"
      ]
     },
     "metadata": {},
     "output_type": "display_data"
    },
    {
     "data": {
      "text/markdown": [
       "**10000** tubes for UpdateDate."
      ],
      "text/plain": [
       "<IPython.core.display.Markdown object>"
      ]
     },
     "metadata": {},
     "output_type": "display_data"
    },
    {
     "data": {
      "text/markdown": [
       "#### AliquotID field"
      ],
      "text/plain": [
       "<IPython.core.display.Markdown object>"
      ]
     },
     "metadata": {},
     "output_type": "display_data"
    },
    {
     "data": {
      "text/html": [
       "<div>\n",
       "<table border=\"1\" class=\"dataframe\">\n",
       "  <thead>\n",
       "    <tr style=\"text-align: right;\">\n",
       "      <th></th>\n",
       "      <th>AliquotID</th>\n",
       "      <th>Tubes</th>\n",
       "    </tr>\n",
       "  </thead>\n",
       "  <tbody>\n",
       "    <tr>\n",
       "      <th>0</th>\n",
       "      <td>1.0</td>\n",
       "      <td>10000</td>\n",
       "    </tr>\n",
       "  </tbody>\n",
       "</table>\n",
       "</div>"
      ],
      "text/plain": [
       "   AliquotID  Tubes\n",
       "0        1.0  10000"
      ]
     },
     "metadata": {},
     "output_type": "display_data"
    },
    {
     "data": {
      "text/markdown": [
       "**10000** tubes for AliquotID."
      ],
      "text/plain": [
       "<IPython.core.display.Markdown object>"
      ]
     },
     "metadata": {},
     "output_type": "display_data"
    },
    {
     "data": {
      "text/markdown": [
       "#### BoxType field"
      ],
      "text/plain": [
       "<IPython.core.display.Markdown object>"
      ]
     },
     "metadata": {},
     "output_type": "display_data"
    },
    {
     "data": {
      "text/html": [
       "<div>\n",
       "<table border=\"1\" class=\"dataframe\">\n",
       "  <thead>\n",
       "    <tr style=\"text-align: right;\">\n",
       "      <th></th>\n",
       "      <th>BoxType</th>\n",
       "      <th>Tubes</th>\n",
       "    </tr>\n",
       "  </thead>\n",
       "  <tbody>\n",
       "    <tr>\n",
       "      <th>0</th>\n",
       "      <td>96 (12 x 8) Well Plate</td>\n",
       "      <td>10000</td>\n",
       "    </tr>\n",
       "  </tbody>\n",
       "</table>\n",
       "</div>"
      ],
      "text/plain": [
       "                  BoxType  Tubes\n",
       "0  96 (12 x 8) Well Plate  10000"
      ]
     },
     "metadata": {},
     "output_type": "display_data"
    },
    {
     "data": {
      "text/markdown": [
       "**10000** tubes for BoxType."
      ],
      "text/plain": [
       "<IPython.core.display.Markdown object>"
      ]
     },
     "metadata": {},
     "output_type": "display_data"
    },
    {
     "data": {
      "text/markdown": [
       "#### VisitID field"
      ],
      "text/plain": [
       "<IPython.core.display.Markdown object>"
      ]
     },
     "metadata": {},
     "output_type": "display_data"
    },
    {
     "data": {
      "text/html": [
       "<div>\n",
       "<table border=\"1\" class=\"dataframe\">\n",
       "  <thead>\n",
       "    <tr style=\"text-align: right;\">\n",
       "      <th></th>\n",
       "      <th>VisitID</th>\n",
       "      <th>Tubes</th>\n",
       "    </tr>\n",
       "  </thead>\n",
       "  <tbody>\n",
       "    <tr>\n",
       "      <th>0</th>\n",
       "      <td>1.0</td>\n",
       "      <td>10000</td>\n",
       "    </tr>\n",
       "  </tbody>\n",
       "</table>\n",
       "</div>"
      ],
      "text/plain": [
       "   VisitID  Tubes\n",
       "0      1.0  10000"
      ]
     },
     "metadata": {},
     "output_type": "display_data"
    },
    {
     "data": {
      "text/markdown": [
       "**10000** tubes for VisitID."
      ],
      "text/plain": [
       "<IPython.core.display.Markdown object>"
      ]
     },
     "metadata": {},
     "output_type": "display_data"
    },
    {
     "data": {
      "text/markdown": [
       "#### ThawCycle field"
      ],
      "text/plain": [
       "<IPython.core.display.Markdown object>"
      ]
     },
     "metadata": {},
     "output_type": "display_data"
    },
    {
     "data": {
      "text/html": [
       "<div>\n",
       "<table border=\"1\" class=\"dataframe\">\n",
       "  <thead>\n",
       "    <tr style=\"text-align: right;\">\n",
       "      <th></th>\n",
       "      <th>ThawCycle</th>\n",
       "      <th>Tubes</th>\n",
       "    </tr>\n",
       "  </thead>\n",
       "  <tbody>\n",
       "    <tr>\n",
       "      <th>0</th>\n",
       "      <td>0.0</td>\n",
       "      <td>10000</td>\n",
       "    </tr>\n",
       "  </tbody>\n",
       "</table>\n",
       "</div>"
      ],
      "text/plain": [
       "   ThawCycle  Tubes\n",
       "0        0.0  10000"
      ]
     },
     "metadata": {},
     "output_type": "display_data"
    },
    {
     "data": {
      "text/markdown": [
       "**10000** tubes for ThawCycle."
      ],
      "text/plain": [
       "<IPython.core.display.Markdown object>"
      ]
     },
     "metadata": {},
     "output_type": "display_data"
    },
    {
     "data": {
      "text/markdown": [
       "#### Sample Source field"
      ],
      "text/plain": [
       "<IPython.core.display.Markdown object>"
      ]
     },
     "metadata": {},
     "output_type": "display_data"
    },
    {
     "data": {
      "text/markdown": [
       "* **0** empty Sample Source\n",
       "* **1000** unique Sample Source"
      ],
      "text/plain": [
       "<IPython.core.display.Markdown object>"
      ]
     },
     "metadata": {},
     "output_type": "display_data"
    },
    {
     "data": {
      "text/markdown": [
       "#### BatchID field"
      ],
      "text/plain": [
       "<IPython.core.display.Markdown object>"
      ]
     },
     "metadata": {},
     "output_type": "display_data"
    },
    {
     "data": {
      "text/html": [
       "<div>\n",
       "<table border=\"1\" class=\"dataframe\">\n",
       "  <thead>\n",
       "    <tr style=\"text-align: right;\">\n",
       "      <th></th>\n",
       "      <th>BatchID</th>\n",
       "      <th>Tubes</th>\n",
       "    </tr>\n",
       "  </thead>\n",
       "  <tbody>\n",
       "    <tr>\n",
       "      <th>0</th>\n",
       "      <td>A</td>\n",
       "      <td>6060</td>\n",
       "    </tr>\n",
       "    <tr>\n",
       "      <th>1</th>\n",
       "      <td>B</td>\n",
       "      <td>3940</td>\n",
       "    </tr>\n",
       "  </tbody>\n",
       "</table>\n",
       "</div>"
      ],
      "text/plain": [
       "  BatchID  Tubes\n",
       "0       A   6060\n",
       "1       B   3940"
      ]
     },
     "metadata": {},
     "output_type": "display_data"
    },
    {
     "data": {
      "text/markdown": [
       "**10000** tubes for ThawCycle."
      ],
      "text/plain": [
       "<IPython.core.display.Markdown object>"
      ]
     },
     "metadata": {},
     "output_type": "display_data"
    },
    {
     "data": {
      "text/markdown": [
       "#### Sample Type field"
      ],
      "text/plain": [
       "<IPython.core.display.Markdown object>"
      ]
     },
     "metadata": {},
     "output_type": "display_data"
    },
    {
     "data": {
      "text/html": [
       "<div>\n",
       "<table border=\"1\" class=\"dataframe\">\n",
       "  <thead>\n",
       "    <tr style=\"text-align: right;\">\n",
       "      <th></th>\n",
       "      <th>Sample Type</th>\n",
       "      <th>Tubes</th>\n",
       "    </tr>\n",
       "  </thead>\n",
       "  <tbody>\n",
       "    <tr>\n",
       "      <th>0</th>\n",
       "      <td>Fraction1</td>\n",
       "      <td>10000</td>\n",
       "    </tr>\n",
       "  </tbody>\n",
       "</table>\n",
       "</div>"
      ],
      "text/plain": [
       "  Sample Type  Tubes\n",
       "0   Fraction1  10000"
      ]
     },
     "metadata": {},
     "output_type": "display_data"
    },
    {
     "data": {
      "text/markdown": [
       "**10000** tubes for Sample Type."
      ],
      "text/plain": [
       "<IPython.core.display.Markdown object>"
      ]
     },
     "metadata": {},
     "output_type": "display_data"
    },
    {
     "data": {
      "text/markdown": [
       "### Look on Fraction 2"
      ],
      "text/plain": [
       "<IPython.core.display.Markdown object>"
      ]
     },
     "metadata": {},
     "output_type": "display_data"
    },
    {
     "data": {
      "text/markdown": [
       "#### ParentID field"
      ],
      "text/plain": [
       "<IPython.core.display.Markdown object>"
      ]
     },
     "metadata": {},
     "output_type": "display_data"
    },
    {
     "data": {
      "text/markdown": [
       "* **0** empty ParentID\n",
       "* 10000 unique ParentID"
      ],
      "text/plain": [
       "<IPython.core.display.Markdown object>"
      ]
     },
     "metadata": {},
     "output_type": "display_data"
    },
    {
     "data": {
      "text/markdown": [
       "#### Position field"
      ],
      "text/plain": [
       "<IPython.core.display.Markdown object>"
      ]
     },
     "metadata": {},
     "output_type": "display_data"
    },
    {
     "data": {
      "text/html": [
       "<div>\n",
       "<table border=\"1\" class=\"dataframe\">\n",
       "  <thead>\n",
       "    <tr style=\"text-align: right;\">\n",
       "      <th></th>\n",
       "      <th>Position</th>\n",
       "      <th>Tubes</th>\n",
       "    </tr>\n",
       "  </thead>\n",
       "  <tbody>\n",
       "    <tr>\n",
       "      <th>0</th>\n",
       "      <td>A / 1</td>\n",
       "      <td>110</td>\n",
       "    </tr>\n",
       "    <tr>\n",
       "      <th>1</th>\n",
       "      <td>A / 10</td>\n",
       "      <td>110</td>\n",
       "    </tr>\n",
       "    <tr>\n",
       "      <th>2</th>\n",
       "      <td>A / 11</td>\n",
       "      <td>100</td>\n",
       "    </tr>\n",
       "    <tr>\n",
       "      <th>3</th>\n",
       "      <td>A / 12</td>\n",
       "      <td>100</td>\n",
       "    </tr>\n",
       "    <tr>\n",
       "      <th>4</th>\n",
       "      <td>A / 2</td>\n",
       "      <td>110</td>\n",
       "    </tr>\n",
       "    <tr>\n",
       "      <th>5</th>\n",
       "      <td>A / 3</td>\n",
       "      <td>110</td>\n",
       "    </tr>\n",
       "    <tr>\n",
       "      <th>6</th>\n",
       "      <td>A / 4</td>\n",
       "      <td>110</td>\n",
       "    </tr>\n",
       "    <tr>\n",
       "      <th>7</th>\n",
       "      <td>A / 5</td>\n",
       "      <td>110</td>\n",
       "    </tr>\n",
       "    <tr>\n",
       "      <th>8</th>\n",
       "      <td>A / 6</td>\n",
       "      <td>110</td>\n",
       "    </tr>\n",
       "    <tr>\n",
       "      <th>9</th>\n",
       "      <td>A / 7</td>\n",
       "      <td>110</td>\n",
       "    </tr>\n",
       "    <tr>\n",
       "      <th>10</th>\n",
       "      <td>A / 8</td>\n",
       "      <td>110</td>\n",
       "    </tr>\n",
       "    <tr>\n",
       "      <th>11</th>\n",
       "      <td>A / 9</td>\n",
       "      <td>110</td>\n",
       "    </tr>\n",
       "    <tr>\n",
       "      <th>12</th>\n",
       "      <td>B / 1</td>\n",
       "      <td>110</td>\n",
       "    </tr>\n",
       "    <tr>\n",
       "      <th>13</th>\n",
       "      <td>B / 10</td>\n",
       "      <td>110</td>\n",
       "    </tr>\n",
       "    <tr>\n",
       "      <th>14</th>\n",
       "      <td>B / 11</td>\n",
       "      <td>100</td>\n",
       "    </tr>\n",
       "    <tr>\n",
       "      <th>15</th>\n",
       "      <td>B / 12</td>\n",
       "      <td>100</td>\n",
       "    </tr>\n",
       "    <tr>\n",
       "      <th>16</th>\n",
       "      <td>B / 2</td>\n",
       "      <td>110</td>\n",
       "    </tr>\n",
       "    <tr>\n",
       "      <th>17</th>\n",
       "      <td>B / 3</td>\n",
       "      <td>110</td>\n",
       "    </tr>\n",
       "    <tr>\n",
       "      <th>18</th>\n",
       "      <td>B / 4</td>\n",
       "      <td>110</td>\n",
       "    </tr>\n",
       "    <tr>\n",
       "      <th>19</th>\n",
       "      <td>B / 5</td>\n",
       "      <td>110</td>\n",
       "    </tr>\n",
       "    <tr>\n",
       "      <th>20</th>\n",
       "      <td>B / 6</td>\n",
       "      <td>110</td>\n",
       "    </tr>\n",
       "    <tr>\n",
       "      <th>21</th>\n",
       "      <td>B / 7</td>\n",
       "      <td>110</td>\n",
       "    </tr>\n",
       "    <tr>\n",
       "      <th>22</th>\n",
       "      <td>B / 8</td>\n",
       "      <td>110</td>\n",
       "    </tr>\n",
       "    <tr>\n",
       "      <th>23</th>\n",
       "      <td>B / 9</td>\n",
       "      <td>110</td>\n",
       "    </tr>\n",
       "    <tr>\n",
       "      <th>24</th>\n",
       "      <td>C / 1</td>\n",
       "      <td>110</td>\n",
       "    </tr>\n",
       "    <tr>\n",
       "      <th>25</th>\n",
       "      <td>C / 10</td>\n",
       "      <td>110</td>\n",
       "    </tr>\n",
       "    <tr>\n",
       "      <th>26</th>\n",
       "      <td>C / 11</td>\n",
       "      <td>100</td>\n",
       "    </tr>\n",
       "    <tr>\n",
       "      <th>27</th>\n",
       "      <td>C / 12</td>\n",
       "      <td>100</td>\n",
       "    </tr>\n",
       "    <tr>\n",
       "      <th>28</th>\n",
       "      <td>C / 2</td>\n",
       "      <td>110</td>\n",
       "    </tr>\n",
       "    <tr>\n",
       "      <th>29</th>\n",
       "      <td>C / 3</td>\n",
       "      <td>110</td>\n",
       "    </tr>\n",
       "    <tr>\n",
       "      <th>30</th>\n",
       "      <td>C / 4</td>\n",
       "      <td>110</td>\n",
       "    </tr>\n",
       "    <tr>\n",
       "      <th>31</th>\n",
       "      <td>C / 5</td>\n",
       "      <td>110</td>\n",
       "    </tr>\n",
       "    <tr>\n",
       "      <th>32</th>\n",
       "      <td>C / 6</td>\n",
       "      <td>110</td>\n",
       "    </tr>\n",
       "    <tr>\n",
       "      <th>33</th>\n",
       "      <td>C / 7</td>\n",
       "      <td>110</td>\n",
       "    </tr>\n",
       "    <tr>\n",
       "      <th>34</th>\n",
       "      <td>C / 8</td>\n",
       "      <td>110</td>\n",
       "    </tr>\n",
       "    <tr>\n",
       "      <th>35</th>\n",
       "      <td>C / 9</td>\n",
       "      <td>110</td>\n",
       "    </tr>\n",
       "    <tr>\n",
       "      <th>36</th>\n",
       "      <td>D / 1</td>\n",
       "      <td>110</td>\n",
       "    </tr>\n",
       "    <tr>\n",
       "      <th>37</th>\n",
       "      <td>D / 10</td>\n",
       "      <td>110</td>\n",
       "    </tr>\n",
       "    <tr>\n",
       "      <th>38</th>\n",
       "      <td>D / 11</td>\n",
       "      <td>100</td>\n",
       "    </tr>\n",
       "    <tr>\n",
       "      <th>39</th>\n",
       "      <td>D / 12</td>\n",
       "      <td>100</td>\n",
       "    </tr>\n",
       "    <tr>\n",
       "      <th>40</th>\n",
       "      <td>D / 2</td>\n",
       "      <td>110</td>\n",
       "    </tr>\n",
       "    <tr>\n",
       "      <th>41</th>\n",
       "      <td>D / 3</td>\n",
       "      <td>110</td>\n",
       "    </tr>\n",
       "    <tr>\n",
       "      <th>42</th>\n",
       "      <td>D / 4</td>\n",
       "      <td>110</td>\n",
       "    </tr>\n",
       "    <tr>\n",
       "      <th>43</th>\n",
       "      <td>D / 5</td>\n",
       "      <td>110</td>\n",
       "    </tr>\n",
       "    <tr>\n",
       "      <th>44</th>\n",
       "      <td>D / 6</td>\n",
       "      <td>110</td>\n",
       "    </tr>\n",
       "    <tr>\n",
       "      <th>45</th>\n",
       "      <td>D / 7</td>\n",
       "      <td>110</td>\n",
       "    </tr>\n",
       "    <tr>\n",
       "      <th>46</th>\n",
       "      <td>D / 8</td>\n",
       "      <td>110</td>\n",
       "    </tr>\n",
       "    <tr>\n",
       "      <th>47</th>\n",
       "      <td>D / 9</td>\n",
       "      <td>110</td>\n",
       "    </tr>\n",
       "    <tr>\n",
       "      <th>48</th>\n",
       "      <td>E / 1</td>\n",
       "      <td>100</td>\n",
       "    </tr>\n",
       "    <tr>\n",
       "      <th>49</th>\n",
       "      <td>E / 10</td>\n",
       "      <td>100</td>\n",
       "    </tr>\n",
       "    <tr>\n",
       "      <th>50</th>\n",
       "      <td>E / 11</td>\n",
       "      <td>100</td>\n",
       "    </tr>\n",
       "    <tr>\n",
       "      <th>51</th>\n",
       "      <td>E / 12</td>\n",
       "      <td>100</td>\n",
       "    </tr>\n",
       "    <tr>\n",
       "      <th>52</th>\n",
       "      <td>E / 2</td>\n",
       "      <td>100</td>\n",
       "    </tr>\n",
       "    <tr>\n",
       "      <th>53</th>\n",
       "      <td>E / 3</td>\n",
       "      <td>100</td>\n",
       "    </tr>\n",
       "    <tr>\n",
       "      <th>54</th>\n",
       "      <td>E / 4</td>\n",
       "      <td>100</td>\n",
       "    </tr>\n",
       "    <tr>\n",
       "      <th>55</th>\n",
       "      <td>E / 5</td>\n",
       "      <td>100</td>\n",
       "    </tr>\n",
       "    <tr>\n",
       "      <th>56</th>\n",
       "      <td>E / 6</td>\n",
       "      <td>100</td>\n",
       "    </tr>\n",
       "    <tr>\n",
       "      <th>57</th>\n",
       "      <td>E / 7</td>\n",
       "      <td>100</td>\n",
       "    </tr>\n",
       "    <tr>\n",
       "      <th>58</th>\n",
       "      <td>E / 8</td>\n",
       "      <td>100</td>\n",
       "    </tr>\n",
       "    <tr>\n",
       "      <th>59</th>\n",
       "      <td>E / 9</td>\n",
       "      <td>100</td>\n",
       "    </tr>\n",
       "    <tr>\n",
       "      <th>60</th>\n",
       "      <td>F / 1</td>\n",
       "      <td>100</td>\n",
       "    </tr>\n",
       "    <tr>\n",
       "      <th>61</th>\n",
       "      <td>F / 10</td>\n",
       "      <td>100</td>\n",
       "    </tr>\n",
       "    <tr>\n",
       "      <th>62</th>\n",
       "      <td>F / 11</td>\n",
       "      <td>100</td>\n",
       "    </tr>\n",
       "    <tr>\n",
       "      <th>63</th>\n",
       "      <td>F / 12</td>\n",
       "      <td>100</td>\n",
       "    </tr>\n",
       "    <tr>\n",
       "      <th>64</th>\n",
       "      <td>F / 2</td>\n",
       "      <td>100</td>\n",
       "    </tr>\n",
       "    <tr>\n",
       "      <th>65</th>\n",
       "      <td>F / 3</td>\n",
       "      <td>100</td>\n",
       "    </tr>\n",
       "    <tr>\n",
       "      <th>66</th>\n",
       "      <td>F / 4</td>\n",
       "      <td>100</td>\n",
       "    </tr>\n",
       "    <tr>\n",
       "      <th>67</th>\n",
       "      <td>F / 5</td>\n",
       "      <td>100</td>\n",
       "    </tr>\n",
       "    <tr>\n",
       "      <th>68</th>\n",
       "      <td>F / 6</td>\n",
       "      <td>100</td>\n",
       "    </tr>\n",
       "    <tr>\n",
       "      <th>69</th>\n",
       "      <td>F / 7</td>\n",
       "      <td>100</td>\n",
       "    </tr>\n",
       "    <tr>\n",
       "      <th>70</th>\n",
       "      <td>F / 8</td>\n",
       "      <td>100</td>\n",
       "    </tr>\n",
       "    <tr>\n",
       "      <th>71</th>\n",
       "      <td>F / 9</td>\n",
       "      <td>100</td>\n",
       "    </tr>\n",
       "    <tr>\n",
       "      <th>72</th>\n",
       "      <td>G / 1</td>\n",
       "      <td>100</td>\n",
       "    </tr>\n",
       "    <tr>\n",
       "      <th>73</th>\n",
       "      <td>G / 10</td>\n",
       "      <td>100</td>\n",
       "    </tr>\n",
       "    <tr>\n",
       "      <th>74</th>\n",
       "      <td>G / 11</td>\n",
       "      <td>100</td>\n",
       "    </tr>\n",
       "    <tr>\n",
       "      <th>75</th>\n",
       "      <td>G / 12</td>\n",
       "      <td>100</td>\n",
       "    </tr>\n",
       "    <tr>\n",
       "      <th>76</th>\n",
       "      <td>G / 2</td>\n",
       "      <td>100</td>\n",
       "    </tr>\n",
       "    <tr>\n",
       "      <th>77</th>\n",
       "      <td>G / 3</td>\n",
       "      <td>100</td>\n",
       "    </tr>\n",
       "    <tr>\n",
       "      <th>78</th>\n",
       "      <td>G / 4</td>\n",
       "      <td>100</td>\n",
       "    </tr>\n",
       "    <tr>\n",
       "      <th>79</th>\n",
       "      <td>G / 5</td>\n",
       "      <td>100</td>\n",
       "    </tr>\n",
       "    <tr>\n",
       "      <th>80</th>\n",
       "      <td>G / 6</td>\n",
       "      <td>100</td>\n",
       "    </tr>\n",
       "    <tr>\n",
       "      <th>81</th>\n",
       "      <td>G / 7</td>\n",
       "      <td>100</td>\n",
       "    </tr>\n",
       "    <tr>\n",
       "      <th>82</th>\n",
       "      <td>G / 8</td>\n",
       "      <td>100</td>\n",
       "    </tr>\n",
       "    <tr>\n",
       "      <th>83</th>\n",
       "      <td>G / 9</td>\n",
       "      <td>100</td>\n",
       "    </tr>\n",
       "    <tr>\n",
       "      <th>84</th>\n",
       "      <td>H / 1</td>\n",
       "      <td>100</td>\n",
       "    </tr>\n",
       "    <tr>\n",
       "      <th>85</th>\n",
       "      <td>H / 10</td>\n",
       "      <td>100</td>\n",
       "    </tr>\n",
       "    <tr>\n",
       "      <th>86</th>\n",
       "      <td>H / 11</td>\n",
       "      <td>100</td>\n",
       "    </tr>\n",
       "    <tr>\n",
       "      <th>87</th>\n",
       "      <td>H / 12</td>\n",
       "      <td>100</td>\n",
       "    </tr>\n",
       "    <tr>\n",
       "      <th>88</th>\n",
       "      <td>H / 2</td>\n",
       "      <td>100</td>\n",
       "    </tr>\n",
       "    <tr>\n",
       "      <th>89</th>\n",
       "      <td>H / 3</td>\n",
       "      <td>100</td>\n",
       "    </tr>\n",
       "    <tr>\n",
       "      <th>90</th>\n",
       "      <td>H / 4</td>\n",
       "      <td>100</td>\n",
       "    </tr>\n",
       "    <tr>\n",
       "      <th>91</th>\n",
       "      <td>H / 5</td>\n",
       "      <td>100</td>\n",
       "    </tr>\n",
       "    <tr>\n",
       "      <th>92</th>\n",
       "      <td>H / 6</td>\n",
       "      <td>100</td>\n",
       "    </tr>\n",
       "    <tr>\n",
       "      <th>93</th>\n",
       "      <td>H / 7</td>\n",
       "      <td>100</td>\n",
       "    </tr>\n",
       "    <tr>\n",
       "      <th>94</th>\n",
       "      <td>H / 8</td>\n",
       "      <td>100</td>\n",
       "    </tr>\n",
       "    <tr>\n",
       "      <th>95</th>\n",
       "      <td>H / 9</td>\n",
       "      <td>100</td>\n",
       "    </tr>\n",
       "  </tbody>\n",
       "</table>\n",
       "</div>"
      ],
      "text/plain": [
       "   Position  Tubes\n",
       "0     A / 1    110\n",
       "1    A / 10    110\n",
       "2    A / 11    100\n",
       "3    A / 12    100\n",
       "4     A / 2    110\n",
       "5     A / 3    110\n",
       "6     A / 4    110\n",
       "7     A / 5    110\n",
       "8     A / 6    110\n",
       "9     A / 7    110\n",
       "10    A / 8    110\n",
       "11    A / 9    110\n",
       "12    B / 1    110\n",
       "13   B / 10    110\n",
       "14   B / 11    100\n",
       "15   B / 12    100\n",
       "16    B / 2    110\n",
       "17    B / 3    110\n",
       "18    B / 4    110\n",
       "19    B / 5    110\n",
       "20    B / 6    110\n",
       "21    B / 7    110\n",
       "22    B / 8    110\n",
       "23    B / 9    110\n",
       "24    C / 1    110\n",
       "25   C / 10    110\n",
       "26   C / 11    100\n",
       "27   C / 12    100\n",
       "28    C / 2    110\n",
       "29    C / 3    110\n",
       "30    C / 4    110\n",
       "31    C / 5    110\n",
       "32    C / 6    110\n",
       "33    C / 7    110\n",
       "34    C / 8    110\n",
       "35    C / 9    110\n",
       "36    D / 1    110\n",
       "37   D / 10    110\n",
       "38   D / 11    100\n",
       "39   D / 12    100\n",
       "40    D / 2    110\n",
       "41    D / 3    110\n",
       "42    D / 4    110\n",
       "43    D / 5    110\n",
       "44    D / 6    110\n",
       "45    D / 7    110\n",
       "46    D / 8    110\n",
       "47    D / 9    110\n",
       "48    E / 1    100\n",
       "49   E / 10    100\n",
       "50   E / 11    100\n",
       "51   E / 12    100\n",
       "52    E / 2    100\n",
       "53    E / 3    100\n",
       "54    E / 4    100\n",
       "55    E / 5    100\n",
       "56    E / 6    100\n",
       "57    E / 7    100\n",
       "58    E / 8    100\n",
       "59    E / 9    100\n",
       "60    F / 1    100\n",
       "61   F / 10    100\n",
       "62   F / 11    100\n",
       "63   F / 12    100\n",
       "64    F / 2    100\n",
       "65    F / 3    100\n",
       "66    F / 4    100\n",
       "67    F / 5    100\n",
       "68    F / 6    100\n",
       "69    F / 7    100\n",
       "70    F / 8    100\n",
       "71    F / 9    100\n",
       "72    G / 1    100\n",
       "73   G / 10    100\n",
       "74   G / 11    100\n",
       "75   G / 12    100\n",
       "76    G / 2    100\n",
       "77    G / 3    100\n",
       "78    G / 4    100\n",
       "79    G / 5    100\n",
       "80    G / 6    100\n",
       "81    G / 7    100\n",
       "82    G / 8    100\n",
       "83    G / 9    100\n",
       "84    H / 1    100\n",
       "85   H / 10    100\n",
       "86   H / 11    100\n",
       "87   H / 12    100\n",
       "88    H / 2    100\n",
       "89    H / 3    100\n",
       "90    H / 4    100\n",
       "91    H / 5    100\n",
       "92    H / 6    100\n",
       "93    H / 7    100\n",
       "94    H / 8    100\n",
       "95    H / 9    100"
      ]
     },
     "metadata": {},
     "output_type": "display_data"
    },
    {
     "data": {
      "text/markdown": [
       "**10000** tubes for Position."
      ],
      "text/plain": [
       "<IPython.core.display.Markdown object>"
      ]
     },
     "metadata": {},
     "output_type": "display_data"
    },
    {
     "data": {
      "text/markdown": [
       "#### CreationDate field"
      ],
      "text/plain": [
       "<IPython.core.display.Markdown object>"
      ]
     },
     "metadata": {},
     "output_type": "display_data"
    },
    {
     "data": {
      "text/html": [
       "<div>\n",
       "<table border=\"1\" class=\"dataframe\">\n",
       "  <thead>\n",
       "    <tr style=\"text-align: right;\">\n",
       "      <th></th>\n",
       "      <th>CreationDate</th>\n",
       "      <th>Tubes</th>\n",
       "    </tr>\n",
       "  </thead>\n",
       "  <tbody>\n",
       "    <tr>\n",
       "      <th>0</th>\n",
       "      <td>05/09/2016</td>\n",
       "      <td>288</td>\n",
       "    </tr>\n",
       "    <tr>\n",
       "      <th>1</th>\n",
       "      <td>06/09/2016</td>\n",
       "      <td>287</td>\n",
       "    </tr>\n",
       "    <tr>\n",
       "      <th>2</th>\n",
       "      <td>07/09/2016</td>\n",
       "      <td>575</td>\n",
       "    </tr>\n",
       "    <tr>\n",
       "      <th>3</th>\n",
       "      <td>07/10/2016</td>\n",
       "      <td>410</td>\n",
       "    </tr>\n",
       "    <tr>\n",
       "      <th>4</th>\n",
       "      <td>08/09/2016</td>\n",
       "      <td>576</td>\n",
       "    </tr>\n",
       "    <tr>\n",
       "      <th>5</th>\n",
       "      <td>09/09/2016</td>\n",
       "      <td>575</td>\n",
       "    </tr>\n",
       "    <tr>\n",
       "      <th>6</th>\n",
       "      <td>20/09/2016</td>\n",
       "      <td>576</td>\n",
       "    </tr>\n",
       "    <tr>\n",
       "      <th>7</th>\n",
       "      <td>21/09/2016</td>\n",
       "      <td>863</td>\n",
       "    </tr>\n",
       "    <tr>\n",
       "      <th>8</th>\n",
       "      <td>22/09/2016</td>\n",
       "      <td>1151</td>\n",
       "    </tr>\n",
       "    <tr>\n",
       "      <th>9</th>\n",
       "      <td>23/09/2016</td>\n",
       "      <td>863</td>\n",
       "    </tr>\n",
       "    <tr>\n",
       "      <th>10</th>\n",
       "      <td>26/08/2016</td>\n",
       "      <td>575</td>\n",
       "    </tr>\n",
       "    <tr>\n",
       "      <th>11</th>\n",
       "      <td>26/09/2016</td>\n",
       "      <td>1150</td>\n",
       "    </tr>\n",
       "    <tr>\n",
       "      <th>12</th>\n",
       "      <td>28/09/2016</td>\n",
       "      <td>576</td>\n",
       "    </tr>\n",
       "    <tr>\n",
       "      <th>13</th>\n",
       "      <td>29/08/2016</td>\n",
       "      <td>575</td>\n",
       "    </tr>\n",
       "    <tr>\n",
       "      <th>14</th>\n",
       "      <td>29/09/2016</td>\n",
       "      <td>288</td>\n",
       "    </tr>\n",
       "    <tr>\n",
       "      <th>15</th>\n",
       "      <td>30/08/2016</td>\n",
       "      <td>288</td>\n",
       "    </tr>\n",
       "    <tr>\n",
       "      <th>16</th>\n",
       "      <td>31/08/2016</td>\n",
       "      <td>384</td>\n",
       "    </tr>\n",
       "  </tbody>\n",
       "</table>\n",
       "</div>"
      ],
      "text/plain": [
       "   CreationDate  Tubes\n",
       "0    05/09/2016    288\n",
       "1    06/09/2016    287\n",
       "2    07/09/2016    575\n",
       "3    07/10/2016    410\n",
       "4    08/09/2016    576\n",
       "5    09/09/2016    575\n",
       "6    20/09/2016    576\n",
       "7    21/09/2016    863\n",
       "8    22/09/2016   1151\n",
       "9    23/09/2016    863\n",
       "10   26/08/2016    575\n",
       "11   26/09/2016   1150\n",
       "12   28/09/2016    576\n",
       "13   29/08/2016    575\n",
       "14   29/09/2016    288\n",
       "15   30/08/2016    288\n",
       "16   31/08/2016    384"
      ]
     },
     "metadata": {},
     "output_type": "display_data"
    },
    {
     "data": {
      "text/markdown": [
       "**10000** tubes for CreationDate."
      ],
      "text/plain": [
       "<IPython.core.display.Markdown object>"
      ]
     },
     "metadata": {},
     "output_type": "display_data"
    },
    {
     "data": {
      "text/markdown": [
       "#### UpdateDate field"
      ],
      "text/plain": [
       "<IPython.core.display.Markdown object>"
      ]
     },
     "metadata": {},
     "output_type": "display_data"
    },
    {
     "data": {
      "text/html": [
       "<div>\n",
       "<table border=\"1\" class=\"dataframe\">\n",
       "  <thead>\n",
       "    <tr style=\"text-align: right;\">\n",
       "      <th></th>\n",
       "      <th>UpdateDate</th>\n",
       "      <th>Tubes</th>\n",
       "    </tr>\n",
       "  </thead>\n",
       "  <tbody>\n",
       "    <tr>\n",
       "      <th>0</th>\n",
       "      <td>05/09/2016</td>\n",
       "      <td>288</td>\n",
       "    </tr>\n",
       "    <tr>\n",
       "      <th>1</th>\n",
       "      <td>06/09/2016</td>\n",
       "      <td>287</td>\n",
       "    </tr>\n",
       "    <tr>\n",
       "      <th>2</th>\n",
       "      <td>07/09/2016</td>\n",
       "      <td>575</td>\n",
       "    </tr>\n",
       "    <tr>\n",
       "      <th>3</th>\n",
       "      <td>07/10/2016</td>\n",
       "      <td>410</td>\n",
       "    </tr>\n",
       "    <tr>\n",
       "      <th>4</th>\n",
       "      <td>08/09/2016</td>\n",
       "      <td>576</td>\n",
       "    </tr>\n",
       "    <tr>\n",
       "      <th>5</th>\n",
       "      <td>09/09/2016</td>\n",
       "      <td>575</td>\n",
       "    </tr>\n",
       "    <tr>\n",
       "      <th>6</th>\n",
       "      <td>20/09/2016</td>\n",
       "      <td>576</td>\n",
       "    </tr>\n",
       "    <tr>\n",
       "      <th>7</th>\n",
       "      <td>21/09/2016</td>\n",
       "      <td>863</td>\n",
       "    </tr>\n",
       "    <tr>\n",
       "      <th>8</th>\n",
       "      <td>22/09/2016</td>\n",
       "      <td>1151</td>\n",
       "    </tr>\n",
       "    <tr>\n",
       "      <th>9</th>\n",
       "      <td>23/09/2016</td>\n",
       "      <td>863</td>\n",
       "    </tr>\n",
       "    <tr>\n",
       "      <th>10</th>\n",
       "      <td>26/08/2016</td>\n",
       "      <td>575</td>\n",
       "    </tr>\n",
       "    <tr>\n",
       "      <th>11</th>\n",
       "      <td>26/09/2016</td>\n",
       "      <td>1150</td>\n",
       "    </tr>\n",
       "    <tr>\n",
       "      <th>12</th>\n",
       "      <td>28/09/2016</td>\n",
       "      <td>576</td>\n",
       "    </tr>\n",
       "    <tr>\n",
       "      <th>13</th>\n",
       "      <td>29/08/2016</td>\n",
       "      <td>575</td>\n",
       "    </tr>\n",
       "    <tr>\n",
       "      <th>14</th>\n",
       "      <td>29/09/2016</td>\n",
       "      <td>288</td>\n",
       "    </tr>\n",
       "    <tr>\n",
       "      <th>15</th>\n",
       "      <td>30/08/2016</td>\n",
       "      <td>288</td>\n",
       "    </tr>\n",
       "    <tr>\n",
       "      <th>16</th>\n",
       "      <td>31/08/2016</td>\n",
       "      <td>384</td>\n",
       "    </tr>\n",
       "  </tbody>\n",
       "</table>\n",
       "</div>"
      ],
      "text/plain": [
       "    UpdateDate  Tubes\n",
       "0   05/09/2016    288\n",
       "1   06/09/2016    287\n",
       "2   07/09/2016    575\n",
       "3   07/10/2016    410\n",
       "4   08/09/2016    576\n",
       "5   09/09/2016    575\n",
       "6   20/09/2016    576\n",
       "7   21/09/2016    863\n",
       "8   22/09/2016   1151\n",
       "9   23/09/2016    863\n",
       "10  26/08/2016    575\n",
       "11  26/09/2016   1150\n",
       "12  28/09/2016    576\n",
       "13  29/08/2016    575\n",
       "14  29/09/2016    288\n",
       "15  30/08/2016    288\n",
       "16  31/08/2016    384"
      ]
     },
     "metadata": {},
     "output_type": "display_data"
    },
    {
     "data": {
      "text/markdown": [
       "**10000** tubes for UpdateDate."
      ],
      "text/plain": [
       "<IPython.core.display.Markdown object>"
      ]
     },
     "metadata": {},
     "output_type": "display_data"
    },
    {
     "data": {
      "text/markdown": [
       "#### AliquotID field"
      ],
      "text/plain": [
       "<IPython.core.display.Markdown object>"
      ]
     },
     "metadata": {},
     "output_type": "display_data"
    },
    {
     "data": {
      "text/html": [
       "<div>\n",
       "<table border=\"1\" class=\"dataframe\">\n",
       "  <thead>\n",
       "    <tr style=\"text-align: right;\">\n",
       "      <th></th>\n",
       "      <th>AliquotID</th>\n",
       "      <th>Tubes</th>\n",
       "    </tr>\n",
       "  </thead>\n",
       "  <tbody>\n",
       "    <tr>\n",
       "      <th>0</th>\n",
       "      <td>1.0</td>\n",
       "      <td>10000</td>\n",
       "    </tr>\n",
       "  </tbody>\n",
       "</table>\n",
       "</div>"
      ],
      "text/plain": [
       "   AliquotID  Tubes\n",
       "0        1.0  10000"
      ]
     },
     "metadata": {},
     "output_type": "display_data"
    },
    {
     "data": {
      "text/markdown": [
       "**10000** tubes for AliquotID."
      ],
      "text/plain": [
       "<IPython.core.display.Markdown object>"
      ]
     },
     "metadata": {},
     "output_type": "display_data"
    },
    {
     "data": {
      "text/markdown": [
       "#### BoxType field"
      ],
      "text/plain": [
       "<IPython.core.display.Markdown object>"
      ]
     },
     "metadata": {},
     "output_type": "display_data"
    },
    {
     "data": {
      "text/html": [
       "<div>\n",
       "<table border=\"1\" class=\"dataframe\">\n",
       "  <thead>\n",
       "    <tr style=\"text-align: right;\">\n",
       "      <th></th>\n",
       "      <th>BoxType</th>\n",
       "      <th>Tubes</th>\n",
       "    </tr>\n",
       "  </thead>\n",
       "  <tbody>\n",
       "    <tr>\n",
       "      <th>0</th>\n",
       "      <td>96 (12 x 8) Well Plate</td>\n",
       "      <td>10000</td>\n",
       "    </tr>\n",
       "  </tbody>\n",
       "</table>\n",
       "</div>"
      ],
      "text/plain": [
       "                  BoxType  Tubes\n",
       "0  96 (12 x 8) Well Plate  10000"
      ]
     },
     "metadata": {},
     "output_type": "display_data"
    },
    {
     "data": {
      "text/markdown": [
       "**10000** tubes for BoxType."
      ],
      "text/plain": [
       "<IPython.core.display.Markdown object>"
      ]
     },
     "metadata": {},
     "output_type": "display_data"
    },
    {
     "data": {
      "text/markdown": [
       "#### VisitID field"
      ],
      "text/plain": [
       "<IPython.core.display.Markdown object>"
      ]
     },
     "metadata": {},
     "output_type": "display_data"
    },
    {
     "data": {
      "text/html": [
       "<div>\n",
       "<table border=\"1\" class=\"dataframe\">\n",
       "  <thead>\n",
       "    <tr style=\"text-align: right;\">\n",
       "      <th></th>\n",
       "      <th>VisitID</th>\n",
       "      <th>Tubes</th>\n",
       "    </tr>\n",
       "  </thead>\n",
       "  <tbody>\n",
       "    <tr>\n",
       "      <th>0</th>\n",
       "      <td>1.0</td>\n",
       "      <td>10000</td>\n",
       "    </tr>\n",
       "  </tbody>\n",
       "</table>\n",
       "</div>"
      ],
      "text/plain": [
       "   VisitID  Tubes\n",
       "0      1.0  10000"
      ]
     },
     "metadata": {},
     "output_type": "display_data"
    },
    {
     "data": {
      "text/markdown": [
       "**10000** tubes for VisitID."
      ],
      "text/plain": [
       "<IPython.core.display.Markdown object>"
      ]
     },
     "metadata": {},
     "output_type": "display_data"
    },
    {
     "data": {
      "text/markdown": [
       "#### ThawCycle field"
      ],
      "text/plain": [
       "<IPython.core.display.Markdown object>"
      ]
     },
     "metadata": {},
     "output_type": "display_data"
    },
    {
     "data": {
      "text/html": [
       "<div>\n",
       "<table border=\"1\" class=\"dataframe\">\n",
       "  <thead>\n",
       "    <tr style=\"text-align: right;\">\n",
       "      <th></th>\n",
       "      <th>ThawCycle</th>\n",
       "      <th>Tubes</th>\n",
       "    </tr>\n",
       "  </thead>\n",
       "  <tbody>\n",
       "    <tr>\n",
       "      <th>0</th>\n",
       "      <td>0.0</td>\n",
       "      <td>10000</td>\n",
       "    </tr>\n",
       "  </tbody>\n",
       "</table>\n",
       "</div>"
      ],
      "text/plain": [
       "   ThawCycle  Tubes\n",
       "0        0.0  10000"
      ]
     },
     "metadata": {},
     "output_type": "display_data"
    },
    {
     "data": {
      "text/markdown": [
       "**10000** tubes for ThawCycle."
      ],
      "text/plain": [
       "<IPython.core.display.Markdown object>"
      ]
     },
     "metadata": {},
     "output_type": "display_data"
    },
    {
     "data": {
      "text/markdown": [
       "#### Sample Source field"
      ],
      "text/plain": [
       "<IPython.core.display.Markdown object>"
      ]
     },
     "metadata": {},
     "output_type": "display_data"
    },
    {
     "data": {
      "text/markdown": [
       "* **0** empty Sample Source\n",
       "* **1000** unique Sample Source"
      ],
      "text/plain": [
       "<IPython.core.display.Markdown object>"
      ]
     },
     "metadata": {},
     "output_type": "display_data"
    },
    {
     "data": {
      "text/markdown": [
       "#### BatchID field"
      ],
      "text/plain": [
       "<IPython.core.display.Markdown object>"
      ]
     },
     "metadata": {},
     "output_type": "display_data"
    },
    {
     "data": {
      "text/html": [
       "<div>\n",
       "<table border=\"1\" class=\"dataframe\">\n",
       "  <thead>\n",
       "    <tr style=\"text-align: right;\">\n",
       "      <th></th>\n",
       "      <th>BatchID</th>\n",
       "      <th>Tubes</th>\n",
       "    </tr>\n",
       "  </thead>\n",
       "  <tbody>\n",
       "    <tr>\n",
       "      <th>0</th>\n",
       "      <td>A</td>\n",
       "      <td>6060</td>\n",
       "    </tr>\n",
       "    <tr>\n",
       "      <th>1</th>\n",
       "      <td>B</td>\n",
       "      <td>3940</td>\n",
       "    </tr>\n",
       "  </tbody>\n",
       "</table>\n",
       "</div>"
      ],
      "text/plain": [
       "  BatchID  Tubes\n",
       "0       A   6060\n",
       "1       B   3940"
      ]
     },
     "metadata": {},
     "output_type": "display_data"
    },
    {
     "data": {
      "text/markdown": [
       "**10000** tubes for ThawCycle."
      ],
      "text/plain": [
       "<IPython.core.display.Markdown object>"
      ]
     },
     "metadata": {},
     "output_type": "display_data"
    },
    {
     "data": {
      "text/markdown": [
       "#### Sample Type field"
      ],
      "text/plain": [
       "<IPython.core.display.Markdown object>"
      ]
     },
     "metadata": {},
     "output_type": "display_data"
    },
    {
     "data": {
      "text/html": [
       "<div>\n",
       "<table border=\"1\" class=\"dataframe\">\n",
       "  <thead>\n",
       "    <tr style=\"text-align: right;\">\n",
       "      <th></th>\n",
       "      <th>Sample Type</th>\n",
       "      <th>Tubes</th>\n",
       "    </tr>\n",
       "  </thead>\n",
       "  <tbody>\n",
       "    <tr>\n",
       "      <th>0</th>\n",
       "      <td>Fraction2</td>\n",
       "      <td>10000</td>\n",
       "    </tr>\n",
       "  </tbody>\n",
       "</table>\n",
       "</div>"
      ],
      "text/plain": [
       "  Sample Type  Tubes\n",
       "0   Fraction2  10000"
      ]
     },
     "metadata": {},
     "output_type": "display_data"
    },
    {
     "data": {
      "text/markdown": [
       "**10000** tubes for Sample Type."
      ],
      "text/plain": [
       "<IPython.core.display.Markdown object>"
      ]
     },
     "metadata": {},
     "output_type": "display_data"
    }
   ],
   "source": [
    "display(Markdown(\"### Look on Fraction 1\"))\n",
    "\n",
    "display(Markdown(\"#### ParentID field\"))\n",
    "display(Markdown(\"* **%d** empty ParentID\\n* **%d** unique ParentID\" % \\\n",
    "                 (len(df_frac1[df_frac1[\"ParentID\"].isnull()]), len(df_frac1[\"ParentID\"].unique()))))\n",
    "\n",
    "display(Markdown(\"#### Position field\"))\n",
    "tubesperposition1 = pd.DataFrame(df_frac1.groupby(\"Position\")[\"Position\"].count())\n",
    "tubesperposition1.loc[:, \"Tubes\"] = tubesperposition1[\"Position\"]\n",
    "tubesperposition1.loc[:, \"Position\"] = tubesperposition1.index\n",
    "tubesperposition1.reset_index(drop=True, inplace=True)\n",
    "display(tubesperposition1)\n",
    "display(Markdown(\"**%d** tubes for Position.\" % tubesperposition1[\"Tubes\"].sum()))\n",
    "\n",
    "display(Markdown(\"#### CreationDate field\"))\n",
    "tubespercreation1 = pd.DataFrame(df_frac1.groupby(\"CreationDate\")[\"CreationDate\"].count())\n",
    "tubespercreation1.loc[:, \"Tubes\"] = tubespercreation1[\"CreationDate\"]\n",
    "tubespercreation1.loc[:, \"CreationDate\"] = tubespercreation1.index\n",
    "tubespercreation1.reset_index(drop=True, inplace=True)\n",
    "display(tubespercreation1)\n",
    "display(Markdown(\"**%d** tubes for CreationDate.\" % tubespercreation1[\"Tubes\"].sum()))\n",
    "\n",
    "display(Markdown(\"#### UpdateDate field\"))\n",
    "tubesperupdate1 = pd.DataFrame(df_frac1.groupby(\"UpdateDate\")[\"UpdateDate\"].count())\n",
    "tubesperupdate1.loc[:, \"Tubes\"] = tubesperupdate1[\"UpdateDate\"]\n",
    "tubesperupdate1.loc[:, \"UpdateDate\"] = tubesperupdate1.index\n",
    "tubesperupdate1.reset_index(drop=True, inplace=True)\n",
    "display(tubesperupdate1)\n",
    "display(Markdown(\"**%d** tubes for UpdateDate.\" % tubesperupdate1[\"Tubes\"].sum()))\n",
    "\n",
    "display(Markdown(\"#### AliquotID field\"))\n",
    "tubesperaliquotid1 = pd.DataFrame(df_frac1.groupby(\"AliquotID\")[\"AliquotID\"].count())\n",
    "tubesperaliquotid1.loc[:, \"Tubes\"] = tubesperaliquotid1[\"AliquotID\"]\n",
    "tubesperaliquotid1.loc[:, \"AliquotID\"] = tubesperaliquotid1.index\n",
    "tubesperaliquotid1.reset_index(drop=True, inplace=True)\n",
    "display(tubesperaliquotid1)\n",
    "display(Markdown(\"**%d** tubes for AliquotID.\" % tubesperaliquotid1[\"Tubes\"].sum()))\n",
    "\n",
    "display(Markdown(\"#### BoxType field\"))\n",
    "tubesperboxtype1 = pd.DataFrame(df_frac1.groupby(\"BoxType\")[\"BoxType\"].count())\n",
    "tubesperboxtype1.loc[:, \"Tubes\"] = tubesperboxtype1[\"BoxType\"]\n",
    "tubesperboxtype1.loc[:, \"BoxType\"] = tubesperboxtype1.index\n",
    "tubesperboxtype1.reset_index(drop=True, inplace=True)\n",
    "display(tubesperboxtype1)\n",
    "display(Markdown(\"**%d** tubes for BoxType.\" % tubesperboxtype1[\"Tubes\"].sum()))\n",
    "\n",
    "display(Markdown(\"#### VisitID field\"))\n",
    "tubespervisitid1 = pd.DataFrame(df_frac1.groupby(\"VisitID\")[\"VisitID\"].count())\n",
    "tubespervisitid1.loc[:, \"Tubes\"] = tubespervisitid1[\"VisitID\"]\n",
    "tubespervisitid1.loc[:, \"VisitID\"] = tubespervisitid1.index\n",
    "tubespervisitid1.reset_index(drop=True, inplace=True)\n",
    "display(tubespervisitid1)\n",
    "display(Markdown(\"**%d** tubes for VisitID.\" % tubespervisitid1[\"Tubes\"].sum()))\n",
    "\n",
    "display(Markdown(\"#### ThawCycle field\"))\n",
    "tubesperthawcycle1 = pd.DataFrame(df_frac1.groupby(\"ThawCycle\")[\"ThawCycle\"].count())\n",
    "tubesperthawcycle1.loc[:, \"Tubes\"] = tubesperthawcycle1[\"ThawCycle\"]\n",
    "tubesperthawcycle1.loc[:, \"ThawCycle\"] = tubesperthawcycle1.index\n",
    "tubesperthawcycle1.reset_index(drop=True, inplace=True)\n",
    "display(tubesperthawcycle1)\n",
    "display(Markdown(\"**%d** tubes for ThawCycle.\" % tubesperthawcycle1[\"Tubes\"].sum()))\n",
    "\n",
    "display(Markdown(\"#### Sample Source field\"))\n",
    "display(Markdown(\"* **%d** empty Sample Source\\n* **%d** unique Sample Source\" % \\\n",
    "                 (len(df_frac1[df_frac1[\"Sample Source\"].isnull()]), len(df_frac1[\"Sample Source\"].unique()))))\n",
    "\n",
    "display(Markdown(\"#### BatchID field\"))\n",
    "tubesperbatchid1 = pd.DataFrame(df_frac1.groupby(\"BatchID\")[\"BatchID\"].count())\n",
    "tubesperbatchid1.loc[:, \"Tubes\"] = tubesperbatchid1[\"BatchID\"]\n",
    "tubesperbatchid1.loc[:, \"BatchID\"] = tubesperbatchid1.index\n",
    "tubesperbatchid1.reset_index(drop=True, inplace=True)\n",
    "display(tubesperbatchid1)\n",
    "display(Markdown(\"**%d** tubes for ThawCycle.\" % tubesperbatchid1[\"Tubes\"].sum()))\n",
    "\n",
    "display(Markdown(\"#### Sample Type field\"))\n",
    "tubespersampletype1 = pd.DataFrame(df_frac1.groupby(\"Sample Type\")[\"Sample Type\"].count())\n",
    "tubespersampletype1.loc[:, \"Tubes\"] = tubespersampletype1[\"Sample Type\"]\n",
    "tubespersampletype1.loc[:, \"Sample Type\"] = tubespersampletype1.index\n",
    "tubespersampletype1.reset_index(drop=True, inplace=True)\n",
    "display(tubespersampletype1)\n",
    "display(Markdown(\"**%d** tubes for Sample Type.\" % tubespersampletype1[\"Tubes\"].sum()))\n",
    "\n",
    "display(Markdown(\"### Look on Fraction 2\"))\n",
    "\n",
    "display(Markdown(\"#### ParentID field\"))\n",
    "display(Markdown(\"* **%d** empty ParentID\\n* %d unique ParentID\" % \\\n",
    "                 (len(df_frac2[df_frac2[\"ParentID\"].isnull()]), len(df_frac2[\"ParentID\"].unique()))))\n",
    "\n",
    "display(Markdown(\"#### Position field\"))\n",
    "tubesperposition2 = pd.DataFrame(df_frac2.groupby(\"Position\")[\"Position\"].count())\n",
    "tubesperposition2.loc[:, \"Tubes\"] = tubesperposition2[\"Position\"]\n",
    "tubesperposition2.loc[:, \"Position\"] = tubesperposition2.index\n",
    "tubesperposition2.reset_index(drop=True, inplace=True)\n",
    "display(tubesperposition2)\n",
    "display(Markdown(\"**%d** tubes for Position.\" % tubesperposition2[\"Tubes\"].sum()))\n",
    "\n",
    "display(Markdown(\"#### CreationDate field\"))\n",
    "tubespercreation2 = pd.DataFrame(df_frac2.groupby(\"CreationDate\")[\"CreationDate\"].count())\n",
    "tubespercreation2.loc[:, \"Tubes\"] = tubespercreation2[\"CreationDate\"]\n",
    "tubespercreation2.loc[:, \"CreationDate\"] = tubespercreation2.index\n",
    "tubespercreation2.reset_index(drop=True, inplace=True)\n",
    "display(tubespercreation2)\n",
    "display(Markdown(\"**%d** tubes for CreationDate.\" % tubespercreation2[\"Tubes\"].sum()))\n",
    "\n",
    "display(Markdown(\"#### UpdateDate field\"))\n",
    "tubesperupdate2 = pd.DataFrame(df_frac2.groupby(\"UpdateDate\")[\"UpdateDate\"].count())\n",
    "tubesperupdate2.loc[:, \"Tubes\"] = tubesperupdate2[\"UpdateDate\"]\n",
    "tubesperupdate2.loc[:, \"UpdateDate\"] = tubesperupdate2.index\n",
    "tubesperupdate2.reset_index(drop=True, inplace=True)\n",
    "display(tubesperupdate2)\n",
    "display(Markdown(\"**%d** tubes for UpdateDate.\" % tubesperupdate2[\"Tubes\"].sum()))\n",
    "\n",
    "display(Markdown(\"#### AliquotID field\"))\n",
    "tubesperaliquotid2 = pd.DataFrame(df_frac2.groupby(\"AliquotID\")[\"AliquotID\"].count())\n",
    "tubesperaliquotid2.loc[:, \"Tubes\"] = tubesperaliquotid2[\"AliquotID\"]\n",
    "tubesperaliquotid2.loc[:, \"AliquotID\"] = tubesperaliquotid2.index\n",
    "tubesperaliquotid2.reset_index(drop=True, inplace=True)\n",
    "display(tubesperaliquotid2)\n",
    "display(Markdown(\"**%d** tubes for AliquotID.\" % tubesperaliquotid2[\"Tubes\"].sum()))\n",
    "\n",
    "display(Markdown(\"#### BoxType field\"))\n",
    "tubesperboxtype2 = pd.DataFrame(df_frac2.groupby(\"BoxType\")[\"BoxType\"].count())\n",
    "tubesperboxtype2.loc[:, \"Tubes\"] = tubesperboxtype2[\"BoxType\"]\n",
    "tubesperboxtype2.loc[:, \"BoxType\"] = tubesperboxtype2.index\n",
    "tubesperboxtype2.reset_index(drop=True, inplace=True)\n",
    "display(tubesperboxtype2)\n",
    "display(Markdown(\"**%d** tubes for BoxType.\" % tubesperboxtype2[\"Tubes\"].sum()))\n",
    "\n",
    "display(Markdown(\"#### VisitID field\"))\n",
    "tubespervisitid2 = pd.DataFrame(df_frac2.groupby(\"VisitID\")[\"VisitID\"].count())\n",
    "tubespervisitid2.loc[:, \"Tubes\"] = tubespervisitid2[\"VisitID\"]\n",
    "tubespervisitid2.loc[:, \"VisitID\"] = tubespervisitid2.index\n",
    "tubespervisitid2.reset_index(drop=True, inplace=True)\n",
    "display(tubespervisitid2)\n",
    "display(Markdown(\"**%d** tubes for VisitID.\" % tubespervisitid2[\"Tubes\"].sum()))\n",
    "\n",
    "display(Markdown(\"#### ThawCycle field\"))\n",
    "tubesperthawcycle2 = pd.DataFrame(df_frac2.groupby(\"ThawCycle\")[\"ThawCycle\"].count())\n",
    "tubesperthawcycle2.loc[:, \"Tubes\"] = tubesperthawcycle2[\"ThawCycle\"]\n",
    "tubesperthawcycle2.loc[:, \"ThawCycle\"] = tubesperthawcycle2.index\n",
    "tubesperthawcycle2.reset_index(drop=True, inplace=True)\n",
    "display(tubesperthawcycle2)\n",
    "display(Markdown(\"**%d** tubes for ThawCycle.\" % tubesperthawcycle2[\"Tubes\"].sum()))\n",
    "\n",
    "display(Markdown(\"#### Sample Source field\"))\n",
    "display(Markdown(\"* **%d** empty Sample Source\\n* **%d** unique Sample Source\" % \\\n",
    "                 (len(df_frac2[df_frac2[\"Sample Source\"].isnull()]), len(df_frac2[\"Sample Source\"].unique()))))\n",
    "\n",
    "display(Markdown(\"#### BatchID field\"))\n",
    "tubesperbatchid2 = pd.DataFrame(df_frac2.groupby(\"BatchID\")[\"BatchID\"].count())\n",
    "tubesperbatchid2.loc[:, \"Tubes\"] = tubesperbatchid2[\"BatchID\"]\n",
    "tubesperbatchid2.loc[:, \"BatchID\"] = tubesperbatchid2.index\n",
    "tubesperbatchid2.reset_index(drop=True, inplace=True)\n",
    "display(tubesperbatchid2)\n",
    "display(Markdown(\"**%d** tubes for ThawCycle.\" % tubesperbatchid2[\"Tubes\"].sum()))\n",
    "\n",
    "display(Markdown(\"#### Sample Type field\"))\n",
    "tubespersampletype2 = pd.DataFrame(df_frac2.groupby(\"Sample Type\")[\"Sample Type\"].count())\n",
    "tubespersampletype2.loc[:, \"Tubes\"] = tubespersampletype2[\"Sample Type\"]\n",
    "tubespersampletype2.loc[:, \"Sample Type\"] = tubespersampletype2.index\n",
    "tubespersampletype2.reset_index(drop=True, inplace=True)\n",
    "display(tubespersampletype2)\n",
    "display(Markdown(\"**%d** tubes for Sample Type.\" % tubespersampletype2[\"Tubes\"].sum()))"
   ]
  }
 ],
 "metadata": {
  "kernelspec": {
   "display_name": "Python 2",
   "language": "python",
   "name": "python2"
  },
  "language_info": {
   "codemirror_mode": {
    "name": "ipython",
    "version": 2
   },
   "file_extension": ".py",
   "mimetype": "text/x-python",
   "name": "python",
   "nbconvert_exporter": "python",
   "pygments_lexer": "ipython2",
   "version": "2.7.11"
  }
 },
 "nbformat": 4,
 "nbformat_minor": 0
}
