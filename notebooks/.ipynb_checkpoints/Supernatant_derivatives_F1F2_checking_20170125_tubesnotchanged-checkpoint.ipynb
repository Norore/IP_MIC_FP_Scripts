{
 "cells": [
  {
   "cell_type": "markdown",
   "metadata": {},
   "source": [
    "# Derivatives of Supernatants from our freezers, before corrections"
   ]
  },
  {
   "cell_type": "markdown",
   "metadata": {},
   "source": [
    "## General informations"
   ]
  },
  {
   "cell_type": "code",
   "execution_count": 2,
   "metadata": {
    "collapsed": false
   },
   "outputs": [
    {
     "data": {
      "text/markdown": [
       "**20000** tubes in our derivatives file."
      ],
      "text/plain": [
       "<IPython.core.display.Markdown object>"
      ]
     },
     "metadata": {},
     "output_type": "display_data"
    },
    {
     "data": {
      "text/markdown": [
       "* **10000** tubes for Fraction 1."
      ],
      "text/plain": [
       "<IPython.core.display.Markdown object>"
      ]
     },
     "metadata": {},
     "output_type": "display_data"
    },
    {
     "data": {
      "text/markdown": [
       "* **10000** tubes for Fraction 2."
      ],
      "text/plain": [
       "<IPython.core.display.Markdown object>"
      ]
     },
     "metadata": {},
     "output_type": "display_data"
    },
    {
     "data": {
      "text/markdown": [
       "* **0** tubes are not assigned to a fraction."
      ],
      "text/plain": [
       "<IPython.core.display.Markdown object>"
      ]
     },
     "metadata": {},
     "output_type": "display_data"
    },
    {
     "data": {
      "text/markdown": [
       "List of the *33* columns:"
      ],
      "text/plain": [
       "<IPython.core.display.Markdown object>"
      ]
     },
     "metadata": {},
     "output_type": "display_data"
    },
    {
     "data": {
      "text/markdown": [
       "1. ParentID;\n",
       "1. Name;\n",
       "1. BARCODE;\n",
       "1. Position;\n",
       "1. Volume;\n",
       "1. Freezer;\n",
       "1. Freezer_Descr;\n",
       "1. Level1;\n",
       "1. Level1_Descr;\n",
       "1. Level2;\n",
       "1. Level2_Descr;\n",
       "1. Level3;\n",
       "1. Level3_Descr;\n",
       "1. BoxType;\n",
       "1. Box;\n",
       "1. Box_Descr;\n",
       "1. ThermoBoxBarcode;\n",
       "1. BOX_BARCODE;\n",
       "1. CreationDate;\n",
       "1. UpdateDate;\n",
       "1. AliquotID;\n",
       "1. DonorID;\n",
       "1. StimulusID;\n",
       "1. StimulusName;\n",
       "1. VisitID;\n",
       "1. ThawCycle;\n",
       "1. Sample Source;\n",
       "1. Description;\n",
       "1. BatchID;\n",
       "1. Sample Type;\n",
       "1. ShelfBarcode;\n",
       "1. RackBarcode;\n",
       "1. DrawerBarcode."
      ],
      "text/plain": [
       "<IPython.core.display.Markdown object>"
      ]
     },
     "metadata": {},
     "output_type": "display_data"
    }
   ],
   "source": [
    "import pandas as pd\n",
    "import re\n",
    "from IPython.display import display, Markdown, HTML\n",
    "from file_toolkit import *\n",
    "\n",
    "pd.set_option('display.max_rows', 96)\n",
    "pd.set_option('display.max_columns', 96)\n",
    "\n",
    "filepath = \"/Volumes/LabExMI/Users/Nolwenn/FreezerPro/DataToImport/\"\n",
    "filename = \"Supernatants_Derivatives_F1F2_20170125.csv\"\n",
    "df = pd.read_csv(filepath+filename)\n",
    "display(Markdown(\"**%d** tubes in our derivatives file.\" % len(df)))\n",
    "display(Markdown(\"* **%d** tubes for Fraction 1.\" % len(df.loc[df[\"Sample Type\"] == \"Fraction1\"])))\n",
    "display(Markdown(\"* **%d** tubes for Fraction 2.\" % len(df.loc[df[\"Sample Type\"] == \"Fraction2\"])))\n",
    "display(Markdown(\"* **%d** tubes are not assigned to a fraction.\" % len(df.loc[df[\"Sample Type\"].isnull()])))\n",
    "display(Markdown(\"List of the *%d* columns:\" % len(df.columns)))\n",
    "display(Markdown(\";\\n\".join([\"1. \"+col for col in df.columns])+\".\"))"
   ]
  },
  {
   "cell_type": "markdown",
   "metadata": {},
   "source": [
    "We have 20.000 tubes as expected, and 10.000 tubes per Fraction. We want to know how many tube per donor we have.\n",
    "\n",
    "## Checking tubes"
   ]
  },
  {
   "cell_type": "code",
   "execution_count": 3,
   "metadata": {
    "collapsed": false
   },
   "outputs": [
    {
     "data": {
      "text/markdown": [
       "**20000** unique BARCODE. Expected 20.000."
      ],
      "text/plain": [
       "<IPython.core.display.Markdown object>"
      ]
     },
     "metadata": {},
     "output_type": "display_data"
    }
   ],
   "source": [
    "display(Markdown(\"**{}** unique BARCODE. Expected 20.000.\".format(df[\"Name\"].nunique())))\n",
    "duplicatednames = df.loc[df[\"Name\"].duplicated(), \"Name\"].tolist()\n",
    "if len(duplicatednames) > 0:\n",
    "    display(Markdown(\"Table for {} duplicated *Name*:\".format(len(duplicatednames))))\n",
    "    display(df.loc[df[\"Name\"].isin(duplicatednames), [\"Name\", \"ParentID\", \"DonorID\", \"VisitID\", \"BatchID\", \"AliquotID\", \"StimulusID\"]])"
   ]
  },
  {
   "cell_type": "code",
   "execution_count": 4,
   "metadata": {
    "collapsed": false
   },
   "outputs": [
    {
     "data": {
      "text/markdown": [
       "Final output file has **11 unique StimulusID**"
      ],
      "text/plain": [
       "<IPython.core.display.Markdown object>"
      ]
     },
     "metadata": {},
     "output_type": "display_data"
    },
    {
     "data": {
      "text/markdown": [
       "List of **1** count of tubes per donor:"
      ],
      "text/plain": [
       "<IPython.core.display.Markdown object>"
      ]
     },
     "metadata": {},
     "output_type": "display_data"
    },
    {
     "data": {
      "text/markdown": [
       "* 20 tubes per donor."
      ],
      "text/plain": [
       "<IPython.core.display.Markdown object>"
      ]
     },
     "metadata": {},
     "output_type": "display_data"
    }
   ],
   "source": [
    "display(Markdown(\"Final output file has **%d unique StimulusID**\" % len(df[\"StimulusID\"].unique())))\n",
    "countstimperdonor = pd.DataFrame(df.groupby(\"DonorID\")[\"StimulusID\"].count())\n",
    "display(Markdown(\"List of **%d** count of tubes per donor:\" % len(countstimperdonor[\"StimulusID\"].unique())))\n",
    "display(Markdown(\";\\n\".join([\"* \"+str(int(stim))+\" tubes per donor\" for stim in sorted(countstimperdonor[\"StimulusID\"].unique())])+\".\"))"
   ]
  },
  {
   "cell_type": "markdown",
   "metadata": {},
   "source": [
    "We were expecting **10 unique** StimulusID, Céline and Bruno only treat 10 Stimulus. We have an extra stimulus.\n",
    "\n",
    "We want to know if at least one donor has less than 20 tubes associated, and, if possible, which tube is missing."
   ]
  },
  {
   "cell_type": "code",
   "execution_count": 5,
   "metadata": {
    "collapsed": false
   },
   "outputs": [
    {
     "data": {
      "text/markdown": [
       "All donor are assigned to at least 20 StimulusID."
      ],
      "text/plain": [
       "<IPython.core.display.Markdown object>"
      ]
     },
     "metadata": {},
     "output_type": "display_data"
    },
    {
     "data": {
      "text/markdown": [
       "0 unique DonorID has more than 20 StimulusID."
      ],
      "text/plain": [
       "<IPython.core.display.Markdown object>"
      ]
     },
     "metadata": {},
     "output_type": "display_data"
    }
   ],
   "source": [
    "donorindexes = countstimperdonor[countstimperdonor[\"StimulusID\"] < 20].index.values\n",
    "if len(donorindexes) > 0:\n",
    "    display(Markdown(\"List of **%d** unique DonorID:\" % len(donorindexes)))\n",
    "    display(Markdown(\";\\n\".join([\" - \"+str(int(donor)) for donor in sorted(donorindexes)])+\".\"))\n",
    "else:\n",
    "    display(Markdown(\"All donor are assigned to at least 20 StimulusID.\"))\n",
    "    display(Markdown(\"%d unique DonorID has more than 20 StimulusID.\" % \\\n",
    "                     len(countstimperdonor[countstimperdonor[\"StimulusID\"] > 20].index.values)))"
   ]
  },
  {
   "cell_type": "markdown",
   "metadata": {},
   "source": [
    "We also want to known how many DonorID each StimulusID count:"
   ]
  },
  {
   "cell_type": "code",
   "execution_count": 7,
   "metadata": {
    "collapsed": false
   },
   "outputs": [
    {
     "data": {
      "text/html": [
       "<div>\n",
       "<table border=\"1\" class=\"dataframe\">\n",
       "  <thead>\n",
       "    <tr style=\"text-align: right;\">\n",
       "      <th></th>\n",
       "      <th>StimulusID</th>\n",
       "      <th>Nb_DonorID</th>\n",
       "    </tr>\n",
       "  </thead>\n",
       "  <tbody>\n",
       "    <tr>\n",
       "      <th>0</th>\n",
       "      <td>11.0</td>\n",
       "      <td>2000</td>\n",
       "    </tr>\n",
       "    <tr>\n",
       "      <th>1</th>\n",
       "      <td>17.0</td>\n",
       "      <td>2000</td>\n",
       "    </tr>\n",
       "    <tr>\n",
       "      <th>2</th>\n",
       "      <td>18.0</td>\n",
       "      <td>2000</td>\n",
       "    </tr>\n",
       "    <tr>\n",
       "      <th>3</th>\n",
       "      <td>19.0</td>\n",
       "      <td>2</td>\n",
       "    </tr>\n",
       "    <tr>\n",
       "      <th>4</th>\n",
       "      <td>23.0</td>\n",
       "      <td>1998</td>\n",
       "    </tr>\n",
       "    <tr>\n",
       "      <th>5</th>\n",
       "      <td>24.0</td>\n",
       "      <td>2000</td>\n",
       "    </tr>\n",
       "    <tr>\n",
       "      <th>6</th>\n",
       "      <td>27.0</td>\n",
       "      <td>2000</td>\n",
       "    </tr>\n",
       "    <tr>\n",
       "      <th>7</th>\n",
       "      <td>32.0</td>\n",
       "      <td>2000</td>\n",
       "    </tr>\n",
       "    <tr>\n",
       "      <th>8</th>\n",
       "      <td>35.0</td>\n",
       "      <td>2000</td>\n",
       "    </tr>\n",
       "    <tr>\n",
       "      <th>9</th>\n",
       "      <td>37.0</td>\n",
       "      <td>2000</td>\n",
       "    </tr>\n",
       "    <tr>\n",
       "      <th>10</th>\n",
       "      <td>39.0</td>\n",
       "      <td>2000</td>\n",
       "    </tr>\n",
       "  </tbody>\n",
       "</table>\n",
       "</div>"
      ],
      "text/plain": [
       "    StimulusID  Nb_DonorID\n",
       "0         11.0        2000\n",
       "1         17.0        2000\n",
       "2         18.0        2000\n",
       "3         19.0           2\n",
       "4         23.0        1998\n",
       "5         24.0        2000\n",
       "6         27.0        2000\n",
       "7         32.0        2000\n",
       "8         35.0        2000\n",
       "9         37.0        2000\n",
       "10        39.0        2000"
      ]
     },
     "metadata": {},
     "output_type": "display_data"
    }
   ],
   "source": [
    "# countdonorperstim = pd.DataFrame(df.groupby(\"StimulusID\")[\"DonorID\"].count())\n",
    "# countdonorperstim.loc[:, \"StimulusID\"] = countdonorperstim.index.get_values().astype(int)\n",
    "# countdonorperstim.reset_index(drop=True, inplace=True)\n",
    "# display(countdonorperstim[[\"StimulusID\", \"DonorID\"]])\n",
    "countdonorperstim = compare_two_columns(df, \"StimulusID\", \"DonorID\")"
   ]
  },
  {
   "cell_type": "markdown",
   "metadata": {},
   "source": [
    "For StimulusID 19, at least one donor is assigned. First, we want to know the donors assigned to stimulus 19:"
   ]
  },
  {
   "cell_type": "code",
   "execution_count": 8,
   "metadata": {
    "collapsed": false,
    "scrolled": true
   },
   "outputs": [
    {
     "data": {
      "text/markdown": [
       "StimulusID 19 has **1** DonorID assigned:"
      ],
      "text/plain": [
       "<IPython.core.display.Markdown object>"
      ]
     },
     "metadata": {},
     "output_type": "display_data"
    },
    {
     "data": {
      "text/markdown": [
       "* 819."
      ],
      "text/plain": [
       "<IPython.core.display.Markdown object>"
      ]
     },
     "metadata": {},
     "output_type": "display_data"
    }
   ],
   "source": [
    "getdonor = df.loc[df[\"StimulusID\"] == 19, \"DonorID\"].unique()\n",
    "display(Markdown(\"StimulusID 19 has **%s** DonorID assigned:\" % len(getdonor)))\n",
    "display(Markdown(\";\\n\".join([\"* \"+str(int(donor)) for donor in getdonor])+\".\"))"
   ]
  },
  {
   "cell_type": "markdown",
   "metadata": {},
   "source": [
    "The donor numbered 75 had no tube for Stimuli 19. Céline sent an email to pinpoint where to find a file with the corrected data for this tube. The script to construct the final output was updated consequently."
   ]
  },
  {
   "cell_type": "markdown",
   "metadata": {},
   "source": [
    "For donor *819*, the problem is known. In fact, this donor is supposed to be assigned to stimulus 23 but it seems that stimulus were mixed for this donor:\n",
    "* in box 23, tube donor 819 found should have been assigned for box 24\n",
    "* in box 24, tube donor 819 found should have been assigned for box 17\n",
    "* in box 17, tube donor 819 found should have been assigned for box 18\n",
    "* in box 18, tube donor 819 found should have been assigned for box 19\n",
    "\n",
    "(Remember to ask Céline if it is correct)\n",
    "\n",
    "For stimulus 23, we want to know which are the missing donors:"
   ]
  },
  {
   "cell_type": "code",
   "execution_count": 9,
   "metadata": {
    "collapsed": false
   },
   "outputs": [
    {
     "data": {
      "text/markdown": [
       "List of **1** donors not found for StimulusID 23:"
      ],
      "text/plain": [
       "<IPython.core.display.Markdown object>"
      ]
     },
     "metadata": {},
     "output_type": "display_data"
    },
    {
     "data": {
      "text/markdown": [
       "* 819"
      ],
      "text/plain": [
       "<IPython.core.display.Markdown object>"
      ]
     },
     "metadata": {},
     "output_type": "display_data"
    }
   ],
   "source": [
    "donorlist = df[\"DonorID\"].unique()\n",
    "donorliststim23 = df.loc[df[\"StimulusID\"] == 23.0, \"DonorID\"].unique()\n",
    "donornotfound = list(set(donorlist) - set(donorliststim23))\n",
    "display(Markdown(\"List of **%d** donors not found for StimulusID 23:\" % len(donornotfound)))\n",
    "display(Markdown(\";\\n\".join([\"* \"+str(int(donor)) for donor in sorted(donornotfound)])))"
   ]
  },
  {
   "cell_type": "markdown",
   "metadata": {},
   "source": [
    "This confirms that the tube of DonorID 819 in StimulusID 19 is probably assigned to the wrong stimulus and should have been assign to the stimulus 23.\n",
    "\n",
    "Know we want to be sure that we have one stimulus per box:"
   ]
  },
  {
   "cell_type": "code",
   "execution_count": 16,
   "metadata": {
    "collapsed": false
   },
   "outputs": [
    {
     "data": {
      "text/markdown": [
       "There is **220 unique boxes** in the whole file."
      ],
      "text/plain": [
       "<IPython.core.display.Markdown object>"
      ]
     },
     "metadata": {},
     "output_type": "display_data"
    },
    {
     "data": {
      "text/markdown": [
       "**Look on Fraction 1:**"
      ],
      "text/plain": [
       "<IPython.core.display.Markdown object>"
      ]
     },
     "metadata": {},
     "output_type": "display_data"
    },
    {
     "data": {
      "text/markdown": [
       "There is **110 unique boxes** in the file for Fraction 1."
      ],
      "text/plain": [
       "<IPython.core.display.Markdown object>"
      ]
     },
     "metadata": {},
     "output_type": "display_data"
    },
    {
     "data": {
      "text/html": [
       "<div>\n",
       "<table border=\"1\" class=\"dataframe\">\n",
       "  <thead>\n",
       "    <tr style=\"text-align: right;\">\n",
       "      <th></th>\n",
       "      <th>Box</th>\n",
       "      <th>StimulusID</th>\n",
       "    </tr>\n",
       "  </thead>\n",
       "  <tbody>\n",
       "    <tr>\n",
       "      <th>30</th>\n",
       "      <td>MIC_Plasma_S17_V1_A1_F1_D801-896</td>\n",
       "      <td>2</td>\n",
       "    </tr>\n",
       "    <tr>\n",
       "      <th>52</th>\n",
       "      <td>MIC_Plasma_S18_V1_A1_F1_D801-896</td>\n",
       "      <td>2</td>\n",
       "    </tr>\n",
       "    <tr>\n",
       "      <th>74</th>\n",
       "      <td>MIC_Plasma_S23_V1_A1_F1_D801-896</td>\n",
       "      <td>2</td>\n",
       "    </tr>\n",
       "    <tr>\n",
       "      <th>96</th>\n",
       "      <td>MIC_Plasma_S24_V1_A1_F1_D801-896</td>\n",
       "      <td>2</td>\n",
       "    </tr>\n",
       "  </tbody>\n",
       "</table>\n",
       "</div>"
      ],
      "text/plain": [
       "                                 Box  StimulusID\n",
       "30  MIC_Plasma_S17_V1_A1_F1_D801-896           2\n",
       "52  MIC_Plasma_S18_V1_A1_F1_D801-896           2\n",
       "74  MIC_Plasma_S23_V1_A1_F1_D801-896           2\n",
       "96  MIC_Plasma_S24_V1_A1_F1_D801-896           2"
      ]
     },
     "metadata": {},
     "output_type": "display_data"
    },
    {
     "data": {
      "text/markdown": [
       "**Look on Fraction 2:**"
      ],
      "text/plain": [
       "<IPython.core.display.Markdown object>"
      ]
     },
     "metadata": {},
     "output_type": "display_data"
    },
    {
     "data": {
      "text/markdown": [
       "There is **110 unique boxes** in the file for Fraction 2."
      ],
      "text/plain": [
       "<IPython.core.display.Markdown object>"
      ]
     },
     "metadata": {},
     "output_type": "display_data"
    },
    {
     "data": {
      "text/html": [
       "<div>\n",
       "<table border=\"1\" class=\"dataframe\">\n",
       "  <thead>\n",
       "    <tr style=\"text-align: right;\">\n",
       "      <th></th>\n",
       "      <th>Box</th>\n",
       "      <th>StimulusID</th>\n",
       "    </tr>\n",
       "  </thead>\n",
       "  <tbody>\n",
       "    <tr>\n",
       "      <th>41</th>\n",
       "      <td>MIC_Plasma_S17_V1_A1_F2_D801-896</td>\n",
       "      <td>2</td>\n",
       "    </tr>\n",
       "    <tr>\n",
       "      <th>63</th>\n",
       "      <td>MIC_Plasma_S18_V1_A1_F2_D801-896</td>\n",
       "      <td>2</td>\n",
       "    </tr>\n",
       "    <tr>\n",
       "      <th>85</th>\n",
       "      <td>MIC_Plasma_S23_V1_A1_F2_D801-896</td>\n",
       "      <td>2</td>\n",
       "    </tr>\n",
       "    <tr>\n",
       "      <th>107</th>\n",
       "      <td>MIC_Plasma_S24_V1_A1_F2_D801-896</td>\n",
       "      <td>2</td>\n",
       "    </tr>\n",
       "  </tbody>\n",
       "</table>\n",
       "</div>"
      ],
      "text/plain": [
       "                                  Box  StimulusID\n",
       "41   MIC_Plasma_S17_V1_A1_F2_D801-896           2\n",
       "63   MIC_Plasma_S18_V1_A1_F2_D801-896           2\n",
       "85   MIC_Plasma_S23_V1_A1_F2_D801-896           2\n",
       "107  MIC_Plasma_S24_V1_A1_F2_D801-896           2"
      ]
     },
     "metadata": {},
     "output_type": "display_data"
    }
   ],
   "source": [
    "display(Markdown(\"There is **%d unique boxes** in the whole file.\" % len(df[\"Box\"].unique())))\n",
    "\n",
    "display(Markdown(\"**Look on Fraction 1:**\"))\n",
    "display(Markdown(\"There is **%d unique boxes** in the file for Fraction 1.\" %\\\n",
    "                 len(df.loc[df[\"Sample Type\"] == \"Fraction1\", \"Box\"].unique())))\n",
    "countboxstim = compare_two_columns(df, \"Box\", \"StimulusID\", method=\"nunique\", show=False)\n",
    "display(countboxstim.loc[(countboxstim[\"StimulusID\"] > 1) & (countboxstim[\"Box\"].str.contains(\"F1\")),\\\n",
    "                         [\"Box\", \"StimulusID\"]])\n",
    "\n",
    "display(Markdown(\"**Look on Fraction 2:**\"))\n",
    "display(Markdown(\"There is **%d unique boxes** in the file for Fraction 2.\" %\\\n",
    "                 len(df.loc[df[\"Sample Type\"] == \"Fraction2\", \"Box\"].unique())))\n",
    "display(countboxstim.loc[(countboxstim[\"StimulusID\"] > 1) & (countboxstim[\"Box\"].str.contains(\"F2\")),\\\n",
    "                         [\"Box\", \"StimulusID\"]])"
   ]
  },
  {
   "cell_type": "markdown",
   "metadata": {},
   "source": [
    "We have 4 boxes for which 2 different StimulusID are assigned, apparently those boxes are in the range of the DonorID 819. What are the StimulusID for each box?"
   ]
  },
  {
   "cell_type": "code",
   "execution_count": 11,
   "metadata": {
    "collapsed": false
   },
   "outputs": [
    {
     "data": {
      "text/markdown": [
       "There is a total of **8** boxes to check."
      ],
      "text/plain": [
       "<IPython.core.display.Markdown object>"
      ]
     },
     "metadata": {},
     "output_type": "display_data"
    },
    {
     "data": {
      "text/markdown": [
       "**Look on Fraction 1:**"
      ],
      "text/plain": [
       "<IPython.core.display.Markdown object>"
      ]
     },
     "metadata": {},
     "output_type": "display_data"
    },
    {
     "data": {
      "text/markdown": [
       "List of StimulusID for the **4** boxes to check:"
      ],
      "text/plain": [
       "<IPython.core.display.Markdown object>"
      ]
     },
     "metadata": {},
     "output_type": "display_data"
    },
    {
     "data": {
      "text/markdown": [
       "* MIC_Plasma_S17_V1_A1_F1_D801-896 contains 2 StimulusID:"
      ],
      "text/plain": [
       "<IPython.core.display.Markdown object>"
      ]
     },
     "metadata": {},
     "output_type": "display_data"
    },
    {
     "data": {
      "text/markdown": [
       "       * 17"
      ],
      "text/plain": [
       "<IPython.core.display.Markdown object>"
      ]
     },
     "metadata": {},
     "output_type": "display_data"
    },
    {
     "data": {
      "text/markdown": [
       "       * 18"
      ],
      "text/plain": [
       "<IPython.core.display.Markdown object>"
      ]
     },
     "metadata": {},
     "output_type": "display_data"
    },
    {
     "data": {
      "text/markdown": [
       "* MIC_Plasma_S18_V1_A1_F1_D801-896 contains 2 StimulusID:"
      ],
      "text/plain": [
       "<IPython.core.display.Markdown object>"
      ]
     },
     "metadata": {},
     "output_type": "display_data"
    },
    {
     "data": {
      "text/markdown": [
       "       * 18"
      ],
      "text/plain": [
       "<IPython.core.display.Markdown object>"
      ]
     },
     "metadata": {},
     "output_type": "display_data"
    },
    {
     "data": {
      "text/markdown": [
       "       * 19"
      ],
      "text/plain": [
       "<IPython.core.display.Markdown object>"
      ]
     },
     "metadata": {},
     "output_type": "display_data"
    },
    {
     "data": {
      "text/markdown": [
       "* MIC_Plasma_S23_V1_A1_F1_D801-896 contains 2 StimulusID:"
      ],
      "text/plain": [
       "<IPython.core.display.Markdown object>"
      ]
     },
     "metadata": {},
     "output_type": "display_data"
    },
    {
     "data": {
      "text/markdown": [
       "       * 23"
      ],
      "text/plain": [
       "<IPython.core.display.Markdown object>"
      ]
     },
     "metadata": {},
     "output_type": "display_data"
    },
    {
     "data": {
      "text/markdown": [
       "       * 24"
      ],
      "text/plain": [
       "<IPython.core.display.Markdown object>"
      ]
     },
     "metadata": {},
     "output_type": "display_data"
    },
    {
     "data": {
      "text/markdown": [
       "* MIC_Plasma_S24_V1_A1_F1_D801-896 contains 2 StimulusID:"
      ],
      "text/plain": [
       "<IPython.core.display.Markdown object>"
      ]
     },
     "metadata": {},
     "output_type": "display_data"
    },
    {
     "data": {
      "text/markdown": [
       "       * 24"
      ],
      "text/plain": [
       "<IPython.core.display.Markdown object>"
      ]
     },
     "metadata": {},
     "output_type": "display_data"
    },
    {
     "data": {
      "text/markdown": [
       "       * 17"
      ],
      "text/plain": [
       "<IPython.core.display.Markdown object>"
      ]
     },
     "metadata": {},
     "output_type": "display_data"
    },
    {
     "data": {
      "text/markdown": [
       "**Look on Fraction 2:**"
      ],
      "text/plain": [
       "<IPython.core.display.Markdown object>"
      ]
     },
     "metadata": {},
     "output_type": "display_data"
    },
    {
     "data": {
      "text/markdown": [
       "List of StimulusID for the **4** boxes to check:"
      ],
      "text/plain": [
       "<IPython.core.display.Markdown object>"
      ]
     },
     "metadata": {},
     "output_type": "display_data"
    },
    {
     "data": {
      "text/markdown": [
       "* MIC_Plasma_S17_V1_A1_F2_D801-896 contains 2 StimulusID:"
      ],
      "text/plain": [
       "<IPython.core.display.Markdown object>"
      ]
     },
     "metadata": {},
     "output_type": "display_data"
    },
    {
     "data": {
      "text/markdown": [
       "       * 17"
      ],
      "text/plain": [
       "<IPython.core.display.Markdown object>"
      ]
     },
     "metadata": {},
     "output_type": "display_data"
    },
    {
     "data": {
      "text/markdown": [
       "       * 18"
      ],
      "text/plain": [
       "<IPython.core.display.Markdown object>"
      ]
     },
     "metadata": {},
     "output_type": "display_data"
    },
    {
     "data": {
      "text/markdown": [
       "* MIC_Plasma_S18_V1_A1_F2_D801-896 contains 2 StimulusID:"
      ],
      "text/plain": [
       "<IPython.core.display.Markdown object>"
      ]
     },
     "metadata": {},
     "output_type": "display_data"
    },
    {
     "data": {
      "text/markdown": [
       "       * 18"
      ],
      "text/plain": [
       "<IPython.core.display.Markdown object>"
      ]
     },
     "metadata": {},
     "output_type": "display_data"
    },
    {
     "data": {
      "text/markdown": [
       "       * 19"
      ],
      "text/plain": [
       "<IPython.core.display.Markdown object>"
      ]
     },
     "metadata": {},
     "output_type": "display_data"
    },
    {
     "data": {
      "text/markdown": [
       "* MIC_Plasma_S23_V1_A1_F2_D801-896 contains 2 StimulusID:"
      ],
      "text/plain": [
       "<IPython.core.display.Markdown object>"
      ]
     },
     "metadata": {},
     "output_type": "display_data"
    },
    {
     "data": {
      "text/markdown": [
       "       * 23"
      ],
      "text/plain": [
       "<IPython.core.display.Markdown object>"
      ]
     },
     "metadata": {},
     "output_type": "display_data"
    },
    {
     "data": {
      "text/markdown": [
       "       * 24"
      ],
      "text/plain": [
       "<IPython.core.display.Markdown object>"
      ]
     },
     "metadata": {},
     "output_type": "display_data"
    },
    {
     "data": {
      "text/markdown": [
       "* MIC_Plasma_S24_V1_A1_F2_D801-896 contains 2 StimulusID:"
      ],
      "text/plain": [
       "<IPython.core.display.Markdown object>"
      ]
     },
     "metadata": {},
     "output_type": "display_data"
    },
    {
     "data": {
      "text/markdown": [
       "       * 24"
      ],
      "text/plain": [
       "<IPython.core.display.Markdown object>"
      ]
     },
     "metadata": {},
     "output_type": "display_data"
    },
    {
     "data": {
      "text/markdown": [
       "       * 17"
      ],
      "text/plain": [
       "<IPython.core.display.Markdown object>"
      ]
     },
     "metadata": {},
     "output_type": "display_data"
    }
   ],
   "source": [
    "boxes = countboxstim.loc[countboxstim[\"StimulusID\"] > 1, \"Box\"]\n",
    "display(Markdown(\"There is a total of **%d** boxes to check.\" % len(boxes)))\n",
    "display(Markdown(\"**Look on Fraction 1:**\"))\n",
    "display(Markdown(\"List of StimulusID for the **%d** boxes to check:\" % len(boxes.loc[boxes.str.contains(\"F1\")])))\n",
    "for box in boxes.loc[boxes.str.contains(\"F1\")]:\n",
    "    display(Markdown(\"* \"+box+\" contains %d StimulusID\" % len(df.loc[df[\"Box\"] == box, \"StimulusID\"].unique())+\":\"))\n",
    "    for stim in df.loc[df[\"Box\"] == box, \"StimulusID\"].unique():\n",
    "        display(Markdown(\"       * \"+str(int(stim))))\n",
    "display(Markdown(\"**Look on Fraction 2:**\"))\n",
    "display(Markdown(\"List of StimulusID for the **%d** boxes to check:\" % len(boxes.loc[boxes.str.contains(\"F2\")])))\n",
    "for box in boxes.loc[boxes.str.contains(\"F2\")]:\n",
    "    display(Markdown(\"* \"+box+\" contains %d StimulusID\" % len(df.loc[df[\"Box\"] == box, \"StimulusID\"].unique())+\":\"))\n",
    "    for stim in df.loc[df[\"Box\"] == box, \"StimulusID\"].unique():\n",
    "        display(Markdown(\"       * \"+str(int(stim))))"
   ]
  },
  {
   "cell_type": "markdown",
   "metadata": {},
   "source": [
    "The boxes impacted seems to be the ones that Céline already found. Could we retrieve the DonorID 819 in those StimulusID?"
   ]
  },
  {
   "cell_type": "code",
   "execution_count": 12,
   "metadata": {
    "collapsed": false,
    "scrolled": true
   },
   "outputs": [
    {
     "data": {
      "text/markdown": [
       "**Look on Fraction 1:**"
      ],
      "text/plain": [
       "<IPython.core.display.Markdown object>"
      ]
     },
     "metadata": {},
     "output_type": "display_data"
    },
    {
     "data": {
      "text/markdown": [
       "* DonorID 819 found in box *MIC_Plasma_S17_V1_A1_F1_D801-896*, StimulusID **18**."
      ],
      "text/plain": [
       "<IPython.core.display.Markdown object>"
      ]
     },
     "metadata": {},
     "output_type": "display_data"
    },
    {
     "data": {
      "text/markdown": [
       "* DonorID 819 found in box *MIC_Plasma_S18_V1_A1_F1_D801-896*, StimulusID **19**."
      ],
      "text/plain": [
       "<IPython.core.display.Markdown object>"
      ]
     },
     "metadata": {},
     "output_type": "display_data"
    },
    {
     "data": {
      "text/markdown": [
       "* DonorID 819 found in box *MIC_Plasma_S23_V1_A1_F1_D801-896*, StimulusID **24**."
      ],
      "text/plain": [
       "<IPython.core.display.Markdown object>"
      ]
     },
     "metadata": {},
     "output_type": "display_data"
    },
    {
     "data": {
      "text/markdown": [
       "* DonorID 819 found in box *MIC_Plasma_S24_V1_A1_F1_D801-896*, StimulusID **17**."
      ],
      "text/plain": [
       "<IPython.core.display.Markdown object>"
      ]
     },
     "metadata": {},
     "output_type": "display_data"
    },
    {
     "data": {
      "text/markdown": [
       "**Look on Fraction 2:**"
      ],
      "text/plain": [
       "<IPython.core.display.Markdown object>"
      ]
     },
     "metadata": {},
     "output_type": "display_data"
    },
    {
     "data": {
      "text/markdown": [
       "* DonorID 819 found in box *MIC_Plasma_S17_V1_A1_F2_D801-896*, StimulusID **18**."
      ],
      "text/plain": [
       "<IPython.core.display.Markdown object>"
      ]
     },
     "metadata": {},
     "output_type": "display_data"
    },
    {
     "data": {
      "text/markdown": [
       "* DonorID 819 found in box *MIC_Plasma_S18_V1_A1_F2_D801-896*, StimulusID **19**."
      ],
      "text/plain": [
       "<IPython.core.display.Markdown object>"
      ]
     },
     "metadata": {},
     "output_type": "display_data"
    },
    {
     "data": {
      "text/markdown": [
       "* DonorID 819 found in box *MIC_Plasma_S23_V1_A1_F2_D801-896*, StimulusID **24**."
      ],
      "text/plain": [
       "<IPython.core.display.Markdown object>"
      ]
     },
     "metadata": {},
     "output_type": "display_data"
    },
    {
     "data": {
      "text/markdown": [
       "* DonorID 819 found in box *MIC_Plasma_S24_V1_A1_F2_D801-896*, StimulusID **17**."
      ],
      "text/plain": [
       "<IPython.core.display.Markdown object>"
      ]
     },
     "metadata": {},
     "output_type": "display_data"
    }
   ],
   "source": [
    "getstims = df.loc[df[\"Box\"].isin(boxes), \"StimulusID\"].astype(int).unique()\n",
    "display(Markdown(\"**Look on Fraction 1:**\"))\n",
    "for box in boxes.loc[boxes.str.contains(\"F1\")]:\n",
    "    for stim in getstims:\n",
    "        if len(df.loc[(df[\"Box\"] == box) & (df[\"StimulusID\"] == stim) & (df[\"DonorID\"] == 819), \"DonorID\"]) > 0:\n",
    "            display(Markdown('* DonorID 819 found in box *%s*, StimulusID **%d**.' % (box,stim)))\n",
    "display(Markdown(\"**Look on Fraction 2:**\"))\n",
    "for box in boxes.loc[boxes.str.contains(\"F2\")]:\n",
    "    for stim in getstims:\n",
    "        if len(df.loc[(df[\"Box\"] == box) & (df[\"StimulusID\"] == stim) & (df[\"DonorID\"] == 819), \"DonorID\"]) > 0:\n",
    "            display(Markdown('* DonorID 819 found in box *%s*, StimulusID **%d**.' % (box,stim)))"
   ]
  },
  {
   "cell_type": "markdown",
   "metadata": {},
   "source": [
    "Apparently, the problem described by Céline exists for the 8 boxes, do we have to change them? Normally they are supposed to already been changed. Is there a problem in the script that generated the data?\n",
    "\n",
    "We also want to be sure that the box name reproduce the same error if we look with the Thermo Fisher box barcode:"
   ]
  },
  {
   "cell_type": "code",
   "execution_count": 14,
   "metadata": {
    "collapsed": false
   },
   "outputs": [
    {
     "data": {
      "text/markdown": [
       "There is a total of **220 unique boxes** in the file."
      ],
      "text/plain": [
       "<IPython.core.display.Markdown object>"
      ]
     },
     "metadata": {},
     "output_type": "display_data"
    },
    {
     "data": {
      "text/markdown": [
       "There is **110 unique boxes** in Fraction 1."
      ],
      "text/plain": [
       "<IPython.core.display.Markdown object>"
      ]
     },
     "metadata": {},
     "output_type": "display_data"
    },
    {
     "data": {
      "text/markdown": [
       "There is **110 unique boxes** in Fraction 2."
      ],
      "text/plain": [
       "<IPython.core.display.Markdown object>"
      ]
     },
     "metadata": {},
     "output_type": "display_data"
    },
    {
     "data": {
      "text/html": [
       "<div>\n",
       "<table border=\"1\" class=\"dataframe\">\n",
       "  <thead>\n",
       "    <tr style=\"text-align: right;\">\n",
       "      <th></th>\n",
       "      <th>ThermoBoxBarcode</th>\n",
       "      <th>StimulusID</th>\n",
       "    </tr>\n",
       "  </thead>\n",
       "  <tbody>\n",
       "    <tr>\n",
       "      <th>71</th>\n",
       "      <td>TF00080640</td>\n",
       "      <td>2</td>\n",
       "    </tr>\n",
       "    <tr>\n",
       "      <th>73</th>\n",
       "      <td>TF00080642</td>\n",
       "      <td>2</td>\n",
       "    </tr>\n",
       "    <tr>\n",
       "      <th>144</th>\n",
       "      <td>TS00010678</td>\n",
       "      <td>2</td>\n",
       "    </tr>\n",
       "    <tr>\n",
       "      <th>153</th>\n",
       "      <td>TS00010783</td>\n",
       "      <td>2</td>\n",
       "    </tr>\n",
       "    <tr>\n",
       "      <th>182</th>\n",
       "      <td>TS00047751</td>\n",
       "      <td>2</td>\n",
       "    </tr>\n",
       "    <tr>\n",
       "      <th>196</th>\n",
       "      <td>TS00048028</td>\n",
       "      <td>2</td>\n",
       "    </tr>\n",
       "    <tr>\n",
       "      <th>201</th>\n",
       "      <td>TS00048039</td>\n",
       "      <td>2</td>\n",
       "    </tr>\n",
       "    <tr>\n",
       "      <th>210</th>\n",
       "      <td>TS00048095</td>\n",
       "      <td>2</td>\n",
       "    </tr>\n",
       "  </tbody>\n",
       "</table>\n",
       "</div>"
      ],
      "text/plain": [
       "    ThermoBoxBarcode  StimulusID\n",
       "71        TF00080640           2\n",
       "73        TF00080642           2\n",
       "144       TS00010678           2\n",
       "153       TS00010783           2\n",
       "182       TS00047751           2\n",
       "196       TS00048028           2\n",
       "201       TS00048039           2\n",
       "210       TS00048095           2"
      ]
     },
     "metadata": {},
     "output_type": "display_data"
    }
   ],
   "source": [
    "display(Markdown(\"There is a total of **%d unique boxes** in the file.\" % len(df[\"ThermoBoxBarcode\"].unique())))\n",
    "display(Markdown(\"There is **%d unique boxes** in Fraction 1.\" % len(df.loc[df[\"Sample Type\"] == \"Fraction1\", \\\n",
    "                                                                          \"ThermoBoxBarcode\"].unique())))\n",
    "display(Markdown(\"There is **%d unique boxes** in Fraction 2.\" % len(df.loc[df[\"Sample Type\"] == \"Fraction2\", \\\n",
    "                                                                          \"ThermoBoxBarcode\"].unique())))\n",
    "\n",
    "countthermoboxstim = compare_two_columns(df, \"ThermoBoxBarcode\", \"StimulusID\", method=\"nunique\", show=False)\n",
    "display(countthermoboxstim.loc[(countthermoboxstim[\"StimulusID\"] > 1), [\"ThermoBoxBarcode\", \"StimulusID\"]])"
   ]
  },
  {
   "cell_type": "markdown",
   "metadata": {},
   "source": [
    "We have the same number of ThermoBoxBarcode as of BoxBarcode.\n",
    "\n",
    "We wonder if the same trouble as for Box column, with StimulusID, occurs with the column ThermoBoxBarcode:"
   ]
  },
  {
   "cell_type": "code",
   "execution_count": null,
   "metadata": {
    "collapsed": false
   },
   "outputs": [],
   "source": [
    "thermoboxes = countthermoboxstim.loc[countthermoboxstim[\"StimulusID\"] > 1, \"ThermoBoxBarcode\"]\n",
    "display(Markdown(\"List of StimulusID for the **%d** boxes to check:\" % len(thermoboxes)))\n",
    "\n",
    "for thermobox in thermoboxes:\n",
    "    display(Markdown(\"* \"+thermobox+\" contains %d StimulusID\" % \\\n",
    "                     len(df.loc[df[\"ThermoBoxBarcode\"] == thermobox, \"StimulusID\"].unique())+\":\"))\n",
    "    for stim in df.loc[df[\"ThermoBoxBarcode\"] == thermobox, \"StimulusID\"].unique():\n",
    "        display(Markdown(\"       *\"+str(int(stim))))"
   ]
  },
  {
   "cell_type": "markdown",
   "metadata": {},
   "source": [
    "The same lists of StimulusID appears for ThermoBoxBarcode column. Do we have the same result on StimulusID column when we look specifically for DonorID 819?"
   ]
  },
  {
   "cell_type": "code",
   "execution_count": null,
   "metadata": {
    "collapsed": false
   },
   "outputs": [],
   "source": [
    "getstims = df.loc[df[\"ThermoBoxBarcode\"].isin(thermoboxes), \"StimulusID\"].astype(int).unique()\n",
    "for thermobox in thermoboxes:\n",
    "    for stim in getstims:\n",
    "        if len(df.loc[(df[\"ThermoBoxBarcode\"] == thermobox) & (df[\"StimulusID\"] == stim) & \\\n",
    "                      (df[\"DonorID\"] == 819), \"DonorID\"]) > 0:\n",
    "            display(Markdown('* DonorID 819 found in box *%s*, StimulusID **%d**.' % (thermobox,stim)))"
   ]
  },
  {
   "cell_type": "markdown",
   "metadata": {},
   "source": [
    "The results are in accordance with analysis using Box column.\n",
    "\n",
    "We want to know, from the 4 boxes from Thermo that are assigned to more than one StimulusID, the list of the boxes Box that are related:"
   ]
  },
  {
   "cell_type": "code",
   "execution_count": null,
   "metadata": {
    "collapsed": false
   },
   "outputs": [],
   "source": [
    "for thermobox in thermoboxes:\n",
    "    display(Markdown(thermobox+\" -> \"+\\\n",
    "                     \", \".join([box for box in df.loc[df[\"ThermoBoxBarcode\"] == thermobox, \"Box\"].unique()])))"
   ]
  },
  {
   "cell_type": "markdown",
   "metadata": {},
   "source": [
    "For the boxes assigned to more than one StimulusID, it looks ok.\n",
    "\n",
    "For each ThermoBoxBarcode column, which are those with more than one Box column associated?"
   ]
  },
  {
   "cell_type": "code",
   "execution_count": null,
   "metadata": {
    "collapsed": false
   },
   "outputs": [],
   "source": [
    "countboxperthermobox = pd.DataFrame(df.groupby(\"Box\")[\"ThermoBoxBarcode\"].nunique())\n",
    "countboxperthermobox.loc[:, \"Box\"] = countboxperthermobox.index.get_values()\n",
    "countboxperthermobox.reset_index(drop=True, inplace=True)\n",
    "display(Markdown(\"**%d** boxes are not assigned to a ThermoBoxBarcode\" % \\\n",
    "                 len(countboxperthermobox.loc[countboxperthermobox[\"ThermoBoxBarcode\"] < 1,\\\n",
    "                                              [\"Box\", \"ThermoBoxBarcode\"]])))\n",
    "display(Markdown(\"**%d** boxes are assigned to more than one ThermoBoxBarcode\" % \\\n",
    "                 len(countboxperthermobox.loc[countboxperthermobox[\"ThermoBoxBarcode\"] > 1,\\\n",
    "                                              [\"Box\", \"ThermoBoxBarcode\"]])))\n",
    "display(Markdown(\"**%d** boxes are assigned to a ThermoBoxBarcode\" % \\\n",
    "                 len(countboxperthermobox.loc[countboxperthermobox[\"ThermoBoxBarcode\"] == 1,\\\n",
    "                                              [\"Box\", \"ThermoBoxBarcode\"]])))\n",
    "if len(countboxperthermobox.loc[countboxperthermobox[\"ThermoBoxBarcode\"] != 1, \\\n",
    "                                [\"Box\", \"ThermoBoxBarcode\"]]) > 0:\n",
    "    display(countboxperthermobox.loc[countboxperthermobox[\"ThermoBoxBarcode\"] != 1,[\"Box\", \"ThermoBoxBarcode\"]])"
   ]
  },
  {
   "cell_type": "markdown",
   "metadata": {},
   "source": [
    "Do these boxes contains info on DonorID?"
   ]
  },
  {
   "cell_type": "code",
   "execution_count": null,
   "metadata": {
    "collapsed": false
   },
   "outputs": [],
   "source": [
    "boxes = countboxperthermobox.loc[countboxperthermobox[\"ThermoBoxBarcode\"] != 1][\"Box\"].values\n",
    "display(Markdown(\"**%d** tubes in boxes not assigned to ThermoBoxbarcode.\" % \\\n",
    "      len(df.loc[df[\"Box\"].isin(boxes), [\"Box\", \"ThermoBoxBarcode\", \"DonorID\"]])))\n",
    "if len(df.loc[df[\"Box\"].isin(boxes), [\"Box\", \"ThermoBoxBarcode\", \"DonorID\"]]) > 0:\n",
    "    display(df.loc[df[\"Box\"].isin(boxes), [\"Box\", \"ThermoBoxBarcode\", \"DonorID\"]])"
   ]
  },
  {
   "cell_type": "markdown",
   "metadata": {},
   "source": [
    "The list of DonorID found correspond to tubes that generated errors and that were corrected by Céline. The column ThermoBoxBarcode was not taken into account on the previous version of the script, know it is fixed.\n",
    "\n",
    "We also want to check if none of the excluded donors are in our data:"
   ]
  },
  {
   "cell_type": "code",
   "execution_count": null,
   "metadata": {
    "collapsed": false
   },
   "outputs": [],
   "source": [
    "excludeddonors = [96, 104, 122, 167, 178, 219, 268, 279, 303, 308, 534, 701]\n",
    "df[\"DonorID\"] = df[\"DonorID\"].astype(int)\n",
    "display(Markdown(\"**%d** donor found.\" % len(df.loc[df[\"DonorID\"].isin(excludeddonors), \"DonorID\"].unique())))\n",
    "if len(df.loc[df[\"DonorID\"].isin(excludeddonors), \"DonorID\"].unique()) > 0:\n",
    "    display(Markdown(\"The excluded donor found are:\"))\n",
    "    display(Markdown(\";\\n\".join([\"* \"+str(donor) for donor in df.loc[df[\"DonorID\"].isin(excludeddonors), \"DonorID\"].unique()])))"
   ]
  },
  {
   "cell_type": "markdown",
   "metadata": {},
   "source": [
    "We have none of the excluded donors in the final output of our data."
   ]
  },
  {
   "cell_type": "markdown",
   "metadata": {},
   "source": [
    "From Céline, the missing donor for StimulusID should be in the run file, and it should be assign to Thermo Fisher box barcode TF00080651, at position G3. From the run file, there is a tube. We have to check the donors from the ThermoBoxBarcode, at well row G. From Atlas, in the run excel file, the tube is set as ‘No read‘, but from the computer next to TECAN, the barcode exists. After adding the good info, we have those data:"
   ]
  },
  {
   "cell_type": "code",
   "execution_count": null,
   "metadata": {
    "collapsed": false
   },
   "outputs": [],
   "source": [
    "display(Markdown(\"**%d** tubes found for ThermoBoxBarcode TF00080651:\" % len(df.loc[(df[\"ThermoBoxBarcode\"] == \"TF00080651\") & (df[\"Position\"].str.contains(\"G\")),\\\n",
    "               [\"Box\", \"ThermoBoxBarcode\", \"Position\", \"DonorID\"]].sort_values([\"DonorID\"]))))\n",
    "display(df.loc[(df[\"ThermoBoxBarcode\"] == \"TF00080651\") & (df[\"Position\"].str.contains(\"G\")),\\\n",
    "               [\"Box\", \"ThermoBoxBarcode\", \"Position\", \"DonorID\"]].sort_values([\"DonorID\"]))"
   ]
  },
  {
   "cell_type": "markdown",
   "metadata": {},
   "source": [
    "We are supposed to have 11 boxes per stimulus and fraction, how many boxes do we effectively have per StimulusID?"
   ]
  },
  {
   "cell_type": "code",
   "execution_count": null,
   "metadata": {
    "collapsed": false
   },
   "outputs": [],
   "source": [
    "display(Markdown(\"**Look on Fraction 1:**\"))\n",
    "df_frac1 = df.loc[df[\"Sample Type\"] == \"Fraction1\"]\n",
    "countboxperstim1 = pd.DataFrame(df_frac1.groupby(\"StimulusID\")[\"Box\"].nunique())\n",
    "countboxperstim1.loc[:, \"StimulusID\"] = countboxperstim1.index.get_values().astype(int)\n",
    "countboxperstim1.reset_index(drop = True, inplace = True)\n",
    "display(table_wo_index(countboxperstim1[[\"Box\", \"StimulusID\"]]))\n",
    "\n",
    "display(Markdown(\"**Look on Fraction 2:**\"))\n",
    "df_frac2 = df.loc[df[\"Sample Type\"] == \"Fraction2\"]\n",
    "countboxperstim2 = pd.DataFrame(df_frac2.groupby(\"StimulusID\")[\"Box\"].nunique())\n",
    "countboxperstim2.loc[:, \"StimulusID\"] = countboxperstim2.index.get_values().astype(int)\n",
    "countboxperstim2.reset_index(drop = True, inplace = True)\n",
    "display(countboxperstim2[[\"Box\", \"StimulusID\"]])"
   ]
  },
  {
   "cell_type": "markdown",
   "metadata": {},
   "source": [
    "The exceed box for StimulusID 19 is expected as we still don't have change DonorID 819 for this stimulus. The boxes in StimulusID 17, 18, and 24 are also expected. What are these boxes?"
   ]
  },
  {
   "cell_type": "code",
   "execution_count": null,
   "metadata": {
    "collapsed": false
   },
   "outputs": [],
   "source": [
    "display(Markdown(\"**Look on Fraction 1:**\"))\n",
    "stims1 = countboxperstim1.loc[countboxperstim1[\"Box\"] > 11, \"StimulusID\"].values.tolist()\n",
    "\n",
    "if len(df.loc[(df[\"StimulusID\"].isin(stims1)) & (df[\"Box\"].str.contains(\"F1\")), \"Box\"].unique()) > 11:\n",
    "    for stim1 in stims1:\n",
    "        display(Markdown(\"List of boxes for **StimulusID %d**:\" % stim1))\n",
    "        display(Markdown(\";\\n\".join([\"* \"+str(box)+\", StimulusID \"+str(int(stim1)) \\\n",
    "                                     for box in df.loc[(df[\"StimulusID\"] == stim1) & \\\n",
    "                                                       (df[\"Box\"].str.contains(\"F1\")), \"Box\"].unique()])+\".\"))\n",
    "        \n",
    "display(Markdown(\"**Look on Fraction 2:**\"))\n",
    "stims2 = countboxperstim2.loc[countboxperstim2[\"Box\"] > 11, \"StimulusID\"].values.tolist()\n",
    "\n",
    "if len(df.loc[(df[\"StimulusID\"].isin(stims2)) & (df[\"Box\"].str.contains(\"F2\")), \"Box\"].unique()) > 11:\n",
    "    for stim2 in stims2:\n",
    "        display(Markdown(\"List of boxes for **StimulusID %d**:\" % stim2))\n",
    "        display(Markdown(\";\\n\".join([\"* \"+str(box)+\", StimulusID \"+str(int(stim2)) \\\n",
    "                                     for box in df.loc[(df[\"StimulusID\"] == stim2) & \\\n",
    "                                                       (df[\"Box\"].str.contains(\"F2\")), \"Box\"].unique()])+\".\"))"
   ]
  },
  {
   "cell_type": "markdown",
   "metadata": {},
   "source": [
    "List of donors in unexpected boxes:"
   ]
  },
  {
   "cell_type": "code",
   "execution_count": null,
   "metadata": {
    "collapsed": false
   },
   "outputs": [],
   "source": [
    "display(Markdown(\"**Look on Fraction 1:**\"))\n",
    "display(df.loc[(df[\"Box\"] == 'MIC_Plasma_S17_V1_A1_F1_D801-896') & (df[\"StimulusID\"] != 17.0),\\\n",
    "               [\"Box\", \"StimulusID\", \"DonorID\"]])\n",
    "display(df.loc[(df[\"Box\"] == 'MIC_Plasma_S18_V1_A1_F1_D801-896') & (df[\"StimulusID\"] != 18.0),\\\n",
    "               [\"Box\", \"StimulusID\", \"DonorID\"]])\n",
    "display(df.loc[(df[\"Box\"] == 'MIC_Plasma_S24_V1_A1_F1_D801-896') & (df[\"StimulusID\"] != 24.0),\\\n",
    "               [\"Box\", \"StimulusID\", \"DonorID\"]])\n",
    "display(df.loc[(df[\"Box\"] == 'MIC_Plasma_S23_V1_A1_F1_D801-896') & (df[\"StimulusID\"] != 23.0),\\\n",
    "               [\"Box\", \"StimulusID\", \"DonorID\"]])\n",
    "\n",
    "display(Markdown(\"**Look on Fraction 2:**\"))\n",
    "display(df.loc[(df[\"Box\"] == 'MIC_Plasma_S17_V1_A1_F2_D801-896') & (df[\"StimulusID\"] != 17.0),\\\n",
    "               [\"Box\", \"StimulusID\", \"DonorID\"]])\n",
    "display(df.loc[(df[\"Box\"] == 'MIC_Plasma_S18_V1_A1_F2_D801-896') & (df[\"StimulusID\"] != 18.0),\\\n",
    "               [\"Box\", \"StimulusID\", \"DonorID\"]])\n",
    "display(df.loc[(df[\"Box\"] == 'MIC_Plasma_S24_V1_A1_F2_D801-896') & (df[\"StimulusID\"] != 24.0),\\\n",
    "               [\"Box\", \"StimulusID\", \"DonorID\"]])\n",
    "display(df.loc[(df[\"Box\"] == 'MIC_Plasma_S23_V1_A1_F2_D801-896') & (df[\"StimulusID\"] != 23.0),\\\n",
    "               [\"Box\", \"StimulusID\", \"DonorID\"]])"
   ]
  },
  {
   "cell_type": "markdown",
   "metadata": {},
   "source": [
    "These results are agreed with observations done by Céline. These tubes will have to be changed manually, directly from the output file."
   ]
  },
  {
   "cell_type": "code",
   "execution_count": null,
   "metadata": {
    "collapsed": false
   },
   "outputs": [],
   "source": [
    "display(df.loc[(df[\"StimulusID\"].isin([17.0, 18.0, 19.0, 24.0])) & (df[\"DonorID\"] == 819),\\\n",
    "               [\"Box\", \"StimulusID\", \"DonorID\"]])"
   ]
  },
  {
   "cell_type": "markdown",
   "metadata": {},
   "source": [
    "## Checking common fields\n",
    "\n",
    "We have 2 fractions, but each fraction have to contains common informations:\n",
    "* ParentID;\n",
    "* Position;\n",
    "* CreationDate;\n",
    "* UpdateDate;\n",
    "* AliquotID;\n",
    "* BoxType;\n",
    "* VisitID;\n",
    "* ThawCycle;\n",
    "* Volume;\n",
    "* Sample Source;\n",
    "* BatchID;\n",
    "* Sample Type.\n",
    "\n",
    "We expect to have same number of lines for each field, for each fraction:"
   ]
  },
  {
   "cell_type": "code",
   "execution_count": null,
   "metadata": {
    "collapsed": false
   },
   "outputs": [],
   "source": [
    "display(Markdown(\"### Look on Fraction 1\"))\n",
    "\n",
    "display(Markdown(\"#### ParentID field\"))\n",
    "display(Markdown(\"* **%d** empty ParentID\\n* **%d** unique ParentID\" % \\\n",
    "                 (len(df_frac1[df_frac1[\"ParentID\"].isnull()]), len(df_frac1[\"ParentID\"].unique()))))\n",
    "\n",
    "display(Markdown(\"#### Position field\"))\n",
    "tubesperposition1 = pd.DataFrame(df_frac1.groupby(\"Position\")[\"Position\"].count())\n",
    "tubesperposition1.loc[:, \"Tubes\"] = tubesperposition1[\"Position\"]\n",
    "tubesperposition1.loc[:, \"Position\"] = tubesperposition1.index\n",
    "tubesperposition1.reset_index(drop=True, inplace=True)\n",
    "display(tubesperposition1)\n",
    "display(Markdown(\"**%d** tubes for Position.\" % tubesperposition1[\"Tubes\"].sum()))\n",
    "\n",
    "display(Markdown(\"#### CreationDate field\"))\n",
    "tubespercreation1 = pd.DataFrame(df_frac1.groupby(\"CreationDate\")[\"CreationDate\"].count())\n",
    "tubespercreation1.loc[:, \"Tubes\"] = tubespercreation1[\"CreationDate\"]\n",
    "tubespercreation1.loc[:, \"CreationDate\"] = tubespercreation1.index\n",
    "tubespercreation1.reset_index(drop=True, inplace=True)\n",
    "display(tubespercreation1)\n",
    "display(Markdown(\"**%d** tubes for CreationDate.\" % tubespercreation1[\"Tubes\"].sum()))\n",
    "\n",
    "display(Markdown(\"#### UpdateDate field\"))\n",
    "tubesperupdate1 = pd.DataFrame(df_frac1.groupby(\"UpdateDate\")[\"UpdateDate\"].count())\n",
    "tubesperupdate1.loc[:, \"Tubes\"] = tubesperupdate1[\"UpdateDate\"]\n",
    "tubesperupdate1.loc[:, \"UpdateDate\"] = tubesperupdate1.index\n",
    "tubesperupdate1.reset_index(drop=True, inplace=True)\n",
    "display(tubesperupdate1)\n",
    "display(Markdown(\"**%d** tubes for UpdateDate.\" % tubesperupdate1[\"Tubes\"].sum()))\n",
    "\n",
    "display(Markdown(\"#### AliquotID field\"))\n",
    "tubesperaliquotid1 = pd.DataFrame(df_frac1.groupby(\"AliquotID\")[\"AliquotID\"].count())\n",
    "tubesperaliquotid1.loc[:, \"Tubes\"] = tubesperaliquotid1[\"AliquotID\"]\n",
    "tubesperaliquotid1.loc[:, \"AliquotID\"] = tubesperaliquotid1.index\n",
    "tubesperaliquotid1.reset_index(drop=True, inplace=True)\n",
    "display(tubesperaliquotid1)\n",
    "display(Markdown(\"**%d** tubes for AliquotID.\" % tubesperaliquotid1[\"Tubes\"].sum()))\n",
    "\n",
    "display(Markdown(\"#### BoxType field\"))\n",
    "tubesperboxtype1 = pd.DataFrame(df_frac1.groupby(\"BoxType\")[\"BoxType\"].count())\n",
    "tubesperboxtype1.loc[:, \"Tubes\"] = tubesperboxtype1[\"BoxType\"]\n",
    "tubesperboxtype1.loc[:, \"BoxType\"] = tubesperboxtype1.index\n",
    "tubesperboxtype1.reset_index(drop=True, inplace=True)\n",
    "display(tubesperboxtype1)\n",
    "display(Markdown(\"**%d** tubes for BoxType.\" % tubesperboxtype1[\"Tubes\"].sum()))\n",
    "\n",
    "display(Markdown(\"#### VisitID field\"))\n",
    "tubespervisitid1 = pd.DataFrame(df_frac1.groupby(\"VisitID\")[\"VisitID\"].count())\n",
    "tubespervisitid1.loc[:, \"Tubes\"] = tubespervisitid1[\"VisitID\"]\n",
    "tubespervisitid1.loc[:, \"VisitID\"] = tubespervisitid1.index\n",
    "tubespervisitid1.reset_index(drop=True, inplace=True)\n",
    "display(tubespervisitid1)\n",
    "display(Markdown(\"**%d** tubes for VisitID.\" % tubespervisitid1[\"Tubes\"].sum()))\n",
    "\n",
    "display(Markdown(\"#### ThawCycle field\"))\n",
    "tubesperthawcycle1 = pd.DataFrame(df_frac1.groupby(\"ThawCycle\")[\"ThawCycle\"].count())\n",
    "tubesperthawcycle1.loc[:, \"Tubes\"] = tubesperthawcycle1[\"ThawCycle\"]\n",
    "tubesperthawcycle1.loc[:, \"ThawCycle\"] = tubesperthawcycle1.index\n",
    "tubesperthawcycle1.reset_index(drop=True, inplace=True)\n",
    "display(tubesperthawcycle1)\n",
    "display(Markdown(\"**%d** tubes for ThawCycle.\" % tubesperthawcycle1[\"Tubes\"].sum()))\n",
    "\n",
    "display(Markdown(\"#### Sample Source field\"))\n",
    "display(Markdown(\"* **%d** empty Sample Source\\n* **%d** unique Sample Source\" % \\\n",
    "                 (len(df_frac1[df_frac1[\"Sample Source\"].isnull()]), len(df_frac1[\"Sample Source\"].unique()))))\n",
    "\n",
    "display(Markdown(\"#### BatchID field\"))\n",
    "tubesperbatchid1 = pd.DataFrame(df_frac1.groupby(\"BatchID\")[\"BatchID\"].count())\n",
    "tubesperbatchid1.loc[:, \"Tubes\"] = tubesperbatchid1[\"BatchID\"]\n",
    "tubesperbatchid1.loc[:, \"BatchID\"] = tubesperbatchid1.index\n",
    "tubesperbatchid1.reset_index(drop=True, inplace=True)\n",
    "display(tubesperbatchid1)\n",
    "display(Markdown(\"**%d** tubes for ThawCycle.\" % tubesperbatchid1[\"Tubes\"].sum()))\n",
    "\n",
    "display(Markdown(\"#### Sample Type field\"))\n",
    "tubespersampletype1 = pd.DataFrame(df_frac1.groupby(\"Sample Type\")[\"Sample Type\"].count())\n",
    "tubespersampletype1.loc[:, \"Tubes\"] = tubespersampletype1[\"Sample Type\"]\n",
    "tubespersampletype1.loc[:, \"Sample Type\"] = tubespersampletype1.index\n",
    "tubespersampletype1.reset_index(drop=True, inplace=True)\n",
    "display(tubespersampletype1)\n",
    "display(Markdown(\"**%d** tubes for Sample Type.\" % tubespersampletype1[\"Tubes\"].sum()))\n",
    "\n",
    "display(Markdown(\"### Look on Fraction 2\"))\n",
    "\n",
    "display(Markdown(\"#### ParentID field\"))\n",
    "display(Markdown(\"* **%d** empty ParentID\\n* %d unique ParentID\" % \\\n",
    "                 (len(df_frac2[df_frac2[\"ParentID\"].isnull()]), len(df_frac2[\"ParentID\"].unique()))))\n",
    "\n",
    "display(Markdown(\"#### Position field\"))\n",
    "tubesperposition2 = pd.DataFrame(df_frac2.groupby(\"Position\")[\"Position\"].count())\n",
    "tubesperposition2.loc[:, \"Tubes\"] = tubesperposition2[\"Position\"]\n",
    "tubesperposition2.loc[:, \"Position\"] = tubesperposition2.index\n",
    "tubesperposition2.reset_index(drop=True, inplace=True)\n",
    "display(tubesperposition2)\n",
    "display(Markdown(\"**%d** tubes for Position.\" % tubesperposition2[\"Tubes\"].sum()))\n",
    "\n",
    "display(Markdown(\"#### CreationDate field\"))\n",
    "tubespercreation2 = pd.DataFrame(df_frac2.groupby(\"CreationDate\")[\"CreationDate\"].count())\n",
    "tubespercreation2.loc[:, \"Tubes\"] = tubespercreation2[\"CreationDate\"]\n",
    "tubespercreation2.loc[:, \"CreationDate\"] = tubespercreation2.index\n",
    "tubespercreation2.reset_index(drop=True, inplace=True)\n",
    "display(tubespercreation2)\n",
    "display(Markdown(\"**%d** tubes for CreationDate.\" % tubespercreation2[\"Tubes\"].sum()))\n",
    "\n",
    "display(Markdown(\"#### UpdateDate field\"))\n",
    "tubesperupdate2 = pd.DataFrame(df_frac2.groupby(\"UpdateDate\")[\"UpdateDate\"].count())\n",
    "tubesperupdate2.loc[:, \"Tubes\"] = tubesperupdate2[\"UpdateDate\"]\n",
    "tubesperupdate2.loc[:, \"UpdateDate\"] = tubesperupdate2.index\n",
    "tubesperupdate2.reset_index(drop=True, inplace=True)\n",
    "display(tubesperupdate2)\n",
    "display(Markdown(\"**%d** tubes for UpdateDate.\" % tubesperupdate2[\"Tubes\"].sum()))\n",
    "\n",
    "display(Markdown(\"#### AliquotID field\"))\n",
    "tubesperaliquotid2 = pd.DataFrame(df_frac2.groupby(\"AliquotID\")[\"AliquotID\"].count())\n",
    "tubesperaliquotid2.loc[:, \"Tubes\"] = tubesperaliquotid2[\"AliquotID\"]\n",
    "tubesperaliquotid2.loc[:, \"AliquotID\"] = tubesperaliquotid2.index\n",
    "tubesperaliquotid2.reset_index(drop=True, inplace=True)\n",
    "display(tubesperaliquotid2)\n",
    "display(Markdown(\"**%d** tubes for AliquotID.\" % tubesperaliquotid2[\"Tubes\"].sum()))\n",
    "\n",
    "display(Markdown(\"#### BoxType field\"))\n",
    "tubesperboxtype2 = pd.DataFrame(df_frac2.groupby(\"BoxType\")[\"BoxType\"].count())\n",
    "tubesperboxtype2.loc[:, \"Tubes\"] = tubesperboxtype2[\"BoxType\"]\n",
    "tubesperboxtype2.loc[:, \"BoxType\"] = tubesperboxtype2.index\n",
    "tubesperboxtype2.reset_index(drop=True, inplace=True)\n",
    "display(tubesperboxtype2)\n",
    "display(Markdown(\"**%d** tubes for BoxType.\" % tubesperboxtype2[\"Tubes\"].sum()))\n",
    "\n",
    "display(Markdown(\"#### VisitID field\"))\n",
    "tubespervisitid2 = pd.DataFrame(df_frac2.groupby(\"VisitID\")[\"VisitID\"].count())\n",
    "tubespervisitid2.loc[:, \"Tubes\"] = tubespervisitid2[\"VisitID\"]\n",
    "tubespervisitid2.loc[:, \"VisitID\"] = tubespervisitid2.index\n",
    "tubespervisitid2.reset_index(drop=True, inplace=True)\n",
    "display(tubespervisitid2)\n",
    "display(Markdown(\"**%d** tubes for VisitID.\" % tubespervisitid2[\"Tubes\"].sum()))\n",
    "\n",
    "display(Markdown(\"#### ThawCycle field\"))\n",
    "tubesperthawcycle2 = pd.DataFrame(df_frac2.groupby(\"ThawCycle\")[\"ThawCycle\"].count())\n",
    "tubesperthawcycle2.loc[:, \"Tubes\"] = tubesperthawcycle2[\"ThawCycle\"]\n",
    "tubesperthawcycle2.loc[:, \"ThawCycle\"] = tubesperthawcycle2.index\n",
    "tubesperthawcycle2.reset_index(drop=True, inplace=True)\n",
    "display(tubesperthawcycle2)\n",
    "display(Markdown(\"**%d** tubes for ThawCycle.\" % tubesperthawcycle2[\"Tubes\"].sum()))\n",
    "\n",
    "display(Markdown(\"#### Sample Source field\"))\n",
    "display(Markdown(\"* **%d** empty Sample Source\\n* **%d** unique Sample Source\" % \\\n",
    "                 (len(df_frac2[df_frac2[\"Sample Source\"].isnull()]), len(df_frac2[\"Sample Source\"].unique()))))\n",
    "\n",
    "display(Markdown(\"#### BatchID field\"))\n",
    "tubesperbatchid2 = pd.DataFrame(df_frac2.groupby(\"BatchID\")[\"BatchID\"].count())\n",
    "tubesperbatchid2.loc[:, \"Tubes\"] = tubesperbatchid2[\"BatchID\"]\n",
    "tubesperbatchid2.loc[:, \"BatchID\"] = tubesperbatchid2.index\n",
    "tubesperbatchid2.reset_index(drop=True, inplace=True)\n",
    "display(tubesperbatchid2)\n",
    "display(Markdown(\"**%d** tubes for ThawCycle.\" % tubesperbatchid2[\"Tubes\"].sum()))\n",
    "\n",
    "display(Markdown(\"#### Sample Type field\"))\n",
    "tubespersampletype2 = pd.DataFrame(df_frac2.groupby(\"Sample Type\")[\"Sample Type\"].count())\n",
    "tubespersampletype2.loc[:, \"Tubes\"] = tubespersampletype2[\"Sample Type\"]\n",
    "tubespersampletype2.loc[:, \"Sample Type\"] = tubespersampletype2.index\n",
    "tubespersampletype2.reset_index(drop=True, inplace=True)\n",
    "display(tubespersampletype2)\n",
    "display(Markdown(\"**%d** tubes for Sample Type.\" % tubespersampletype2[\"Tubes\"].sum()))"
   ]
  },
  {
   "cell_type": "code",
   "execution_count": null,
   "metadata": {
    "collapsed": false
   },
   "outputs": [],
   "source": [
    "boxescheck = [\"MIC_Plasma_S17_V1_A1_F1_D801-896\", \"MIC_Plasma_S18_V1_A1_F1_D801-896\", \\\n",
    "              \"MIC_Plasma_S19_V1_A1_F1_D801-896\", \"MIC_Plasma_S24_V1_A1_F1_D801-896\", \\\n",
    "              \"MIC_Plasma_S23_V1_A1_F1_D801-896\"]\n",
    "display(df[df[\"Box\"].str.contains(boxescheck[4])][\"StimulusID\"].count())"
   ]
  }
 ],
 "metadata": {
  "kernelspec": {
   "display_name": "Python 2",
   "language": "python",
   "name": "python2"
  },
  "language_info": {
   "codemirror_mode": {
    "name": "ipython",
    "version": 2
   },
   "file_extension": ".py",
   "mimetype": "text/x-python",
   "name": "python",
   "nbconvert_exporter": "python",
   "pygments_lexer": "ipython2",
   "version": "2.7.11"
  }
 },
 "nbformat": 4,
 "nbformat_minor": 0
}
