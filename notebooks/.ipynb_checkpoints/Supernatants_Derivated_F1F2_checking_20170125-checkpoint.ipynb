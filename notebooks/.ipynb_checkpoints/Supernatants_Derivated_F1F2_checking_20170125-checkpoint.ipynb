{
 "cells": [
  {
   "cell_type": "markdown",
   "metadata": {},
   "source": [
    "# Supernatants to update\n",
    "\n",
    "After take fractions from Supernatants Source tubes, we have to update the Source tubes informations. This file is a preparation for the FreezerPro update for the existing tubes."
   ]
  },
  {
   "cell_type": "code",
   "execution_count": 99,
   "metadata": {
    "collapsed": false
   },
   "outputs": [
    {
     "data": {
      "text/markdown": [
       "File *Supernatants_Samples_Derivatived_F1F2_20170125.csv* contains **10000** lines for **5** columns.\n"
      ],
      "text/plain": [
       "<IPython.core.display.Markdown object>"
      ]
     },
     "metadata": {},
     "output_type": "display_data"
    },
    {
     "data": {
      "text/markdown": [
       "List of columns:"
      ],
      "text/plain": [
       "<IPython.core.display.Markdown object>"
      ]
     },
     "metadata": {},
     "output_type": "display_data"
    },
    {
     "data": {
      "text/markdown": [
       "1. RFID;\n",
       "1. Volume;\n",
       "1. UpdateDate;\n",
       "1. Position;\n",
       "1. DonorID."
      ],
      "text/plain": [
       "<IPython.core.display.Markdown object>"
      ]
     },
     "metadata": {},
     "output_type": "display_data"
    }
   ],
   "source": [
    "import pandas as pd\n",
    "import re\n",
    "from IPython.display import display, Markdown, HTML\n",
    "from file_toolkit import *\n",
    "\n",
    "pd.set_option('display.max_rows', 96)\n",
    "pd.set_option('display.max_columns', 96)\n",
    "\n",
    "filepath = \"/Volumes/LabExMI/Users/Nolwenn/FreezerPro/DataToImport/\"\n",
    "filename = \"Supernatants_Samples_Derivatived_F1F2_20170125.csv\"\n",
    "df = pd.read_csv(filepath + filename)\n",
    "display(Markdown(\"File *{}* contains **{}** lines for **{}** columns.\\n\".format(filename, len(df), len(df.columns))))\n",
    "display(Markdown(\"List of columns:\"))\n",
    "display(Markdown(\";\\n\".join([\"1. {}\".format(col) for col in df.columns])+\".\"))"
   ]
  },
  {
   "cell_type": "markdown",
   "metadata": {},
   "source": [
    "Céline and Bruno processed 12 StimulusID in total:\n",
    "\n",
    "1. 9;\n",
    "1. 11;\n",
    "1. 17;\n",
    "1. 18;\n",
    "1. 23;\n",
    "1. 24;\n",
    "1. 27;\n",
    "1. 31;\n",
    "1. 32;\n",
    "1. 35;\n",
    "1. 37;\n",
    "1. 39.\n",
    "\n",
    "Stimuli 9 and 31 were sent to RBM for analysis. For more explanation, ask Bruno and Céline.\n",
    "\n",
    "We expect to have 12.000 unique RFID:"
   ]
  },
  {
   "cell_type": "code",
   "execution_count": 70,
   "metadata": {
    "collapsed": false
   },
   "outputs": [
    {
     "data": {
      "text/markdown": [
       "**10000** unique RFID."
      ],
      "text/plain": [
       "<IPython.core.display.Markdown object>"
      ]
     },
     "metadata": {},
     "output_type": "display_data"
    },
    {
     "data": {
      "text/markdown": [
       "**0** empty RFID."
      ],
      "text/plain": [
       "<IPython.core.display.Markdown object>"
      ]
     },
     "metadata": {},
     "output_type": "display_data"
    }
   ],
   "source": [
    "display(Markdown(\"**{}** unique RFID.\".format(df[\"RFID\"].nunique())))\n",
    "display(Markdown(\"**{}** empty RFID.\".format(len(df.loc[df[\"RFID\"].isnull()]))))"
   ]
  },
  {
   "cell_type": "markdown",
   "metadata": {},
   "source": [
    "Tubes volume should be of different values. If an origin tube was sent to RBM, the volume is supposed to be set at 0 on FreezerPro. We will have to decide if we keep tube data in FreezerPro or if we remove those."
   ]
  },
  {
   "cell_type": "code",
   "execution_count": 71,
   "metadata": {
    "collapsed": false
   },
   "outputs": [
    {
     "data": {
      "text/html": [
       "<div>\n",
       "<table border=\"1\" class=\"dataframe\">\n",
       "  <thead>\n",
       "    <tr style=\"text-align: right;\">\n",
       "      <th></th>\n",
       "      <th>Tubes</th>\n",
       "      <th>Volume</th>\n",
       "    </tr>\n",
       "  </thead>\n",
       "  <tbody>\n",
       "    <tr>\n",
       "      <th>0</th>\n",
       "      <td>10000</td>\n",
       "      <td>200.0</td>\n",
       "    </tr>\n",
       "  </tbody>\n",
       "</table>\n",
       "</div>"
      ],
      "text/plain": [
       "   Tubes  Volume\n",
       "0  10000   200.0"
      ]
     },
     "metadata": {},
     "output_type": "display_data"
    }
   ],
   "source": [
    "# tubespervolume = pd.DataFrame(df.groupby(\"Volume\")[\"RFID\"].nunique())\n",
    "# tubespervolume.rename(columns={\"RFID\": \"Tubes\"}, inplace=True)\n",
    "# tubespervolume.loc[:, \"Volume\"] = tubespervolume.index\n",
    "# tubespervolume.reset_index(drop=True, inplace=True)\n",
    "# display(tubespervolume)\n",
    "tubespervolume = compare_two_columns(df, \"Volume\", \"RFID\")"
   ]
  },
  {
   "cell_type": "markdown",
   "metadata": {},
   "source": [
    "Each tube should have an update date, check if all tubes have an update date assigned:"
   ]
  },
  {
   "cell_type": "code",
   "execution_count": 72,
   "metadata": {
    "collapsed": false
   },
   "outputs": [
    {
     "data": {
      "text/html": [
       "<div>\n",
       "<table border=\"1\" class=\"dataframe\">\n",
       "  <thead>\n",
       "    <tr style=\"text-align: right;\">\n",
       "      <th></th>\n",
       "      <th>Tubes</th>\n",
       "      <th>UpdateDate</th>\n",
       "    </tr>\n",
       "  </thead>\n",
       "  <tbody>\n",
       "    <tr>\n",
       "      <th>0</th>\n",
       "      <td>288</td>\n",
       "      <td>05/09/2016</td>\n",
       "    </tr>\n",
       "    <tr>\n",
       "      <th>1</th>\n",
       "      <td>287</td>\n",
       "      <td>06/09/2016</td>\n",
       "    </tr>\n",
       "    <tr>\n",
       "      <th>2</th>\n",
       "      <td>575</td>\n",
       "      <td>07/09/2016</td>\n",
       "    </tr>\n",
       "    <tr>\n",
       "      <th>3</th>\n",
       "      <td>410</td>\n",
       "      <td>07/10/2016</td>\n",
       "    </tr>\n",
       "    <tr>\n",
       "      <th>4</th>\n",
       "      <td>576</td>\n",
       "      <td>08/09/2016</td>\n",
       "    </tr>\n",
       "    <tr>\n",
       "      <th>5</th>\n",
       "      <td>575</td>\n",
       "      <td>09/09/2016</td>\n",
       "    </tr>\n",
       "    <tr>\n",
       "      <th>6</th>\n",
       "      <td>576</td>\n",
       "      <td>20/09/2016</td>\n",
       "    </tr>\n",
       "    <tr>\n",
       "      <th>7</th>\n",
       "      <td>863</td>\n",
       "      <td>21/09/2016</td>\n",
       "    </tr>\n",
       "    <tr>\n",
       "      <th>8</th>\n",
       "      <td>1151</td>\n",
       "      <td>22/09/2016</td>\n",
       "    </tr>\n",
       "    <tr>\n",
       "      <th>9</th>\n",
       "      <td>863</td>\n",
       "      <td>23/09/2016</td>\n",
       "    </tr>\n",
       "    <tr>\n",
       "      <th>10</th>\n",
       "      <td>575</td>\n",
       "      <td>26/08/2016</td>\n",
       "    </tr>\n",
       "    <tr>\n",
       "      <th>11</th>\n",
       "      <td>1150</td>\n",
       "      <td>26/09/2016</td>\n",
       "    </tr>\n",
       "    <tr>\n",
       "      <th>12</th>\n",
       "      <td>576</td>\n",
       "      <td>28/09/2016</td>\n",
       "    </tr>\n",
       "    <tr>\n",
       "      <th>13</th>\n",
       "      <td>575</td>\n",
       "      <td>29/08/2016</td>\n",
       "    </tr>\n",
       "    <tr>\n",
       "      <th>14</th>\n",
       "      <td>288</td>\n",
       "      <td>29/09/2016</td>\n",
       "    </tr>\n",
       "    <tr>\n",
       "      <th>15</th>\n",
       "      <td>288</td>\n",
       "      <td>30/08/2016</td>\n",
       "    </tr>\n",
       "    <tr>\n",
       "      <th>16</th>\n",
       "      <td>384</td>\n",
       "      <td>31/08/2016</td>\n",
       "    </tr>\n",
       "  </tbody>\n",
       "</table>\n",
       "</div>"
      ],
      "text/plain": [
       "    Tubes  UpdateDate\n",
       "0     288  05/09/2016\n",
       "1     287  06/09/2016\n",
       "2     575  07/09/2016\n",
       "3     410  07/10/2016\n",
       "4     576  08/09/2016\n",
       "5     575  09/09/2016\n",
       "6     576  20/09/2016\n",
       "7     863  21/09/2016\n",
       "8    1151  22/09/2016\n",
       "9     863  23/09/2016\n",
       "10    575  26/08/2016\n",
       "11   1150  26/09/2016\n",
       "12    576  28/09/2016\n",
       "13    575  29/08/2016\n",
       "14    288  29/09/2016\n",
       "15    288  30/08/2016\n",
       "16    384  31/08/2016"
      ]
     },
     "metadata": {},
     "output_type": "display_data"
    },
    {
     "data": {
      "text/markdown": [
       "**10000** tubes are assigned to an UpdateDate."
      ],
      "text/plain": [
       "<IPython.core.display.Markdown object>"
      ]
     },
     "metadata": {},
     "output_type": "display_data"
    },
    {
     "data": {
      "text/markdown": [
       "**0** tubes are not assigned to an UpdateDate."
      ],
      "text/plain": [
       "<IPython.core.display.Markdown object>"
      ]
     },
     "metadata": {},
     "output_type": "display_data"
    }
   ],
   "source": [
    "# tubesperupdate = pd.DataFrame(df.groupby(\"UpdateDate\")[\"RFID\"].count())\n",
    "# tubesperupdate.rename(columns={\"RFID\": \"Tubes\"}, inplace=True)\n",
    "# tubesperupdate.loc[:, \"UpdateDate\"] = tubesperupdate.index\n",
    "# tubesperupdate.reset_index(drop=True, inplace=True)\n",
    "# display(tubesperupdate)\n",
    "tubesperupdate = compare_two_columns(df, \"UpdateDate\", \"RFID\")\n",
    "display(Markdown(\"**{}** tubes are assigned to an UpdateDate.\".format(tubesperupdate[\"Tubes\"].sum())))\n",
    "display(Markdown(\"**{}** tubes are not assigned to an UpdateDate.\".format(len(df.loc[df[\"UpdateDate\"].isnull()]))))"
   ]
  },
  {
   "cell_type": "markdown",
   "metadata": {},
   "source": [
    "We expect to have **1.000** unique DonorID over the **10.000** unique RFID."
   ]
  },
  {
   "cell_type": "code",
   "execution_count": 74,
   "metadata": {
    "collapsed": false
   },
   "outputs": [
    {
     "data": {
      "text/markdown": [
       "**1000** unique DonorID over **10000** unique RFID"
      ],
      "text/plain": [
       "<IPython.core.display.Markdown object>"
      ]
     },
     "metadata": {},
     "output_type": "display_data"
    }
   ],
   "source": [
    "display(Markdown(\"**{}** unique DonorID over **{}** unique RFID\".\\\n",
    "                 format(df[\"DonorID\"].nunique(), df[\"RFID\"].nunique())))"
   ]
  },
  {
   "cell_type": "markdown",
   "metadata": {},
   "source": [
    "We expect to have 10 unique RFID per DonorID."
   ]
  },
  {
   "cell_type": "code",
   "execution_count": 98,
   "metadata": {
    "collapsed": false
   },
   "outputs": [
    {
     "data": {
      "text/markdown": [
       "Each DonorID has a total of **10**."
      ],
      "text/plain": [
       "<IPython.core.display.Markdown object>"
      ]
     },
     "metadata": {},
     "output_type": "display_data"
    }
   ],
   "source": [
    "rfidperdonor = pd.DataFrame(df.groupby(\"DonorID\")[\"RFID\"].nunique())\n",
    "rfidperdonor.loc[:, \"DonorID\"] = rfidperdonor.index.get_values()\n",
    "rfidperdonor.reset_index(drop=True, inplace=True)\n",
    "nbrfidlist = rfidperdonor[\"RFID\"].unique().tolist()\n",
    "if len(nbrfidlist) == 1:\n",
    "    display(Markdown(\"Each DonorID has a total of **{}**.\".format(nbrfidlist.pop())))\n",
    "else:\n",
    "    display(Markdown(\"There is **{}** number of unique RFID per DonorID:\".format(len(nbrfidlist))))\n",
    "    display(Markdown(\";\\n\".join([\"+ {} unique RFID over {} unique DonorID\".\\\n",
    "                        format(nbrfid, \\\n",
    "                               rfidperdonor[rfidperdonor[\"RFID\"] == nbrfid][\"DonorID\"].count()) \\\n",
    "                        for nbrfid in nbrfidlist])))"
   ]
  }
 ],
 "metadata": {
  "kernelspec": {
   "display_name": "Python 2",
   "language": "python",
   "name": "python2"
  },
  "language_info": {
   "codemirror_mode": {
    "name": "ipython",
    "version": 2
   },
   "file_extension": ".py",
   "mimetype": "text/x-python",
   "name": "python",
   "nbconvert_exporter": "python",
   "pygments_lexer": "ipython2",
   "version": "2.7.11"
  }
 },
 "nbformat": 4,
 "nbformat_minor": 0
}
