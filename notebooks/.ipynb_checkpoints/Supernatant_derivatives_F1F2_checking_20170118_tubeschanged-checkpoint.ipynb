{
 "cells": [
  {
   "cell_type": "markdown",
   "metadata": {},
   "source": [
    "# Derivatives of Supernatants from our freezers, after corrections"
   ]
  },
  {
   "cell_type": "markdown",
   "metadata": {},
   "source": [
    "## General informations"
   ]
  },
  {
   "cell_type": "code",
   "execution_count": 3,
   "metadata": {
    "collapsed": false
   },
   "outputs": [
    {
     "ename": "IOError",
     "evalue": "Initializing from file failed",
     "output_type": "error",
     "traceback": [
      "\u001b[0;31m---------------------------------------------------------------------------\u001b[0m",
      "\u001b[0;31mIOError\u001b[0m                                   Traceback (most recent call last)",
      "\u001b[0;32m<ipython-input-3-1e5655a50f49>\u001b[0m in \u001b[0;36m<module>\u001b[0;34m()\u001b[0m\n\u001b[1;32m     13\u001b[0m \u001b[0mfilepath\u001b[0m \u001b[0;34m=\u001b[0m \u001b[0;34m\"/Volumes/LabExMI/Users/Nolwenn/FreezerPro/DataToImport/\"\u001b[0m\u001b[0;34m\u001b[0m\u001b[0m\n\u001b[1;32m     14\u001b[0m \u001b[0mfilename\u001b[0m \u001b[0;34m=\u001b[0m \u001b[0;34m\"Supernatants_Derivatives_F1F2_20170118_tubescorrected.csv\"\u001b[0m\u001b[0;34m\u001b[0m\u001b[0m\n\u001b[0;32m---> 15\u001b[0;31m \u001b[0mdf\u001b[0m \u001b[0;34m=\u001b[0m \u001b[0mpd\u001b[0m\u001b[0;34m.\u001b[0m\u001b[0mread_csv\u001b[0m\u001b[0;34m(\u001b[0m\u001b[0mfilepath\u001b[0m\u001b[0;34m+\u001b[0m\u001b[0mfilename\u001b[0m\u001b[0;34m)\u001b[0m\u001b[0;34m\u001b[0m\u001b[0m\n\u001b[0m\u001b[1;32m     16\u001b[0m \u001b[0mdisplay\u001b[0m\u001b[0;34m(\u001b[0m\u001b[0mMarkdown\u001b[0m\u001b[0;34m(\u001b[0m\u001b[0;34m\"**%d** tubes in our derivatives file.\"\u001b[0m \u001b[0;34m%\u001b[0m \u001b[0mlen\u001b[0m\u001b[0;34m(\u001b[0m\u001b[0mdf\u001b[0m\u001b[0;34m)\u001b[0m\u001b[0;34m)\u001b[0m\u001b[0;34m)\u001b[0m\u001b[0;34m\u001b[0m\u001b[0m\n\u001b[1;32m     17\u001b[0m \u001b[0mdisplay\u001b[0m\u001b[0;34m(\u001b[0m\u001b[0mMarkdown\u001b[0m\u001b[0;34m(\u001b[0m\u001b[0;34m\"* **%d** tubes for Fraction 1.\"\u001b[0m \u001b[0;34m%\u001b[0m \u001b[0mlen\u001b[0m\u001b[0;34m(\u001b[0m\u001b[0mdf\u001b[0m\u001b[0;34m.\u001b[0m\u001b[0mloc\u001b[0m\u001b[0;34m[\u001b[0m\u001b[0mdf\u001b[0m\u001b[0;34m[\u001b[0m\u001b[0;34m\"Sample Type\"\u001b[0m\u001b[0;34m]\u001b[0m \u001b[0;34m==\u001b[0m \u001b[0;34m\"Fraction1\"\u001b[0m\u001b[0;34m]\u001b[0m\u001b[0;34m)\u001b[0m\u001b[0;34m)\u001b[0m\u001b[0;34m)\u001b[0m\u001b[0;34m\u001b[0m\u001b[0m\n",
      "\u001b[0;32m/Users/nlaviell/anaconda2/lib/python2.7/site-packages/pandas/io/parsers.pyc\u001b[0m in \u001b[0;36mparser_f\u001b[0;34m(filepath_or_buffer, sep, delimiter, header, names, index_col, usecols, squeeze, prefix, mangle_dupe_cols, dtype, engine, converters, true_values, false_values, skipinitialspace, skiprows, skipfooter, nrows, na_values, keep_default_na, na_filter, verbose, skip_blank_lines, parse_dates, infer_datetime_format, keep_date_col, date_parser, dayfirst, iterator, chunksize, compression, thousands, decimal, lineterminator, quotechar, quoting, escapechar, comment, encoding, dialect, tupleize_cols, error_bad_lines, warn_bad_lines, skip_footer, doublequote, delim_whitespace, as_recarray, compact_ints, use_unsigned, low_memory, buffer_lines, memory_map, float_precision)\u001b[0m\n\u001b[1;32m    527\u001b[0m                     skip_blank_lines=skip_blank_lines)\n\u001b[1;32m    528\u001b[0m \u001b[0;34m\u001b[0m\u001b[0m\n\u001b[0;32m--> 529\u001b[0;31m         \u001b[0;32mreturn\u001b[0m \u001b[0m_read\u001b[0m\u001b[0;34m(\u001b[0m\u001b[0mfilepath_or_buffer\u001b[0m\u001b[0;34m,\u001b[0m \u001b[0mkwds\u001b[0m\u001b[0;34m)\u001b[0m\u001b[0;34m\u001b[0m\u001b[0m\n\u001b[0m\u001b[1;32m    530\u001b[0m \u001b[0;34m\u001b[0m\u001b[0m\n\u001b[1;32m    531\u001b[0m     \u001b[0mparser_f\u001b[0m\u001b[0;34m.\u001b[0m\u001b[0m__name__\u001b[0m \u001b[0;34m=\u001b[0m \u001b[0mname\u001b[0m\u001b[0;34m\u001b[0m\u001b[0m\n",
      "\u001b[0;32m/Users/nlaviell/anaconda2/lib/python2.7/site-packages/pandas/io/parsers.pyc\u001b[0m in \u001b[0;36m_read\u001b[0;34m(filepath_or_buffer, kwds)\u001b[0m\n\u001b[1;32m    293\u001b[0m \u001b[0;34m\u001b[0m\u001b[0m\n\u001b[1;32m    294\u001b[0m     \u001b[0;31m# Create the parser.\u001b[0m\u001b[0;34m\u001b[0m\u001b[0;34m\u001b[0m\u001b[0m\n\u001b[0;32m--> 295\u001b[0;31m     \u001b[0mparser\u001b[0m \u001b[0;34m=\u001b[0m \u001b[0mTextFileReader\u001b[0m\u001b[0;34m(\u001b[0m\u001b[0mfilepath_or_buffer\u001b[0m\u001b[0;34m,\u001b[0m \u001b[0;34m**\u001b[0m\u001b[0mkwds\u001b[0m\u001b[0;34m)\u001b[0m\u001b[0;34m\u001b[0m\u001b[0m\n\u001b[0m\u001b[1;32m    296\u001b[0m \u001b[0;34m\u001b[0m\u001b[0m\n\u001b[1;32m    297\u001b[0m     \u001b[0;32mif\u001b[0m \u001b[0;34m(\u001b[0m\u001b[0mnrows\u001b[0m \u001b[0;32mis\u001b[0m \u001b[0;32mnot\u001b[0m \u001b[0mNone\u001b[0m\u001b[0;34m)\u001b[0m \u001b[0;32mand\u001b[0m \u001b[0;34m(\u001b[0m\u001b[0mchunksize\u001b[0m \u001b[0;32mis\u001b[0m \u001b[0;32mnot\u001b[0m \u001b[0mNone\u001b[0m\u001b[0;34m)\u001b[0m\u001b[0;34m:\u001b[0m\u001b[0;34m\u001b[0m\u001b[0m\n",
      "\u001b[0;32m/Users/nlaviell/anaconda2/lib/python2.7/site-packages/pandas/io/parsers.pyc\u001b[0m in \u001b[0;36m__init__\u001b[0;34m(self, f, engine, **kwds)\u001b[0m\n\u001b[1;32m    610\u001b[0m             \u001b[0mself\u001b[0m\u001b[0;34m.\u001b[0m\u001b[0moptions\u001b[0m\u001b[0;34m[\u001b[0m\u001b[0;34m'has_index_names'\u001b[0m\u001b[0;34m]\u001b[0m \u001b[0;34m=\u001b[0m \u001b[0mkwds\u001b[0m\u001b[0;34m[\u001b[0m\u001b[0;34m'has_index_names'\u001b[0m\u001b[0;34m]\u001b[0m\u001b[0;34m\u001b[0m\u001b[0m\n\u001b[1;32m    611\u001b[0m \u001b[0;34m\u001b[0m\u001b[0m\n\u001b[0;32m--> 612\u001b[0;31m         \u001b[0mself\u001b[0m\u001b[0;34m.\u001b[0m\u001b[0m_make_engine\u001b[0m\u001b[0;34m(\u001b[0m\u001b[0mself\u001b[0m\u001b[0;34m.\u001b[0m\u001b[0mengine\u001b[0m\u001b[0;34m)\u001b[0m\u001b[0;34m\u001b[0m\u001b[0m\n\u001b[0m\u001b[1;32m    613\u001b[0m \u001b[0;34m\u001b[0m\u001b[0m\n\u001b[1;32m    614\u001b[0m     \u001b[0;32mdef\u001b[0m \u001b[0m_get_options_with_defaults\u001b[0m\u001b[0;34m(\u001b[0m\u001b[0mself\u001b[0m\u001b[0;34m,\u001b[0m \u001b[0mengine\u001b[0m\u001b[0;34m)\u001b[0m\u001b[0;34m:\u001b[0m\u001b[0;34m\u001b[0m\u001b[0m\n",
      "\u001b[0;32m/Users/nlaviell/anaconda2/lib/python2.7/site-packages/pandas/io/parsers.pyc\u001b[0m in \u001b[0;36m_make_engine\u001b[0;34m(self, engine)\u001b[0m\n\u001b[1;32m    745\u001b[0m     \u001b[0;32mdef\u001b[0m \u001b[0m_make_engine\u001b[0m\u001b[0;34m(\u001b[0m\u001b[0mself\u001b[0m\u001b[0;34m,\u001b[0m \u001b[0mengine\u001b[0m\u001b[0;34m=\u001b[0m\u001b[0;34m'c'\u001b[0m\u001b[0;34m)\u001b[0m\u001b[0;34m:\u001b[0m\u001b[0;34m\u001b[0m\u001b[0m\n\u001b[1;32m    746\u001b[0m         \u001b[0;32mif\u001b[0m \u001b[0mengine\u001b[0m \u001b[0;34m==\u001b[0m \u001b[0;34m'c'\u001b[0m\u001b[0;34m:\u001b[0m\u001b[0;34m\u001b[0m\u001b[0m\n\u001b[0;32m--> 747\u001b[0;31m             \u001b[0mself\u001b[0m\u001b[0;34m.\u001b[0m\u001b[0m_engine\u001b[0m \u001b[0;34m=\u001b[0m \u001b[0mCParserWrapper\u001b[0m\u001b[0;34m(\u001b[0m\u001b[0mself\u001b[0m\u001b[0;34m.\u001b[0m\u001b[0mf\u001b[0m\u001b[0;34m,\u001b[0m \u001b[0;34m**\u001b[0m\u001b[0mself\u001b[0m\u001b[0;34m.\u001b[0m\u001b[0moptions\u001b[0m\u001b[0;34m)\u001b[0m\u001b[0;34m\u001b[0m\u001b[0m\n\u001b[0m\u001b[1;32m    748\u001b[0m         \u001b[0;32melse\u001b[0m\u001b[0;34m:\u001b[0m\u001b[0;34m\u001b[0m\u001b[0m\n\u001b[1;32m    749\u001b[0m             \u001b[0;32mif\u001b[0m \u001b[0mengine\u001b[0m \u001b[0;34m==\u001b[0m \u001b[0;34m'python'\u001b[0m\u001b[0;34m:\u001b[0m\u001b[0;34m\u001b[0m\u001b[0m\n",
      "\u001b[0;32m/Users/nlaviell/anaconda2/lib/python2.7/site-packages/pandas/io/parsers.pyc\u001b[0m in \u001b[0;36m__init__\u001b[0;34m(self, src, **kwds)\u001b[0m\n\u001b[1;32m   1117\u001b[0m         \u001b[0mkwds\u001b[0m\u001b[0;34m[\u001b[0m\u001b[0;34m'allow_leading_cols'\u001b[0m\u001b[0;34m]\u001b[0m \u001b[0;34m=\u001b[0m \u001b[0mself\u001b[0m\u001b[0;34m.\u001b[0m\u001b[0mindex_col\u001b[0m \u001b[0;32mis\u001b[0m \u001b[0;32mnot\u001b[0m \u001b[0mFalse\u001b[0m\u001b[0;34m\u001b[0m\u001b[0m\n\u001b[1;32m   1118\u001b[0m \u001b[0;34m\u001b[0m\u001b[0m\n\u001b[0;32m-> 1119\u001b[0;31m         \u001b[0mself\u001b[0m\u001b[0;34m.\u001b[0m\u001b[0m_reader\u001b[0m \u001b[0;34m=\u001b[0m \u001b[0m_parser\u001b[0m\u001b[0;34m.\u001b[0m\u001b[0mTextReader\u001b[0m\u001b[0;34m(\u001b[0m\u001b[0msrc\u001b[0m\u001b[0;34m,\u001b[0m \u001b[0;34m**\u001b[0m\u001b[0mkwds\u001b[0m\u001b[0;34m)\u001b[0m\u001b[0;34m\u001b[0m\u001b[0m\n\u001b[0m\u001b[1;32m   1120\u001b[0m \u001b[0;34m\u001b[0m\u001b[0m\n\u001b[1;32m   1121\u001b[0m         \u001b[0;31m# XXX\u001b[0m\u001b[0;34m\u001b[0m\u001b[0;34m\u001b[0m\u001b[0m\n",
      "\u001b[0;32mpandas/parser.pyx\u001b[0m in \u001b[0;36mpandas.parser.TextReader.__cinit__ (pandas/parser.c:3246)\u001b[0;34m()\u001b[0m\n",
      "\u001b[0;32mpandas/parser.pyx\u001b[0m in \u001b[0;36mpandas.parser.TextReader._setup_parser_source (pandas/parser.c:6133)\u001b[0;34m()\u001b[0m\n",
      "\u001b[0;31mIOError\u001b[0m: Initializing from file failed"
     ]
    }
   ],
   "source": [
    "import pandas as pd\n",
    "import re\n",
    "from IPython.display import display, Markdown, HTML\n",
    "\n",
    "# print table without index column\n",
    "def table_wo_index(df):\n",
    "    table = HTML(re.sub('(<tr.*>\\n) +<th>.*</th>\\n', '\\\\1', df._repr_html_()))\n",
    "    return(table)\n",
    "\n",
    "pd.set_option('display.max_rows', 96)\n",
    "pd.set_option('display.max_columns', 96)\n",
    "\n",
    "filepath = \"/Volumes/LabExMI/Users/Nolwenn/FreezerPro/DataToImport/\"\n",
    "filename = \"Supernatants_Derivatives_F1F2_20170118_tubescorrected.csv\"\n",
    "df = pd.read_csv(filepath+filename)\n",
    "display(Markdown(\"**%d** tubes in our derivatives file.\" % len(df)))\n",
    "display(Markdown(\"* **%d** tubes for Fraction 1.\" % len(df.loc[df[\"Sample Type\"] == \"Fraction1\"])))\n",
    "display(Markdown(\"* **%d** tubes for Fraction 2.\" % len(df.loc[df[\"Sample Type\"] == \"Fraction2\"])))\n",
    "display(Markdown(\"* **%d** tubes are not assigned to a fraction.\" % len(df.loc[df[\"Sample Type\"].isnull()])))\n",
    "display(Markdown(\"List of the *%d* columns:\" % len(df.columns)))\n",
    "display(Markdown(\";\\n\".join([\"1. \"+col for col in df.columns])+\".\"))"
   ]
  },
  {
   "cell_type": "markdown",
   "metadata": {},
   "source": [
    "We have **20.000** tubes as expected, and **10.000** tubes per Fraction. We want to know how many tube per donor we have.\n",
    "\n",
    "## Checking tubes"
   ]
  },
  {
   "cell_type": "code",
   "execution_count": null,
   "metadata": {
    "collapsed": false
   },
   "outputs": [],
   "source": [
    "display(Markdown(\"Final output file has **%d unique StimulusID**\" % len(df[\"StimulusID\"].unique())))\n",
    "countstimperdonor = pd.DataFrame(df.groupby(\"DonorID\")[\"StimulusID\"].count())\n",
    "display(Markdown(\"List of **%d** count of tubes per donor:\" % len(countstimperdonor[\"StimulusID\"].unique())))\n",
    "display(Markdown(\";\\n\".join([\"* \"+str(int(stim))+\" tubes per donor\" for stim in sorted(countstimperdonor[\"StimulusID\"].unique())])+\".\"))"
   ]
  },
  {
   "cell_type": "markdown",
   "metadata": {},
   "source": [
    "We were expecting **10 unique** StimulusID, Céline and Bruno only treat 10 Stimulus. We have an extra stimulus.\n",
    "\n",
    "We want to know if at least one donor has less than 20 tubes associated, and, if possible, which tube is missing."
   ]
  },
  {
   "cell_type": "code",
   "execution_count": null,
   "metadata": {
    "collapsed": false
   },
   "outputs": [],
   "source": [
    "donorindexes = countstimperdonor[countstimperdonor[\"StimulusID\"] < 20].index.values\n",
    "if len(donorindexes) > 0:\n",
    "    display(Markdown(\"List of **%d** unique DonorID:\" % len(donorindexes)))\n",
    "    display(Markdown(\";\\n\".join([\" - \"+str(int(donor)) for donor in sorted(donorindexes)])+\".\"))\n",
    "else:\n",
    "    display(Markdown(\"All donor are assigned to at least 20 StimulusID.\"))\n",
    "    display(Markdown(\"**%d** unique DonorID has more than 20 StimulusID.\" % \\\n",
    "                     len(countstimperdonor[countstimperdonor[\"StimulusID\"] > 20].index.values)))"
   ]
  },
  {
   "cell_type": "markdown",
   "metadata": {},
   "source": [
    "We also want to known how many DonorID each StimulusID count:"
   ]
  },
  {
   "cell_type": "code",
   "execution_count": null,
   "metadata": {
    "collapsed": false
   },
   "outputs": [],
   "source": [
    "countdonorperstim = pd.DataFrame(df.groupby(\"StimulusID\")[\"DonorID\"].count())\n",
    "countdonorperstim.loc[:, \"StimulusID\"] = countdonorperstim.index.get_values().astype(int)\n",
    "countdonorperstim.reset_index(drop=True, inplace=True)\n",
    "display(countdonorperstim[[\"StimulusID\", \"DonorID\"]])\n",
    "display(Markdown(\"**%d** unique DonorID.\" % len(df[\"DonorID\"].unique())))"
   ]
  },
  {
   "cell_type": "markdown",
   "metadata": {},
   "source": [
    "Just to be sure, we need to know how many unique barcode each StimulusID count:"
   ]
  },
  {
   "cell_type": "code",
   "execution_count": null,
   "metadata": {
    "collapsed": false
   },
   "outputs": [],
   "source": [
    "countbarcodeperstim = pd.DataFrame(df.groupby(\"StimulusID\")[\"BARCODE\"].nunique())\n",
    "countbarcodeperstim.loc[:, \"StimulusID\"] = countbarcodeperstim.index.get_values().astype(int)\n",
    "countbarcodeperstim.reset_index(drop=True, inplace=True)\n",
    "display(countbarcodeperstim[[\"StimulusID\", \"BARCODE\"]])\n",
    "display(Markdown(\"**%d** unique BARCODE.\" % len(df[\"BARCODE\"].unique())))\n",
    "display(Markdown(\"**%d** not unique BARCODE:\" % len(df.loc[df.duplicated([\"BARCODE\"])])))\n",
    "if len(df.loc[df.duplicated([\"BARCODE\"])]) > 0:\n",
    "    barcodelist = df.loc[df.duplicated([\"BARCODE\"]), \"BARCODE\"].tolist()\n",
    "    display(df.loc[df[\"BARCODE\"].isin(barcodelist), [\"ParentID\", \"Position\", \"DonorID\", \"AliquotID\", \"StimulusID\"]])"
   ]
  },
  {
   "cell_type": "markdown",
   "metadata": {},
   "source": [
    "Why do the BARCODE *3260627121* is duplicated? Need to recheck."
   ]
  },
  {
   "cell_type": "markdown",
   "metadata": {},
   "source": [
    "For donor *819*, the problem is normally corrected. In fact, this donor is supposed to be assigned to stimulus 23 but it seems that stimulus were mixed for this donor:\n",
    "* in box 23, tube donor 819 found should have been assigned for box 24\n",
    "* in box 24, tube donor 819 found should have been assigned for box 17\n",
    "* in box 17, tube donor 819 found should have been assigned for box 18\n",
    "* in box 18, tube donor 819 found should have been assigned for box 19\n",
    "\n",
    "Nolwenn manually changed the wrong ParentID and StimulusID. The following analysis will track if an error still occurs.\n",
    "\n",
    "For stimulus 23, we want to know which are the missing donors:"
   ]
  },
  {
   "cell_type": "code",
   "execution_count": null,
   "metadata": {
    "collapsed": false
   },
   "outputs": [],
   "source": [
    "donorlist = df[\"DonorID\"].unique()\n",
    "donorliststim23 = df.loc[df[\"StimulusID\"] == 23.0, \"DonorID\"].unique()\n",
    "donornotfound = list(set(donorlist) - set(donorliststim23))\n",
    "if len(donornotfound) > 0:\n",
    "    display(Markdown(\"List of **%d** donors not found for StimulusID 23:\" % len(donornotfound)))\n",
    "    display(Markdown(\";\\n\".join([\"* \"+str(int(donor)) for donor in sorted(donornotfound)])))\n",
    "else:\n",
    "    display(Markdown(\"List of **%d** donors not found for StimulusID 23.\" % len(donornotfound)))"
   ]
  },
  {
   "cell_type": "markdown",
   "metadata": {},
   "source": [
    "## Checking boxes\n",
    "\n",
    "Know we want to be sure that we have one stimulus per box:"
   ]
  },
  {
   "cell_type": "code",
   "execution_count": null,
   "metadata": {
    "collapsed": false
   },
   "outputs": [],
   "source": [
    "display(Markdown(\"There is **%d unique boxes** in the whole file.\" % len(df[\"Box\"].unique())))\n",
    "\n",
    "display(Markdown(\"**Look on Fraction 1:**\"))\n",
    "display(Markdown(\"There is **%d unique boxes** in the file for Fraction 1.\" %\\\n",
    "                 len(df.loc[df[\"Sample Type\"] == \"Fraction1\", \"Box\"].unique())))\n",
    "countboxstim = pd.DataFrame(df.groupby(\"Box\")[\"StimulusID\"].nunique())\n",
    "countboxstim.loc[:, \"Box\"] = countboxstim.index.get_values()\n",
    "countboxstim.reset_index(drop = True, inplace = True)\n",
    "if len(countboxstim[countboxstim[\"StimulusID\"] > 1]) > 0:\n",
    "    display(table_wo_index(countboxstim.loc[(countboxstim[\"StimulusID\"] > 1) & (countboxstim[\"Box\"].str.contains(\"F1\")),\\\n",
    "                             [\"Box\", \"StimulusID\"]]))\n",
    "else:\n",
    "    display(Markdown(\"None box contains more than one stimulus.\"))\n",
    "\n",
    "display(Markdown(\"**Look on Fraction 2:**\"))\n",
    "display(Markdown(\"There is **%d unique boxes** in the file for Fraction 2.\" %\\\n",
    "                 len(df.loc[df[\"Sample Type\"] == \"Fraction2\", \"Box\"].unique())))\n",
    "countboxstim = pd.DataFrame(df.groupby(\"Box\")[\"StimulusID\"].nunique())\n",
    "countboxstim.loc[:, \"Box\"] = countboxstim.index.get_values()\n",
    "countboxstim.reset_index(drop = True, inplace = True)\n",
    "if len(countboxstim[countboxstim[\"StimulusID\"] > 1]) > 0:\n",
    "    display(table_wo_index(countboxstim.loc[(countboxstim[\"StimulusID\"] > 1) & (countboxstim[\"Box\"].str.contains(\"F2\")),\\\n",
    "                             [\"Box\", \"StimulusID\"]]))\n",
    "else:\n",
    "    display(Markdown(\"None box contains more than one stimulus.\"))"
   ]
  },
  {
   "cell_type": "markdown",
   "metadata": {},
   "source": [
    "The boxes impacted shown in previous report seems to have been succesfully corrected."
   ]
  },
  {
   "cell_type": "markdown",
   "metadata": {},
   "source": [
    "We also want to be sure that the box name reproduce the same correction if we look with the Thermo Fisher box barcode:"
   ]
  },
  {
   "cell_type": "code",
   "execution_count": null,
   "metadata": {
    "collapsed": false
   },
   "outputs": [],
   "source": [
    "display(Markdown(\"There is a total of **%d unique boxes** in the file.\" % len(df[\"ThermoBoxBarcode\"].unique())))\n",
    "display(Markdown(\"There is **%d unique boxes** in Fraction 1.\" % len(df.loc[df[\"Sample Type\"] == \"Fraction1\", \\\n",
    "                                                                          \"ThermoBoxBarcode\"].unique())))\n",
    "display(Markdown(\"There is **%d unique boxes** in Fraction 2.\" % len(df.loc[df[\"Sample Type\"] == \"Fraction2\", \\\n",
    "                                                                          \"ThermoBoxBarcode\"].unique())))\n",
    "\n",
    "countthermoboxstim = pd.DataFrame(df.groupby(\"ThermoBoxBarcode\")[\"StimulusID\"].nunique())\n",
    "countthermoboxstim.loc[:, \"ThermoBoxBarcode\"] = countthermoboxstim.index.get_values()\n",
    "countthermoboxstim.reset_index(drop = True, inplace = True)\n",
    "if len(countthermoboxstim.loc[(countthermoboxstim[\"StimulusID\"] > 1)]> 0):\n",
    "    display(table_wo_index(countthermoboxstim.loc[(countthermoboxstim[\"StimulusID\"] > 1), \\\n",
    "                                                  [\"ThermoBoxBarcode\", \"StimulusID\"]]))\n",
    "else:\n",
    "    display(Markdown(\"None box contains more than one stimulus.\"))"
   ]
  },
  {
   "cell_type": "markdown",
   "metadata": {},
   "source": [
    "We have the same number of ThermoBoxBarcode as of BoxBarcode."
   ]
  },
  {
   "cell_type": "markdown",
   "metadata": {},
   "source": [
    "For each ThermoBoxBarcode column, which are those with more than one Box column associated?"
   ]
  },
  {
   "cell_type": "code",
   "execution_count": null,
   "metadata": {
    "collapsed": false
   },
   "outputs": [],
   "source": [
    "countboxperthermobox = pd.DataFrame(df.groupby(\"Box\")[\"ThermoBoxBarcode\"].nunique())\n",
    "countboxperthermobox.loc[:, \"Box\"] = countboxperthermobox.index.get_values()\n",
    "countboxperthermobox.reset_index(drop=True, inplace=True)\n",
    "display(Markdown(\"**%d** boxes are not assigned to a ThermoBoxBarcode\" % \\\n",
    "                 len(countboxperthermobox.loc[countboxperthermobox[\"ThermoBoxBarcode\"] < 1,\\\n",
    "                                              [\"Box\", \"ThermoBoxBarcode\"]])))\n",
    "display(Markdown(\"**%d** boxes are assigned to more than one ThermoBoxBarcode\" % \\\n",
    "                 len(countboxperthermobox.loc[countboxperthermobox[\"ThermoBoxBarcode\"] > 1,\\\n",
    "                                              [\"Box\", \"ThermoBoxBarcode\"]])))\n",
    "display(Markdown(\"**%d** boxes are assigned to a ThermoBoxBarcode\" % \\\n",
    "                 len(countboxperthermobox.loc[countboxperthermobox[\"ThermoBoxBarcode\"] == 1,\\\n",
    "                                              [\"Box\", \"ThermoBoxBarcode\"]])))\n",
    "if len(countboxperthermobox.loc[countboxperthermobox[\"ThermoBoxBarcode\"] != 1, \\\n",
    "                                [\"Box\", \"ThermoBoxBarcode\"]]) > 0:\n",
    "    display(countboxperthermobox.loc[countboxperthermobox[\"ThermoBoxBarcode\"] != 1,[\"Box\", \"ThermoBoxBarcode\"]])"
   ]
  },
  {
   "cell_type": "markdown",
   "metadata": {},
   "source": [
    "No more than one Box column is associated to a ThermoBoxBarcode, as expected. Do we have tubes that are not assigned to ThermoBoxBarcode column?"
   ]
  },
  {
   "cell_type": "code",
   "execution_count": null,
   "metadata": {
    "collapsed": false
   },
   "outputs": [],
   "source": [
    "boxes = countboxperthermobox.loc[countboxperthermobox[\"ThermoBoxBarcode\"] != 1][\"Box\"].values\n",
    "display(Markdown(\"**%d** tubes in boxes not assigned to ThermoBoxbarcode.\" % \\\n",
    "      len(df.loc[df[\"Box\"].isin(boxes), [\"Box\", \"ThermoBoxBarcode\", \"DonorID\"]])))\n",
    "if len(df.loc[df[\"Box\"].isin(boxes), [\"Box\", \"ThermoBoxBarcode\", \"DonorID\"]]) > 0:\n",
    "    display(df.loc[df[\"Box\"].isin(boxes), [\"Box\", \"ThermoBoxBarcode\", \"DonorID\"]])"
   ]
  },
  {
   "cell_type": "markdown",
   "metadata": {},
   "source": [
    "## Checking excluded donors\n",
    "\n",
    "We also want to check if none of the excluded donors are in our data:"
   ]
  },
  {
   "cell_type": "code",
   "execution_count": null,
   "metadata": {
    "collapsed": false
   },
   "outputs": [],
   "source": [
    "excludeddonors = [96, 104, 122, 167, 178, 219, 268, 279, 303, 308, 534, 701]\n",
    "df[\"DonorID\"] = df[\"DonorID\"].astype(int)\n",
    "display(Markdown(\"**%d** donor found.\" % len(df.loc[df[\"DonorID\"].isin(excludeddonors), \"DonorID\"].unique())))\n",
    "if len(df.loc[df[\"DonorID\"].isin(excludeddonors), \"DonorID\"].unique()) > 0:\n",
    "    display(Markdown(\"The excluded donor found are:\"))\n",
    "    display(Markdown(\";\\n\".join([\"* \"+str(donor) for donor in df.loc[df[\"DonorID\"].isin(excludeddonors), \"DonorID\"].unique()])))"
   ]
  },
  {
   "cell_type": "markdown",
   "metadata": {},
   "source": [
    "We have none of the excluded donors in the final output of our data."
   ]
  },
  {
   "cell_type": "markdown",
   "metadata": {},
   "source": [
    "## Checking StimulusID\n",
    "\n",
    "We are supposed to have 11 boxes per stimulus and fraction, how many boxes do we effectively have per StimulusID?"
   ]
  },
  {
   "cell_type": "code",
   "execution_count": null,
   "metadata": {
    "collapsed": false
   },
   "outputs": [],
   "source": [
    "display(Markdown(\"**Look on Fraction 1:**\"))\n",
    "df_frac1 = df.loc[df[\"Sample Type\"] == \"Fraction1\"]\n",
    "countboxperstim1 = pd.DataFrame(df_frac1.groupby(\"StimulusID\")[\"Box\"].nunique())\n",
    "countboxperstim1.loc[:, \"StimulusID\"] = countboxperstim1.index.get_values().astype(int)\n",
    "countboxperstim1.reset_index(drop = True, inplace = True)\n",
    "display(countboxperstim1[[\"Box\", \"StimulusID\"]])\n",
    "\n",
    "display(Markdown(\"**Look on Fraction 2:**\"))\n",
    "df_frac2 = df.loc[df[\"Sample Type\"] == \"Fraction2\"]\n",
    "countboxperstim2 = pd.DataFrame(df_frac2.groupby(\"StimulusID\")[\"Box\"].nunique())\n",
    "countboxperstim2.loc[:, \"StimulusID\"] = countboxperstim2.index.get_values().astype(int)\n",
    "countboxperstim2.reset_index(drop = True, inplace = True)\n",
    "display(countboxperstim2[[\"Box\", \"StimulusID\"]])"
   ]
  },
  {
   "cell_type": "markdown",
   "metadata": {},
   "source": [
    "We have 11 boxes per stimulus, as expected. The boxes in StimulusID 17, 18, and 24 generated errors on a previous report, now they are in accordance with expected data:"
   ]
  },
  {
   "cell_type": "code",
   "execution_count": null,
   "metadata": {
    "collapsed": false
   },
   "outputs": [],
   "source": [
    "display(df.loc[(df[\"StimulusID\"].isin([17.0, 18.0, 19.0, 24.0])) & (df[\"DonorID\"] == 819),\\\n",
    "               [\"Box\", \"StimulusID\", \"DonorID\"]])"
   ]
  },
  {
   "cell_type": "markdown",
   "metadata": {},
   "source": [
    "## Checking common fields\n",
    "\n",
    "We have 2 fractions, but each fraction have to contains common informations:\n",
    "\n",
    "* ParentID;\n",
    "* Position;\n",
    "* CreationDate;\n",
    "* UpdateDate;\n",
    "* AliquotID;\n",
    "* BoxType;\n",
    "* VisitID;\n",
    "* ThawCycle;\n",
    "* Volume;\n",
    "* Sample Source;\n",
    "* BatchID;\n",
    "* Sample Type.\n",
    "\n",
    "We expect to have same number of lines for each field, for each fraction:"
   ]
  },
  {
   "cell_type": "code",
   "execution_count": null,
   "metadata": {
    "collapsed": false
   },
   "outputs": [],
   "source": [
    "display(Markdown(\"### Look on Fraction 1\"))\n",
    "\n",
    "display(Markdown(\"#### ParentID field\"))\n",
    "display(Markdown(\"* %d empty ParentID\\n* %d unique ParentID\" % \\\n",
    "                 (len(df_frac1[df_frac1[\"ParentID\"].isnull()]), len(df_frac1[\"ParentID\"].unique()))))\n",
    "\n",
    "display(Markdown(\"#### Position field\"))\n",
    "tubesperposition1 = pd.DataFrame(df_frac1.groupby(\"Position\")[\"Position\"].count())\n",
    "tubesperposition1.loc[:, \"Tubes\"] = tubesperposition1[\"Position\"]\n",
    "tubesperposition1.loc[:, \"Position\"] = tubesperposition1.index\n",
    "tubesperposition1.reset_index(drop=True, inplace=True)\n",
    "display(tubesperposition1)\n",
    "display(Markdown(\"**%d** tubes for Position.\" % tubesperposition1[\"Tubes\"].sum()))\n",
    "\n",
    "display(Markdown(\"#### CreationDate field\"))\n",
    "tubespercreation1 = pd.DataFrame(df_frac1.groupby(\"CreationDate\")[\"CreationDate\"].count())\n",
    "tubespercreation1.loc[:, \"Tubes\"] = tubespercreation1[\"CreationDate\"]\n",
    "tubespercreation1.loc[:, \"CreationDate\"] = tubespercreation1.index\n",
    "tubespercreation1.reset_index(drop=True, inplace=True)\n",
    "display(tubespercreation1)\n",
    "display(Markdown(\"**%d** tubes for CreationDate.\" % tubespercreation1[\"Tubes\"].sum()))\n",
    "\n",
    "display(Markdown(\"#### UpdateDate field\"))\n",
    "tubesperupdate1 = pd.DataFrame(df_frac1.groupby(\"UpdateDate\")[\"UpdateDate\"].count())\n",
    "tubesperupdate1.loc[:, \"Tubes\"] = tubesperupdate1[\"UpdateDate\"]\n",
    "tubesperupdate1.loc[:, \"UpdateDate\"] = tubesperupdate1.index\n",
    "tubesperupdate1.reset_index(drop=True, inplace=True)\n",
    "display(tubesperupdate1)\n",
    "display(Markdown(\"**%d** tubes for UpdateDate.\" % tubesperupdate1[\"Tubes\"].sum()))\n",
    "\n",
    "display(Markdown(\"#### AliquotID field\"))\n",
    "tubesperaliquotid1 = pd.DataFrame(df_frac1.groupby(\"AliquotID\")[\"AliquotID\"].count())\n",
    "tubesperaliquotid1.loc[:, \"Tubes\"] = tubesperaliquotid1[\"AliquotID\"]\n",
    "tubesperaliquotid1.loc[:, \"AliquotID\"] = tubesperaliquotid1.index\n",
    "tubesperaliquotid1.reset_index(drop=True, inplace=True)\n",
    "display(tubesperaliquotid1)\n",
    "display(Markdown(\"**%d** tubes for AliquotID.\" % tubesperaliquotid1[\"Tubes\"].sum()))\n",
    "\n",
    "display(Markdown(\"#### BoxType field\"))\n",
    "tubesperboxtype1 = pd.DataFrame(df_frac1.groupby(\"BoxType\")[\"BoxType\"].count())\n",
    "tubesperboxtype1.loc[:, \"Tubes\"] = tubesperboxtype1[\"BoxType\"]\n",
    "tubesperboxtype1.loc[:, \"BoxType\"] = tubesperboxtype1.index\n",
    "tubesperboxtype1.reset_index(drop=True, inplace=True)\n",
    "display(tubesperboxtype1)\n",
    "display(Markdown(\"**%d** tubes for BoxType.\" % tubesperboxtype1[\"Tubes\"].sum()))\n",
    "\n",
    "display(Markdown(\"#### VisitID field\"))\n",
    "tubespervisitid1 = pd.DataFrame(df_frac1.groupby(\"VisitID\")[\"VisitID\"].count())\n",
    "tubespervisitid1.loc[:, \"Tubes\"] = tubespervisitid1[\"VisitID\"]\n",
    "tubespervisitid1.loc[:, \"VisitID\"] = tubespervisitid1.index\n",
    "tubespervisitid1.reset_index(drop=True, inplace=True)\n",
    "display(tubespervisitid1)\n",
    "display(Markdown(\"**%d** tubes for VisitID.\" % tubespervisitid1[\"Tubes\"].sum()))\n",
    "\n",
    "display(Markdown(\"#### ThawCycle field\"))\n",
    "tubesperthawcycle1 = pd.DataFrame(df_frac1.groupby(\"ThawCycle\")[\"ThawCycle\"].count())\n",
    "tubesperthawcycle1.loc[:, \"Tubes\"] = tubesperthawcycle1[\"ThawCycle\"]\n",
    "tubesperthawcycle1.loc[:, \"ThawCycle\"] = tubesperthawcycle1.index\n",
    "tubesperthawcycle1.reset_index(drop=True, inplace=True)\n",
    "display(tubesperthawcycle1)\n",
    "display(Markdown(\"**%d** tubes for ThawCycle.\" % tubesperthawcycle1[\"Tubes\"].sum()))\n",
    "\n",
    "display(Markdown(\"#### Sample Source field\"))\n",
    "display(Markdown(\"* **%d** empty Sample Source\\n* **%d** unique Sample Source\" % \\\n",
    "                 (len(df_frac1[df_frac1[\"Sample Source\"].isnull()]), len(df_frac1[\"Sample Source\"].unique()))))\n",
    "\n",
    "display(Markdown(\"#### BatchID field\"))\n",
    "tubesperbatchid1 = pd.DataFrame(df_frac1.groupby(\"BatchID\")[\"BatchID\"].count())\n",
    "tubesperbatchid1.loc[:, \"Tubes\"] = tubesperbatchid1[\"BatchID\"]\n",
    "tubesperbatchid1.loc[:, \"BatchID\"] = tubesperbatchid1.index\n",
    "tubesperbatchid1.reset_index(drop=True, inplace=True)\n",
    "display(tubesperbatchid1)\n",
    "display(Markdown(\"**%d** tubes for ThawCycle.\" % tubesperbatchid1[\"Tubes\"].sum()))\n",
    "\n",
    "display(Markdown(\"#### Sample Type field\"))\n",
    "tubespersampletype1 = pd.DataFrame(df_frac1.groupby(\"Sample Type\")[\"Sample Type\"].count())\n",
    "tubespersampletype1.loc[:, \"Tubes\"] = tubespersampletype1[\"Sample Type\"]\n",
    "tubespersampletype1.loc[:, \"Sample Type\"] = tubespersampletype1.index\n",
    "tubespersampletype1.reset_index(drop=True, inplace=True)\n",
    "display(tubespersampletype1)\n",
    "display(Markdown(\"**%d** tubes for Sample Type.\" % tubespersampletype1[\"Tubes\"].sum()))\n",
    "\n",
    "display(Markdown(\"### Look on Fraction 2\"))\n",
    "\n",
    "display(Markdown(\"#### ParentID field\"))\n",
    "display(Markdown(\"* %d empty ParentID\\n* %d unique ParentID\" % \\\n",
    "                 (len(df_frac2[df_frac2[\"ParentID\"].isnull()]), len(df_frac2[\"ParentID\"].unique()))))\n",
    "\n",
    "display(Markdown(\"#### Position field\"))\n",
    "tubesperposition2 = pd.DataFrame(df_frac2.groupby(\"Position\")[\"Position\"].count())\n",
    "tubesperposition2.loc[:, \"Tubes\"] = tubesperposition2[\"Position\"]\n",
    "tubesperposition2.loc[:, \"Position\"] = tubesperposition2.index\n",
    "tubesperposition2.reset_index(drop=True, inplace=True)\n",
    "display(tubesperposition2)\n",
    "display(Markdown(\"**%d** tubes for Position.\" % tubesperposition2[\"Tubes\"].sum()))\n",
    "\n",
    "display(Markdown(\"#### CreationDate field\"))\n",
    "tubespercreation2 = pd.DataFrame(df_frac2.groupby(\"CreationDate\")[\"CreationDate\"].count())\n",
    "tubespercreation2.loc[:, \"Tubes\"] = tubespercreation2[\"CreationDate\"]\n",
    "tubespercreation2.loc[:, \"CreationDate\"] = tubespercreation2.index\n",
    "tubespercreation2.reset_index(drop=True, inplace=True)\n",
    "display(tubespercreation2)\n",
    "display(Markdown(\"**%d** tubes for CreationDate.\" % tubespercreation2[\"Tubes\"].sum()))\n",
    "\n",
    "display(Markdown(\"#### UpdateDate field\"))\n",
    "tubesperupdate2 = pd.DataFrame(df_frac2.groupby(\"UpdateDate\")[\"UpdateDate\"].count())\n",
    "tubesperupdate2.loc[:, \"Tubes\"] = tubesperupdate2[\"UpdateDate\"]\n",
    "tubesperupdate2.loc[:, \"UpdateDate\"] = tubesperupdate2.index\n",
    "tubesperupdate2.reset_index(drop=True, inplace=True)\n",
    "display(tubesperupdate2)\n",
    "display(Markdown(\"**%d** tubes for UpdateDate.\" % tubesperupdate2[\"Tubes\"].sum()))\n",
    "\n",
    "display(Markdown(\"#### AliquotID field\"))\n",
    "tubesperaliquotid2 = pd.DataFrame(df_frac2.groupby(\"AliquotID\")[\"AliquotID\"].count())\n",
    "tubesperaliquotid2.loc[:, \"Tubes\"] = tubesperaliquotid2[\"AliquotID\"]\n",
    "tubesperaliquotid2.loc[:, \"AliquotID\"] = tubesperaliquotid2.index\n",
    "tubesperaliquotid2.reset_index(drop=True, inplace=True)\n",
    "display(tubesperaliquotid2)\n",
    "display(Markdown(\"**%d** tubes for AliquotID.\" % tubesperaliquotid2[\"Tubes\"].sum()))\n",
    "\n",
    "display(Markdown(\"#### BoxType field\"))\n",
    "tubesperboxtype2 = pd.DataFrame(df_frac2.groupby(\"BoxType\")[\"BoxType\"].count())\n",
    "tubesperboxtype2.loc[:, \"Tubes\"] = tubesperboxtype2[\"BoxType\"]\n",
    "tubesperboxtype2.loc[:, \"BoxType\"] = tubesperboxtype2.index\n",
    "tubesperboxtype2.reset_index(drop=True, inplace=True)\n",
    "display(tubesperboxtype2)\n",
    "display(Markdown(\"**%d** tubes for BoxType.\" % tubesperboxtype2[\"Tubes\"].sum()))\n",
    "\n",
    "display(Markdown(\"#### VisitID field\"))\n",
    "tubespervisitid2 = pd.DataFrame(df_frac2.groupby(\"VisitID\")[\"VisitID\"].count())\n",
    "tubespervisitid2.loc[:, \"Tubes\"] = tubespervisitid2[\"VisitID\"]\n",
    "tubespervisitid2.loc[:, \"VisitID\"] = tubespervisitid2.index\n",
    "tubespervisitid2.reset_index(drop=True, inplace=True)\n",
    "display(tubespervisitid2)\n",
    "display(Markdown(\"**%d** tubes for VisitID.\" % tubespervisitid2[\"Tubes\"].sum()))\n",
    "\n",
    "display(Markdown(\"#### ThawCycle field\"))\n",
    "tubesperthawcycle2 = pd.DataFrame(df_frac2.groupby(\"ThawCycle\")[\"ThawCycle\"].count())\n",
    "tubesperthawcycle2.loc[:, \"Tubes\"] = tubesperthawcycle2[\"ThawCycle\"]\n",
    "tubesperthawcycle2.loc[:, \"ThawCycle\"] = tubesperthawcycle2.index\n",
    "tubesperthawcycle2.reset_index(drop=True, inplace=True)\n",
    "display(tubesperthawcycle2)\n",
    "display(Markdown(\"**%d** tubes for ThawCycle.\" % tubesperthawcycle2[\"Tubes\"].sum()))\n",
    "\n",
    "display(Markdown(\"#### Sample Source field\"))\n",
    "display(Markdown(\"* **%d** empty Sample Source\\n* **%d** unique Sample Source\" % \\\n",
    "                 (len(df_frac2[df_frac2[\"Sample Source\"].isnull()]), len(df_frac2[\"Sample Source\"].unique()))))\n",
    "\n",
    "display(Markdown(\"#### BatchID field\"))\n",
    "tubesperbatchid2 = pd.DataFrame(df_frac2.groupby(\"BatchID\")[\"BatchID\"].count())\n",
    "tubesperbatchid2.loc[:, \"Tubes\"] = tubesperbatchid2[\"BatchID\"]\n",
    "tubesperbatchid2.loc[:, \"BatchID\"] = tubesperbatchid2.index\n",
    "tubesperbatchid2.reset_index(drop=True, inplace=True)\n",
    "display(tubesperbatchid2)\n",
    "display(Markdown(\"**%d** tubes for ThawCycle.\" % tubesperbatchid2[\"Tubes\"].sum()))\n",
    "\n",
    "display(Markdown(\"#### Sample Type field\"))\n",
    "tubespersampletype2 = pd.DataFrame(df_frac2.groupby(\"Sample Type\")[\"Sample Type\"].count())\n",
    "tubespersampletype2.loc[:, \"Tubes\"] = tubespersampletype2[\"Sample Type\"]\n",
    "tubespersampletype2.loc[:, \"Sample Type\"] = tubespersampletype2.index\n",
    "tubespersampletype2.reset_index(drop=True, inplace=True)\n",
    "display(tubespersampletype2)\n",
    "display(Markdown(\"**%d** tubes for Sample Type.\" % tubespersampletype2[\"Tubes\"].sum()))"
   ]
  },
  {
   "cell_type": "markdown",
   "metadata": {},
   "source": [
    "## Checking some fields per fraction\n",
    "\n",
    "We need to check if the number of unique BARCODE is coherent between each fraction:"
   ]
  },
  {
   "cell_type": "code",
   "execution_count": null,
   "metadata": {
    "collapsed": false
   },
   "outputs": [],
   "source": [
    "display(Markdown(\"#### BARCODE field\"))\n",
    "tubesperbarcode = pd.DataFrame(df.groupby(\"Sample Type\")[\"BARCODE\"].nunique())\n",
    "tubesperbarcode.loc[:, \"BARCODE\"] = tubesperbarcode[\"BARCODE\"]\n",
    "tubesperbarcode.loc[:, \"Sample Type\"] = tubesperbarcode.index\n",
    "tubesperbarcode.reset_index(drop=True, inplace=True)\n",
    "display(tubesperbarcode)\n",
    "display(Markdown(\"**%d** unique BARCODE for Sample Type.\" % tubesperbarcode[\"BARCODE\"].sum()))\n",
    "\n",
    "display(Markdown(\"#### Freezer field\"))\n",
    "tubesperfreezer = pd.DataFrame(df.groupby(\"Freezer\")[\"BARCODE\"].nunique())\n",
    "tubesperfreezer.loc[:, \"BARCODE\"] = tubesperfreezer[\"BARCODE\"]\n",
    "tubesperfreezer.loc[:, \"Freezer\"] = tubesperfreezer.index\n",
    "tubesperfreezer.reset_index(drop=True, inplace=True)\n",
    "display(tubesperfreezer)"
   ]
  },
  {
   "cell_type": "markdown",
   "metadata": {},
   "source": [
    "Check if RFID are assigned to more than 2 BARCODE."
   ]
  },
  {
   "cell_type": "code",
   "execution_count": null,
   "metadata": {
    "collapsed": false
   },
   "outputs": [],
   "source": [
    "barcodeperrfid = pd.DataFrame(df.groupby(\"ParentID\")[\"BARCODE\"].nunique())\n",
    "barcodeperrfid.loc[:, \"ParentID\"] = barcodeperrfid.index\n",
    "barcodeperrfid.reset_index(drop=True, inplace=True)\n",
    "\n",
    "if len(barcodeperrfid[barcodeperrfid[\"BARCODE\"] == 0]) > 0:\n",
    "    nobarcode = barcodeperrfid[barcodeperrfid[\"BARCODE\"] == 0]\n",
    "    display(Markdown(\"**{}** ParentID not assigned to a BARCODE.\".format(len(nobarcode))))\n",
    "\n",
    "if len(barcodeperrfid[barcodeperrfid[\"BARCODE\"] == 1]) > 0:\n",
    "    onebarcode = barcodeperrfid[barcodeperrfid[\"BARCODE\"] == 1]\n",
    "    display(Markdown(\"**{}** ParentID assigned to 1 BARCODE.\".format(len(onebarcode))))\n",
    "\n",
    "if len(barcodeperrfid[barcodeperrfid[\"BARCODE\"] == 2]) > 0:\n",
    "    twobarcode = barcodeperrfid[barcodeperrfid[\"BARCODE\"] == 2]\n",
    "    display(Markdown(\"**{}** ParentID assigned to 2 BARCODE.\".format(len(twobarcode))))\n",
    "\n",
    "if len(barcodeperrfid[barcodeperrfid[\"BARCODE\"] > 2 ]) > 0:\n",
    "    morebarcode = barcodeperrfid[barcodeperrfid[\"BARCODE\"] > 2]\n",
    "    display(Markdown(\"**{}** ParentID assigned to more than 2 BARCODE:\".format(len(morebarcode))))"
   ]
  }
 ],
 "metadata": {
  "kernelspec": {
   "display_name": "Python 2",
   "language": "python",
   "name": "python2"
  },
  "language_info": {
   "codemirror_mode": {
    "name": "ipython",
    "version": 2
   },
   "file_extension": ".py",
   "mimetype": "text/x-python",
   "name": "python",
   "nbconvert_exporter": "python",
   "pygments_lexer": "ipython2",
   "version": "2.7.11"
  }
 },
 "nbformat": 4,
 "nbformat_minor": 0
}
