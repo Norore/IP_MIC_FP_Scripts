{
 "cells": [
  {
   "cell_type": "markdown",
   "metadata": {},
   "source": [
    "# TruCulture Trizol Pellet tubes"
   ]
  },
  {
   "cell_type": "code",
   "execution_count": 30,
   "metadata": {
    "collapsed": false
   },
   "outputs": [
    {
     "data": {
      "text/markdown": [
       "File *TC_Trizol_rack_samples_20161121.csv* contains **59200** lines for **33** columns.\n"
      ],
      "text/plain": [
       "<IPython.core.display.Markdown object>"
      ]
     },
     "metadata": {},
     "output_type": "display_data"
    },
    {
     "data": {
      "text/markdown": [
       "List of columns:"
      ],
      "text/plain": [
       "<IPython.core.display.Markdown object>"
      ]
     },
     "metadata": {},
     "output_type": "display_data"
    },
    {
     "data": {
      "text/markdown": [
       "1. Freezer;\n",
       "1. Freezer_Descr;\n",
       "1. Level1;\n",
       "1. Level1_Descr;\n",
       "1. Level2;\n",
       "1. Level2_Descr;\n",
       "1. Level3;\n",
       "1. Level3_Descr;\n",
       "1. Box;\n",
       "1. Box_Descr;\n",
       "1. BoxType;\n",
       "1. RoomID;\n",
       "1. DonorID;\n",
       "1. BoxPos;\n",
       "1. Position;\n",
       "1. StimulusID;\n",
       "1. Sample Type;\n",
       "1. StimulusName;\n",
       "1. Name;\n",
       "1. CenterID;\n",
       "1. VisitID;\n",
       "1. BatchID;\n",
       "1. BARCODE;\n",
       "1. Volume;\n",
       "1. DonorIDscanned;\n",
       "1. ExtractionName;\n",
       "1. StimulationName;\n",
       "1. StimulationTime;\n",
       "1. FreezeThaw;\n",
       "1. FreezerBarcode;\n",
       "1. ShelfBarcode;\n",
       "1. RackBarcode;\n",
       "1. BOXBARCODE."
      ],
      "text/plain": [
       "<IPython.core.display.Markdown object>"
      ]
     },
     "metadata": {},
     "output_type": "display_data"
    }
   ],
   "source": [
    "%matplotlib inline\n",
    "\n",
    "import pandas as pd\n",
    "import re\n",
    "import matplotlib.pyplot as plt\n",
    "colors = [\"#7199e2\", \"#8bbf6b\", \"#ce73c5\", \"#ff4949\", \"#606060\", \"#f9f581\"]\n",
    "from IPython.display import display, Markdown, HTML\n",
    "\n",
    "# print table without index column\n",
    "def table_wo_index(df):\n",
    "    table = HTML(re.sub('(<tr.*>\\n) +<th>.*</th>\\n', '\\\\1', df._repr_html_()))\n",
    "    return(table)\n",
    "\n",
    "def label_nb_barh(ax, rects):\n",
    "    for rect in rects:\n",
    "        width = rect.get_width()\n",
    "        ax.text(1.05*width, rect.get_y() + rect.get_height()/2., \n",
    "                '%d' % int(width),\n",
    "                ha='center', va='bottom')\n",
    "\n",
    "def label_nb_barv(ax, rects):\n",
    "    for rect in rects:\n",
    "        height = rect.get_height()\n",
    "        ax.text(rect.get_x() + rect.get_width()/2., 1.05*height, \n",
    "                '%d' % int(height),\n",
    "                ha='center', va='bottom')\n",
    "        \n",
    "filepath = \"/Volumes/LabExMI/Users/Nolwenn/FreezerPro/DataToImport/\"\n",
    "filename = \"TC_Trizol_rack_samples_20161121.csv\"\n",
    "df = pd.read_csv(filepath + filename)\n",
    "\n",
    "display(Markdown(\"File *{}* contains **{}** lines for **{}** columns.\\n\".format(filename, len(df), len(df.columns))))\n",
    "display(Markdown(\"List of columns:\"))\n",
    "display(Markdown(\";\\n\".join([\"1. {}\".format(col) for col in df.columns])+\".\"))"
   ]
  },
  {
   "cell_type": "code",
   "execution_count": 42,
   "metadata": {
    "collapsed": false
   },
   "outputs": [
    {
     "data": {
      "text/markdown": [
       "### Freezer analysis"
      ],
      "text/plain": [
       "<IPython.core.display.Markdown object>"
      ]
     },
     "metadata": {},
     "output_type": "display_data"
    },
    {
     "data": {
      "text/markdown": [
       "**5** unique Freezer."
      ],
      "text/plain": [
       "<IPython.core.display.Markdown object>"
      ]
     },
     "metadata": {},
     "output_type": "display_data"
    },
    {
     "data": {
      "image/png": "[encoded data removed]",
      "text/plain": [
       "<matplotlib.figure.Figure at 0x117f4aa50>"
      ]
     },
     "metadata": {},
     "output_type": "display_data"
    },
    {
     "data": {
      "text/markdown": [
       "**16** unique shelf for all the **5** freezers. Number of tubes per shelf:"
      ],
      "text/plain": [
       "<IPython.core.display.Markdown object>"
      ]
     },
     "metadata": {},
     "output_type": "display_data"
    },
    {
     "data": {
      "text/plain": [
       "MultiIndex(levels=[[u'MIC Freezer1532 Shelf3', u'MIC Freezer1532 Shelf4', u'MIC Freezer1533 Shelf1', u'MIC Freezer1533 Shelf2', u'MIC Freezer1533 Shelf3', u'MIC Freezer1533 Shelf4', u'MIC Freezer1533 Shelf5', u'MIC Freezer1534 Shelf2', u'MIC Freezer1534 Shelf3', u'MIC Freezer1534 Shelf4', u'MIC Freezer1535 Shelf3', u'MIC Freezer1535 Shelf4', u'MIC Freezer1536 Shelf1', u'MIC Freezer1536 Shelf2', u'MIC Freezer1536 Shelf3', u'MIC Freezer1536 Shelf4'], [u'MIC_Freezer_1532', u'MIC_Freezer_1533', u'MIC_Freezer_1534', u'MIC_Freezer_1535', u'MIC_Freezer_1536']],\n",
       "           labels=[[0, 1, 2, 3, 4, 5, 6, 7, 8, 9, 10, 11, 12, 13, 14, 15], [0, 0, 1, 1, 1, 1, 1, 2, 2, 2, 3, 3, 4, 4, 4, 4]],\n",
       "           names=[u'ShelfBarcode', u'Freezer'])"
      ]
     },
     "metadata": {},
     "output_type": "display_data"
    },
    {
     "data": {
      "text/plain": [
       "[0, 0, 1, 1, 1, 1, 1, 2, 2, 2, 3, 3, 4, 4, 4, 4]"
      ]
     },
     "metadata": {},
     "output_type": "display_data"
    },
    {
     "data": {
      "image/png": "[encoded data removed]",
      "text/plain": [
       "<matplotlib.figure.Figure at 0x113a6a710>"
      ]
     },
     "metadata": {},
     "output_type": "display_data"
    },
    {
     "data": {
      "text/markdown": [
       "List of **9** unique tube number along shelves:"
      ],
      "text/plain": [
       "<IPython.core.display.Markdown object>"
      ]
     },
     "metadata": {},
     "output_type": "display_data"
    },
    {
     "data": {
      "text/markdown": [
       "* 720;\n",
       "* 800;\n",
       "* 2240;\n",
       "* 2800;\n",
       "* 3200;\n",
       "* 3960;\n",
       "* 5000;\n",
       "* 5520;\n",
       "* 5600."
      ],
      "text/plain": [
       "<IPython.core.display.Markdown object>"
      ]
     },
     "metadata": {},
     "output_type": "display_data"
    },
    {
     "data": {
      "text/markdown": [
       "**76** unique rack for all the **5** freezers. Number of tubes per rack:"
      ],
      "text/plain": [
       "<IPython.core.display.Markdown object>"
      ]
     },
     "metadata": {},
     "output_type": "display_data"
    },
    {
     "data": {
      "text/html": [
       "<div>\n",
       "<table border=\"1\" class=\"dataframe\">\n",
       "  <thead>\n",
       "    <tr style=\"text-align: right;\">\n",
       "      <th></th>\n",
       "      <th></th>\n",
       "      <th>Tubes</th>\n",
       "    </tr>\n",
       "    <tr>\n",
       "      <th>RackBarcode</th>\n",
       "      <th>Freezer</th>\n",
       "      <th></th>\n",
       "    </tr>\n",
       "  </thead>\n",
       "  <tbody>\n",
       "    <tr>\n",
       "      <th>MIC-TruCRack_1</th>\n",
       "      <th>MIC_Freezer_1532</th>\n",
       "      <td>800</td>\n",
       "    </tr>\n",
       "    <tr>\n",
       "      <th>MIC-TruCRack_10</th>\n",
       "      <th>MIC_Freezer_1534</th>\n",
       "      <td>800</td>\n",
       "    </tr>\n",
       "    <tr>\n",
       "      <th>MIC-TruCRack_11</th>\n",
       "      <th>MIC_Freezer_1534</th>\n",
       "      <td>800</td>\n",
       "    </tr>\n",
       "    <tr>\n",
       "      <th>MIC-TruCRack_12</th>\n",
       "      <th>MIC_Freezer_1534</th>\n",
       "      <td>800</td>\n",
       "    </tr>\n",
       "    <tr>\n",
       "      <th>MIC-TruCRack_13</th>\n",
       "      <th>MIC_Freezer_1535</th>\n",
       "      <td>800</td>\n",
       "    </tr>\n",
       "    <tr>\n",
       "      <th>MIC-TruCRack_14</th>\n",
       "      <th>MIC_Freezer_1535</th>\n",
       "      <td>720</td>\n",
       "    </tr>\n",
       "    <tr>\n",
       "      <th>MIC-TruCRack_15</th>\n",
       "      <th>MIC_Freezer_1535</th>\n",
       "      <td>720</td>\n",
       "    </tr>\n",
       "    <tr>\n",
       "      <th>MIC-TruCRack_16</th>\n",
       "      <th>MIC_Freezer_1533</th>\n",
       "      <td>800</td>\n",
       "    </tr>\n",
       "    <tr>\n",
       "      <th>MIC-TruCRack_17</th>\n",
       "      <th>MIC_Freezer_1533</th>\n",
       "      <td>800</td>\n",
       "    </tr>\n",
       "    <tr>\n",
       "      <th>MIC-TruCRack_18</th>\n",
       "      <th>MIC_Freezer_1533</th>\n",
       "      <td>400</td>\n",
       "    </tr>\n",
       "    <tr>\n",
       "      <th>MIC-TruCRack_19</th>\n",
       "      <th>MIC_Freezer_1533</th>\n",
       "      <td>800</td>\n",
       "    </tr>\n",
       "    <tr>\n",
       "      <th>MIC-TruCRack_2</th>\n",
       "      <th>MIC_Freezer_1532</th>\n",
       "      <td>800</td>\n",
       "    </tr>\n",
       "    <tr>\n",
       "      <th>MIC-TruCRack_20</th>\n",
       "      <th>MIC_Freezer_1533</th>\n",
       "      <td>800</td>\n",
       "    </tr>\n",
       "    <tr>\n",
       "      <th>MIC-TruCRack_21</th>\n",
       "      <th>MIC_Freezer_1533</th>\n",
       "      <td>800</td>\n",
       "    </tr>\n",
       "    <tr>\n",
       "      <th>MIC-TruCRack_22</th>\n",
       "      <th>MIC_Freezer_1533</th>\n",
       "      <td>800</td>\n",
       "    </tr>\n",
       "    <tr>\n",
       "      <th>MIC-TruCRack_23</th>\n",
       "      <th>MIC_Freezer_1533</th>\n",
       "      <td>760</td>\n",
       "    </tr>\n",
       "    <tr>\n",
       "      <th>MIC-TruCRack_24</th>\n",
       "      <th>MIC_Freezer_1533</th>\n",
       "      <td>800</td>\n",
       "    </tr>\n",
       "    <tr>\n",
       "      <th>MIC-TruCRack_25</th>\n",
       "      <th>MIC_Freezer_1533</th>\n",
       "      <td>800</td>\n",
       "    </tr>\n",
       "    <tr>\n",
       "      <th>MIC-TruCRack_26</th>\n",
       "      <th>MIC_Freezer_1533</th>\n",
       "      <td>800</td>\n",
       "    </tr>\n",
       "    <tr>\n",
       "      <th>MIC-TruCRack_27</th>\n",
       "      <th>MIC_Freezer_1533</th>\n",
       "      <td>800</td>\n",
       "    </tr>\n",
       "    <tr>\n",
       "      <th>MIC-TruCRack_28</th>\n",
       "      <th>MIC_Freezer_1533</th>\n",
       "      <td>800</td>\n",
       "    </tr>\n",
       "    <tr>\n",
       "      <th>MIC-TruCRack_29</th>\n",
       "      <th>MIC_Freezer_1533</th>\n",
       "      <td>800</td>\n",
       "    </tr>\n",
       "    <tr>\n",
       "      <th>MIC-TruCRack_3</th>\n",
       "      <th>MIC_Freezer_1532</th>\n",
       "      <td>800</td>\n",
       "    </tr>\n",
       "    <tr>\n",
       "      <th>MIC-TruCRack_30</th>\n",
       "      <th>MIC_Freezer_1533</th>\n",
       "      <td>800</td>\n",
       "    </tr>\n",
       "    <tr>\n",
       "      <th>MIC-TruCRack_31</th>\n",
       "      <th>MIC_Freezer_1533</th>\n",
       "      <td>800</td>\n",
       "    </tr>\n",
       "    <tr>\n",
       "      <th>MIC-TruCRack_32</th>\n",
       "      <th>MIC_Freezer_1533</th>\n",
       "      <td>800</td>\n",
       "    </tr>\n",
       "    <tr>\n",
       "      <th>MIC-TruCRack_33</th>\n",
       "      <th>MIC_Freezer_1533</th>\n",
       "      <td>800</td>\n",
       "    </tr>\n",
       "    <tr>\n",
       "      <th>MIC-TruCRack_34</th>\n",
       "      <th>MIC_Freezer_1533</th>\n",
       "      <td>800</td>\n",
       "    </tr>\n",
       "    <tr>\n",
       "      <th>MIC-TruCRack_35</th>\n",
       "      <th>MIC_Freezer_1533</th>\n",
       "      <td>800</td>\n",
       "    </tr>\n",
       "    <tr>\n",
       "      <th>MIC-TruCRack_36</th>\n",
       "      <th>MIC_Freezer_1533</th>\n",
       "      <td>800</td>\n",
       "    </tr>\n",
       "    <tr>\n",
       "      <th>...</th>\n",
       "      <th>...</th>\n",
       "      <td>...</td>\n",
       "    </tr>\n",
       "    <tr>\n",
       "      <th>MIC-TruCRack_51</th>\n",
       "      <th>MIC_Freezer_1536</th>\n",
       "      <td>720</td>\n",
       "    </tr>\n",
       "    <tr>\n",
       "      <th>MIC-TruCRack_52</th>\n",
       "      <th>MIC_Freezer_1536</th>\n",
       "      <td>800</td>\n",
       "    </tr>\n",
       "    <tr>\n",
       "      <th>MIC-TruCRack_53</th>\n",
       "      <th>MIC_Freezer_1536</th>\n",
       "      <td>800</td>\n",
       "    </tr>\n",
       "    <tr>\n",
       "      <th>MIC-TruCRack_54</th>\n",
       "      <th>MIC_Freezer_1536</th>\n",
       "      <td>800</td>\n",
       "    </tr>\n",
       "    <tr>\n",
       "      <th>MIC-TruCRack_55</th>\n",
       "      <th>MIC_Freezer_1536</th>\n",
       "      <td>800</td>\n",
       "    </tr>\n",
       "    <tr>\n",
       "      <th>MIC-TruCRack_56</th>\n",
       "      <th>MIC_Freezer_1536</th>\n",
       "      <td>800</td>\n",
       "    </tr>\n",
       "    <tr>\n",
       "      <th>MIC-TruCRack_57</th>\n",
       "      <th>MIC_Freezer_1536</th>\n",
       "      <td>720</td>\n",
       "    </tr>\n",
       "    <tr>\n",
       "      <th>MIC-TruCRack_58</th>\n",
       "      <th>MIC_Freezer_1536</th>\n",
       "      <td>800</td>\n",
       "    </tr>\n",
       "    <tr>\n",
       "      <th>MIC-TruCRack_59</th>\n",
       "      <th>MIC_Freezer_1536</th>\n",
       "      <td>800</td>\n",
       "    </tr>\n",
       "    <tr>\n",
       "      <th>MIC-TruCRack_6</th>\n",
       "      <th>MIC_Freezer_1532</th>\n",
       "      <td>800</td>\n",
       "    </tr>\n",
       "    <tr>\n",
       "      <th>MIC-TruCRack_60</th>\n",
       "      <th>MIC_Freezer_1536</th>\n",
       "      <td>800</td>\n",
       "    </tr>\n",
       "    <tr>\n",
       "      <th>MIC-TruCRack_61</th>\n",
       "      <th>MIC_Freezer_1536</th>\n",
       "      <td>800</td>\n",
       "    </tr>\n",
       "    <tr>\n",
       "      <th>MIC-TruCRack_62</th>\n",
       "      <th>MIC_Freezer_1536</th>\n",
       "      <td>800</td>\n",
       "    </tr>\n",
       "    <tr>\n",
       "      <th>MIC-TruCRack_63</th>\n",
       "      <th>MIC_Freezer_1536</th>\n",
       "      <td>800</td>\n",
       "    </tr>\n",
       "    <tr>\n",
       "      <th>MIC-TruCRack_64</th>\n",
       "      <th>MIC_Freezer_1536</th>\n",
       "      <td>800</td>\n",
       "    </tr>\n",
       "    <tr>\n",
       "      <th>MIC-TruCRack_65</th>\n",
       "      <th>MIC_Freezer_1536</th>\n",
       "      <td>800</td>\n",
       "    </tr>\n",
       "    <tr>\n",
       "      <th>MIC-TruCRack_66</th>\n",
       "      <th>MIC_Freezer_1536</th>\n",
       "      <td>800</td>\n",
       "    </tr>\n",
       "    <tr>\n",
       "      <th>MIC-TruCRack_67</th>\n",
       "      <th>MIC_Freezer_1536</th>\n",
       "      <td>800</td>\n",
       "    </tr>\n",
       "    <tr>\n",
       "      <th>MIC-TruCRack_68</th>\n",
       "      <th>MIC_Freezer_1536</th>\n",
       "      <td>800</td>\n",
       "    </tr>\n",
       "    <tr>\n",
       "      <th>MIC-TruCRack_69</th>\n",
       "      <th>MIC_Freezer_1536</th>\n",
       "      <td>800</td>\n",
       "    </tr>\n",
       "    <tr>\n",
       "      <th>MIC-TruCRack_7</th>\n",
       "      <th>MIC_Freezer_1532</th>\n",
       "      <td>200</td>\n",
       "    </tr>\n",
       "    <tr>\n",
       "      <th>MIC-TruCRack_70</th>\n",
       "      <th>MIC_Freezer_1536</th>\n",
       "      <td>800</td>\n",
       "    </tr>\n",
       "    <tr>\n",
       "      <th>MIC-TruCRack_71</th>\n",
       "      <th>MIC_Freezer_1536</th>\n",
       "      <td>800</td>\n",
       "    </tr>\n",
       "    <tr>\n",
       "      <th>MIC-TruCRack_72</th>\n",
       "      <th>MIC_Freezer_1536</th>\n",
       "      <td>800</td>\n",
       "    </tr>\n",
       "    <tr>\n",
       "      <th>MIC-TruCRack_73</th>\n",
       "      <th>MIC_Freezer_1536</th>\n",
       "      <td>720</td>\n",
       "    </tr>\n",
       "    <tr>\n",
       "      <th>MIC-TruCRack_74</th>\n",
       "      <th>MIC_Freezer_1536</th>\n",
       "      <td>800</td>\n",
       "    </tr>\n",
       "    <tr>\n",
       "      <th>MIC-TruCRack_75</th>\n",
       "      <th>MIC_Freezer_1536</th>\n",
       "      <td>800</td>\n",
       "    </tr>\n",
       "    <tr>\n",
       "      <th>MIC-TruCRack_76</th>\n",
       "      <th>MIC_Freezer_1536</th>\n",
       "      <td>800</td>\n",
       "    </tr>\n",
       "    <tr>\n",
       "      <th>MIC-TruCRack_8</th>\n",
       "      <th>MIC_Freezer_1532</th>\n",
       "      <td>800</td>\n",
       "    </tr>\n",
       "    <tr>\n",
       "      <th>MIC-TruCRack_9</th>\n",
       "      <th>MIC_Freezer_1534</th>\n",
       "      <td>800</td>\n",
       "    </tr>\n",
       "  </tbody>\n",
       "</table>\n",
       "<p>76 rows × 1 columns</p>\n",
       "</div>"
      ],
      "text/plain": [
       "                                  Tubes\n",
       "RackBarcode     Freezer                \n",
       "MIC-TruCRack_1  MIC_Freezer_1532    800\n",
       "MIC-TruCRack_10 MIC_Freezer_1534    800\n",
       "MIC-TruCRack_11 MIC_Freezer_1534    800\n",
       "MIC-TruCRack_12 MIC_Freezer_1534    800\n",
       "MIC-TruCRack_13 MIC_Freezer_1535    800\n",
       "MIC-TruCRack_14 MIC_Freezer_1535    720\n",
       "MIC-TruCRack_15 MIC_Freezer_1535    720\n",
       "MIC-TruCRack_16 MIC_Freezer_1533    800\n",
       "MIC-TruCRack_17 MIC_Freezer_1533    800\n",
       "MIC-TruCRack_18 MIC_Freezer_1533    400\n",
       "MIC-TruCRack_19 MIC_Freezer_1533    800\n",
       "MIC-TruCRack_2  MIC_Freezer_1532    800\n",
       "MIC-TruCRack_20 MIC_Freezer_1533    800\n",
       "MIC-TruCRack_21 MIC_Freezer_1533    800\n",
       "MIC-TruCRack_22 MIC_Freezer_1533    800\n",
       "MIC-TruCRack_23 MIC_Freezer_1533    760\n",
       "MIC-TruCRack_24 MIC_Freezer_1533    800\n",
       "MIC-TruCRack_25 MIC_Freezer_1533    800\n",
       "MIC-TruCRack_26 MIC_Freezer_1533    800\n",
       "MIC-TruCRack_27 MIC_Freezer_1533    800\n",
       "MIC-TruCRack_28 MIC_Freezer_1533    800\n",
       "MIC-TruCRack_29 MIC_Freezer_1533    800\n",
       "MIC-TruCRack_3  MIC_Freezer_1532    800\n",
       "MIC-TruCRack_30 MIC_Freezer_1533    800\n",
       "MIC-TruCRack_31 MIC_Freezer_1533    800\n",
       "MIC-TruCRack_32 MIC_Freezer_1533    800\n",
       "MIC-TruCRack_33 MIC_Freezer_1533    800\n",
       "MIC-TruCRack_34 MIC_Freezer_1533    800\n",
       "MIC-TruCRack_35 MIC_Freezer_1533    800\n",
       "MIC-TruCRack_36 MIC_Freezer_1533    800\n",
       "...                                 ...\n",
       "MIC-TruCRack_51 MIC_Freezer_1536    720\n",
       "MIC-TruCRack_52 MIC_Freezer_1536    800\n",
       "MIC-TruCRack_53 MIC_Freezer_1536    800\n",
       "MIC-TruCRack_54 MIC_Freezer_1536    800\n",
       "MIC-TruCRack_55 MIC_Freezer_1536    800\n",
       "MIC-TruCRack_56 MIC_Freezer_1536    800\n",
       "MIC-TruCRack_57 MIC_Freezer_1536    720\n",
       "MIC-TruCRack_58 MIC_Freezer_1536    800\n",
       "MIC-TruCRack_59 MIC_Freezer_1536    800\n",
       "MIC-TruCRack_6  MIC_Freezer_1532    800\n",
       "MIC-TruCRack_60 MIC_Freezer_1536    800\n",
       "MIC-TruCRack_61 MIC_Freezer_1536    800\n",
       "MIC-TruCRack_62 MIC_Freezer_1536    800\n",
       "MIC-TruCRack_63 MIC_Freezer_1536    800\n",
       "MIC-TruCRack_64 MIC_Freezer_1536    800\n",
       "MIC-TruCRack_65 MIC_Freezer_1536    800\n",
       "MIC-TruCRack_66 MIC_Freezer_1536    800\n",
       "MIC-TruCRack_67 MIC_Freezer_1536    800\n",
       "MIC-TruCRack_68 MIC_Freezer_1536    800\n",
       "MIC-TruCRack_69 MIC_Freezer_1536    800\n",
       "MIC-TruCRack_7  MIC_Freezer_1532    200\n",
       "MIC-TruCRack_70 MIC_Freezer_1536    800\n",
       "MIC-TruCRack_71 MIC_Freezer_1536    800\n",
       "MIC-TruCRack_72 MIC_Freezer_1536    800\n",
       "MIC-TruCRack_73 MIC_Freezer_1536    720\n",
       "MIC-TruCRack_74 MIC_Freezer_1536    800\n",
       "MIC-TruCRack_75 MIC_Freezer_1536    800\n",
       "MIC-TruCRack_76 MIC_Freezer_1536    800\n",
       "MIC-TruCRack_8  MIC_Freezer_1532    800\n",
       "MIC-TruCRack_9  MIC_Freezer_1534    800\n",
       "\n",
       "[76 rows x 1 columns]"
      ]
     },
     "metadata": {},
     "output_type": "display_data"
    },
    {
     "data": {
      "text/markdown": [
       "List of unique tube number along racks:"
      ],
      "text/plain": [
       "<IPython.core.display.Markdown object>"
      ]
     },
     "metadata": {},
     "output_type": "display_data"
    },
    {
     "data": {
      "text/markdown": [
       "* 200;\n",
       "* 400;\n",
       "* 720;\n",
       "* 760;\n",
       "* 800."
      ],
      "text/plain": [
       "<IPython.core.display.Markdown object>"
      ]
     },
     "metadata": {},
     "output_type": "display_data"
    },
    {
     "data": {
      "text/markdown": [
       "**744** unique box for all the **5** freezers. Number of tubes per box:"
      ],
      "text/plain": [
       "<IPython.core.display.Markdown object>"
      ]
     },
     "metadata": {},
     "output_type": "display_data"
    },
    {
     "data": {
      "text/html": [
       "<div>\n",
       "<table border=\"1\" class=\"dataframe\">\n",
       "  <thead>\n",
       "    <tr style=\"text-align: right;\">\n",
       "      <th></th>\n",
       "      <th></th>\n",
       "      <th>Tubes</th>\n",
       "    </tr>\n",
       "    <tr>\n",
       "      <th>Box</th>\n",
       "      <th>Freezer</th>\n",
       "      <th></th>\n",
       "    </tr>\n",
       "  </thead>\n",
       "  <tbody>\n",
       "    <tr>\n",
       "      <th>100011A 101011A</th>\n",
       "      <th>MIC_Freezer_1533</th>\n",
       "      <td>80</td>\n",
       "    </tr>\n",
       "    <tr>\n",
       "      <th>100021A 101041A</th>\n",
       "      <th>MIC_Freezer_1533</th>\n",
       "      <td>80</td>\n",
       "    </tr>\n",
       "    <tr>\n",
       "      <th>100041A 100031A</th>\n",
       "      <th>MIC_Freezer_1533</th>\n",
       "      <td>80</td>\n",
       "    </tr>\n",
       "    <tr>\n",
       "      <th>100061A 100051A</th>\n",
       "      <th>MIC_Freezer_1533</th>\n",
       "      <td>80</td>\n",
       "    </tr>\n",
       "    <tr>\n",
       "      <th>100072A 100012A</th>\n",
       "      <th>MIC_Freezer_1535</th>\n",
       "      <td>80</td>\n",
       "    </tr>\n",
       "    <tr>\n",
       "      <th>100091A 100081A</th>\n",
       "      <th>MIC_Freezer_1534</th>\n",
       "      <td>80</td>\n",
       "    </tr>\n",
       "    <tr>\n",
       "      <th>100111A 100101A</th>\n",
       "      <th>MIC_Freezer_1536</th>\n",
       "      <td>80</td>\n",
       "    </tr>\n",
       "    <tr>\n",
       "      <th>100122A 101152A</th>\n",
       "      <th>MIC_Freezer_1532</th>\n",
       "      <td>80</td>\n",
       "    </tr>\n",
       "    <tr>\n",
       "      <th>100131A 100121A</th>\n",
       "      <th>MIC_Freezer_1536</th>\n",
       "      <td>80</td>\n",
       "    </tr>\n",
       "    <tr>\n",
       "      <th>100151A 104221A</th>\n",
       "      <th>MIC_Freezer_1533</th>\n",
       "      <td>80</td>\n",
       "    </tr>\n",
       "    <tr>\n",
       "      <th>100161A 102231A</th>\n",
       "      <th>MIC_Freezer_1532</th>\n",
       "      <td>80</td>\n",
       "    </tr>\n",
       "    <tr>\n",
       "      <th>100181A 104231A</th>\n",
       "      <th>MIC_Freezer_1533</th>\n",
       "      <td>80</td>\n",
       "    </tr>\n",
       "    <tr>\n",
       "      <th>100211A 106351A</th>\n",
       "      <th>MIC_Freezer_1534</th>\n",
       "      <td>80</td>\n",
       "    </tr>\n",
       "    <tr>\n",
       "      <th>100221A 108271A</th>\n",
       "      <th>MIC_Freezer_1533</th>\n",
       "      <td>80</td>\n",
       "    </tr>\n",
       "    <tr>\n",
       "      <th>100231A 104321A</th>\n",
       "      <th>MIC_Freezer_1532</th>\n",
       "      <td>80</td>\n",
       "    </tr>\n",
       "    <tr>\n",
       "      <th>100232A 104312A</th>\n",
       "      <th>MIC_Freezer_1536</th>\n",
       "      <td>80</td>\n",
       "    </tr>\n",
       "    <tr>\n",
       "      <th>100251A 100241A</th>\n",
       "      <th>MIC_Freezer_1532</th>\n",
       "      <td>80</td>\n",
       "    </tr>\n",
       "    <tr>\n",
       "      <th>100261A 104391A</th>\n",
       "      <th>MIC_Freezer_1532</th>\n",
       "      <td>80</td>\n",
       "    </tr>\n",
       "    <tr>\n",
       "      <th>100301A 104411A</th>\n",
       "      <th>MIC_Freezer_1532</th>\n",
       "      <td>80</td>\n",
       "    </tr>\n",
       "    <tr>\n",
       "      <th>100321A 100311A</th>\n",
       "      <th>MIC_Freezer_1533</th>\n",
       "      <td>80</td>\n",
       "    </tr>\n",
       "    <tr>\n",
       "      <th>100331A 104421A</th>\n",
       "      <th>MIC_Freezer_1533</th>\n",
       "      <td>80</td>\n",
       "    </tr>\n",
       "    <tr>\n",
       "      <th>100332A 104452A</th>\n",
       "      <th>MIC_Freezer_1536</th>\n",
       "      <td>80</td>\n",
       "    </tr>\n",
       "    <tr>\n",
       "      <th>100351A 106461A</th>\n",
       "      <th>MIC_Freezer_1533</th>\n",
       "      <td>80</td>\n",
       "    </tr>\n",
       "    <tr>\n",
       "      <th>100371A 104461A</th>\n",
       "      <th>MIC_Freezer_1533</th>\n",
       "      <td>80</td>\n",
       "    </tr>\n",
       "    <tr>\n",
       "      <th>100381A 101301A</th>\n",
       "      <th>MIC_Freezer_1533</th>\n",
       "      <td>80</td>\n",
       "    </tr>\n",
       "    <tr>\n",
       "      <th>100382A 102362A</th>\n",
       "      <th>MIC_Freezer_1533</th>\n",
       "      <td>80</td>\n",
       "    </tr>\n",
       "    <tr>\n",
       "      <th>100401A 106481A</th>\n",
       "      <th>MIC_Freezer_1536</th>\n",
       "      <td>80</td>\n",
       "    </tr>\n",
       "    <tr>\n",
       "      <th>100412A 104601A</th>\n",
       "      <th>MIC_Freezer_1533</th>\n",
       "      <td>80</td>\n",
       "    </tr>\n",
       "    <tr>\n",
       "      <th>100422A 104542A</th>\n",
       "      <th>MIC_Freezer_1535</th>\n",
       "      <td>80</td>\n",
       "    </tr>\n",
       "    <tr>\n",
       "      <th>100432A 104502A</th>\n",
       "      <th>MIC_Freezer_1535</th>\n",
       "      <td>80</td>\n",
       "    </tr>\n",
       "    <tr>\n",
       "      <th>...</th>\n",
       "      <th>...</th>\n",
       "      <td>...</td>\n",
       "    </tr>\n",
       "    <tr>\n",
       "      <th>109702B 101842B</th>\n",
       "      <th>MIC_Freezer_1536</th>\n",
       "      <td>80</td>\n",
       "    </tr>\n",
       "    <tr>\n",
       "      <th>109721B 106781B</th>\n",
       "      <th>MIC_Freezer_1536</th>\n",
       "      <td>80</td>\n",
       "    </tr>\n",
       "    <tr>\n",
       "      <th>109722B 102832B</th>\n",
       "      <th>MIC_Freezer_1536</th>\n",
       "      <td>80</td>\n",
       "    </tr>\n",
       "    <tr>\n",
       "      <th>109751B 109741B</th>\n",
       "      <th>MIC_Freezer_1536</th>\n",
       "      <td>80</td>\n",
       "    </tr>\n",
       "    <tr>\n",
       "      <th>109752B 109712B</th>\n",
       "      <th>MIC_Freezer_1536</th>\n",
       "      <td>80</td>\n",
       "    </tr>\n",
       "    <tr>\n",
       "      <th>109761B 100971B</th>\n",
       "      <th>MIC_Freezer_1536</th>\n",
       "      <td>80</td>\n",
       "    </tr>\n",
       "    <tr>\n",
       "      <th>109762B 108882B</th>\n",
       "      <th>MIC_Freezer_1536</th>\n",
       "      <td>80</td>\n",
       "    </tr>\n",
       "    <tr>\n",
       "      <th>109771B 106841B</th>\n",
       "      <th>MIC_Freezer_1533</th>\n",
       "      <td>80</td>\n",
       "    </tr>\n",
       "    <tr>\n",
       "      <th>109791B 109781B</th>\n",
       "      <th>MIC_Freezer_1536</th>\n",
       "      <td>80</td>\n",
       "    </tr>\n",
       "    <tr>\n",
       "      <th>109792B 102892B</th>\n",
       "      <th>MIC_Freezer_1536</th>\n",
       "      <td>80</td>\n",
       "    </tr>\n",
       "    <tr>\n",
       "      <th>109821B 103831B</th>\n",
       "      <th>MIC_Freezer_1536</th>\n",
       "      <td>80</td>\n",
       "    </tr>\n",
       "    <tr>\n",
       "      <th>109822B 100872B</th>\n",
       "      <th>MIC_Freezer_1536</th>\n",
       "      <td>80</td>\n",
       "    </tr>\n",
       "    <tr>\n",
       "      <th>109851B 107851B</th>\n",
       "      <th>MIC_Freezer_1536</th>\n",
       "      <td>80</td>\n",
       "    </tr>\n",
       "    <tr>\n",
       "      <th>109861B 100961B</th>\n",
       "      <th>MIC_Freezer_1536</th>\n",
       "      <td>80</td>\n",
       "    </tr>\n",
       "    <tr>\n",
       "      <th>109871B 107891B</th>\n",
       "      <th>MIC_Freezer_1534</th>\n",
       "      <td>80</td>\n",
       "    </tr>\n",
       "    <tr>\n",
       "      <th>109891B 109881B</th>\n",
       "      <th>MIC_Freezer_1536</th>\n",
       "      <td>80</td>\n",
       "    </tr>\n",
       "    <tr>\n",
       "      <th>109901B 107901B</th>\n",
       "      <th>MIC_Freezer_1536</th>\n",
       "      <td>80</td>\n",
       "    </tr>\n",
       "    <tr>\n",
       "      <th>109922B 103922B</th>\n",
       "      <th>MIC_Freezer_1534</th>\n",
       "      <td>80</td>\n",
       "    </tr>\n",
       "    <tr>\n",
       "      <th>109951B 109941B</th>\n",
       "      <th>MIC_Freezer_1536</th>\n",
       "      <td>80</td>\n",
       "    </tr>\n",
       "    <tr>\n",
       "      <th>109961B 102981B</th>\n",
       "      <th>MIC_Freezer_1533</th>\n",
       "      <td>80</td>\n",
       "    </tr>\n",
       "    <tr>\n",
       "      <th>109971B 103961B</th>\n",
       "      <th>MIC_Freezer_1536</th>\n",
       "      <td>80</td>\n",
       "    </tr>\n",
       "    <tr>\n",
       "      <th>109981B 101461A</th>\n",
       "      <th>MIC_Freezer_1536</th>\n",
       "      <td>80</td>\n",
       "    </tr>\n",
       "    <tr>\n",
       "      <th>109982B 108992B</th>\n",
       "      <th>MIC_Freezer_1534</th>\n",
       "      <td>80</td>\n",
       "    </tr>\n",
       "    <tr>\n",
       "      <th>109991B 100932B</th>\n",
       "      <th>MIC_Freezer_1536</th>\n",
       "      <td>80</td>\n",
       "    </tr>\n",
       "    <tr>\n",
       "      <th>152191B 106621B</th>\n",
       "      <th>MIC_Freezer_1536</th>\n",
       "      <td>80</td>\n",
       "    </tr>\n",
       "    <tr>\n",
       "      <th>152681B 100861B</th>\n",
       "      <th>MIC_Freezer_1536</th>\n",
       "      <td>80</td>\n",
       "    </tr>\n",
       "    <tr>\n",
       "      <th>152791B 151781B</th>\n",
       "      <th>MIC_Freezer_1536</th>\n",
       "      <td>80</td>\n",
       "    </tr>\n",
       "    <tr>\n",
       "      <th>153031B 103811B</th>\n",
       "      <th>MIC_Freezer_1536</th>\n",
       "      <td>80</td>\n",
       "    </tr>\n",
       "    <tr>\n",
       "      <th>155341B 101601B</th>\n",
       "      <th>MIC_Freezer_1536</th>\n",
       "      <td>80</td>\n",
       "    </tr>\n",
       "    <tr>\n",
       "      <th>157012B 106642B</th>\n",
       "      <th>MIC_Freezer_1533</th>\n",
       "      <td>80</td>\n",
       "    </tr>\n",
       "  </tbody>\n",
       "</table>\n",
       "<p>744 rows × 1 columns</p>\n",
       "</div>"
      ],
      "text/plain": [
       "                                  Tubes\n",
       "Box             Freezer                \n",
       "100011A 101011A MIC_Freezer_1533     80\n",
       "100021A 101041A MIC_Freezer_1533     80\n",
       "100041A 100031A MIC_Freezer_1533     80\n",
       "100061A 100051A MIC_Freezer_1533     80\n",
       "100072A 100012A MIC_Freezer_1535     80\n",
       "100091A 100081A MIC_Freezer_1534     80\n",
       "100111A 100101A MIC_Freezer_1536     80\n",
       "100122A 101152A MIC_Freezer_1532     80\n",
       "100131A 100121A MIC_Freezer_1536     80\n",
       "100151A 104221A MIC_Freezer_1533     80\n",
       "100161A 102231A MIC_Freezer_1532     80\n",
       "100181A 104231A MIC_Freezer_1533     80\n",
       "100211A 106351A MIC_Freezer_1534     80\n",
       "100221A 108271A MIC_Freezer_1533     80\n",
       "100231A 104321A MIC_Freezer_1532     80\n",
       "100232A 104312A MIC_Freezer_1536     80\n",
       "100251A 100241A MIC_Freezer_1532     80\n",
       "100261A 104391A MIC_Freezer_1532     80\n",
       "100301A 104411A MIC_Freezer_1532     80\n",
       "100321A 100311A MIC_Freezer_1533     80\n",
       "100331A 104421A MIC_Freezer_1533     80\n",
       "100332A 104452A MIC_Freezer_1536     80\n",
       "100351A 106461A MIC_Freezer_1533     80\n",
       "100371A 104461A MIC_Freezer_1533     80\n",
       "100381A 101301A MIC_Freezer_1533     80\n",
       "100382A 102362A MIC_Freezer_1533     80\n",
       "100401A 106481A MIC_Freezer_1536     80\n",
       "100412A 104601A MIC_Freezer_1533     80\n",
       "100422A 104542A MIC_Freezer_1535     80\n",
       "100432A 104502A MIC_Freezer_1535     80\n",
       "...                                 ...\n",
       "109702B 101842B MIC_Freezer_1536     80\n",
       "109721B 106781B MIC_Freezer_1536     80\n",
       "109722B 102832B MIC_Freezer_1536     80\n",
       "109751B 109741B MIC_Freezer_1536     80\n",
       "109752B 109712B MIC_Freezer_1536     80\n",
       "109761B 100971B MIC_Freezer_1536     80\n",
       "109762B 108882B MIC_Freezer_1536     80\n",
       "109771B 106841B MIC_Freezer_1533     80\n",
       "109791B 109781B MIC_Freezer_1536     80\n",
       "109792B 102892B MIC_Freezer_1536     80\n",
       "109821B 103831B MIC_Freezer_1536     80\n",
       "109822B 100872B MIC_Freezer_1536     80\n",
       "109851B 107851B MIC_Freezer_1536     80\n",
       "109861B 100961B MIC_Freezer_1536     80\n",
       "109871B 107891B MIC_Freezer_1534     80\n",
       "109891B 109881B MIC_Freezer_1536     80\n",
       "109901B 107901B MIC_Freezer_1536     80\n",
       "109922B 103922B MIC_Freezer_1534     80\n",
       "109951B 109941B MIC_Freezer_1536     80\n",
       "109961B 102981B MIC_Freezer_1533     80\n",
       "109971B 103961B MIC_Freezer_1536     80\n",
       "109981B 101461A MIC_Freezer_1536     80\n",
       "109982B 108992B MIC_Freezer_1534     80\n",
       "109991B 100932B MIC_Freezer_1536     80\n",
       "152191B 106621B MIC_Freezer_1536     80\n",
       "152681B 100861B MIC_Freezer_1536     80\n",
       "152791B 151781B MIC_Freezer_1536     80\n",
       "153031B 103811B MIC_Freezer_1536     80\n",
       "155341B 101601B MIC_Freezer_1536     80\n",
       "157012B 106642B MIC_Freezer_1533     80\n",
       "\n",
       "[744 rows x 1 columns]"
      ]
     },
     "metadata": {},
     "output_type": "display_data"
    },
    {
     "data": {
      "text/markdown": [
       "List of unique tube number along boxes:"
      ],
      "text/plain": [
       "<IPython.core.display.Markdown object>"
      ]
     },
     "metadata": {},
     "output_type": "display_data"
    },
    {
     "data": {
      "text/markdown": [
       "* 40;\n",
       "* 80."
      ],
      "text/plain": [
       "<IPython.core.display.Markdown object>"
      ]
     },
     "metadata": {},
     "output_type": "display_data"
    },
    {
     "data": {
      "text/markdown": [
       "### Box analysis"
      ],
      "text/plain": [
       "<IPython.core.display.Markdown object>"
      ]
     },
     "metadata": {},
     "output_type": "display_data"
    },
    {
     "data": {
      "text/markdown": [
       "**744** unique Box."
      ],
      "text/plain": [
       "<IPython.core.display.Markdown object>"
      ]
     },
     "metadata": {},
     "output_type": "display_data"
    },
    {
     "data": {
      "text/markdown": [
       "**1** unique BoxType."
      ],
      "text/plain": [
       "<IPython.core.display.Markdown object>"
      ]
     },
     "metadata": {},
     "output_type": "display_data"
    },
    {
     "data": {
      "text/markdown": [
       "### Tube analysis"
      ],
      "text/plain": [
       "<IPython.core.display.Markdown object>"
      ]
     },
     "metadata": {},
     "output_type": "display_data"
    },
    {
     "data": {
      "text/markdown": [
       "**59200** unique Name."
      ],
      "text/plain": [
       "<IPython.core.display.Markdown object>"
      ]
     },
     "metadata": {},
     "output_type": "display_data"
    },
    {
     "data": {
      "text/markdown": [
       "**2** unique VisitID, expect 2."
      ],
      "text/plain": [
       "<IPython.core.display.Markdown object>"
      ]
     },
     "metadata": {},
     "output_type": "display_data"
    },
    {
     "data": {
      "text/markdown": [
       "**2** unique BatchID, expect 2."
      ],
      "text/plain": [
       "<IPython.core.display.Markdown object>"
      ]
     },
     "metadata": {},
     "output_type": "display_data"
    },
    {
     "data": {
      "text/markdown": [
       "**40** unique StimulusID, expect 40."
      ],
      "text/plain": [
       "<IPython.core.display.Markdown object>"
      ]
     },
     "metadata": {},
     "output_type": "display_data"
    },
    {
     "data": {
      "text/markdown": [
       "**994** unique DonorID, expect 1000."
      ],
      "text/plain": [
       "<IPython.core.display.Markdown object>"
      ]
     },
     "metadata": {},
     "output_type": "display_data"
    },
    {
     "data": {
      "text/html": [
       "<div>\n",
       "<table border=\"1\" class=\"dataframe\">\n",
       "  <thead>\n",
       "    <tr style=\"text-align: right;\">\n",
       "      <th></th>\n",
       "      <th>Tubes</th>\n",
       "      <th>VisitID</th>\n",
       "    </tr>\n",
       "  </thead>\n",
       "  <tbody>\n",
       "    <tr>\n",
       "      <th>0</th>\n",
       "      <td>39040</td>\n",
       "      <td>1</td>\n",
       "    </tr>\n",
       "    <tr>\n",
       "      <th>1</th>\n",
       "      <td>20160</td>\n",
       "      <td>2</td>\n",
       "    </tr>\n",
       "  </tbody>\n",
       "</table>\n",
       "</div>"
      ],
      "text/plain": [
       "   Tubes  VisitID\n",
       "0  39040        1\n",
       "1  20160        2"
      ]
     },
     "metadata": {},
     "output_type": "display_data"
    },
    {
     "data": {
      "text/html": [
       "<div>\n",
       "<table border=\"1\" class=\"dataframe\">\n",
       "  <thead>\n",
       "    <tr style=\"text-align: right;\">\n",
       "      <th></th>\n",
       "      <th>Tubes</th>\n",
       "      <th>BatchID</th>\n",
       "    </tr>\n",
       "  </thead>\n",
       "  <tbody>\n",
       "    <tr>\n",
       "      <th>0</th>\n",
       "      <td>34840</td>\n",
       "      <td>A</td>\n",
       "    </tr>\n",
       "    <tr>\n",
       "      <th>1</th>\n",
       "      <td>24360</td>\n",
       "      <td>B</td>\n",
       "    </tr>\n",
       "  </tbody>\n",
       "</table>\n",
       "</div>"
      ],
      "text/plain": [
       "   Tubes BatchID\n",
       "0  34840       A\n",
       "1  24360       B"
      ]
     },
     "metadata": {},
     "output_type": "display_data"
    },
    {
     "data": {
      "text/markdown": [
       "Each of the **40** StimulusID has **1480** tubes."
      ],
      "text/plain": [
       "<IPython.core.display.Markdown object>"
      ]
     },
     "metadata": {},
     "output_type": "display_data"
    },
    {
     "data": {
      "text/markdown": [
       "List of unique tube number along DonorID:"
      ],
      "text/plain": [
       "<IPython.core.display.Markdown object>"
      ]
     },
     "metadata": {},
     "output_type": "display_data"
    },
    {
     "data": {
      "text/markdown": [
       "* 40;\n",
       "* 80."
      ],
      "text/plain": [
       "<IPython.core.display.Markdown object>"
      ]
     },
     "metadata": {},
     "output_type": "display_data"
    },
    {
     "data": {
      "text/html": [
       "<div>\n",
       "<table border=\"1\" class=\"dataframe\">\n",
       "  <thead>\n",
       "    <tr style=\"text-align: right;\">\n",
       "      <th></th>\n",
       "      <th>DonorID</th>\n",
       "    </tr>\n",
       "    <tr>\n",
       "      <th>Tubes</th>\n",
       "      <th></th>\n",
       "    </tr>\n",
       "  </thead>\n",
       "  <tbody>\n",
       "    <tr>\n",
       "      <th>40</th>\n",
       "      <td>508</td>\n",
       "    </tr>\n",
       "    <tr>\n",
       "      <th>80</th>\n",
       "      <td>486</td>\n",
       "    </tr>\n",
       "  </tbody>\n",
       "</table>\n",
       "</div>"
      ],
      "text/plain": [
       "       DonorID\n",
       "Tubes         \n",
       "40         508\n",
       "80         486"
      ]
     },
     "metadata": {},
     "output_type": "display_data"
    }
   ],
   "source": [
    "display(Markdown(\"### Freezer analysis\"))\n",
    "display(Markdown(\"**{}** unique Freezer.\".format(df[\"Freezer\"].nunique())))\n",
    "barcodeperfreezer = pd.DataFrame(df.groupby(\"Freezer\")[\"Name\"].nunique())\n",
    "barcodeperfreezer.loc[:, \"Freezer\"] = barcodeperfreezer.index.get_values()\n",
    "barcodeperfreezer.rename(columns={\"Name\": \"Tubes\"}, inplace=True)\n",
    "barcodeperfreezer.reset_index(drop=True, inplace=True)\n",
    "barcodeperfreezer.sort_values(by=\"Tubes\", ascending=False, inplace=True)\n",
    "\n",
    "fig, ax = plt.subplots()\n",
    "y_pos = [i for i in range(len(barcodeperfreezer[\"Freezer\"]))]\n",
    "rects = ax.barh(y_pos, barcodeperfreezer[\"Tubes\"], color=colors[0])\n",
    "ax.set_yticks(y_pos)\n",
    "ax.set_yticklabels(barcodeperfreezer[\"Freezer\"])\n",
    "ax.set_ylabel(\"Freezer Barcode\")\n",
    "ax.set_xlabel(\"Number of tubes\")\n",
    "ax.set_title(\"Total number of tubes per freezer\")\n",
    "\n",
    "label_nb_barh(rects)\n",
    "\n",
    "plt.show()\n",
    "\n",
    "display(Markdown(\"**{}** unique shelf for all the **{}** freezers. Number of tubes per shelf:\".\\\n",
    "                 format(df[\"Level1\"].nunique(), df[\"Freezer\"].nunique())))\n",
    "barcodepershelfperfreezer = pd.DataFrame(df.groupby([\"ShelfBarcode\", \"Freezer\"])[\"Name\"].nunique())\n",
    "barcodepershelfperfreezer.rename(columns={\"Name\": \"Tubes\"}, inplace=True)\n",
    "# barcodepershelfperfreezer.sort_values(by=\"Tubes\", ascending=False, inplace=True)\n",
    "display(barcodepershelfperfreezer.index)\n",
    "shelves = barcodepershelfperfreezer.index.levels[0].tolist()\n",
    "freezers = barcodepershelfperfreezer.index.levels[1].tolist()\n",
    "\n",
    "labels_f = [i for i in barcodepershelfperfreezer.index.labels[1].tolist()]\n",
    "display(labels_f)\n",
    "\n",
    "color_bars = [colors[i] for i in barcodepershelfperfreezer.index.labels[1].tolist()]\n",
    "\n",
    "figf, axf = plt.subplots(figsize=(10,8))\n",
    "y_posf = [i for i in range(len(shelves))]\n",
    "rectsf = axf.barh(y_posf, barcodepershelfperfreezer[\"Tubes\"], color=color_bars)\n",
    "axf.set_yticks(y_posf)\n",
    "axf.set_yticklabels(shelves)\n",
    "axf.set_ylabel(\"Shelf Barcode\")\n",
    "axf.set_xlabel(\"Number of tubes\")\n",
    "axf.set_title(\"Total number of tubes per shelf\")\n",
    "\n",
    "label_nb_barh(rectsf)\n",
    "\n",
    "plt.show()\n",
    "\n",
    "display(Markdown(\"List of **{}** unique tube number along shelves:\".format(barcodepershelfperfreezer[\"Tubes\"].nunique())))\n",
    "display(Markdown(\";\\n\".join([\"* {}\".format(t) for t in sorted(barcodepershelfperfreezer[\"Tubes\"].unique())])+\".\"))\n",
    "\n",
    "display(Markdown(\"**{}** unique rack for all the **{}** freezers. Number of tubes per rack:\".\\\n",
    "                 format(df[\"Level2\"].nunique(), df[\"Freezer\"].nunique())))\n",
    "barcodeperrackperfreezer = pd.DataFrame(df.groupby([\"RackBarcode\", \"Freezer\"])[\"Name\"].nunique())\n",
    "barcodeperrackperfreezer.rename(columns={\"Name\": \"Tubes\"}, inplace=True)\n",
    "display(barcodeperrackperfreezer)\n",
    "display(Markdown(\"List of unique tube number along racks:\"))\n",
    "display(Markdown(\";\\n\".join([\"* {}\".format(t) for t in sorted(barcodeperrackperfreezer[\"Tubes\"].unique())])+\".\"))\n",
    "\n",
    "display(Markdown(\"**{}** unique box for all the **{}** freezers. Number of tubes per box:\".\\\n",
    "                 format(df[\"Box\"].nunique(), df[\"Freezer\"].nunique())))\n",
    "barcodeperboxperfreezer = pd.DataFrame(df.groupby([\"Box\", \"Freezer\"])[\"Name\"].nunique())\n",
    "barcodeperboxperfreezer.rename(columns={\"Name\": \"Tubes\"}, inplace=True)\n",
    "display(barcodeperboxperfreezer)\n",
    "display(Markdown(\"List of unique tube number along boxes:\"))\n",
    "display(Markdown(\";\\n\".join([\"* {}\".format(t) for t in sorted(barcodeperboxperfreezer[\"Tubes\"].unique())])+\".\"))\n",
    "\n",
    "display(Markdown(\"### Box analysis\"))\n",
    "display(Markdown(\"**{}** unique Box.\".format(df[\"Box\"].nunique())))\n",
    "display(Markdown(\"**{}** unique BoxType.\".format(df[\"BoxType\"].nunique())))\n",
    "\n",
    "display(Markdown(\"### Tube analysis\"))\n",
    "display(Markdown(\"**{}** unique Name.\".format(df[\"Name\"].nunique())))\n",
    "display(Markdown(\"**{}** unique VisitID, expect 2.\".format(df[\"VisitID\"].nunique())))\n",
    "display(Markdown(\"**{}** unique BatchID, expect 2.\".format(df[\"BatchID\"].nunique())))\n",
    "display(Markdown(\"**{}** unique StimulusID, expect 40.\".format(df[\"StimulusID\"].nunique())))\n",
    "display(Markdown(\"**{}** unique DonorID, expect 1000.\".format(df[\"DonorID\"].nunique())))\n",
    "\n",
    "visitperbarcode = pd.DataFrame(df.groupby(\"VisitID\")[\"Name\"].nunique())\n",
    "visitperbarcode.loc[:, \"VisitID\"] = visitperbarcode.index.get_values()\n",
    "visitperbarcode.reset_index(drop=True, inplace=True)\n",
    "visitperbarcode.rename(columns={\"Name\": \"Tubes\"}, inplace=True)\n",
    "display(visitperbarcode)\n",
    "\n",
    "batchperbarcode = pd.DataFrame(df.groupby(\"BatchID\")[\"Name\"].nunique())\n",
    "batchperbarcode.loc[:, \"BatchID\"] = batchperbarcode.index.get_values()\n",
    "batchperbarcode.reset_index(drop=True, inplace=True)\n",
    "batchperbarcode.rename(columns={\"Name\": \"Tubes\"}, inplace=True)\n",
    "display(batchperbarcode)\n",
    "\n",
    "stimulusperbarcode = pd.DataFrame(df.groupby(\"StimulusID\")[\"Name\"].nunique())\n",
    "stimulusperbarcode.loc[:, \"StimulusID\"] = stimulusperbarcode.index.get_values()\n",
    "stimulusperbarcode.reset_index(drop=True, inplace=True)\n",
    "stimulusperbarcode.rename(columns={\"Name\": \"Tubes\"}, inplace=True)\n",
    "\n",
    "if stimulusperbarcode[\"Tubes\"].nunique() > 1: \n",
    "    figs, axs = plt.subplots(figsize=(10,5))\n",
    "    y_poss = [i for i in range(len(stimulusperbarcode[\"StimulusID\"]))]\n",
    "    rectss = axs.barh(stimulusperbarcode[\"Tubes\"].astype(int), y_poss, color=colors[0])\n",
    "    axs.set_xticks(y_poss)\n",
    "    axs.set_xticklabels(stimulusperbarcode[\"StimulusID\"])\n",
    "    axs.set_xlabel(\"StimulusID\")\n",
    "    axs.set_ylabel(\"Number of tubes\")\n",
    "    axs.set_yticklabels(stimulusperbarcode[\"Tubes\"].astype(str))\n",
    "    axs.set_title(\"Total number of tubes per StimulusID\")\n",
    "\n",
    "    plt.show()\n",
    "else:\n",
    "    display(Markdown(\"Each of the **{}** StimulusID has **{}** tubes.\".format(stimulusperbarcode[\"StimulusID\"].nunique(), stimulusperbarcode[\"Tubes\"].unique()[0])))\n",
    "\n",
    "donorperbarcode = pd.DataFrame(df.groupby(\"DonorID\")[\"Name\"].nunique())\n",
    "donorperbarcode.loc[:, \"DonorID\"] = donorperbarcode.index.get_values()\n",
    "donorperbarcode.reset_index(drop=True, inplace=True)\n",
    "donorperbarcode.rename(columns={\"Name\": \"Tubes\"}, inplace=True)\n",
    "# display(donorperbarcode)\n",
    "display(Markdown(\"List of unique tube number along DonorID:\"))\n",
    "display(Markdown(\";\\n\".join([\"* {}\".format(t) for t in sorted(donorperbarcode[\"Tubes\"].unique())])+\".\"))\n",
    "display(pd.DataFrame(donorperbarcode.groupby(\"Tubes\")[\"DonorID\"].count()))"
   ]
  }
 ],
 "metadata": {
  "kernelspec": {
   "display_name": "Python 2",
   "language": "python",
   "name": "python2"
  },
  "language_info": {
   "codemirror_mode": {
    "name": "ipython",
    "version": 2
   },
   "file_extension": ".py",
   "mimetype": "text/x-python",
   "name": "python",
   "nbconvert_exporter": "python",
   "pygments_lexer": "ipython2",
   "version": "2.7.11"
  }
 },
 "nbformat": 4,
 "nbformat_minor": 0
}
