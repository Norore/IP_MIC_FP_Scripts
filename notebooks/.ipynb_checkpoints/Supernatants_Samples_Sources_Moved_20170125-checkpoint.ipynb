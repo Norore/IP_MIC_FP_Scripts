{
 "cells": [
  {
   "cell_type": "markdown",
   "metadata": {},
   "source": [
    "[TOC]\n",
    "\n",
    "\n",
    "# Supernatants to move\n",
    "\n",
    "# Supernatants to move\n",
    "\n",
    "After take fractions from Supernatants Source tubes, we have to update the Source tubes informations. This file is a preparation for the FreezerPro update for the existing tubes."
   ]
  },
  {
   "cell_type": "code",
   "execution_count": 61,
   "metadata": {
    "collapsed": false
   },
   "outputs": [
    {
     "data": {
      "text/markdown": [
       "File *Supernatants_Samples_Sources_Moved_20170125.csv* contains **2000** lines for **7** columns.\n"
      ],
      "text/plain": [
       "<IPython.core.display.Markdown object>"
      ]
     },
     "metadata": {},
     "output_type": "display_data"
    },
    {
     "data": {
      "text/markdown": [
       "List of columns:"
      ],
      "text/plain": [
       "<IPython.core.display.Markdown object>"
      ]
     },
     "metadata": {},
     "output_type": "display_data"
    },
    {
     "data": {
      "text/markdown": [
       "1. RFID;\n",
       "1. Volume;\n",
       "1. UpdateDate;\n",
       "1. Position;\n",
       "1. BoxBarcode;\n",
       "1. Freezer;\n",
       "1. DonorID."
      ],
      "text/plain": [
       "<IPython.core.display.Markdown object>"
      ]
     },
     "metadata": {},
     "output_type": "display_data"
    }
   ],
   "source": [
    "import pandas as pd\n",
    "import re\n",
    "from IPython.display import display, Markdown, HTML\n",
    "from file_toolkit import *\n",
    "\n",
    "pd.set_option('display.max_rows', 96)\n",
    "pd.set_option('display.max_columns', 96)\n",
    "\n",
    "filepath = \"/Volumes/LabExMI/Users/Nolwenn/FreezerPro/DataToImport/\"\n",
    "filename = \"Supernatants_Samples_Sources_Moved_20170125.csv\"\n",
    "df = pd.read_csv(filepath + filename)\n",
    "display(Markdown(\"File *{}* contains **{}** lines for **{}** columns.\\n\".\\\n",
    "                 format(filename, len(df), len(df.columns))))\n",
    "display(Markdown(\"List of columns:\"))\n",
    "display(Markdown(\";\\n\".join([\"1. {}\".format(col) for col in df.columns])+\".\"))"
   ]
  },
  {
   "cell_type": "markdown",
   "metadata": {},
   "source": [
    "Céline and Bruno processed 12 StimulusID in total:\n",
    "\n",
    "1. 9;\n",
    "1. 11;\n",
    "1. 17;\n",
    "1. 18;\n",
    "1. 23;\n",
    "1. 24;\n",
    "1. 27;\n",
    "1. 31;\n",
    "1. 32;\n",
    "1. 35;\n",
    "1. 37;\n",
    "1. 39.\n",
    "\n",
    "Stimuli 9 and 31 were sent to RBM for analysis. For more explanation, ask Bruno and Céline.\n",
    "\n",
    "We expect to have 2.000 unique RFID:"
   ]
  },
  {
   "cell_type": "code",
   "execution_count": 60,
   "metadata": {
    "collapsed": false
   },
   "outputs": [
    {
     "data": {
      "text/markdown": [
       "**2000** unique RFID."
      ],
      "text/plain": [
       "<IPython.core.display.Markdown object>"
      ]
     },
     "metadata": {},
     "output_type": "display_data"
    },
    {
     "data": {
      "text/markdown": [
       "**0** empty RFID."
      ],
      "text/plain": [
       "<IPython.core.display.Markdown object>"
      ]
     },
     "metadata": {},
     "output_type": "display_data"
    }
   ],
   "source": [
    "display(Markdown(\"**{}** unique RFID.\".format(df[\"RFID\"].nunique())))\n",
    "display(Markdown(\"**{}** empty RFID.\".format(len(df.loc[df[\"RFID\"].isnull()]))))"
   ]
  },
  {
   "cell_type": "markdown",
   "metadata": {},
   "source": [
    "Tubes volume should be of different values. If a source tube was sent to RBM, the volume is supposed to be set at 100 on FreezerPro. We will have to decide if we keep tube data in FreezerPro or if we remove those."
   ]
  },
  {
   "cell_type": "code",
   "execution_count": 3,
   "metadata": {
    "collapsed": false
   },
   "outputs": [
    {
     "data": {
      "text/html": [
       "<div>\n",
       "<table border=\"1\" class=\"dataframe\">\n",
       "  <thead>\n",
       "    <tr style=\"text-align: right;\">\n",
       "      <th></th>\n",
       "      <th>Volume</th>\n",
       "      <th>Nb_RFID</th>\n",
       "    </tr>\n",
       "  </thead>\n",
       "  <tbody>\n",
       "    <tr>\n",
       "      <th>0</th>\n",
       "      <td>100.0</td>\n",
       "      <td>2000</td>\n",
       "    </tr>\n",
       "  </tbody>\n",
       "</table>\n",
       "</div>"
      ],
      "text/plain": [
       "   Volume  Nb_RFID\n",
       "0   100.0     2000"
      ]
     },
     "metadata": {},
     "output_type": "display_data"
    }
   ],
   "source": [
    "tubespervolume = compare_two_columns(df, \"Volume\", \"RFID\")"
   ]
  },
  {
   "cell_type": "markdown",
   "metadata": {},
   "source": [
    "Each tube should have an update date, check if all tubes have an update date assigned:"
   ]
  },
  {
   "cell_type": "code",
   "execution_count": 57,
   "metadata": {
    "collapsed": false
   },
   "outputs": [
    {
     "data": {
      "text/html": [
       "<div>\n",
       "<table border=\"1\" class=\"dataframe\">\n",
       "  <thead>\n",
       "    <tr style=\"text-align: right;\">\n",
       "      <th></th>\n",
       "      <th>UpdateDate</th>\n",
       "      <th>Nb_RFID</th>\n",
       "    </tr>\n",
       "  </thead>\n",
       "  <tbody>\n",
       "    <tr>\n",
       "      <th>0</th>\n",
       "      <td>18/08/2016</td>\n",
       "      <td>288</td>\n",
       "    </tr>\n",
       "    <tr>\n",
       "      <th>1</th>\n",
       "      <td>19/08/2016</td>\n",
       "      <td>575</td>\n",
       "    </tr>\n",
       "    <tr>\n",
       "      <th>2</th>\n",
       "      <td>20/07/2016</td>\n",
       "      <td>287</td>\n",
       "    </tr>\n",
       "    <tr>\n",
       "      <th>3</th>\n",
       "      <td>23/08/2016</td>\n",
       "      <td>576</td>\n",
       "    </tr>\n",
       "    <tr>\n",
       "      <th>4</th>\n",
       "      <td>24/08/2016</td>\n",
       "      <td>274</td>\n",
       "    </tr>\n",
       "  </tbody>\n",
       "</table>\n",
       "</div>"
      ],
      "text/plain": [
       "   UpdateDate  Nb_RFID\n",
       "0  18/08/2016      288\n",
       "1  19/08/2016      575\n",
       "2  20/07/2016      287\n",
       "3  23/08/2016      576\n",
       "4  24/08/2016      274"
      ]
     },
     "metadata": {},
     "output_type": "display_data"
    },
    {
     "data": {
      "text/markdown": [
       "**2000** tubes are assigned to an UpdateDate."
      ],
      "text/plain": [
       "<IPython.core.display.Markdown object>"
      ]
     },
     "metadata": {},
     "output_type": "display_data"
    },
    {
     "data": {
      "text/markdown": [
       "**0** tubes are not assigned to an UpdateDate."
      ],
      "text/plain": [
       "<IPython.core.display.Markdown object>"
      ]
     },
     "metadata": {},
     "output_type": "display_data"
    }
   ],
   "source": [
    "tubesperupdate = compare_two_columns(df, \"UpdateDate\", \"RFID\")\n",
    "\n",
    "display(Markdown(\"**{}** tubes are assigned to an UpdateDate.\".\\\n",
    "                 format(tubesperupdate[\"RFID\"].sum())))\n",
    "display(Markdown(\"**{}** tubes are not assigned to an UpdateDate.\".\\\n",
    "                 format(len(df.loc[df[\"UpdateDate\"].isnull()]))))"
   ]
  },
  {
   "cell_type": "markdown",
   "metadata": {},
   "source": [
    "We expect to have **1.000** unique DonorID over the **2.000** unique RFID."
   ]
  },
  {
   "cell_type": "code",
   "execution_count": 5,
   "metadata": {
    "collapsed": false
   },
   "outputs": [
    {
     "data": {
      "text/markdown": [
       "**1000** unique DonorID over **2000** unique RFID"
      ],
      "text/plain": [
       "<IPython.core.display.Markdown object>"
      ]
     },
     "metadata": {},
     "output_type": "display_data"
    }
   ],
   "source": [
    "display(Markdown(\"**{}** unique DonorID over **{}** unique RFID\".\\\n",
    "                 format(df[\"DonorID\"].nunique(), df[\"RFID\"].nunique())))"
   ]
  },
  {
   "cell_type": "markdown",
   "metadata": {},
   "source": [
    "We expect to have 2 unique RFID per DonorID."
   ]
  },
  {
   "cell_type": "code",
   "execution_count": 56,
   "metadata": {
    "collapsed": false
   },
   "outputs": [
    {
     "data": {
      "text/markdown": [
       "Each DonorID has a total of **2** RFID assigned."
      ],
      "text/plain": [
       "<IPython.core.display.Markdown object>"
      ]
     },
     "metadata": {},
     "output_type": "display_data"
    }
   ],
   "source": [
    "rfidperdonor = pd.DataFrame(df.groupby(\"DonorID\")[\"RFID\"].nunique())\n",
    "rfidperdonor.loc[:, \"DonorID\"] = rfidperdonor.index.get_values()\n",
    "rfidperdonor.reset_index(drop=True, inplace=True)\n",
    "nbrfidlist = rfidperdonor[\"RFID\"].unique().tolist()\n",
    "if len(nbrfidlist) == 1:\n",
    "    display(Markdown(\"Each DonorID has a total of **{}** RFID assigned.\".\\\n",
    "                     format(nbrfidlist.pop())))\n",
    "else:\n",
    "    display(Markdown(\"There is **{}** number of unique RFID per DonorID:\".\\\n",
    "                     format(len(nbrfidlist))))\n",
    "    display(Markdown(\";\\n\".join([\"+ {} unique RFID over {} unique DonorID\".\\\n",
    "                        format(nbrfid, \\\n",
    "                               rfidperdonor[rfidperdonor[\"RFID\"] == nbrfid]\\\n",
    "                               [\"DonorID\"].count()) \\\n",
    "                        for nbrfid in nbrfidlist])))"
   ]
  },
  {
   "cell_type": "markdown",
   "metadata": {},
   "source": [
    "We also have to check if we have the good number of donors per each box. We expect to have 20 boxes with 96 donors and 2 boxes with 40 donors."
   ]
  },
  {
   "cell_type": "code",
   "execution_count": 23,
   "metadata": {
    "collapsed": false
   },
   "outputs": [
    {
     "data": {
      "text/markdown": [
       "**23** unique boxes:"
      ],
      "text/plain": [
       "<IPython.core.display.Markdown object>"
      ]
     },
     "metadata": {},
     "output_type": "display_data"
    },
    {
     "data": {
      "text/html": [
       "<div>\n",
       "<table border=\"1\" class=\"dataframe\">\n",
       "  <thead>\n",
       "    <tr style=\"text-align: right;\">\n",
       "      <th></th>\n",
       "      <th>BoxBarcode</th>\n",
       "      <th>Nb_DonorID</th>\n",
       "    </tr>\n",
       "  </thead>\n",
       "  <tbody>\n",
       "    <tr>\n",
       "      <th>0</th>\n",
       "      <td>MIC_S31_V1_A1_D1-96</td>\n",
       "      <td>96</td>\n",
       "    </tr>\n",
       "    <tr>\n",
       "      <th>1</th>\n",
       "      <td>MIC_S31_V1_A1_D101-196</td>\n",
       "      <td>96</td>\n",
       "    </tr>\n",
       "    <tr>\n",
       "      <th>2</th>\n",
       "      <td>MIC_S31_V1_A1_D201-296</td>\n",
       "      <td>96</td>\n",
       "    </tr>\n",
       "    <tr>\n",
       "      <th>3</th>\n",
       "      <td>MIC_S31_V1_A1_D301-396</td>\n",
       "      <td>95</td>\n",
       "    </tr>\n",
       "    <tr>\n",
       "      <th>4</th>\n",
       "      <td>MIC_S31_V1_A1_D401-496</td>\n",
       "      <td>96</td>\n",
       "    </tr>\n",
       "    <tr>\n",
       "      <th>5</th>\n",
       "      <td>MIC_S31_V1_A1_D501-596</td>\n",
       "      <td>96</td>\n",
       "    </tr>\n",
       "    <tr>\n",
       "      <th>6</th>\n",
       "      <td>MIC_S31_V1_A1_D601-696</td>\n",
       "      <td>96</td>\n",
       "    </tr>\n",
       "    <tr>\n",
       "      <th>7</th>\n",
       "      <td>MIC_S31_V1_A1_D701-796</td>\n",
       "      <td>96</td>\n",
       "    </tr>\n",
       "    <tr>\n",
       "      <th>8</th>\n",
       "      <td>MIC_S31_V1_A1_D801-896</td>\n",
       "      <td>96</td>\n",
       "    </tr>\n",
       "    <tr>\n",
       "      <th>9</th>\n",
       "      <td>MIC_S31_V1_A1_D901-996</td>\n",
       "      <td>96</td>\n",
       "    </tr>\n",
       "    <tr>\n",
       "      <th>10</th>\n",
       "      <td>MIC_S31_V1_A1_DX97-X00</td>\n",
       "      <td>40</td>\n",
       "    </tr>\n",
       "    <tr>\n",
       "      <th>11</th>\n",
       "      <td>MIC_S34_V1_A1_D301-396</td>\n",
       "      <td>1</td>\n",
       "    </tr>\n",
       "    <tr>\n",
       "      <th>12</th>\n",
       "      <td>MIC_S9_V1_A1_D1-96</td>\n",
       "      <td>96</td>\n",
       "    </tr>\n",
       "    <tr>\n",
       "      <th>13</th>\n",
       "      <td>MIC_S9_V1_A1_D101-196</td>\n",
       "      <td>96</td>\n",
       "    </tr>\n",
       "    <tr>\n",
       "      <th>14</th>\n",
       "      <td>MIC_S9_V1_A1_D201-296</td>\n",
       "      <td>96</td>\n",
       "    </tr>\n",
       "    <tr>\n",
       "      <th>15</th>\n",
       "      <td>MIC_S9_V1_A1_D301-396</td>\n",
       "      <td>96</td>\n",
       "    </tr>\n",
       "    <tr>\n",
       "      <th>16</th>\n",
       "      <td>MIC_S9_V1_A1_D401-496</td>\n",
       "      <td>96</td>\n",
       "    </tr>\n",
       "    <tr>\n",
       "      <th>17</th>\n",
       "      <td>MIC_S9_V1_A1_D501-596</td>\n",
       "      <td>96</td>\n",
       "    </tr>\n",
       "    <tr>\n",
       "      <th>18</th>\n",
       "      <td>MIC_S9_V1_A1_D601-696</td>\n",
       "      <td>96</td>\n",
       "    </tr>\n",
       "    <tr>\n",
       "      <th>19</th>\n",
       "      <td>MIC_S9_V1_A1_D701-796</td>\n",
       "      <td>96</td>\n",
       "    </tr>\n",
       "    <tr>\n",
       "      <th>20</th>\n",
       "      <td>MIC_S9_V1_A1_D801-896</td>\n",
       "      <td>96</td>\n",
       "    </tr>\n",
       "    <tr>\n",
       "      <th>21</th>\n",
       "      <td>MIC_S9_V1_A1_D901-996</td>\n",
       "      <td>96</td>\n",
       "    </tr>\n",
       "    <tr>\n",
       "      <th>22</th>\n",
       "      <td>MIC_S9_V1_A1_DX97-X00</td>\n",
       "      <td>40</td>\n",
       "    </tr>\n",
       "  </tbody>\n",
       "</table>\n",
       "</div>"
      ],
      "text/plain": [
       "                BoxBarcode  Nb_DonorID\n",
       "0      MIC_S31_V1_A1_D1-96          96\n",
       "1   MIC_S31_V1_A1_D101-196          96\n",
       "2   MIC_S31_V1_A1_D201-296          96\n",
       "3   MIC_S31_V1_A1_D301-396          95\n",
       "4   MIC_S31_V1_A1_D401-496          96\n",
       "5   MIC_S31_V1_A1_D501-596          96\n",
       "6   MIC_S31_V1_A1_D601-696          96\n",
       "7   MIC_S31_V1_A1_D701-796          96\n",
       "8   MIC_S31_V1_A1_D801-896          96\n",
       "9   MIC_S31_V1_A1_D901-996          96\n",
       "10  MIC_S31_V1_A1_DX97-X00          40\n",
       "11  MIC_S34_V1_A1_D301-396           1\n",
       "12      MIC_S9_V1_A1_D1-96          96\n",
       "13   MIC_S9_V1_A1_D101-196          96\n",
       "14   MIC_S9_V1_A1_D201-296          96\n",
       "15   MIC_S9_V1_A1_D301-396          96\n",
       "16   MIC_S9_V1_A1_D401-496          96\n",
       "17   MIC_S9_V1_A1_D501-596          96\n",
       "18   MIC_S9_V1_A1_D601-696          96\n",
       "19   MIC_S9_V1_A1_D701-796          96\n",
       "20   MIC_S9_V1_A1_D801-896          96\n",
       "21   MIC_S9_V1_A1_D901-996          96\n",
       "22   MIC_S9_V1_A1_DX97-X00          40"
      ]
     },
     "metadata": {},
     "output_type": "display_data"
    },
    {
     "data": {
      "text/markdown": [
       "**19** boxes with 96 DonorID."
      ],
      "text/plain": [
       "<IPython.core.display.Markdown object>"
      ]
     },
     "metadata": {},
     "output_type": "display_data"
    },
    {
     "data": {
      "text/markdown": [
       "**2** boxes with 40 DonorID."
      ],
      "text/plain": [
       "<IPython.core.display.Markdown object>"
      ]
     },
     "metadata": {},
     "output_type": "display_data"
    },
    {
     "data": {
      "text/markdown": [
       "**2** boxes with number of DonorID different of 40 and 96:"
      ],
      "text/plain": [
       "<IPython.core.display.Markdown object>"
      ]
     },
     "metadata": {},
     "output_type": "display_data"
    },
    {
     "data": {
      "text/html": [
       "<div>\n",
       "<table border=\"1\" class=\"dataframe\">\n",
       "  <thead>\n",
       "    <tr style=\"text-align: right;\">\n",
       "      <th></th>\n",
       "      <th>DonorID</th>\n",
       "      <th>BoxBarcode</th>\n",
       "    </tr>\n",
       "  </thead>\n",
       "  <tbody>\n",
       "    <tr>\n",
       "      <th>3</th>\n",
       "      <td>95</td>\n",
       "      <td>MIC_S31_V1_A1_D301-396</td>\n",
       "    </tr>\n",
       "    <tr>\n",
       "      <th>11</th>\n",
       "      <td>1</td>\n",
       "      <td>MIC_S34_V1_A1_D301-396</td>\n",
       "    </tr>\n",
       "  </tbody>\n",
       "</table>\n",
       "</div>"
      ],
      "text/plain": [
       "    DonorID              BoxBarcode\n",
       "3        95  MIC_S31_V1_A1_D301-396\n",
       "11        1  MIC_S34_V1_A1_D301-396"
      ]
     },
     "metadata": {},
     "output_type": "display_data"
    }
   ],
   "source": [
    "display(Markdown(\"**{}** unique boxes:\".format(df[\"BoxBarcode\"].nunique())))\n",
    "donorperbox = compare_two_columns(df, \"BoxBarcode\", \"DonorID\")\n",
    "display(Markdown(\"**{}** boxes with 96 DonorID.\".\\\n",
    "                 format(len(donorperbox[donorperbox[\"DonorID\"] == 96]))))\n",
    "display(Markdown(\"**{}** boxes with 40 DonorID.\".\\\n",
    "                 format(len(donorperbox[donorperbox[\"DonorID\"] == 40]))))\n",
    "\n",
    "troubledonorperbox = donorperbox[~(donorperbox[\"DonorID\"].isin([40, 96]))]\n",
    "if len(troubledonorperbox) > 0:\n",
    "    display(Markdown(\"**{}** boxes with number of DonorID different of 40 and 96:\".format(len(troubledonorperbox))))\n",
    "    display(troubledonorperbox)"
   ]
  },
  {
   "cell_type": "markdown",
   "metadata": {},
   "source": [
    "We have 2 boxes that does not fit our expectations:\n",
    "\n",
    "+ box MIC_S31_V1_A1_D301-396 contains **95** tubes\n",
    "+ box MIC_S34_V1_A1_D301-396 contains **1** tube\n",
    "\n",
    "We have to check what is the tube in box MIC_S34_V1_A1_D301-396 and which DonorID is not found in MIC_S31_V1_A1_D301-396."
   ]
  },
  {
   "cell_type": "code",
   "execution_count": 63,
   "metadata": {
    "collapsed": false
   },
   "outputs": [
    {
     "data": {
      "text/markdown": [
       "Tube in box *MIC_S34_V1_A1_D301-396*:"
      ],
      "text/plain": [
       "<IPython.core.display.Markdown object>"
      ]
     },
     "metadata": {},
     "output_type": "display_data"
    },
    {
     "data": {
      "text/html": [
       "<div>\n",
       "<table border=\"1\" class=\"dataframe\">\n",
       "  <thead>\n",
       "    <tr style=\"text-align: right;\">\n",
       "      <th></th>\n",
       "      <th>RFID</th>\n",
       "      <th>Volume</th>\n",
       "      <th>UpdateDate</th>\n",
       "      <th>Position</th>\n",
       "      <th>BoxBarcode</th>\n",
       "      <th>Freezer</th>\n",
       "      <th>DonorID</th>\n",
       "    </tr>\n",
       "  </thead>\n",
       "  <tbody>\n",
       "    <tr>\n",
       "      <th>1414</th>\n",
       "      <td>96630</td>\n",
       "      <td>100.0</td>\n",
       "      <td>23/08/2016</td>\n",
       "      <td>A / 2</td>\n",
       "      <td>MIC_S34_V1_A1_D301-396</td>\n",
       "      <td>MIC_RBM</td>\n",
       "      <td>302.0</td>\n",
       "    </tr>\n",
       "  </tbody>\n",
       "</table>\n",
       "</div>"
      ],
      "text/plain": [
       "       RFID  Volume  UpdateDate Position              BoxBarcode  Freezer  \\\n",
       "1414  96630   100.0  23/08/2016    A / 2  MIC_S34_V1_A1_D301-396  MIC_RBM   \n",
       "\n",
       "      DonorID  \n",
       "1414    302.0  "
      ]
     },
     "metadata": {},
     "output_type": "display_data"
    },
    {
     "data": {
      "text/markdown": [
       "**3** donors not found on box *MIC_S31_V1_A1_D301-396*"
      ],
      "text/plain": [
       "<IPython.core.display.Markdown object>"
      ]
     },
     "metadata": {},
     "output_type": "display_data"
    },
    {
     "data": {
      "text/markdown": [
       "+ 302;\n",
       "+ 303;\n",
       "+ 308."
      ],
      "text/plain": [
       "<IPython.core.display.Markdown object>"
      ]
     },
     "metadata": {},
     "output_type": "display_data"
    },
    {
     "data": {
      "text/markdown": [
       "Donors 303 and 308 are not found because they were replace by DonorID5303 and 5308:"
      ],
      "text/plain": [
       "<IPython.core.display.Markdown object>"
      ]
     },
     "metadata": {},
     "output_type": "display_data"
    },
    {
     "data": {
      "text/markdown": [
       "+ 5308;\n",
       "+ 5303."
      ],
      "text/plain": [
       "<IPython.core.display.Markdown object>"
      ]
     },
     "metadata": {},
     "output_type": "display_data"
    }
   ],
   "source": [
    "display(Markdown(\"Tube in box *MIC_S34_V1_A1_D301-396*:\"))\n",
    "display(df[df[\"BoxBarcode\"] == \"MIC_S34_V1_A1_D301-396\"])\n",
    "\n",
    "expecteddonors = [float(i) for i in range(301, 397)]\n",
    "effectivedonors = df.loc[df[\"BoxBarcode\"] == \"MIC_S31_V1_A1_D301-396\",\\\n",
    "                         \"DonorID\"].unique().tolist()\n",
    "unfounddonors = set(expecteddonors) - set(effectivedonors)\n",
    "display(Markdown(\"**{}** donors not found on box *MIC_S31_V1_A1_D301-396*\".\\\n",
    "                 format(len(unfounddonors))))\n",
    "display(Markdown(\";\\n\".join([\"+ {}\".format(int(d)) for d in sorted(unfounddonors)])+\".\"))\n",
    "\n",
    "display(Markdown(\"Donors 303 and 308 are not found because they were replace by DonorID\\\n",
    "5303 and 5308:\"))\n",
    "display(Markdown(\";\\n\".join([\"+ {}\".format(int(d)) for d in \\\n",
    "                             df.loc[\\\n",
    "                                    (df[\"BoxBarcode\"] == \"MIC_S31_V1_A1_D301-396\") &\\\n",
    "                                    (df[\"DonorID\"].isin([5303.0, 5308.0, 303.0, 308.0]))]\\\n",
    "                             [\"DonorID\"]\n",
    "                            ])+\".\"))"
   ]
  },
  {
   "cell_type": "markdown",
   "metadata": {},
   "source": [
    "The only tube that seems to not be in the good box is DonorID 302, for StimulusID 34. It was expected to be in the box for StimulusID 31."
   ]
  },
  {
   "cell_type": "markdown",
   "metadata": {},
   "source": [
    "# Tube source trouble: Donor 302, Stimulus 34\n",
    "\n",
    "To identify what goes wrong, we have to verify, from the files generated by fractions and FreezerPro merging, what data we have from the Source barcode.\n",
    "\n",
    "Then, we have to investigate, from the files generated by fractions experiments, if we found the tube on them, what is the ThermoFisher box barcode, what is the MIC box barcode and what are the tube barcodes for each Fraction.\n",
    "\n",
    "After, we have to check the barcode of the tube from FreezerPro data and from LabKey data. If the barcodes are identical, we have to check the barcode of the tube for the DonorID 302, StimulusID 31, from LabKey data, to the other files.\n",
    "\n",
    "Tube found in wrong box (*MIC_S34_V1_A1_D301-396*):\n",
    "\n",
    "+ DonorID: 302\n",
    "+ StimulusID: 34\n",
    "+ expected box StimulusID: 31\n",
    "+ RFID (FreezerPro Sample ID): 96630\n",
    "+ Barcode source tube: 3260681174\n",
    "\n",
    "## Look on files used to create file of fractions\n",
    "\n",
    "Source tube found on box:\n",
    "\n",
    "+ ThermoFisher box barcode: TF00082955\n",
    "+ MIC box barcode: MIC_S34_V1_A1_D301-396\n",
    "\n",
    "Fraction 1 box associated info:\n",
    "\n",
    "+ ThermoFisher box barcode: TF00080719\n",
    "+ MIC box barcode: MIC_Plasma_S31_V1_A1_F1_D301-396\n",
    "+ Barcode tube F1: 3260731618\n",
    "\n",
    "Fraction 2 box associated info:\n",
    "\n",
    "+ ThermoFisher box barcode: TF0080712\n",
    "+ Barcode tube F2: 3260732997\n",
    "\n",
    "Bruno sent me an archive with 23 files of boxes sent to RBM. None of them contains informations from the above boxes with the ThermoFisher barcode.\n",
    "\n",
    "## Look on LabKey file for the expected tube\n",
    "\n",
    "From LabKey file, look for DonorID 302, StimulusID 31. Found tube Barcode **3260681110**.\n",
    "\n",
    "Look for tube Barcode 3260681174, found Donor 302, Stimulus 34.\n",
    "\n",
    "I tried to found tube with Barcode 3260681110 from the files used to generate the file of fractions analyzed above, but I did'nt find any tube.\n",
    "\n",
    "It appears that the tube in the files with the aliquots (fraction) is not the expected tube. Is this problem already known? If yes, where could we find the correction?"
   ]
  }
 ],
 "metadata": {
  "kernelspec": {
   "display_name": "Python 2",
   "language": "python",
   "name": "python2"
  },
  "language_info": {
   "codemirror_mode": {
    "name": "ipython",
    "version": 2
   },
   "file_extension": ".py",
   "mimetype": "text/x-python",
   "name": "python",
   "nbconvert_exporter": "python",
   "pygments_lexer": "ipython2",
   "version": "2.7.11"
  }
 },
 "nbformat": 4,
 "nbformat_minor": 0
}
